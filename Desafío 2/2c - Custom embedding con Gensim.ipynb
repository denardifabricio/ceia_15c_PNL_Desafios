{
 "cells": [
  {
   "cell_type": "markdown",
   "metadata": {
    "id": "sZd5yLnnHOK0"
   },
   "source": [
    "<img src=\"https://github.com/hernancontigiani/ceia_memorias_especializacion/raw/master/Figures/logoFIUBA.jpg\" width=\"500\" align=\"center\">\n",
    "\n",
    "\n",
    "# Procesamiento de lenguaje natural\n",
    "## Custom embedddings con Gensim\n",
    "\n"
   ]
  },
  {
   "cell_type": "markdown",
   "metadata": {
    "id": "vA7nqkumo9z9"
   },
   "source": [
    "### Objetivo\n",
    "El objetivo es utilizar documentos / corpus para crear embeddings de palabras basado en ese contexto. Se utilizará canciones de bandas para generar los embeddings, es decir, que los vectores tendrán la forma en función de como esa banda haya utilizado las palabras en sus canciones."
   ]
  },
  {
   "cell_type": "code",
   "execution_count": 1,
   "metadata": {
    "id": "lFToQs5FK5uZ"
   },
   "outputs": [],
   "source": [
    "import pandas as pd\n",
    "import matplotlib.pyplot as plt\n",
    "import seaborn as sns\n",
    "import tensorflow\n",
    "\n",
    "import multiprocessing\n",
    "from gensim.models import Word2Vec"
   ]
  },
  {
   "cell_type": "markdown",
   "metadata": {
    "id": "g07zJxG7H9vG"
   },
   "source": [
    "### Datos\n",
    "Utilizaremos como dataset canciones de bandas de habla inglesa."
   ]
  },
  {
   "cell_type": "code",
   "execution_count": 2,
   "metadata": {
    "id": "l7z4CSBfpR3X"
   },
   "outputs": [
    {
     "name": "stdout",
     "output_type": "stream",
     "text": [
      "Darwin\n",
      "El dataset ya se encuentra descargado\n"
     ]
    }
   ],
   "source": [
    "# Descargar la carpeta de dataset\n",
    "import os\n",
    "import platform\n",
    "print(platform.system())\n",
    "if os.access('./songs_dataset', os.F_OK) is False:\n",
    "    if os.access('songs_dataset.zip', os.F_OK) is False:\n",
    "        if platform.system() in ('Windows','Darwin'):\n",
    "            !curl https://raw.githubusercontent.com/FIUBA-Posgrado-Inteligencia-Artificial/procesamiento_lenguaje_natural/main/datasets/songs_dataset.zip -o songs_dataset.zip\n",
    "        else:\n",
    "            !wget songs_dataset.zip https://github.com/FIUBA-Posgrado-Inteligencia-Artificial/procesamiento_lenguaje_natural/raw/main/datasets/songs_dataset.zip\n",
    "    !unzip -q songs_dataset.zip   \n",
    "else:\n",
    "    print(\"El dataset ya se encuentra descargado\")"
   ]
  },
  {
   "cell_type": "code",
   "execution_count": 3,
   "metadata": {
    "id": "mysGrIw9ljC2"
   },
   "outputs": [
    {
     "data": {
      "text/plain": [
       "['prince.txt',\n",
       " 'dickinson.txt',\n",
       " 'notorious-big.txt',\n",
       " 'beatles.txt',\n",
       " 'bob-dylan.txt',\n",
       " 'bjork.txt',\n",
       " 'johnny-cash.txt',\n",
       " 'disney.txt',\n",
       " 'janisjoplin.txt',\n",
       " 'kanye.txt',\n",
       " 'bob-marley.txt',\n",
       " 'leonard-cohen.txt',\n",
       " 'ludacris.txt',\n",
       " 'adele.txt',\n",
       " 'alicia-keys.txt',\n",
       " 'joni-mitchell.txt',\n",
       " 'amy-winehouse.txt',\n",
       " 'lorde.txt',\n",
       " 'rihanna.txt',\n",
       " 'Kanye_West.txt',\n",
       " 'nirvana.txt',\n",
       " 'cake.txt',\n",
       " 'bieber.txt',\n",
       " 'notorious_big.txt',\n",
       " 'missy-elliott.txt',\n",
       " 'dolly-parton.txt',\n",
       " 'jimi-hendrix.txt',\n",
       " 'michael-jackson.txt',\n",
       " 'al-green.txt',\n",
       " 'lil-wayne.txt',\n",
       " 'lady-gaga.txt',\n",
       " 'lin-manuel-miranda.txt',\n",
       " 'nursery_rhymes.txt',\n",
       " 'dj-khaled.txt',\n",
       " 'radiohead.txt',\n",
       " 'patti-smith.txt',\n",
       " 'blink-182.txt',\n",
       " 'Lil_Wayne.txt',\n",
       " 'dr-seuss.txt',\n",
       " 'r-kelly.txt',\n",
       " 'drake.txt',\n",
       " 'britney-spears.txt',\n",
       " 'bruce-springsteen.txt',\n",
       " 'nicki-minaj.txt',\n",
       " 'kanye-west.txt',\n",
       " 'paul-simon.txt',\n",
       " 'nickelback.txt',\n",
       " 'eminem.txt',\n",
       " 'bruno-mars.txt']"
      ]
     },
     "execution_count": 3,
     "metadata": {},
     "output_type": "execute_result"
    }
   ],
   "source": [
    "# Posibles bandas\n",
    "os.listdir(\"./songs_dataset/\")"
   ]
  },
  {
   "cell_type": "code",
   "execution_count": 4,
   "metadata": {
    "id": "ticoqYD1Z3I7"
   },
   "outputs": [
    {
     "name": "stderr",
     "output_type": "stream",
     "text": [
      "/var/folders/h0/qqbs9kr17cvg14gkx_xt31fm0000gn/T/ipykernel_55737/3849064916.py:2: ParserWarning: Falling back to the 'python' engine because the 'c' engine does not support regex separators (separators > 1 char and different from '\\s+' are interpreted as regex); you can avoid this warning by specifying engine='python'.\n",
      "  df = pd.read_csv('songs_dataset/beatles.txt', sep='/n', header=None)\n"
     ]
    },
    {
     "data": {
      "text/html": [
       "<div>\n",
       "<style scoped>\n",
       "    .dataframe tbody tr th:only-of-type {\n",
       "        vertical-align: middle;\n",
       "    }\n",
       "\n",
       "    .dataframe tbody tr th {\n",
       "        vertical-align: top;\n",
       "    }\n",
       "\n",
       "    .dataframe thead th {\n",
       "        text-align: right;\n",
       "    }\n",
       "</style>\n",
       "<table border=\"1\" class=\"dataframe\">\n",
       "  <thead>\n",
       "    <tr style=\"text-align: right;\">\n",
       "      <th></th>\n",
       "      <th>0</th>\n",
       "    </tr>\n",
       "  </thead>\n",
       "  <tbody>\n",
       "    <tr>\n",
       "      <th>0</th>\n",
       "      <td>Yesterday, all my troubles seemed so far away</td>\n",
       "    </tr>\n",
       "    <tr>\n",
       "      <th>1</th>\n",
       "      <td>Now it looks as though they're here to stay</td>\n",
       "    </tr>\n",
       "    <tr>\n",
       "      <th>2</th>\n",
       "      <td>Oh, I believe in yesterday Suddenly, I'm not h...</td>\n",
       "    </tr>\n",
       "    <tr>\n",
       "      <th>3</th>\n",
       "      <td>There's a shadow hanging over me.</td>\n",
       "    </tr>\n",
       "    <tr>\n",
       "      <th>4</th>\n",
       "      <td>Oh, yesterday came suddenly Why she had to go ...</td>\n",
       "    </tr>\n",
       "  </tbody>\n",
       "</table>\n",
       "</div>"
      ],
      "text/plain": [
       "                                                   0\n",
       "0      Yesterday, all my troubles seemed so far away\n",
       "1        Now it looks as though they're here to stay\n",
       "2  Oh, I believe in yesterday Suddenly, I'm not h...\n",
       "3                  There's a shadow hanging over me.\n",
       "4  Oh, yesterday came suddenly Why she had to go ..."
      ]
     },
     "execution_count": 4,
     "metadata": {},
     "output_type": "execute_result"
    }
   ],
   "source": [
    "# Armar el dataset utilizando salto de línea para separar las oraciones/docs\n",
    "df = pd.read_csv('songs_dataset/beatles.txt', sep='/n', header=None)\n",
    "df.head()"
   ]
  },
  {
   "cell_type": "code",
   "execution_count": 5,
   "metadata": {
    "id": "LEpKubK9XzXN"
   },
   "outputs": [
    {
     "name": "stdout",
     "output_type": "stream",
     "text": [
      "Cantidad de documentos: 1846\n"
     ]
    }
   ],
   "source": [
    "print(\"Cantidad de documentos:\", df.shape[0])"
   ]
  },
  {
   "cell_type": "markdown",
   "metadata": {
    "id": "ab94qaFlrA1G"
   },
   "source": [
    "### 1 - Preprocesamiento"
   ]
  },
  {
   "cell_type": "code",
   "execution_count": 6,
   "metadata": {
    "id": "rIsmMWmjrDHd"
   },
   "outputs": [],
   "source": [
    "from tensorflow.keras.preprocessing.text import text_to_word_sequence\n",
    "\n",
    "sentence_tokens = []\n",
    "# Recorrer todas las filas y transformar las oraciones\n",
    "# en una secuencia de palabras (esto podría realizarse con NLTK o spaCy también)\n",
    "for _, row in df[:None].iterrows():\n",
    "    sentence_tokens.append(text_to_word_sequence(row[0]))"
   ]
  },
  {
   "cell_type": "code",
   "execution_count": 7,
   "metadata": {
    "id": "CHepi_DGrbhq"
   },
   "outputs": [
    {
     "data": {
      "text/plain": [
       "[['yesterday', 'all', 'my', 'troubles', 'seemed', 'so', 'far', 'away'],\n",
       " ['now', 'it', 'looks', 'as', 'though', \"they're\", 'here', 'to', 'stay']]"
      ]
     },
     "execution_count": 7,
     "metadata": {},
     "output_type": "execute_result"
    }
   ],
   "source": [
    "# Demos un vistazo\n",
    "sentence_tokens[:2]"
   ]
  },
  {
   "cell_type": "markdown",
   "metadata": {
    "id": "BaXV6nlHr5Aa"
   },
   "source": [
    "### 2 - Crear los vectores (word2vec)"
   ]
  },
  {
   "cell_type": "code",
   "execution_count": 8,
   "metadata": {
    "id": "OSb0v7h8r7hK"
   },
   "outputs": [],
   "source": [
    "from gensim.models.callbacks import CallbackAny2Vec\n",
    "# Durante el entrenamiento gensim por defecto no informa el \"loss\" en cada época\n",
    "# Sobrecargamos el callback para poder tener esta información\n",
    "class callback(CallbackAny2Vec):\n",
    "    \"\"\"\n",
    "    Callback to print loss after each epoch\n",
    "    \"\"\"\n",
    "    def __init__(self):\n",
    "        self.epoch = 0\n",
    "\n",
    "    def on_epoch_end(self, model):\n",
    "        loss = model.get_latest_training_loss()\n",
    "        if self.epoch == 0:\n",
    "            print('Loss after epoch {}: {}'.format(self.epoch, loss))\n",
    "        else:\n",
    "            print('Loss after epoch {}: {}'.format(self.epoch, loss- self.loss_previous_step))\n",
    "        self.epoch += 1\n",
    "        self.loss_previous_step = loss"
   ]
  },
  {
   "cell_type": "code",
   "execution_count": 9,
   "metadata": {
    "id": "i0wnDdv9sJ47"
   },
   "outputs": [],
   "source": [
    "# Crearmos el modelo generador de vectores\n",
    "# En este caso utilizaremos la estructura modelo Skipgram\n",
    "w2v_model = Word2Vec(min_count=5,    # frecuencia mínima de palabra para incluirla en el vocabulario\n",
    "                     window=2,       # cant de palabras antes y desp de la predicha\n",
    "                     vector_size=300,       # dimensionalidad de los vectores \n",
    "                     negative=20,    # cantidad de negative samples... 0 es no se usa\n",
    "                     workers=1,      # si tienen más cores pueden cambiar este valor\n",
    "                     sg=1)           # modelo 0:CBOW  1:skipgram"
   ]
  },
  {
   "cell_type": "code",
   "execution_count": 10,
   "metadata": {
    "id": "5lTt8wErsf17"
   },
   "outputs": [],
   "source": [
    "# Obtener el vocabulario con los tokens\n",
    "w2v_model.build_vocab(sentence_tokens)"
   ]
  },
  {
   "cell_type": "code",
   "execution_count": 11,
   "metadata": {
    "id": "TNc9qt4os5AT"
   },
   "outputs": [
    {
     "name": "stdout",
     "output_type": "stream",
     "text": [
      "Cantidad de docs en el corpus: 1846\n"
     ]
    }
   ],
   "source": [
    "# Cantidad de filas/docs encontradas en el corpus\n",
    "print(\"Cantidad de docs en el corpus:\", w2v_model.corpus_count)"
   ]
  },
  {
   "cell_type": "code",
   "execution_count": 12,
   "metadata": {
    "id": "idw9cHF3tSMl"
   },
   "outputs": [
    {
     "name": "stdout",
     "output_type": "stream",
     "text": [
      "Cantidad de words distintas en el corpus: 445\n"
     ]
    }
   ],
   "source": [
    "# Cantidad de words encontradas en el corpus\n",
    "print(\"Cantidad de words distintas en el corpus:\", len(w2v_model.wv.index_to_key))"
   ]
  },
  {
   "cell_type": "markdown",
   "metadata": {
    "id": "fC9mZ8DPk-UC"
   },
   "source": [
    "### 3 - Entrenar embeddings"
   ]
  },
  {
   "cell_type": "code",
   "execution_count": 13,
   "metadata": {
    "id": "QSp-x0PAsq56"
   },
   "outputs": [
    {
     "name": "stdout",
     "output_type": "stream",
     "text": [
      "Loss after epoch 0: 113153.515625\n",
      "Loss after epoch 1: 65766.453125\n",
      "Loss after epoch 2: 65685.21875\n",
      "Loss after epoch 3: 65358.125\n",
      "Loss after epoch 4: 63343.09375\n",
      "Loss after epoch 5: 63227.71875\n",
      "Loss after epoch 6: 62387.15625\n",
      "Loss after epoch 7: 61794.28125\n",
      "Loss after epoch 8: 58445.0\n",
      "Loss after epoch 9: 55517.0625\n",
      "Loss after epoch 10: 54163.4375\n",
      "Loss after epoch 11: 52553.75\n",
      "Loss after epoch 12: 50621.9375\n",
      "Loss after epoch 13: 48807.0\n",
      "Loss after epoch 14: 47483.25\n",
      "Loss after epoch 15: 46763.125\n",
      "Loss after epoch 16: 45516.75\n",
      "Loss after epoch 17: 43179.375\n",
      "Loss after epoch 18: 40640.875\n",
      "Loss after epoch 19: 39437.75\n",
      "Loss after epoch 20: 39499.625\n",
      "Loss after epoch 21: 38491.0\n",
      "Loss after epoch 22: 38217.5\n",
      "Loss after epoch 23: 38213.25\n",
      "Loss after epoch 24: 37593.5\n",
      "Loss after epoch 25: 36258.375\n",
      "Loss after epoch 26: 37001.5\n",
      "Loss after epoch 27: 35743.125\n",
      "Loss after epoch 28: 35892.0\n",
      "Loss after epoch 29: 35381.0\n",
      "Loss after epoch 30: 35098.125\n",
      "Loss after epoch 31: 35065.125\n",
      "Loss after epoch 32: 34039.75\n",
      "Loss after epoch 33: 34661.0\n",
      "Loss after epoch 34: 34517.0\n",
      "Loss after epoch 35: 34258.375\n",
      "Loss after epoch 36: 34053.375\n",
      "Loss after epoch 37: 34260.5\n",
      "Loss after epoch 38: 34924.875\n",
      "Loss after epoch 39: 33993.125\n",
      "Loss after epoch 40: 34365.875\n",
      "Loss after epoch 41: 34654.125\n",
      "Loss after epoch 42: 32844.375\n",
      "Loss after epoch 43: 33488.75\n",
      "Loss after epoch 44: 33657.25\n",
      "Loss after epoch 45: 33515.125\n",
      "Loss after epoch 46: 34293.25\n",
      "Loss after epoch 47: 32310.0\n",
      "Loss after epoch 48: 33197.75\n",
      "Loss after epoch 49: 32094.25\n",
      "Loss after epoch 50: 32977.0\n",
      "Loss after epoch 51: 32243.0\n",
      "Loss after epoch 52: 32096.25\n",
      "Loss after epoch 53: 31668.75\n",
      "Loss after epoch 54: 32378.0\n",
      "Loss after epoch 55: 32123.75\n",
      "Loss after epoch 56: 31949.5\n",
      "Loss after epoch 57: 32336.5\n",
      "Loss after epoch 58: 31419.75\n",
      "Loss after epoch 59: 31575.25\n",
      "Loss after epoch 60: 32295.5\n",
      "Loss after epoch 61: 31913.25\n",
      "Loss after epoch 62: 31327.5\n",
      "Loss after epoch 63: 32205.5\n",
      "Loss after epoch 64: 32167.0\n",
      "Loss after epoch 65: 32114.25\n",
      "Loss after epoch 66: 31513.5\n",
      "Loss after epoch 67: 31845.0\n",
      "Loss after epoch 68: 32443.25\n",
      "Loss after epoch 69: 30940.0\n",
      "Loss after epoch 70: 30771.5\n",
      "Loss after epoch 71: 31869.75\n",
      "Loss after epoch 72: 31671.25\n",
      "Loss after epoch 73: 32209.75\n",
      "Loss after epoch 74: 32114.25\n",
      "Loss after epoch 75: 31943.5\n",
      "Loss after epoch 76: 31910.5\n",
      "Loss after epoch 77: 31443.0\n",
      "Loss after epoch 78: 32074.5\n",
      "Loss after epoch 79: 31403.0\n",
      "Loss after epoch 80: 31565.25\n",
      "Loss after epoch 81: 31394.0\n",
      "Loss after epoch 82: 31895.0\n",
      "Loss after epoch 83: 31574.0\n",
      "Loss after epoch 84: 31586.75\n",
      "Loss after epoch 85: 32273.0\n",
      "Loss after epoch 86: 31612.5\n",
      "Loss after epoch 87: 32655.0\n",
      "Loss after epoch 88: 31328.25\n",
      "Loss after epoch 89: 31814.5\n",
      "Loss after epoch 90: 31168.0\n",
      "Loss after epoch 91: 31014.75\n",
      "Loss after epoch 92: 31172.5\n",
      "Loss after epoch 93: 31516.25\n",
      "Loss after epoch 94: 31937.75\n",
      "Loss after epoch 95: 31261.0\n",
      "Loss after epoch 96: 31066.25\n",
      "Loss after epoch 97: 31567.5\n",
      "Loss after epoch 98: 30292.75\n",
      "Loss after epoch 99: 31984.5\n",
      "Loss after epoch 100: 31184.25\n",
      "Loss after epoch 101: 31897.5\n",
      "Loss after epoch 102: 31603.0\n",
      "Loss after epoch 103: 31170.25\n",
      "Loss after epoch 104: 31613.0\n",
      "Loss after epoch 105: 31856.0\n",
      "Loss after epoch 106: 31227.75\n",
      "Loss after epoch 107: 31515.0\n",
      "Loss after epoch 108: 30590.5\n",
      "Loss after epoch 109: 31612.5\n",
      "Loss after epoch 110: 31316.0\n",
      "Loss after epoch 111: 31599.25\n",
      "Loss after epoch 112: 30743.25\n",
      "Loss after epoch 113: 29074.5\n",
      "Loss after epoch 114: 29223.0\n",
      "Loss after epoch 115: 28897.5\n",
      "Loss after epoch 116: 28857.5\n",
      "Loss after epoch 117: 29062.5\n",
      "Loss after epoch 118: 29159.5\n",
      "Loss after epoch 119: 29223.5\n",
      "Loss after epoch 120: 28811.5\n",
      "Loss after epoch 121: 28316.5\n",
      "Loss after epoch 122: 28704.0\n",
      "Loss after epoch 123: 29230.0\n",
      "Loss after epoch 124: 29525.5\n",
      "Loss after epoch 125: 29195.0\n",
      "Loss after epoch 126: 29545.0\n",
      "Loss after epoch 127: 28778.0\n",
      "Loss after epoch 128: 29117.5\n",
      "Loss after epoch 129: 28760.5\n",
      "Loss after epoch 130: 29354.5\n",
      "Loss after epoch 131: 29310.0\n",
      "Loss after epoch 132: 28558.5\n",
      "Loss after epoch 133: 28776.0\n",
      "Loss after epoch 134: 28988.5\n",
      "Loss after epoch 135: 29172.0\n",
      "Loss after epoch 136: 28031.5\n",
      "Loss after epoch 137: 28601.0\n",
      "Loss after epoch 138: 28310.0\n",
      "Loss after epoch 139: 29357.5\n",
      "Loss after epoch 140: 29446.5\n",
      "Loss after epoch 141: 29303.5\n",
      "Loss after epoch 142: 28568.0\n",
      "Loss after epoch 143: 28627.0\n",
      "Loss after epoch 144: 29245.0\n",
      "Loss after epoch 145: 28863.5\n",
      "Loss after epoch 146: 28421.5\n",
      "Loss after epoch 147: 28705.0\n",
      "Loss after epoch 148: 29032.0\n",
      "Loss after epoch 149: 28602.5\n",
      "Loss after epoch 150: 28738.5\n",
      "Loss after epoch 151: 28387.5\n",
      "Loss after epoch 152: 28038.0\n",
      "Loss after epoch 153: 28680.5\n",
      "Loss after epoch 154: 28328.0\n",
      "Loss after epoch 155: 28904.5\n",
      "Loss after epoch 156: 28474.5\n",
      "Loss after epoch 157: 28830.5\n",
      "Loss after epoch 158: 28578.5\n",
      "Loss after epoch 159: 29016.0\n",
      "Loss after epoch 160: 29025.0\n",
      "Loss after epoch 161: 28020.5\n",
      "Loss after epoch 162: 27732.5\n",
      "Loss after epoch 163: 28417.0\n",
      "Loss after epoch 164: 28800.5\n",
      "Loss after epoch 165: 28314.5\n",
      "Loss after epoch 166: 28696.0\n",
      "Loss after epoch 167: 28319.0\n",
      "Loss after epoch 168: 28239.5\n",
      "Loss after epoch 169: 27870.5\n",
      "Loss after epoch 170: 28773.0\n",
      "Loss after epoch 171: 28379.0\n",
      "Loss after epoch 172: 28022.5\n",
      "Loss after epoch 173: 28154.5\n",
      "Loss after epoch 174: 28438.0\n",
      "Loss after epoch 175: 27826.0\n",
      "Loss after epoch 176: 28342.5\n",
      "Loss after epoch 177: 28389.0\n",
      "Loss after epoch 178: 28019.0\n",
      "Loss after epoch 179: 28028.5\n",
      "Loss after epoch 180: 28450.0\n",
      "Loss after epoch 181: 28448.5\n",
      "Loss after epoch 182: 28380.0\n",
      "Loss after epoch 183: 28594.0\n",
      "Loss after epoch 184: 27924.0\n",
      "Loss after epoch 185: 28162.0\n",
      "Loss after epoch 186: 28153.0\n",
      "Loss after epoch 187: 27997.0\n",
      "Loss after epoch 188: 27906.0\n",
      "Loss after epoch 189: 28898.0\n",
      "Loss after epoch 190: 27244.0\n",
      "Loss after epoch 191: 27981.0\n",
      "Loss after epoch 192: 28319.5\n",
      "Loss after epoch 193: 26905.0\n",
      "Loss after epoch 194: 28331.5\n",
      "Loss after epoch 195: 28171.5\n",
      "Loss after epoch 196: 28003.0\n",
      "Loss after epoch 197: 27480.0\n",
      "Loss after epoch 198: 28102.5\n",
      "Loss after epoch 199: 28519.0\n"
     ]
    },
    {
     "data": {
      "text/plain": [
       "(1570676, 2877400)"
      ]
     },
     "execution_count": 13,
     "metadata": {},
     "output_type": "execute_result"
    }
   ],
   "source": [
    "# Entrenamos el modelo generador de vectores\n",
    "# Utilizamos nuestro callback\n",
    "w2v_model.train(sentence_tokens,\n",
    "                 total_examples=w2v_model.corpus_count,\n",
    "                 epochs=200,\n",
    "                 compute_loss = True,\n",
    "                 callbacks=[callback()]\n",
    "                 )"
   ]
  },
  {
   "cell_type": "markdown",
   "metadata": {
    "id": "ddT9NVuNlCAe"
   },
   "source": [
    "### 4 - Ensayar"
   ]
  },
  {
   "cell_type": "code",
   "execution_count": 14,
   "metadata": {
    "id": "6cHN9xGLuPEm"
   },
   "outputs": [
    {
     "data": {
      "text/plain": [
       "[('since', 0.5275837182998657),\n",
       " ('harm', 0.45388665795326233),\n",
       " ('pretty', 0.4391310214996338),\n",
       " ('woah', 0.42252862453460693),\n",
       " ('send', 0.4049132466316223),\n",
       " ('wind', 0.39874762296676636),\n",
       " ('right', 0.3969101309776306),\n",
       " ('cry', 0.3848605155944824),\n",
       " ('loving', 0.3830673396587372),\n",
       " ('round', 0.38202229142189026)]"
      ]
     },
     "execution_count": 14,
     "metadata": {},
     "output_type": "execute_result"
    }
   ],
   "source": [
    "# Palabras que MÁS se relacionan con...:\n",
    "w2v_model.wv.most_similar(positive=[\"darling\"], topn=10)"
   ]
  },
  {
   "cell_type": "code",
   "execution_count": 15,
   "metadata": {
    "id": "47HiU5gdkdMq"
   },
   "outputs": [
    {
     "data": {
      "text/plain": [
       "[('back', -0.012405377812683582),\n",
       " ('must', -0.02043626271188259),\n",
       " ('seems', -0.03576658293604851),\n",
       " ('had', -0.04169529303908348),\n",
       " ('the', -0.05981848016381264),\n",
       " ('who', -0.06273943930864334),\n",
       " ('fool', -0.06314462423324585),\n",
       " ('up', -0.06579700857400894),\n",
       " ('years', -0.06620099395513535),\n",
       " ('words', -0.0739060789346695)]"
      ]
     },
     "execution_count": 15,
     "metadata": {},
     "output_type": "execute_result"
    }
   ],
   "source": [
    "# Palabras que MENOS se relacionan con...:\n",
    "w2v_model.wv.most_similar(negative=[\"love\"], topn=10)"
   ]
  },
  {
   "cell_type": "code",
   "execution_count": 16,
   "metadata": {
    "id": "DT4Rvno2mD65"
   },
   "outputs": [
    {
     "data": {
      "text/plain": [
       "[('seven', 0.7449806928634644),\n",
       " ('sixty', 0.6629864573478699),\n",
       " ('five', 0.5831441283226013),\n",
       " ('feed', 0.5518248081207275),\n",
       " ('six', 0.5417882204055786),\n",
       " ('until', 0.5166842937469482),\n",
       " ('eight', 0.47971728444099426),\n",
       " ('understand', 0.4728665351867676),\n",
       " ('then', 0.4598292410373688),\n",
       " ('taxman', 0.45808249711990356)]"
      ]
     },
     "execution_count": 16,
     "metadata": {},
     "output_type": "execute_result"
    }
   ],
   "source": [
    "# Palabras que MÁS se relacionan con...:\n",
    "w2v_model.wv.most_similar(positive=[\"four\"], topn=10)"
   ]
  },
  {
   "cell_type": "code",
   "execution_count": 17,
   "metadata": {
    "id": "XPLDPgzBmQXt"
   },
   "outputs": [
    {
     "data": {
      "text/plain": [
       "[('sunshine', 0.5870924592018127),\n",
       " ('thing', 0.5788530707359314),\n",
       " ('buy', 0.5515603423118591),\n",
       " ('than', 0.5387270450592041),\n",
       " ('friend', 0.508412778377533)]"
      ]
     },
     "execution_count": 17,
     "metadata": {},
     "output_type": "execute_result"
    }
   ],
   "source": [
    "# Palabras que MÁS se relacionan con...:\n",
    "w2v_model.wv.most_similar(positive=[\"money\"], topn=5)"
   ]
  },
  {
   "cell_type": "code",
   "execution_count": 20,
   "metadata": {
    "id": "L_UvHPMMklOr"
   },
   "outputs": [
    {
     "data": {
      "text/plain": [
       "[(\"didn't\", -0.05816022679209709),\n",
       " ('me', -0.07965023070573807),\n",
       " ('your', -0.0935412123799324),\n",
       " ('get', -0.11667032539844513),\n",
       " (\"don't\", -0.11831920593976974),\n",
       " ('hair', -0.11834351718425751),\n",
       " (\"you'll\", -0.1237618699669838),\n",
       " ('but', -0.12485594302415848),\n",
       " ('him', -0.1317250281572342),\n",
       " ('only', -0.13200761377811432)]"
      ]
     },
     "execution_count": 20,
     "metadata": {},
     "output_type": "execute_result"
    }
   ],
   "source": [
    "# Ensayar con una palabra que no está en el vocabulario:\n",
    "w2v_model.wv.most_similar(negative=[\"submarine\"])"
   ]
  },
  {
   "cell_type": "code",
   "execution_count": 21,
   "metadata": {},
   "outputs": [
    {
     "name": "stdout",
     "output_type": "stream",
     "text": [
      "[ 0.1956341   0.46621168 -0.06660655  0.02165367  0.08101235 -0.3219082\n",
      " -0.01463633  0.08634405 -0.18000494  0.23414926  0.07742847  0.02185819\n",
      " -0.3555957   0.3780601   0.07576889 -0.45334563 -0.10954668  0.35148415\n",
      "  0.07809892 -0.01911014  0.12689915 -0.06490382  0.1084874  -0.14517105\n",
      " -0.20539439  0.13227452 -0.00707026  0.03213025 -0.23282662 -0.49377096\n",
      "  0.09179693 -0.1529671   0.14190622 -0.00689983 -0.211404    0.20045\n",
      "  0.22013322  0.23314881 -0.22769444  0.29296845  0.27795118  0.08189646\n",
      "  0.04292981  0.05165513  0.3052322   0.22297332  0.02010734 -0.25156057\n",
      "  0.03521031 -0.37857947 -0.20870335 -0.17146046  0.2341676   0.21831241\n",
      "  0.09889584  0.22251374  0.3620141   0.08973641  0.3918357  -0.26566458\n",
      "  0.02307955 -0.297603   -0.46310088  0.08634447  0.13363405 -0.16969357\n",
      "  0.02589733  0.4634659  -0.06474268 -0.08119601  0.00654426 -0.01480758\n",
      "  0.24816532 -0.11445356  0.76827675  0.08918052  0.08226225 -0.03231777\n",
      " -0.10995325  0.17296755 -0.13001768  0.1913541  -0.11188824  0.30579606\n",
      " -0.20629399  0.04818287  0.07252339 -0.52355534  0.2558853   0.5326456\n",
      " -0.11018989 -0.08574261  0.03548842 -0.24851112  0.2794151   0.5226199\n",
      " -0.03611527  0.2632215   0.08250374  0.07637107  0.04965661 -0.22272748\n",
      "  0.16690761 -0.27354428  0.27674228  0.2295409  -0.17915843  0.16972661\n",
      "  0.07321844 -0.1785433   0.29609418 -0.5183997  -0.33053014  0.13133024\n",
      " -0.29103318  0.10549439  0.33666286 -0.5576932  -0.07323731 -0.3000315\n",
      "  0.0549293  -0.10416865 -0.23414743 -0.22676972  0.07653681  0.4092345\n",
      "  0.29117736 -0.4388948  -0.0907421   0.3972779  -0.01659364  0.19215855\n",
      "  0.13001505 -0.3081777  -0.23829924  0.35089776  0.1946669  -0.20292583\n",
      " -0.27813938  0.04317455  0.11331426 -0.1676838  -0.08075607  0.1499634\n",
      "  0.11887849 -0.06896793 -0.04893324 -0.02115251 -0.23537408  0.04565327\n",
      " -0.21805634 -0.09099841  0.21103089  0.01779832 -0.06815702  0.33120778\n",
      " -0.03623243  0.10947418  0.15898725  0.07725105 -0.31974298 -0.04542307\n",
      "  0.2762089   0.2522582   0.14038892 -0.03330718 -0.01528913  0.16942747\n",
      "  0.30603224 -0.32616737  0.47265932  0.2805204   0.01774011 -0.1297411\n",
      " -0.02114677 -0.3193297   0.26650783 -0.12388212  0.3011074   0.03995012\n",
      "  0.00369935 -0.14347962 -0.30260053 -0.56536853  0.09413343 -0.11194571\n",
      " -0.25004315 -0.3300136  -0.22575127 -0.12848884  0.45304966 -0.3586425\n",
      "  0.18399806 -0.1547905  -0.4357479   0.20042433 -0.23199712 -0.28853932\n",
      " -0.20518976 -0.16481382  0.06984786  0.25578383  0.4403606  -0.19789894\n",
      "  0.08258277 -0.09989686 -0.19451903  0.14495261 -0.15532026 -0.1605053\n",
      " -0.07729665 -0.05045434  0.3875066  -0.21532074  0.06679969 -0.18094651\n",
      " -0.35621983 -0.16356848  0.43613368 -0.15689977 -0.20648472 -0.13721731\n",
      " -0.01302698 -0.02206383  0.02291501 -0.39694864 -0.02944523  0.06945912\n",
      "  0.14891526 -0.16203398 -0.01940094  0.2669177   0.28325287 -0.05147668\n",
      "  0.02580621  0.21509631 -0.11095744  0.18719932 -0.19226871 -0.4345301\n",
      "  0.43850362 -0.33926076 -0.2931706  -0.1300032   0.0468935  -0.36740115\n",
      "  0.3256062   0.05837921  0.16795921  0.1861992   0.12593766  0.514074\n",
      "  0.3019492  -0.19561978 -0.07379727 -0.06019632  0.00766722  0.01672841\n",
      " -0.16697761 -0.16043843  0.32889283 -0.1957032  -0.02293094  0.05032671\n",
      "  0.13484126  0.06270232  0.1255234   0.24580488  0.01657501  0.0332057\n",
      "  0.13103357 -0.35127228  0.07172626  0.33985552  0.4757175   0.27483955\n",
      "  0.06174721  0.04750482  0.21366644  0.18741429  0.1740802   0.19513428\n",
      " -0.41966426 -0.00154828  0.13167644 -0.00094052  0.25055078  0.0160323\n",
      "  0.08137659  0.35385203  0.19043732  0.22149758  0.00726925 -0.2990685\n",
      "  0.2634878   0.13479607  0.06452293  0.21346004 -0.02193706 -0.3810075 ]\n"
     ]
    }
   ],
   "source": [
    "# el método `get_vector` permite obtener los vectores:\n",
    "vector_love = w2v_model.wv.get_vector(\"love\")\n",
    "print(vector_love)"
   ]
  },
  {
   "cell_type": "code",
   "execution_count": 22,
   "metadata": {},
   "outputs": [
    {
     "data": {
      "text/plain": [
       "[('love', 1.0),\n",
       " ('babe', 0.44351086020469666),\n",
       " ('hope', 0.41372379660606384),\n",
       " ('new', 0.40814435482025146),\n",
       " ('alright', 0.4073256552219391),\n",
       " ('sunshine', 0.3966488540172577),\n",
       " ('sad', 0.38147827982902527),\n",
       " ('real', 0.38124582171440125),\n",
       " ('need', 0.3748636543750763),\n",
       " (\"ain't\", 0.36247390508651733)]"
      ]
     },
     "execution_count": 22,
     "metadata": {},
     "output_type": "execute_result"
    }
   ],
   "source": [
    "# el método `most_similar` también permite comparar a partir de vectores\n",
    "w2v_model.wv.most_similar(vector_love)"
   ]
  },
  {
   "cell_type": "code",
   "execution_count": 23,
   "metadata": {},
   "outputs": [
    {
     "data": {
      "text/plain": [
       "[('babe', 0.44351086020469666),\n",
       " ('hope', 0.41372379660606384),\n",
       " ('new', 0.40814435482025146),\n",
       " ('alright', 0.4073256850242615),\n",
       " ('sunshine', 0.3966488540172577),\n",
       " ('sad', 0.38147827982902527),\n",
       " ('real', 0.38124585151672363),\n",
       " ('need', 0.3748636543750763),\n",
       " (\"ain't\", 0.36247390508651733),\n",
       " (\"somethin'\", 0.3618330955505371)]"
      ]
     },
     "execution_count": 23,
     "metadata": {},
     "output_type": "execute_result"
    }
   ],
   "source": [
    "# Palabras que MÁS se relacionan con...:\n",
    "w2v_model.wv.most_similar(positive=[\"love\"], topn=10)"
   ]
  },
  {
   "cell_type": "markdown",
   "metadata": {
    "id": "_g8UVWe6lFmh"
   },
   "source": [
    "### 5 - Visualizar agrupación de vectores"
   ]
  },
  {
   "cell_type": "code",
   "execution_count": 24,
   "metadata": {
    "id": "pDxEVXAivjr9"
   },
   "outputs": [],
   "source": [
    "from sklearn.decomposition import IncrementalPCA    \n",
    "from sklearn.manifold import TSNE                   \n",
    "import numpy as np                                  \n",
    "\n",
    "def reduce_dimensions(model, num_dimensions = 2 ):\n",
    "     \n",
    "    vectors = np.asarray(model.wv.vectors)\n",
    "    labels = np.asarray(model.wv.index_to_key)  \n",
    "\n",
    "    tsne = TSNE(n_components=num_dimensions, random_state=0)\n",
    "    vectors = tsne.fit_transform(vectors)\n",
    "\n",
    "    return vectors, labels"
   ]
  },
  {
   "cell_type": "code",
   "execution_count": 28,
   "metadata": {
    "id": "NCCXtDpcugmd"
   },
   "outputs": [
    {
     "data": {
      "application/vnd.plotly.v1+json": {
       "config": {
        "plotlyServerURL": "https://plot.ly"
       },
       "data": [
        {
         "hovertemplate": "x=%{x}<br>y=%{y}<br>text=%{text}<extra></extra>",
         "legendgroup": "",
         "marker": {
          "color": "#636efa",
          "symbol": "circle"
         },
         "mode": "markers+text",
         "name": "",
         "orientation": "v",
         "showlegend": false,
         "text": [
          "you",
          "i",
          "the",
          "to",
          "and",
          "love",
          "a",
          "me",
          "in",
          "all",
          "nah",
          "my",
          "it",
          "know",
          "that",
          "be",
          "on",
          "of",
          "she",
          "is",
          "say",
          "now",
          "oh",
          "your",
          "yeah",
          "get",
          "don't",
          "back",
          "with",
          "let",
          "her",
          "can",
          "it's",
          "do",
          "when",
          "come",
          "i'm",
          "will",
          "he",
          "but",
          "for",
          "so",
          "there",
          "need",
          "like",
          "together",
          "no",
          "i'll",
          "see",
          "we",
          "was",
          "never",
          "down",
          "if",
          "way",
          "want",
          "hey",
          "out",
          "one",
          "got",
          "can't",
          "girl",
          "well",
          "good",
          "go",
          "sun",
          "his",
          "hello",
          "home",
          "they",
          "day",
          "are",
          "ah",
          "right",
          "from",
          "little",
          "at",
          "man",
          "help",
          "here",
          "have",
          "gonna",
          "not",
          "world",
          "what",
          "going",
          "how",
          "please",
          "still",
          "too",
          "just",
          "you're",
          "time",
          "as",
          "make",
          "long",
          "yes",
          "yellow",
          "life",
          "once",
          "sky",
          "been",
          "think",
          "tell",
          "why",
          "only",
          "where",
          "people",
          "she's",
          "eyes",
          "jude",
          "take",
          "submarine",
          "up",
          "hold",
          "goodbye",
          "give",
          "nowhere",
          "sing",
          "look",
          "friends",
          "always",
          "hand",
          "boy",
          "we're",
          "am",
          "away",
          "darling",
          "goo",
          "nothing",
          "should",
          "lonely",
          "could",
          "feel",
          "some",
          "night",
          "comes",
          "had",
          "would",
          "better",
          "head",
          "them",
          "four",
          "buy",
          "more",
          "i've",
          "la",
          "mind",
          "two",
          "this",
          "everything",
          "carry",
          "by",
          "our",
          "sunshine",
          "weight",
          "change",
          "us",
          "lucy",
          "birthday",
          "an",
          "true",
          "you'll",
          "every",
          "pretty",
          "three",
          "diamonds",
          "before",
          "believe",
          "these",
          "i'd",
          "words",
          "mm",
          "work",
          "dear",
          "leave",
          "were",
          "mine",
          "there's",
          "nobody",
          "told",
          "money",
          "bom",
          "said",
          "forever",
          "round",
          "children",
          "'cause",
          "something",
          "about",
          "waiting",
          "standing",
          "who",
          "didn't",
          "try",
          "loves",
          "then",
          "hide",
          "saw",
          "prudence"
         ],
         "type": "scatter",
         "x": [
          -2.8088746070861816,
          -2.902930974960327,
          0.4749907851219177,
          -1.5397316217422485,
          -1.0292423963546753,
          -3.54776668548584,
          -0.38322290778160095,
          -2.32403302192688,
          1.1268274784088135,
          -13.081151962280273,
          3.1702253818511963,
          -0.65205979347229,
          -2.4323198795318604,
          -4.180296897888184,
          -1.7438545227050781,
          5.30995512008667,
          13.918889999389648,
          1.5666699409484863,
          -3.3648788928985596,
          -1.584861397743225,
          -8.719317436218262,
          15.857593536376953,
          -6.56377649307251,
          -0.6000261902809143,
          -13.635241508483887,
          10.305556297302246,
          -7.161320686340332,
          2.775651216506958,
          8.803564071655273,
          2.899920701980591,
          -2.1784656047821045,
          -7.928948402404785,
          -6.8355183601379395,
          -3.552562713623047,
          -3.5738747119903564,
          -11.372273445129395,
          -0.7115301489830017,
          -2.3478643894195557,
          12.582136154174805,
          16.61713981628418,
          -2.231743097305298,
          -4.355416774749756,
          6.677574634552002,
          -7.816421985626221,
          -19.184621810913086,
          -13.252714157104492,
          -4.357728958129883,
          1.7126902341842651,
          -16.870893478393555,
          8.597700119018555,
          2.979404926300049,
          14.089128494262695,
          3.4078376293182373,
          -11.019133567810059,
          6.934511184692383,
          -8.781316757202148,
          3.3231449127197266,
          3.9687790870666504,
          -6.669193744659424,
          -9.298727035522461,
          -8.202404975891113,
          -3.715811014175415,
          -15.353739738464355,
          -6.688156604766846,
          2.2448477745056152,
          -5.762560844421387,
          4.457607746124268,
          -9.368659973144531,
          1.2604936361312866,
          -14.682646751403809,
          -7.010161399841309,
          -0.30431172251701355,
          -14.043023109436035,
          -6.0953826904296875,
          0.7646523118019104,
          -20.38323974609375,
          -15.599471092224121,
          7.039470195770264,
          0.31822025775909424,
          -4.356307029724121,
          2.000643253326416,
          10.436016082763672,
          0.30776891112327576,
          11.607826232910156,
          -4.918607711791992,
          4.304901123046875,
          -13.46696662902832,
          -13.309102058410645,
          -4.459439754486084,
          5.182092666625977,
          -9.303018569946289,
          12.199387550354004,
          11.446828842163086,
          -3.9622886180877686,
          15.398507118225098,
          8.322900772094727,
          -11.639569282531738,
          7.473560333251953,
          -1.7369753122329712,
          1.7210043668746948,
          8.55793571472168,
          -12.269967079162598,
          -5.597139835357666,
          -8.73499584197998,
          -9.15794849395752,
          -1.8490045070648193,
          -11.969931602478027,
          5.437131881713867,
          -6.325353145599365,
          5.912820339202881,
          3.265734910964966,
          3.6744799613952637,
          7.479154586791992,
          17.474853515625,
          -13.517749786376953,
          -9.468487739562988,
          -9.831645011901855,
          8.16798210144043,
          6.786196231842041,
          -15.072530746459961,
          -6.68587589263916,
          2.488197088241577,
          -13.831298828125,
          10.118781089782715,
          4.551974773406982,
          -5.448904991149902,
          -9.177654266357422,
          -16.331985473632812,
          8.297757148742676,
          -8.476912498474121,
          -11.452387809753418,
          3.772371768951416,
          -0.9405785799026489,
          -5.022611141204834,
          0.4694223999977112,
          -9.796161651611328,
          -4.254538059234619,
          -3.958590269088745,
          17.89754867553711,
          3.8760921955108643,
          5.383923530578613,
          -8.733577728271484,
          11.039926528930664,
          -8.678515434265137,
          4.146702289581299,
          17.007497787475586,
          -1.4525147676467896,
          4.675908088684082,
          14.065082550048828,
          -6.670975685119629,
          -5.937283515930176,
          10.734048843383789,
          -3.536268711090088,
          9.362847328186035,
          -7.121210098266602,
          10.94371509552002,
          11.788021087646484,
          -5.403635025024414,
          9.282295227050781,
          -8.557320594787598,
          9.53001594543457,
          8.296381950378418,
          -1.62847900390625,
          13.897651672363281,
          -2.630528688430786,
          11.984593391418457,
          9.264961242675781,
          7.02007532119751,
          -5.215003967285156,
          14.326297760009766,
          10.020370483398438,
          2.8183367252349854,
          -2.0344183444976807,
          -12.793798446655273,
          -17.585054397583008,
          -15.114079475402832,
          16.3936767578125,
          14.967639923095703,
          10.838079452514648,
          17.950748443603516,
          -12.561604499816895,
          -8.584871292114258,
          5.970240592956543,
          -0.32227322459220886,
          2.1123712062835693,
          -15.95179271697998,
          -5.803110599517822,
          5.233358383178711,
          -5.165205955505371,
          -10.436546325683594,
          -5.669581413269043,
          -17.445953369140625,
          19.493349075317383,
          -12.708344459533691,
          0.8286998271942139,
          -11.359125137329102,
          -3.584163188934326,
          -7.241145610809326,
          -16.478147506713867,
          -17.538347244262695
         ],
         "xaxis": "x",
         "y": [
          -6.232038497924805,
          -6.472433567047119,
          -5.688872814178467,
          -5.526413917541504,
          -5.637486457824707,
          -6.266590118408203,
          -4.791192054748535,
          -6.107673168182373,
          -5.692210674285889,
          3.3065497875213623,
          9.195932388305664,
          -8.775594711303711,
          -4.8526105880737305,
          -7.002772808074951,
          -6.939943790435791,
          -9.645210266113281,
          2.9243361949920654,
          -6.625732421875,
          4.345858573913574,
          0.000626609253231436,
          -7.926637649536133,
          -13.344549179077148,
          -7.737022876739502,
          -6.96902322769165,
          -0.426767498254776,
          -8.545848846435547,
          -9.055293083190918,
          -3.1299655437469482,
          4.038297176361084,
          -8.33694076538086,
          -7.975676536560059,
          -2.0459518432617188,
          -14.244852066040039,
          -5.131237983703613,
          -9.381811141967773,
          5.454020977020264,
          7.975839614868164,
          -9.92413330078125,
          -7.735472679138184,
          -7.739546298980713,
          2.415083646774292,
          -15.13440990447998,
          0.09720157086849213,
          -5.96531343460083,
          4.838600158691406,
          4.332489967346191,
          -3.619703531265259,
          3.418570041656494,
          1.1473190784454346,
          15.702942848205566,
          -4.475620746612549,
          5.4114837646484375,
          -6.196077823638916,
          -13.853693962097168,
          -18.448505401611328,
          2.275048017501831,
          8.255878448486328,
          -17.528120040893555,
          8.218310356140137,
          -2.6219348907470703,
          4.411338806152344,
          2.525259017944336,
          5.068206787109375,
          5.110588550567627,
          -1.5484440326690674,
          1.3506441116333008,
          -7.175375938415527,
          -8.308756828308105,
          -17.28244400024414,
          -13.638772010803223,
          6.1554460525512695,
          -19.795269012451172,
          1.4350966215133667,
          -2.0222396850585938,
          6.327924728393555,
          -0.9920814633369446,
          2.692798376083374,
          7.289457321166992,
          -1.5805381536483765,
          11.903429985046387,
          2.3219003677368164,
          -12.81516170501709,
          -12.969415664672852,
          -11.845903396606445,
          -7.937931060791016,
          13.763269424438477,
          11.991185188293457,
          -2.6874091625213623,
          -11.598783493041992,
          -15.257805824279785,
          -0.6797856092453003,
          -14.389359474182129,
          -16.47593879699707,
          -0.31141090393066406,
          7.697231769561768,
          -14.707670211791992,
          -4.79816198348999,
          14.27585506439209,
          16.921674728393555,
          -4.020035743713379,
          1.989956021308899,
          14.513416290283203,
          -6.376795768737793,
          -12.9398193359375,
          -9.348808288574219,
          -17.36615753173828,
          -16.58828353881836,
          19.138370513916016,
          3.404102087020874,
          -1.03519868850708,
          8.796857833862305,
          -20.478906631469727,
          14.402800559997559,
          10.043638229370117,
          -3.389186382293701,
          -8.404142379760742,
          -4.179839134216309,
          13.090156555175781,
          5.251477241516113,
          1.2807977199554443,
          -0.5307004451751709,
          -15.471924781799316,
          -4.1923346519470215,
          -15.436139106750488,
          16.26563835144043,
          -0.4836864769458771,
          -18.013916015625,
          -1.5587658882141113,
          10.101218223571777,
          -3.89174747467041,
          -1.1536364555358887,
          19.321636199951172,
          3.247988700866699,
          -5.02800989151001,
          14.891217231750488,
          11.328695297241211,
          10.069076538085938,
          18.898075103759766,
          6.899989604949951,
          9.931419372558594,
          -3.6076576709747314,
          9.420653343200684,
          14.673250198364258,
          6.242077827453613,
          1.5104111433029175,
          -10.732321739196777,
          15.568743705749512,
          -0.2758277952671051,
          15.343205451965332,
          13.919381141662598,
          -3.4841058254241943,
          -14.467839241027832,
          6.113455772399902,
          18.244836807250977,
          5.683505535125732,
          -14.27642822265625,
          -12.526212692260742,
          9.024354934692383,
          2.38608717918396,
          -15.35537052154541,
          8.517708778381348,
          -8.407448768615723,
          -12.487438201904297,
          13.177005767822266,
          -2.974151611328125,
          16.135034561157227,
          2.5258259773254395,
          -14.601592063903809,
          -9.946659088134766,
          11.153164863586426,
          -1.07957124710083,
          -9.70012378692627,
          13.857844352722168,
          6.427671432495117,
          8.41140079498291,
          -5.77705717086792,
          1.9566383361816406,
          -17.059038162231445,
          -4.563453197479248,
          -4.4337263107299805,
          -8.828522682189941,
          5.66390323638916,
          9.063888549804688,
          -11.61681842803955,
          13.339568138122559,
          -9.940485000610352,
          18.01486587524414,
          11.915877342224121,
          -17.592222213745117,
          -2.8067286014556885,
          12.948476791381836,
          -2.4947195053100586,
          -0.5434883832931519,
          -11.262494087219238,
          -0.636314332485199,
          0.6979864239692688,
          -13.319835662841797,
          -4.361950397491455,
          -4.044939994812012,
          8.381443977355957
         ],
         "yaxis": "y"
        }
       ],
       "layout": {
        "legend": {
         "tracegroupgap": 0
        },
        "margin": {
         "t": 60
        },
        "template": {
         "data": {
          "bar": [
           {
            "error_x": {
             "color": "#2a3f5f"
            },
            "error_y": {
             "color": "#2a3f5f"
            },
            "marker": {
             "line": {
              "color": "#E5ECF6",
              "width": 0.5
             },
             "pattern": {
              "fillmode": "overlay",
              "size": 10,
              "solidity": 0.2
             }
            },
            "type": "bar"
           }
          ],
          "barpolar": [
           {
            "marker": {
             "line": {
              "color": "#E5ECF6",
              "width": 0.5
             },
             "pattern": {
              "fillmode": "overlay",
              "size": 10,
              "solidity": 0.2
             }
            },
            "type": "barpolar"
           }
          ],
          "carpet": [
           {
            "aaxis": {
             "endlinecolor": "#2a3f5f",
             "gridcolor": "white",
             "linecolor": "white",
             "minorgridcolor": "white",
             "startlinecolor": "#2a3f5f"
            },
            "baxis": {
             "endlinecolor": "#2a3f5f",
             "gridcolor": "white",
             "linecolor": "white",
             "minorgridcolor": "white",
             "startlinecolor": "#2a3f5f"
            },
            "type": "carpet"
           }
          ],
          "choropleth": [
           {
            "colorbar": {
             "outlinewidth": 0,
             "ticks": ""
            },
            "type": "choropleth"
           }
          ],
          "contour": [
           {
            "colorbar": {
             "outlinewidth": 0,
             "ticks": ""
            },
            "colorscale": [
             [
              0,
              "#0d0887"
             ],
             [
              0.1111111111111111,
              "#46039f"
             ],
             [
              0.2222222222222222,
              "#7201a8"
             ],
             [
              0.3333333333333333,
              "#9c179e"
             ],
             [
              0.4444444444444444,
              "#bd3786"
             ],
             [
              0.5555555555555556,
              "#d8576b"
             ],
             [
              0.6666666666666666,
              "#ed7953"
             ],
             [
              0.7777777777777778,
              "#fb9f3a"
             ],
             [
              0.8888888888888888,
              "#fdca26"
             ],
             [
              1,
              "#f0f921"
             ]
            ],
            "type": "contour"
           }
          ],
          "contourcarpet": [
           {
            "colorbar": {
             "outlinewidth": 0,
             "ticks": ""
            },
            "type": "contourcarpet"
           }
          ],
          "heatmap": [
           {
            "colorbar": {
             "outlinewidth": 0,
             "ticks": ""
            },
            "colorscale": [
             [
              0,
              "#0d0887"
             ],
             [
              0.1111111111111111,
              "#46039f"
             ],
             [
              0.2222222222222222,
              "#7201a8"
             ],
             [
              0.3333333333333333,
              "#9c179e"
             ],
             [
              0.4444444444444444,
              "#bd3786"
             ],
             [
              0.5555555555555556,
              "#d8576b"
             ],
             [
              0.6666666666666666,
              "#ed7953"
             ],
             [
              0.7777777777777778,
              "#fb9f3a"
             ],
             [
              0.8888888888888888,
              "#fdca26"
             ],
             [
              1,
              "#f0f921"
             ]
            ],
            "type": "heatmap"
           }
          ],
          "heatmapgl": [
           {
            "colorbar": {
             "outlinewidth": 0,
             "ticks": ""
            },
            "colorscale": [
             [
              0,
              "#0d0887"
             ],
             [
              0.1111111111111111,
              "#46039f"
             ],
             [
              0.2222222222222222,
              "#7201a8"
             ],
             [
              0.3333333333333333,
              "#9c179e"
             ],
             [
              0.4444444444444444,
              "#bd3786"
             ],
             [
              0.5555555555555556,
              "#d8576b"
             ],
             [
              0.6666666666666666,
              "#ed7953"
             ],
             [
              0.7777777777777778,
              "#fb9f3a"
             ],
             [
              0.8888888888888888,
              "#fdca26"
             ],
             [
              1,
              "#f0f921"
             ]
            ],
            "type": "heatmapgl"
           }
          ],
          "histogram": [
           {
            "marker": {
             "pattern": {
              "fillmode": "overlay",
              "size": 10,
              "solidity": 0.2
             }
            },
            "type": "histogram"
           }
          ],
          "histogram2d": [
           {
            "colorbar": {
             "outlinewidth": 0,
             "ticks": ""
            },
            "colorscale": [
             [
              0,
              "#0d0887"
             ],
             [
              0.1111111111111111,
              "#46039f"
             ],
             [
              0.2222222222222222,
              "#7201a8"
             ],
             [
              0.3333333333333333,
              "#9c179e"
             ],
             [
              0.4444444444444444,
              "#bd3786"
             ],
             [
              0.5555555555555556,
              "#d8576b"
             ],
             [
              0.6666666666666666,
              "#ed7953"
             ],
             [
              0.7777777777777778,
              "#fb9f3a"
             ],
             [
              0.8888888888888888,
              "#fdca26"
             ],
             [
              1,
              "#f0f921"
             ]
            ],
            "type": "histogram2d"
           }
          ],
          "histogram2dcontour": [
           {
            "colorbar": {
             "outlinewidth": 0,
             "ticks": ""
            },
            "colorscale": [
             [
              0,
              "#0d0887"
             ],
             [
              0.1111111111111111,
              "#46039f"
             ],
             [
              0.2222222222222222,
              "#7201a8"
             ],
             [
              0.3333333333333333,
              "#9c179e"
             ],
             [
              0.4444444444444444,
              "#bd3786"
             ],
             [
              0.5555555555555556,
              "#d8576b"
             ],
             [
              0.6666666666666666,
              "#ed7953"
             ],
             [
              0.7777777777777778,
              "#fb9f3a"
             ],
             [
              0.8888888888888888,
              "#fdca26"
             ],
             [
              1,
              "#f0f921"
             ]
            ],
            "type": "histogram2dcontour"
           }
          ],
          "mesh3d": [
           {
            "colorbar": {
             "outlinewidth": 0,
             "ticks": ""
            },
            "type": "mesh3d"
           }
          ],
          "parcoords": [
           {
            "line": {
             "colorbar": {
              "outlinewidth": 0,
              "ticks": ""
             }
            },
            "type": "parcoords"
           }
          ],
          "pie": [
           {
            "automargin": true,
            "type": "pie"
           }
          ],
          "scatter": [
           {
            "fillpattern": {
             "fillmode": "overlay",
             "size": 10,
             "solidity": 0.2
            },
            "type": "scatter"
           }
          ],
          "scatter3d": [
           {
            "line": {
             "colorbar": {
              "outlinewidth": 0,
              "ticks": ""
             }
            },
            "marker": {
             "colorbar": {
              "outlinewidth": 0,
              "ticks": ""
             }
            },
            "type": "scatter3d"
           }
          ],
          "scattercarpet": [
           {
            "marker": {
             "colorbar": {
              "outlinewidth": 0,
              "ticks": ""
             }
            },
            "type": "scattercarpet"
           }
          ],
          "scattergeo": [
           {
            "marker": {
             "colorbar": {
              "outlinewidth": 0,
              "ticks": ""
             }
            },
            "type": "scattergeo"
           }
          ],
          "scattergl": [
           {
            "marker": {
             "colorbar": {
              "outlinewidth": 0,
              "ticks": ""
             }
            },
            "type": "scattergl"
           }
          ],
          "scattermapbox": [
           {
            "marker": {
             "colorbar": {
              "outlinewidth": 0,
              "ticks": ""
             }
            },
            "type": "scattermapbox"
           }
          ],
          "scatterpolar": [
           {
            "marker": {
             "colorbar": {
              "outlinewidth": 0,
              "ticks": ""
             }
            },
            "type": "scatterpolar"
           }
          ],
          "scatterpolargl": [
           {
            "marker": {
             "colorbar": {
              "outlinewidth": 0,
              "ticks": ""
             }
            },
            "type": "scatterpolargl"
           }
          ],
          "scatterternary": [
           {
            "marker": {
             "colorbar": {
              "outlinewidth": 0,
              "ticks": ""
             }
            },
            "type": "scatterternary"
           }
          ],
          "surface": [
           {
            "colorbar": {
             "outlinewidth": 0,
             "ticks": ""
            },
            "colorscale": [
             [
              0,
              "#0d0887"
             ],
             [
              0.1111111111111111,
              "#46039f"
             ],
             [
              0.2222222222222222,
              "#7201a8"
             ],
             [
              0.3333333333333333,
              "#9c179e"
             ],
             [
              0.4444444444444444,
              "#bd3786"
             ],
             [
              0.5555555555555556,
              "#d8576b"
             ],
             [
              0.6666666666666666,
              "#ed7953"
             ],
             [
              0.7777777777777778,
              "#fb9f3a"
             ],
             [
              0.8888888888888888,
              "#fdca26"
             ],
             [
              1,
              "#f0f921"
             ]
            ],
            "type": "surface"
           }
          ],
          "table": [
           {
            "cells": {
             "fill": {
              "color": "#EBF0F8"
             },
             "line": {
              "color": "white"
             }
            },
            "header": {
             "fill": {
              "color": "#C8D4E3"
             },
             "line": {
              "color": "white"
             }
            },
            "type": "table"
           }
          ]
         },
         "layout": {
          "annotationdefaults": {
           "arrowcolor": "#2a3f5f",
           "arrowhead": 0,
           "arrowwidth": 1
          },
          "autotypenumbers": "strict",
          "coloraxis": {
           "colorbar": {
            "outlinewidth": 0,
            "ticks": ""
           }
          },
          "colorscale": {
           "diverging": [
            [
             0,
             "#8e0152"
            ],
            [
             0.1,
             "#c51b7d"
            ],
            [
             0.2,
             "#de77ae"
            ],
            [
             0.3,
             "#f1b6da"
            ],
            [
             0.4,
             "#fde0ef"
            ],
            [
             0.5,
             "#f7f7f7"
            ],
            [
             0.6,
             "#e6f5d0"
            ],
            [
             0.7,
             "#b8e186"
            ],
            [
             0.8,
             "#7fbc41"
            ],
            [
             0.9,
             "#4d9221"
            ],
            [
             1,
             "#276419"
            ]
           ],
           "sequential": [
            [
             0,
             "#0d0887"
            ],
            [
             0.1111111111111111,
             "#46039f"
            ],
            [
             0.2222222222222222,
             "#7201a8"
            ],
            [
             0.3333333333333333,
             "#9c179e"
            ],
            [
             0.4444444444444444,
             "#bd3786"
            ],
            [
             0.5555555555555556,
             "#d8576b"
            ],
            [
             0.6666666666666666,
             "#ed7953"
            ],
            [
             0.7777777777777778,
             "#fb9f3a"
            ],
            [
             0.8888888888888888,
             "#fdca26"
            ],
            [
             1,
             "#f0f921"
            ]
           ],
           "sequentialminus": [
            [
             0,
             "#0d0887"
            ],
            [
             0.1111111111111111,
             "#46039f"
            ],
            [
             0.2222222222222222,
             "#7201a8"
            ],
            [
             0.3333333333333333,
             "#9c179e"
            ],
            [
             0.4444444444444444,
             "#bd3786"
            ],
            [
             0.5555555555555556,
             "#d8576b"
            ],
            [
             0.6666666666666666,
             "#ed7953"
            ],
            [
             0.7777777777777778,
             "#fb9f3a"
            ],
            [
             0.8888888888888888,
             "#fdca26"
            ],
            [
             1,
             "#f0f921"
            ]
           ]
          },
          "colorway": [
           "#636efa",
           "#EF553B",
           "#00cc96",
           "#ab63fa",
           "#FFA15A",
           "#19d3f3",
           "#FF6692",
           "#B6E880",
           "#FF97FF",
           "#FECB52"
          ],
          "font": {
           "color": "#2a3f5f"
          },
          "geo": {
           "bgcolor": "white",
           "lakecolor": "white",
           "landcolor": "#E5ECF6",
           "showlakes": true,
           "showland": true,
           "subunitcolor": "white"
          },
          "hoverlabel": {
           "align": "left"
          },
          "hovermode": "closest",
          "mapbox": {
           "style": "light"
          },
          "paper_bgcolor": "white",
          "plot_bgcolor": "#E5ECF6",
          "polar": {
           "angularaxis": {
            "gridcolor": "white",
            "linecolor": "white",
            "ticks": ""
           },
           "bgcolor": "#E5ECF6",
           "radialaxis": {
            "gridcolor": "white",
            "linecolor": "white",
            "ticks": ""
           }
          },
          "scene": {
           "xaxis": {
            "backgroundcolor": "#E5ECF6",
            "gridcolor": "white",
            "gridwidth": 2,
            "linecolor": "white",
            "showbackground": true,
            "ticks": "",
            "zerolinecolor": "white"
           },
           "yaxis": {
            "backgroundcolor": "#E5ECF6",
            "gridcolor": "white",
            "gridwidth": 2,
            "linecolor": "white",
            "showbackground": true,
            "ticks": "",
            "zerolinecolor": "white"
           },
           "zaxis": {
            "backgroundcolor": "#E5ECF6",
            "gridcolor": "white",
            "gridwidth": 2,
            "linecolor": "white",
            "showbackground": true,
            "ticks": "",
            "zerolinecolor": "white"
           }
          },
          "shapedefaults": {
           "line": {
            "color": "#2a3f5f"
           }
          },
          "ternary": {
           "aaxis": {
            "gridcolor": "white",
            "linecolor": "white",
            "ticks": ""
           },
           "baxis": {
            "gridcolor": "white",
            "linecolor": "white",
            "ticks": ""
           },
           "bgcolor": "#E5ECF6",
           "caxis": {
            "gridcolor": "white",
            "linecolor": "white",
            "ticks": ""
           }
          },
          "title": {
           "x": 0.05
          },
          "xaxis": {
           "automargin": true,
           "gridcolor": "white",
           "linecolor": "white",
           "ticks": "",
           "title": {
            "standoff": 15
           },
           "zerolinecolor": "white",
           "zerolinewidth": 2
          },
          "yaxis": {
           "automargin": true,
           "gridcolor": "white",
           "linecolor": "white",
           "ticks": "",
           "title": {
            "standoff": 15
           },
           "zerolinecolor": "white",
           "zerolinewidth": 2
          }
         }
        },
        "xaxis": {
         "anchor": "y",
         "domain": [
          0,
          1
         ],
         "title": {
          "text": "x"
         }
        },
        "yaxis": {
         "anchor": "x",
         "domain": [
          0,
          1
         ],
         "title": {
          "text": "y"
         }
        }
       }
      }
     },
     "metadata": {},
     "output_type": "display_data"
    }
   ],
   "source": [
    "# Graficar los embedddings en 2D\n",
    "import plotly.graph_objects as go\n",
    "import plotly.express as px\n",
    "\n",
    "vecs, labels = reduce_dimensions(w2v_model)\n",
    "\n",
    "MAX_WORDS=200\n",
    "fig = px.scatter(x=vecs[:MAX_WORDS,0], y=vecs[:MAX_WORDS,1], text=labels[:MAX_WORDS])\n",
    "fig.show() # esto para plotly en colab"
   ]
  },
  {
   "cell_type": "code",
   "execution_count": 29,
   "metadata": {},
   "outputs": [
    {
     "data": {
      "application/vnd.plotly.v1+json": {
       "config": {
        "plotlyServerURL": "https://plot.ly"
       },
       "data": [
        {
         "hovertemplate": "x=%{x}<br>y=%{y}<br>z=%{z}<br>text=%{text}<extra></extra>",
         "legendgroup": "",
         "marker": {
          "color": "#636efa",
          "size": 2,
          "symbol": "circle"
         },
         "mode": "markers+text",
         "name": "",
         "scene": "scene",
         "showlegend": false,
         "text": [
          "you",
          "i",
          "the",
          "to",
          "and",
          "love",
          "a",
          "me",
          "in",
          "all",
          "nah",
          "my",
          "it",
          "know",
          "that",
          "be",
          "on",
          "of",
          "she",
          "is",
          "say",
          "now",
          "oh",
          "your",
          "yeah",
          "get",
          "don't",
          "back",
          "with",
          "let",
          "her",
          "can",
          "it's",
          "do",
          "when",
          "come",
          "i'm",
          "will",
          "he",
          "but",
          "for",
          "so",
          "there",
          "need",
          "like",
          "together",
          "no",
          "i'll",
          "see",
          "we",
          "was",
          "never",
          "down",
          "if",
          "way",
          "want",
          "hey",
          "out",
          "one",
          "got",
          "can't",
          "girl",
          "well",
          "good",
          "go",
          "sun",
          "his",
          "hello",
          "home",
          "they",
          "day",
          "are",
          "ah",
          "right",
          "from",
          "little",
          "at",
          "man",
          "help",
          "here",
          "have",
          "gonna",
          "not",
          "world",
          "what",
          "going",
          "how",
          "please",
          "still",
          "too",
          "just",
          "you're",
          "time",
          "as",
          "make",
          "long",
          "yes",
          "yellow",
          "life",
          "once",
          "sky",
          "been",
          "think",
          "tell",
          "why",
          "only",
          "where",
          "people",
          "she's",
          "eyes",
          "jude",
          "take",
          "submarine",
          "up",
          "hold",
          "goodbye",
          "give",
          "nowhere",
          "sing",
          "look",
          "friends",
          "always",
          "hand",
          "boy",
          "we're",
          "am",
          "away",
          "darling",
          "goo",
          "nothing",
          "should",
          "lonely",
          "could",
          "feel",
          "some",
          "night",
          "comes",
          "had",
          "would",
          "better",
          "head",
          "them",
          "four",
          "buy",
          "more",
          "i've",
          "la",
          "mind",
          "two",
          "this",
          "everything",
          "carry",
          "by",
          "our",
          "sunshine",
          "weight",
          "change",
          "us",
          "lucy",
          "birthday",
          "an",
          "true",
          "you'll",
          "every",
          "pretty",
          "three",
          "diamonds",
          "before",
          "believe",
          "these",
          "i'd",
          "words",
          "mm",
          "work",
          "dear",
          "leave",
          "were",
          "mine",
          "there's",
          "nobody",
          "told",
          "money",
          "bom",
          "said",
          "forever",
          "round",
          "children",
          "'cause",
          "something",
          "about",
          "waiting",
          "standing",
          "who",
          "didn't",
          "try",
          "loves",
          "then",
          "hide",
          "saw",
          "prudence"
         ],
         "type": "scatter3d",
         "x": [
          22.11819076538086,
          12.45140266418457,
          2.590010166168213,
          16.227060317993164,
          10.871118545532227,
          28.590499877929688,
          13.674827575683594,
          -31.17681312561035,
          3.7737019062042236,
          56.42121505737305,
          -11.243332862854004,
          -18.371753692626953,
          -44.92192077636719,
          51.69184494018555,
          27.358205795288086,
          -5.96041202545166,
          -36.85867691040039,
          -71.0249252319336,
          19.247167587280273,
          25.849382400512695,
          16.253406524658203,
          -55.51627731323242,
          1.7931939363479614,
          -76.37129974365234,
          19.105669021606445,
          -19.756492614746094,
          -3.823775291442871,
          32.069664001464844,
          39.6656494140625,
          -32.44986343383789,
          71.01282501220703,
          39.03886413574219,
          -31.431039810180664,
          37.496131896972656,
          10.032373428344727,
          72.23651885986328,
          46.10626220703125,
          32.81117248535156,
          4.964008331298828,
          -45.07577896118164,
          -60.75083923339844,
          24.89384651184082,
          -40.88860321044922,
          41.8582878112793,
          45.269596099853516,
          60.00812911987305,
          57.65946960449219,
          -63.79477310180664,
          63.612003326416016,
          11.510390281677246,
          38.27805709838867,
          50.21291732788086,
          -43.06031036376953,
          -85.75550842285156,
          -38.56332015991211,
          -4.652856349945068,
          -15.189058303833008,
          18.283750534057617,
          56.58837127685547,
          -21.410724639892578,
          15.345263481140137,
          37.15958786010742,
          77.32955169677734,
          26.183279037475586,
          -24.60304832458496,
          9.762972831726074,
          -60.038978576660156,
          6.466301918029785,
          66.74542999267578,
          -49.95747756958008,
          11.916468620300293,
          -45.170982360839844,
          13.6453857421875,
          57.511680603027344,
          -25.376880645751953,
          -45.02333450317383,
          -63.315853118896484,
          67.94681549072266,
          38.08852767944336,
          -38.9232063293457,
          -68.26457214355469,
          -23.31509780883789,
          -10.321794509887695,
          -10.277263641357422,
          -38.30606460571289,
          25.48235511779785,
          36.69893264770508,
          -3.9164671897888184,
          30.161767959594727,
          18.11231231689453,
          20.55751609802246,
          2.837744951248169,
          -27.777421951293945,
          -28.610624313354492,
          8.036221504211426,
          22.942840576171875,
          8.576621055603027,
          -17.880340576171875,
          -50.05461502075195,
          -19.903549194335938,
          6.355757713317871,
          7.108307361602783,
          44.92884063720703,
          44.438819885253906,
          7.710248947143555,
          68.3347396850586,
          47.445838928222656,
          -50.018707275390625,
          35.0073127746582,
          -59.19097137451172,
          -7.7948174476623535,
          -17.144495010375977,
          -24.897680282592773,
          32.75661087036133,
          -13.261882781982422,
          6.854212760925293,
          48.80241775512695,
          -27.196292877197266,
          12.033456802368164,
          0.7507932782173157,
          58.09779357910156,
          14.010336875915527,
          -19.65494155883789,
          -63.40992736816406,
          -23.59706687927246,
          -11.642279624938965,
          -14.977202415466309,
          3.200910806655884,
          -6.664569854736328,
          46.40610885620117,
          36.92975616455078,
          -42.03969955444336,
          33.08939743041992,
          29.824068069458008,
          -65.4291763305664,
          -68.64921569824219,
          -25.949190139770508,
          -22.89786148071289,
          14.501672744750977,
          -4.206989288330078,
          -14.571394920349121,
          -63.77936935424805,
          28.862276077270508,
          -3.865713357925415,
          54.38557815551758,
          -20.059734344482422,
          -12.541207313537598,
          57.78068161010742,
          31.70407485961914,
          -49.81939697265625,
          26.076583862304688,
          -17.344987869262695,
          -60.18275833129883,
          39.50497055053711,
          17.10419273376465,
          -8.68951416015625,
          -22.158588409423828,
          -29.279367446899414,
          9.607314109802246,
          -21.88539695739746,
          5.8409833908081055,
          5.753904819488525,
          -51.74485397338867,
          24.743247985839844,
          70.56780242919922,
          18.630475997924805,
          16.858863830566406,
          40.81760025024414,
          32.44126510620117,
          -52.876686096191406,
          -18.01681900024414,
          -44.6666259765625,
          -20.79233169555664,
          54.327178955078125,
          23.822721481323242,
          38.882606506347656,
          46.79640579223633,
          24.711973190307617,
          -62.132808685302734,
          -16.367292404174805,
          -25.057758331298828,
          5.054233551025391,
          -11.8828125,
          29.454011917114258,
          4.430798053741455,
          -71.28607177734375,
          -40.22813415527344,
          51.48031234741211,
          1.5462645292282104,
          -74.10404205322266,
          -51.31521224975586,
          10.375484466552734,
          39.28961181640625,
          -36.71608352661133,
          32.139827728271484,
          24.772235870361328,
          1.742549180984497,
          -9.372005462646484,
          -9.209452629089355,
          18.06744956970215
         ],
         "y": [
          -1.3755754232406616,
          -1.922890543937683,
          -4.601102828979492,
          0.2873768210411072,
          7.865630149841309,
          6.647249698638916,
          -2.1405885219573975,
          34.331241607666016,
          -13.384531021118164,
          43.065006256103516,
          1.9592576026916504,
          37.04587936401367,
          26.146968841552734,
          34.22498321533203,
          -13.87562370300293,
          -33.816993713378906,
          33.37199020385742,
          -23.81069564819336,
          24.291982650756836,
          11.139116287231445,
          -14.735978126525879,
          -5.940746784210205,
          -37.22161865234375,
          13.313851356506348,
          53.015830993652344,
          24.492021560668945,
          -6.340480327606201,
          7.466445446014404,
          -0.8107847571372986,
          5.328550815582275,
          -46.820518493652344,
          -14.043353080749512,
          -47.302406311035156,
          0.24367475509643555,
          -64.81118774414062,
          24.037221908569336,
          -29.37519073486328,
          -10.688003540039062,
          -22.037302017211914,
          -23.993253707885742,
          43.552310943603516,
          -77.58750915527344,
          38.854888916015625,
          20.538267135620117,
          -38.33167266845703,
          41.19269561767578,
          -26.91840171813965,
          19.027158737182617,
          -5.450155258178711,
          -54.82471466064453,
          28.52672576904297,
          -8.084139823913574,
          14.24739933013916,
          -17.176349639892578,
          -26.778379440307617,
          27.568645477294922,
          11.360894203186035,
          74.11700439453125,
          -40.96733856201172,
          48.74338912963867,
          5.382161617279053,
          45.47822952270508,
          30.897863388061523,
          13.620015144348145,
          -76.21844482421875,
          -10.593573570251465,
          50.513790130615234,
          -20.2423152923584,
          -19.19692611694336,
          -10.885232925415039,
          4.6530442237854,
          43.882877349853516,
          43.55010986328125,
          17.551868438720703,
          -1.5989927053451538,
          48.17326354980469,
          32.76331329345703,
          -24.39468002319336,
          14.875039100646973,
          -41.51526641845703,
          0.1173141747713089,
          56.64576721191406,
          -52.21085739135742,
          46.59148406982422,
          -1.7350525856018066,
          -10.537521362304688,
          -57.90693664550781,
          48.920806884765625,
          -35.64606475830078,
          55.805519104003906,
          23.184751510620117,
          59.625675201416016,
          58.09337615966797,
          -4.510245323181152,
          -15.868764877319336,
          70.84684753417969,
          -27.09629249572754,
          -50.284202575683594,
          9.01236343383789,
          64.98670959472656,
          -13.479247093200684,
          58.30073547363281,
          -15.940337181091309,
          -35.45826721191406,
          -13.8160982131958,
          -30.279226303100586,
          6.518545150756836,
          19.24820327758789,
          23.76693344116211,
          8.48179817199707,
          3.1132636070251465,
          77.3084487915039,
          -52.4560661315918,
          65.36675262451172,
          44.643287658691406,
          -20.924148559570312,
          29.136686325073242,
          -58.650272369384766,
          25.788516998291016,
          53.62150192260742,
          56.78586959838867,
          37.6451416015625,
          35.52824401855469,
          -3.6888861656188965,
          -23.295166015625,
          -18.22087860107422,
          -10.481232643127441,
          71.56349182128906,
          -58.74067306518555,
          3.369387626647949,
          39.74565124511719,
          -24.714834213256836,
          33.41538619995117,
          -23.045814514160156,
          -48.916072845458984,
          -33.30997848510742,
          -29.621374130249023,
          12.731191635131836,
          -60.720096588134766,
          9.914749145507812,
          5.397541046142578,
          -4.629594802856445,
          -26.277456283569336,
          6.050564289093018,
          18.983108520507812,
          4.427237033843994,
          -50.68453598022461,
          -3.210190534591675,
          -51.23598861694336,
          -37.98577880859375,
          -47.088722229003906,
          56.439064025878906,
          15.264822006225586,
          -65.01510620117188,
          9.24360466003418,
          58.914398193359375,
          40.20712661743164,
          -50.03092575073242,
          -13.355518341064453,
          77.9227523803711,
          -73.53136444091797,
          43.73061752319336,
          -57.3560676574707,
          -38.892513275146484,
          30.6390380859375,
          -39.27734375,
          -11.0571870803833,
          65.9832534790039,
          20.207237243652344,
          -11.562506675720215,
          -13.635111808776855,
          0.6908130049705505,
          -29.836746215820312,
          21.314775466918945,
          -30.975555419921875,
          65.26515197753906,
          -68.6123275756836,
          -1.3961377143859863,
          -35.8197135925293,
          -66.41571044921875,
          55.46427536010742,
          12.450401306152344,
          -13.945490837097168,
          -3.692596673965454,
          -55.82070541381836,
          32.68174743652344,
          -64.38655090332031,
          -51.57888412475586,
          7.910876274108887,
          -16.787490844726562,
          -48.287078857421875,
          75.62859344482422,
          47.98839569091797,
          70.07401275634766,
          19.53053855895996,
          36.20703125,
          71.05598449707031,
          0.9783850908279419,
          71.38831329345703,
          -35.693790435791016
         ],
         "z": [
          18.127582550048828,
          18.972309112548828,
          0.6329349875450134,
          8.053716659545898,
          1.391196608543396,
          14.825624465942383,
          -8.295451164245605,
          12.511943817138672,
          -6.608883857727051,
          7.451846122741699,
          -22.48163604736328,
          -34.799522399902344,
          12.753375053405762,
          31.179569244384766,
          69.34452056884766,
          -69.2289810180664,
          30.011381149291992,
          -16.242944717407227,
          14.96287727355957,
          -51.79426193237305,
          13.826960563659668,
          55.37041473388672,
          7.171907424926758,
          27.37472915649414,
          35.10470199584961,
          64.781005859375,
          15.086969375610352,
          68.38915252685547,
          -28.335847854614258,
          4.437718868255615,
          -4.240390777587891,
          40.224693298339844,
          59.40399932861328,
          24.10633659362793,
          37.42184066772461,
          -26.15459442138672,
          -20.459165573120117,
          11.569801330566406,
          58.114994049072266,
          45.394065856933594,
          -36.04473876953125,
          1.4217735528945923,
          55.94499588012695,
          22.72085189819336,
          -55.06833267211914,
          -5.7230730056762695,
          8.30862808227539,
          -23.176977157592773,
          28.738201141357422,
          60.741661071777344,
          -62.76321029663086,
          -57.02715301513672,
          57.553958892822266,
          6.516351222991943,
          73.62631225585938,
          49.23956298828125,
          -14.176905632019043,
          -29.333768844604492,
          9.865342140197754,
          62.137786865234375,
          52.27860641479492,
          -48.90723419189453,
          4.703738212585449,
          31.131105422973633,
          -1.0771805047988892,
          44.40909194946289,
          -8.148391723632812,
          10.575316429138184,
          -38.81657791137695,
          -36.9200553894043,
          31.930814743041992,
          -53.77935791015625,
          49.351661682128906,
          45.99748229980469,
          21.10741424560547,
          7.449560165405273,
          26.92914390563965,
          -13.084243774414062,
          -34.49199295043945,
          -1.54971444606781,
          -22.261234283447266,
          -51.78215408325195,
          64.45879364013672,
          -58.173221588134766,
          71.88263702392578,
          -20.576339721679688,
          40.5167121887207,
          33.771968841552734,
          14.243687629699707,
          -15.4024658203125,
          66.65086364746094,
          -45.01457214355469,
          -30.937044143676758,
          52.15531921386719,
          85.26831817626953,
          -4.2868146896362305,
          39.228858947753906,
          -39.085487365722656,
          -69.9022216796875,
          38.814022064208984,
          -46.66511535644531,
          14.189647674560547,
          24.5686092376709,
          24.622718811035156,
          27.234058380126953,
          29.196575164794922,
          58.38859176635742,
          -51.813453674316406,
          42.095890045166016,
          -37.21820831298828,
          -12.195966720581055,
          -6.192957401275635,
          -34.139137268066406,
          -37.162750244140625,
          38.51996994018555,
          19.14783477783203,
          65.3984375,
          -20.512575149536133,
          -14.793508529663086,
          55.84902572631836,
          -28.634340286254883,
          -62.98762130737305,
          44.181663513183594,
          -55.056766510009766,
          -54.356117248535156,
          53.96883010864258,
          70.46334838867188,
          37.834442138671875,
          -8.367687225341797,
          38.02165222167969,
          50.81714630126953,
          -52.373313903808594,
          -34.73861312866211,
          29.529691696166992,
          -9.977618217468262,
          10.387170791625977,
          6.937842845916748,
          49.7437858581543,
          -61.45577621459961,
          -27.423500061035156,
          7.446550369262695,
          2.598543643951416,
          -12.235143661499023,
          37.685516357421875,
          -46.65894317626953,
          82.07132720947266,
          31.49542236328125,
          -28.60843849182129,
          -16.525230407714844,
          21.27558135986328,
          27.082632064819336,
          -38.963096618652344,
          12.818412780761719,
          15.944331169128418,
          38.39643478393555,
          -41.46379470825195,
          -51.86873245239258,
          15.621986389160156,
          -59.66822052001953,
          -30.121305465698242,
          -16.78508186340332,
          -24.314355850219727,
          -26.454938888549805,
          -32.82645797729492,
          24.77814292907715,
          -0.7023963332176208,
          -53.978111267089844,
          -8.01143741607666,
          7.438051700592041,
          -15.604270935058594,
          -75.52505493164062,
          13.629925727844238,
          26.403337478637695,
          -14.640643119812012,
          -54.231971740722656,
          31.90304183959961,
          -9.84186840057373,
          37.72854995727539,
          -44.42839813232422,
          15.266362190246582,
          21.061235427856445,
          41.406227111816406,
          -15.06985092163086,
          -3.818286657333374,
          5.683669567108154,
          -1.0939167737960815,
          -3.203160524368286,
          -24.02397918701172,
          81.05135345458984,
          -36.72981643676758,
          7.88895320892334,
          21.684707641601562,
          -25.670377731323242,
          15.782177925109863,
          -22.079973220825195,
          32.28717803955078,
          0.965788722038269,
          61.65400314331055,
          19.811363220214844,
          -59.6774787902832
         ]
        }
       ],
       "layout": {
        "legend": {
         "tracegroupgap": 0
        },
        "margin": {
         "t": 60
        },
        "scene": {
         "domain": {
          "x": [
           0,
           1
          ],
          "y": [
           0,
           1
          ]
         },
         "xaxis": {
          "title": {
           "text": "x"
          }
         },
         "yaxis": {
          "title": {
           "text": "y"
          }
         },
         "zaxis": {
          "title": {
           "text": "z"
          }
         }
        },
        "template": {
         "data": {
          "bar": [
           {
            "error_x": {
             "color": "#2a3f5f"
            },
            "error_y": {
             "color": "#2a3f5f"
            },
            "marker": {
             "line": {
              "color": "#E5ECF6",
              "width": 0.5
             },
             "pattern": {
              "fillmode": "overlay",
              "size": 10,
              "solidity": 0.2
             }
            },
            "type": "bar"
           }
          ],
          "barpolar": [
           {
            "marker": {
             "line": {
              "color": "#E5ECF6",
              "width": 0.5
             },
             "pattern": {
              "fillmode": "overlay",
              "size": 10,
              "solidity": 0.2
             }
            },
            "type": "barpolar"
           }
          ],
          "carpet": [
           {
            "aaxis": {
             "endlinecolor": "#2a3f5f",
             "gridcolor": "white",
             "linecolor": "white",
             "minorgridcolor": "white",
             "startlinecolor": "#2a3f5f"
            },
            "baxis": {
             "endlinecolor": "#2a3f5f",
             "gridcolor": "white",
             "linecolor": "white",
             "minorgridcolor": "white",
             "startlinecolor": "#2a3f5f"
            },
            "type": "carpet"
           }
          ],
          "choropleth": [
           {
            "colorbar": {
             "outlinewidth": 0,
             "ticks": ""
            },
            "type": "choropleth"
           }
          ],
          "contour": [
           {
            "colorbar": {
             "outlinewidth": 0,
             "ticks": ""
            },
            "colorscale": [
             [
              0,
              "#0d0887"
             ],
             [
              0.1111111111111111,
              "#46039f"
             ],
             [
              0.2222222222222222,
              "#7201a8"
             ],
             [
              0.3333333333333333,
              "#9c179e"
             ],
             [
              0.4444444444444444,
              "#bd3786"
             ],
             [
              0.5555555555555556,
              "#d8576b"
             ],
             [
              0.6666666666666666,
              "#ed7953"
             ],
             [
              0.7777777777777778,
              "#fb9f3a"
             ],
             [
              0.8888888888888888,
              "#fdca26"
             ],
             [
              1,
              "#f0f921"
             ]
            ],
            "type": "contour"
           }
          ],
          "contourcarpet": [
           {
            "colorbar": {
             "outlinewidth": 0,
             "ticks": ""
            },
            "type": "contourcarpet"
           }
          ],
          "heatmap": [
           {
            "colorbar": {
             "outlinewidth": 0,
             "ticks": ""
            },
            "colorscale": [
             [
              0,
              "#0d0887"
             ],
             [
              0.1111111111111111,
              "#46039f"
             ],
             [
              0.2222222222222222,
              "#7201a8"
             ],
             [
              0.3333333333333333,
              "#9c179e"
             ],
             [
              0.4444444444444444,
              "#bd3786"
             ],
             [
              0.5555555555555556,
              "#d8576b"
             ],
             [
              0.6666666666666666,
              "#ed7953"
             ],
             [
              0.7777777777777778,
              "#fb9f3a"
             ],
             [
              0.8888888888888888,
              "#fdca26"
             ],
             [
              1,
              "#f0f921"
             ]
            ],
            "type": "heatmap"
           }
          ],
          "heatmapgl": [
           {
            "colorbar": {
             "outlinewidth": 0,
             "ticks": ""
            },
            "colorscale": [
             [
              0,
              "#0d0887"
             ],
             [
              0.1111111111111111,
              "#46039f"
             ],
             [
              0.2222222222222222,
              "#7201a8"
             ],
             [
              0.3333333333333333,
              "#9c179e"
             ],
             [
              0.4444444444444444,
              "#bd3786"
             ],
             [
              0.5555555555555556,
              "#d8576b"
             ],
             [
              0.6666666666666666,
              "#ed7953"
             ],
             [
              0.7777777777777778,
              "#fb9f3a"
             ],
             [
              0.8888888888888888,
              "#fdca26"
             ],
             [
              1,
              "#f0f921"
             ]
            ],
            "type": "heatmapgl"
           }
          ],
          "histogram": [
           {
            "marker": {
             "pattern": {
              "fillmode": "overlay",
              "size": 10,
              "solidity": 0.2
             }
            },
            "type": "histogram"
           }
          ],
          "histogram2d": [
           {
            "colorbar": {
             "outlinewidth": 0,
             "ticks": ""
            },
            "colorscale": [
             [
              0,
              "#0d0887"
             ],
             [
              0.1111111111111111,
              "#46039f"
             ],
             [
              0.2222222222222222,
              "#7201a8"
             ],
             [
              0.3333333333333333,
              "#9c179e"
             ],
             [
              0.4444444444444444,
              "#bd3786"
             ],
             [
              0.5555555555555556,
              "#d8576b"
             ],
             [
              0.6666666666666666,
              "#ed7953"
             ],
             [
              0.7777777777777778,
              "#fb9f3a"
             ],
             [
              0.8888888888888888,
              "#fdca26"
             ],
             [
              1,
              "#f0f921"
             ]
            ],
            "type": "histogram2d"
           }
          ],
          "histogram2dcontour": [
           {
            "colorbar": {
             "outlinewidth": 0,
             "ticks": ""
            },
            "colorscale": [
             [
              0,
              "#0d0887"
             ],
             [
              0.1111111111111111,
              "#46039f"
             ],
             [
              0.2222222222222222,
              "#7201a8"
             ],
             [
              0.3333333333333333,
              "#9c179e"
             ],
             [
              0.4444444444444444,
              "#bd3786"
             ],
             [
              0.5555555555555556,
              "#d8576b"
             ],
             [
              0.6666666666666666,
              "#ed7953"
             ],
             [
              0.7777777777777778,
              "#fb9f3a"
             ],
             [
              0.8888888888888888,
              "#fdca26"
             ],
             [
              1,
              "#f0f921"
             ]
            ],
            "type": "histogram2dcontour"
           }
          ],
          "mesh3d": [
           {
            "colorbar": {
             "outlinewidth": 0,
             "ticks": ""
            },
            "type": "mesh3d"
           }
          ],
          "parcoords": [
           {
            "line": {
             "colorbar": {
              "outlinewidth": 0,
              "ticks": ""
             }
            },
            "type": "parcoords"
           }
          ],
          "pie": [
           {
            "automargin": true,
            "type": "pie"
           }
          ],
          "scatter": [
           {
            "fillpattern": {
             "fillmode": "overlay",
             "size": 10,
             "solidity": 0.2
            },
            "type": "scatter"
           }
          ],
          "scatter3d": [
           {
            "line": {
             "colorbar": {
              "outlinewidth": 0,
              "ticks": ""
             }
            },
            "marker": {
             "colorbar": {
              "outlinewidth": 0,
              "ticks": ""
             }
            },
            "type": "scatter3d"
           }
          ],
          "scattercarpet": [
           {
            "marker": {
             "colorbar": {
              "outlinewidth": 0,
              "ticks": ""
             }
            },
            "type": "scattercarpet"
           }
          ],
          "scattergeo": [
           {
            "marker": {
             "colorbar": {
              "outlinewidth": 0,
              "ticks": ""
             }
            },
            "type": "scattergeo"
           }
          ],
          "scattergl": [
           {
            "marker": {
             "colorbar": {
              "outlinewidth": 0,
              "ticks": ""
             }
            },
            "type": "scattergl"
           }
          ],
          "scattermapbox": [
           {
            "marker": {
             "colorbar": {
              "outlinewidth": 0,
              "ticks": ""
             }
            },
            "type": "scattermapbox"
           }
          ],
          "scatterpolar": [
           {
            "marker": {
             "colorbar": {
              "outlinewidth": 0,
              "ticks": ""
             }
            },
            "type": "scatterpolar"
           }
          ],
          "scatterpolargl": [
           {
            "marker": {
             "colorbar": {
              "outlinewidth": 0,
              "ticks": ""
             }
            },
            "type": "scatterpolargl"
           }
          ],
          "scatterternary": [
           {
            "marker": {
             "colorbar": {
              "outlinewidth": 0,
              "ticks": ""
             }
            },
            "type": "scatterternary"
           }
          ],
          "surface": [
           {
            "colorbar": {
             "outlinewidth": 0,
             "ticks": ""
            },
            "colorscale": [
             [
              0,
              "#0d0887"
             ],
             [
              0.1111111111111111,
              "#46039f"
             ],
             [
              0.2222222222222222,
              "#7201a8"
             ],
             [
              0.3333333333333333,
              "#9c179e"
             ],
             [
              0.4444444444444444,
              "#bd3786"
             ],
             [
              0.5555555555555556,
              "#d8576b"
             ],
             [
              0.6666666666666666,
              "#ed7953"
             ],
             [
              0.7777777777777778,
              "#fb9f3a"
             ],
             [
              0.8888888888888888,
              "#fdca26"
             ],
             [
              1,
              "#f0f921"
             ]
            ],
            "type": "surface"
           }
          ],
          "table": [
           {
            "cells": {
             "fill": {
              "color": "#EBF0F8"
             },
             "line": {
              "color": "white"
             }
            },
            "header": {
             "fill": {
              "color": "#C8D4E3"
             },
             "line": {
              "color": "white"
             }
            },
            "type": "table"
           }
          ]
         },
         "layout": {
          "annotationdefaults": {
           "arrowcolor": "#2a3f5f",
           "arrowhead": 0,
           "arrowwidth": 1
          },
          "autotypenumbers": "strict",
          "coloraxis": {
           "colorbar": {
            "outlinewidth": 0,
            "ticks": ""
           }
          },
          "colorscale": {
           "diverging": [
            [
             0,
             "#8e0152"
            ],
            [
             0.1,
             "#c51b7d"
            ],
            [
             0.2,
             "#de77ae"
            ],
            [
             0.3,
             "#f1b6da"
            ],
            [
             0.4,
             "#fde0ef"
            ],
            [
             0.5,
             "#f7f7f7"
            ],
            [
             0.6,
             "#e6f5d0"
            ],
            [
             0.7,
             "#b8e186"
            ],
            [
             0.8,
             "#7fbc41"
            ],
            [
             0.9,
             "#4d9221"
            ],
            [
             1,
             "#276419"
            ]
           ],
           "sequential": [
            [
             0,
             "#0d0887"
            ],
            [
             0.1111111111111111,
             "#46039f"
            ],
            [
             0.2222222222222222,
             "#7201a8"
            ],
            [
             0.3333333333333333,
             "#9c179e"
            ],
            [
             0.4444444444444444,
             "#bd3786"
            ],
            [
             0.5555555555555556,
             "#d8576b"
            ],
            [
             0.6666666666666666,
             "#ed7953"
            ],
            [
             0.7777777777777778,
             "#fb9f3a"
            ],
            [
             0.8888888888888888,
             "#fdca26"
            ],
            [
             1,
             "#f0f921"
            ]
           ],
           "sequentialminus": [
            [
             0,
             "#0d0887"
            ],
            [
             0.1111111111111111,
             "#46039f"
            ],
            [
             0.2222222222222222,
             "#7201a8"
            ],
            [
             0.3333333333333333,
             "#9c179e"
            ],
            [
             0.4444444444444444,
             "#bd3786"
            ],
            [
             0.5555555555555556,
             "#d8576b"
            ],
            [
             0.6666666666666666,
             "#ed7953"
            ],
            [
             0.7777777777777778,
             "#fb9f3a"
            ],
            [
             0.8888888888888888,
             "#fdca26"
            ],
            [
             1,
             "#f0f921"
            ]
           ]
          },
          "colorway": [
           "#636efa",
           "#EF553B",
           "#00cc96",
           "#ab63fa",
           "#FFA15A",
           "#19d3f3",
           "#FF6692",
           "#B6E880",
           "#FF97FF",
           "#FECB52"
          ],
          "font": {
           "color": "#2a3f5f"
          },
          "geo": {
           "bgcolor": "white",
           "lakecolor": "white",
           "landcolor": "#E5ECF6",
           "showlakes": true,
           "showland": true,
           "subunitcolor": "white"
          },
          "hoverlabel": {
           "align": "left"
          },
          "hovermode": "closest",
          "mapbox": {
           "style": "light"
          },
          "paper_bgcolor": "white",
          "plot_bgcolor": "#E5ECF6",
          "polar": {
           "angularaxis": {
            "gridcolor": "white",
            "linecolor": "white",
            "ticks": ""
           },
           "bgcolor": "#E5ECF6",
           "radialaxis": {
            "gridcolor": "white",
            "linecolor": "white",
            "ticks": ""
           }
          },
          "scene": {
           "xaxis": {
            "backgroundcolor": "#E5ECF6",
            "gridcolor": "white",
            "gridwidth": 2,
            "linecolor": "white",
            "showbackground": true,
            "ticks": "",
            "zerolinecolor": "white"
           },
           "yaxis": {
            "backgroundcolor": "#E5ECF6",
            "gridcolor": "white",
            "gridwidth": 2,
            "linecolor": "white",
            "showbackground": true,
            "ticks": "",
            "zerolinecolor": "white"
           },
           "zaxis": {
            "backgroundcolor": "#E5ECF6",
            "gridcolor": "white",
            "gridwidth": 2,
            "linecolor": "white",
            "showbackground": true,
            "ticks": "",
            "zerolinecolor": "white"
           }
          },
          "shapedefaults": {
           "line": {
            "color": "#2a3f5f"
           }
          },
          "ternary": {
           "aaxis": {
            "gridcolor": "white",
            "linecolor": "white",
            "ticks": ""
           },
           "baxis": {
            "gridcolor": "white",
            "linecolor": "white",
            "ticks": ""
           },
           "bgcolor": "#E5ECF6",
           "caxis": {
            "gridcolor": "white",
            "linecolor": "white",
            "ticks": ""
           }
          },
          "title": {
           "x": 0.05
          },
          "xaxis": {
           "automargin": true,
           "gridcolor": "white",
           "linecolor": "white",
           "ticks": "",
           "title": {
            "standoff": 15
           },
           "zerolinecolor": "white",
           "zerolinewidth": 2
          },
          "yaxis": {
           "automargin": true,
           "gridcolor": "white",
           "linecolor": "white",
           "ticks": "",
           "title": {
            "standoff": 15
           },
           "zerolinecolor": "white",
           "zerolinewidth": 2
          }
         }
        }
       }
      }
     },
     "metadata": {},
     "output_type": "display_data"
    }
   ],
   "source": [
    "# Graficar los embedddings en 3D\n",
    "\n",
    "vecs, labels = reduce_dimensions(w2v_model,3)\n",
    "\n",
    "fig = px.scatter_3d(x=vecs[:MAX_WORDS,0], y=vecs[:MAX_WORDS,1], z=vecs[:MAX_WORDS,2],text=labels[:MAX_WORDS])\n",
    "fig.update_traces(marker_size = 2)\n",
    "fig.show() # esto para plotly en colab"
   ]
  },
  {
   "cell_type": "code",
   "execution_count": 30,
   "metadata": {},
   "outputs": [],
   "source": [
    "# También se pueden guardar los vectores y labels como tsv para graficar en\n",
    "# http://projector.tensorflow.org/\n",
    "\n",
    "\n",
    "vectors = np.asarray(w2v_model.wv.vectors)\n",
    "labels = list(w2v_model.wv.index_to_key)\n",
    "\n",
    "np.savetxt(\"vectors.tsv\", vectors, delimiter=\"\\t\")\n",
    "\n",
    "with open(\"labels.tsv\", \"w\") as fp:\n",
    "    for item in labels:\n",
    "        fp.write(\"%s\\n\" % item)"
   ]
  },
  {
   "cell_type": "code",
   "execution_count": null,
   "metadata": {},
   "outputs": [],
   "source": [
    "# También se pueden guardar los vectores y labels como tsv para graficar en\n",
    "# http://projector.tensorflow.org/\n",
    "\n",
    "\n",
    "vectors = np.asarray(w2v_model.wv.vectors)\n",
    "labels = list(w2v_model.wv.index_to_key)\n",
    "\n",
    "np.savetxt(\"vectors.tsv\", vectors, delimiter=\"\\t\")\n",
    "\n",
    "with open(\"labels.tsv\", \"w\") as fp:\n",
    "    for item in labels:\n",
    "        fp.write(\"%s\\n\" % item)"
   ]
  },
  {
   "cell_type": "markdown",
   "metadata": {
    "id": "yMM_SHSaZ9N-"
   },
   "source": [
    "### Alumno"
   ]
  },
  {
   "cell_type": "markdown",
   "metadata": {
    "id": "WivQZ3ZCZ9N_"
   },
   "source": [
    "- Crear sus propios vectores con Gensim basado en lo visto en clase con otro dataset.\n",
    "- Probar términos de interés y explicar similitudes en el espacio de embeddings (sacar conclusiones entre palabras similitudes y diferencias).\n",
    "- Graficarlos.\n",
    "- Obtener conclusiones."
   ]
  }
 ],
 "metadata": {
  "colab": {
   "collapsed_sections": [],
   "provenance": []
  },
  "kernelspec": {
   "display_name": "Python 3 (ipykernel)",
   "language": "python",
   "name": "python3"
  },
  "language_info": {
   "codemirror_mode": {
    "name": "ipython",
    "version": 3
   },
   "file_extension": ".py",
   "mimetype": "text/x-python",
   "name": "python",
   "nbconvert_exporter": "python",
   "pygments_lexer": "ipython3",
   "version": "3.10.13"
  }
 },
 "nbformat": 4,
 "nbformat_minor": 4
}
