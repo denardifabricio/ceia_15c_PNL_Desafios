{
 "cells": [
  {
   "cell_type": "markdown",
   "metadata": {},
   "source": [
    "<img src=\"https://github.com/hernancontigiani/ceia_memorias_especializacion/raw/master/Figures/logoFIUBA.jpg\" width=\"500\" align=\"center\">\n",
    "\n",
    "# Desafío 3\n",
    "\n",
    "# En Desarrollo\n",
    "\n",
    "\n",
    "## Alumno\n",
    "Denardi, Fabricio\n",
    "\n",
    "## Cohorte\n",
    "15-2024\n",
    "\n",
    "# Procesamiento de lenguaje natural\n",
    "Este TP lo voy a dividir en 2 sub notebooks, en desfio_3_modelo_lenguaje_natural_char.ipynb voy a trabajar con un modelo de lenguaje natural basado en caracteres y en desafio_3_modelo_lenguaje_natural_word.ipynb voy a trabajar con un modelo de lenguaje natural basado en palabras.\n",
    "\n",
    "Fue dividido en 2 notebooks para facilitar su lectura y correción.\n",
    "\n",
    "## Dataset\n",
    "Voy a utilizar el mismo dataset elegido en el desafío anterior. Es decir un conjunto de recetas de cocina.\n"
   ]
  }
 ],
 "metadata": {
  "kernelspec": {
   "display_name": "Fabricio",
   "language": "python",
   "name": "python3"
  },
  "language_info": {
   "codemirror_mode": {
    "name": "ipython",
    "version": 3
   },
   "file_extension": ".py",
   "mimetype": "text/x-python",
   "name": "python",
   "nbconvert_exporter": "python",
   "pygments_lexer": "ipython3",
   "version": "3.10.13"
  }
 },
 "nbformat": 4,
 "nbformat_minor": 2
}
