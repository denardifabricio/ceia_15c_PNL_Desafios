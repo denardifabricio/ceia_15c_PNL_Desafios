{
 "cells": [
  {
   "cell_type": "markdown",
   "metadata": {},
   "source": [
    "# Modelo de lenguaje con tokenización por palabras"
   ]
  },
  {
   "cell_type": "markdown",
   "metadata": {},
   "source": [
    "## Consigna\n",
    "- Seleccionar un corpus de texto sobre el cual entrenar el modelo de lenguaje.\n",
    "- Realizar el pre-procesamiento adecuado para tokenizar el corpus, estructurar el dataset y separar entre datos de entrenamiento y validación.\n",
    "- Proponer arquitecturas de redes neuronales basadas en unidades recurrentes para implementar un modelo de lenguaje.\n",
    "- Con el o los modelos que consideren adecuados, generar nuevas secuencias a partir de secuencias de contexto con las estrategias de greedy search y beam search determístico y estocástico. En este último caso observar el efecto de la temperatura en la generación de secuencias.\n",
    "\n",
    "\n",
    "### Sugerencias\n",
    "- Durante el entrenamiento, guiarse por el descenso de la perplejidad en los datos de validación para finalizar el entrenamiento. Para ello se provee un callback.\n",
    "- Explorar utilizar SimpleRNN (celda de Elman), LSTM y GRU.\n",
    "- rmsprop es el optimizador recomendado para la buena convergencia. No obstante se pueden explorar otros."
   ]
  },
  {
   "cell_type": "code",
   "execution_count": 67,
   "metadata": {},
   "outputs": [],
   "source": [
    "import os\n",
    "import random\n",
    "\n",
    "\n",
    "import numpy as np\n",
    "import pandas as pd\n",
    "import matplotlib.pyplot as plt\n",
    "from sklearn.model_selection import train_test_split\n",
    "\n",
    "import seaborn as sns\n",
    "\n",
    "from tensorflow import keras\n",
    "from tensorflow.keras import layers\n",
    "from keras.utils import to_categorical\n",
    "from keras.models import Sequential\n",
    "from keras.layers import Dense, LSTM, Embedding, Dropout\n",
    "from tensorflow.keras.losses import SparseCategoricalCrossentropy\n",
    "\n",
    "# Usaremos las utilidades de procesamiento de textos y secuencias de Keras\n",
    "from tensorflow.keras.preprocessing.text import Tokenizer # equivalente a ltokenizer de nltk\n",
    "from tensorflow.keras.preprocessing.text import text_to_word_sequence # equivalente a word_tokenize de nltk\n",
    "from tensorflow.keras.utils import pad_sequences # se utilizará para padding\n"
   ]
  },
  {
   "cell_type": "code",
   "execution_count": 62,
   "metadata": {},
   "outputs": [],
   "source": [
    "RANDOM_SEED = 5440\n",
    "BATCH_SIZE = 32"
   ]
  },
  {
   "cell_type": "markdown",
   "metadata": {},
   "source": [
    "Así como lo hicimos en el desafío anterior, buscamos las diferentes recetas del mismo. Para simplificar el desarrollo del TP, voy a replicar algunas funciones, aunque la idea en un entorno producitvo es tener locaciones comunes, librerías estandars de recupero y manipulación de la información."
   ]
  },
  {
   "cell_type": "code",
   "execution_count": 4,
   "metadata": {},
   "outputs": [],
   "source": [
    "def get_recipes_files(folder_paths):\n",
    "    files = []\n",
    "    for folder_path in folder_paths:\n",
    "        files.extend([os.path.join(folder_path, file) for file in os.listdir(folder_path) if file.endswith('.txt') or file.endswith('.md')])\n",
    "    return files"
   ]
  },
  {
   "cell_type": "code",
   "execution_count": 5,
   "metadata": {},
   "outputs": [
    {
     "name": "stdout",
     "output_type": "stream",
     "text": [
      "All files:\n",
      "['../Desafio 2/recipes_1/almonds.txt', '../Desafio 2/recipes_1/fava.txt', '../Desafio 2/recipes_1/squares.txt', '../Desafio 2/recipes_1/recipes2.txt', '../Desafio 2/recipes_1/brownies.txt', '../Desafio 2/recipes_1/pannacotta.txt', '../Desafio 2/recipes_1/bruschetta.txt', '../Desafio 2/recipes_1/sweet_potato_pie.txt', '../Desafio 2/recipes_1/sorbet.txt', '../Desafio 2/recipes_1/cauli.txt', '../Desafio 2/recipes_1/tart.txt', '../Desafio 2/recipes_1/cornbread.txt', '../Desafio 2/recipes_2/crispy-beef-with-egg-fried-rice.md', '../Desafio 2/recipes_2/classic-duck-breast.md', '../Desafio 2/recipes_2/crispy-sesame-chicken.md', '../Desafio 2/recipes_2/tomato-pasta.md', '../Desafio 2/recipes_2/beef-stroganoff.md', '../Desafio 2/recipes_2/carrot-cake.md', '../Desafio 2/recipes_2/cacio-e-peppe.md', '../Desafio 2/recipes_2/pizza-sauce.md', '../Desafio 2/recipes_2/tagliatelle-with-broccoli-cauliflower-and-blue-cheese.md', '../Desafio 2/recipes_2/pizza-dogs.md', '../Desafio 2/recipes_2/meatballs.md', '../Desafio 2/recipes_2/chicken-balmoral.md', '../Desafio 2/recipes_2/chicken-broth-soup.md', '../Desafio 2/recipes_2/thai-green-curry.md', '../Desafio 2/recipes_2/blueberry-and-raspberry-muffins.md', '../Desafio 2/recipes_2/prawn-pad-thai.md', '../Desafio 2/recipes_2/toad-in-the-hole.md', '../Desafio 2/recipes_2/garlic-dough-balls.md', '../Desafio 2/recipes_2/school-fudge-tart.md', '../Desafio 2/recipes_2/haggis-tatties.md', '../Desafio 2/recipes_2/espresso-martini.md', '../Desafio 2/recipes_2/clover-club.md', '../Desafio 2/recipes_2/whiskey-sour.md', '../Desafio 2/recipes_2/mums-delicious-chocolate-brownies.md', '../Desafio 2/recipes_2/stuffed-bell-peppers.md', '../Desafio 2/recipes_2/fish-pie.md', '../Desafio 2/recipes_2/sticky-salmon-with-broccoli.md', '../Desafio 2/recipes_2/chicken-pasta-bake.md', '../Desafio 2/recipes_2/cauliflower-cheese.md', '../Desafio 2/recipes_2/crispy-honey-chicken.md', '../Desafio 2/recipes_2/tomato-garlic-and-prawn-pasta.md', '../Desafio 2/recipes_2/green-pea-chowder.md', '../Desafio 2/recipes_2/béchamel-sauce.md', '../Desafio 2/recipes_2/granddads-carrot-soup.md', '../Desafio 2/recipes_2/beef-and-broccoli-stir-fry.md', '../Desafio 2/recipes_2/sausage-and-bean-hotpot.md', '../Desafio 2/recipes_2/chicken-carbonara.md', '../Desafio 2/recipes_2/prawn-alfredo.md', '../Desafio 2/recipes_2/steak-pinwheels.md', '../Desafio 2/recipes_2/chicken-katsu-curry.md', '../Desafio 2/recipes_2/creamy-garlic-chicken.md', '../Desafio 2/recipes_2/roasted-pepper-pasta.md', '../Desafio 2/recipes_2/bbq-halloumi.md', '../Desafio 2/recipes_2/yorkshire-puddings.md', '../Desafio 2/recipes_2/bosnian-stuffed-peppers-punjene-paprike-.md', '../Desafio 2/recipes_2/warm-salmon-beetroot-freekeh-salad.md', '../Desafio 2/recipes_2/mediterranean-chicken-traybake.md', '../Desafio 2/recipes_2/chicken-schnitzel-.md', '../Desafio 2/recipes_2/grilled-steak-ratatouille-and-saffron-rice.md', '../Desafio 2/recipes_2/cinnamon-swirls.md', '../Desafio 2/recipes_2/chicken-piccata.md', '../Desafio 2/recipes_2/banana-milkshake.md', '../Desafio 2/recipes_2/pesto-tagliatelle-with-sea-bass.md', '../Desafio 2/recipes_2/lamb-rogan-josh.md', '../Desafio 2/recipes_2/tandoori-chicken.md', '../Desafio 2/recipes_2/charred-onion-whipped-feta-flatbreads.md', '../Desafio 2/recipes_2/halloumi-pasta-salad.md', '../Desafio 2/recipes_2/rocket-salad.md', '../Desafio 2/recipes_2/strawberry-and-banana-dessert-pizza-with-a-cookie-base.md', '../Desafio 2/recipes_2/smoked-haddock-risotto.md', '../Desafio 2/recipes_2/creamy-smoked-salmon-pasta.md', '../Desafio 2/recipes_2/chicken-gyoza.md', '../Desafio 2/recipes_2/chicken-kiev-pasta.md', '../Desafio 2/recipes_2/beef-and-guinness-stew.md', '../Desafio 2/recipes_2/margherita-pizza.md', '../Desafio 2/recipes_2/whisky-haggis-sauce.md', '../Desafio 2/recipes_2/bosnian-stuffed-peppers-punjene-paprike.md', '../Desafio 2/recipes_2/mash-potato.md']\n"
     ]
    }
   ],
   "source": [
    "folder_paths = ['../Desafio 2/recipes_1', '../Desafio 2/recipes_2']\n",
    "all_files = get_recipes_files(folder_paths)\n",
    "print(\"All files:\")\n",
    "print(all_files)"
   ]
  },
  {
   "cell_type": "code",
   "execution_count": 6,
   "metadata": {},
   "outputs": [],
   "source": [
    "# El encoding latin-1 es necesario para leer los archivos de texto. Si no se especifica, se produce un error de UnicodeDecodeError:\n",
    "# UnicodeDecodeError: 'utf-8' codec can't decode byte 0xe9 in position 2: invalid continuation byte\n",
    "df_recipes = pd.DataFrame({'recipe': [open(file, encoding='latin-1').read() for file in all_files]})"
   ]
  },
  {
   "cell_type": "code",
   "execution_count": 7,
   "metadata": {},
   "outputs": [
    {
     "name": "stdout",
     "output_type": "stream",
     "text": [
      "Cantidad de documentos: 80\n"
     ]
    }
   ],
   "source": [
    "print(\"Cantidad de documentos:\", df_recipes.shape[0])"
   ]
  },
  {
   "cell_type": "code",
   "execution_count": 8,
   "metadata": {},
   "outputs": [
    {
     "data": {
      "text/html": [
       "<div>\n",
       "<style scoped>\n",
       "    .dataframe tbody tr th:only-of-type {\n",
       "        vertical-align: middle;\n",
       "    }\n",
       "\n",
       "    .dataframe tbody tr th {\n",
       "        vertical-align: top;\n",
       "    }\n",
       "\n",
       "    .dataframe thead th {\n",
       "        text-align: right;\n",
       "    }\n",
       "</style>\n",
       "<table border=\"1\" class=\"dataframe\">\n",
       "  <thead>\n",
       "    <tr style=\"text-align: right;\">\n",
       "      <th></th>\n",
       "      <th>recipe</th>\n",
       "    </tr>\n",
       "  </thead>\n",
       "  <tbody>\n",
       "    <tr>\n",
       "      <th>0</th>\n",
       "      <td>BLANCHING NUTS: In the case of nuts, especiall...</td>\n",
       "    </tr>\n",
       "    <tr>\n",
       "      <th>1</th>\n",
       "      <td>(fava beans)\\n\\ntreat gently when young and fr...</td>\n",
       "    </tr>\n",
       "    <tr>\n",
       "      <th>2</th>\n",
       "      <td>These are kid tested, mother approved. From Co...</td>\n",
       "    </tr>\n",
       "    <tr>\n",
       "      <th>3</th>\n",
       "      <td>\\nless.\\n\\n1 cup dried split peas 1/2 teaspoon...</td>\n",
       "    </tr>\n",
       "    <tr>\n",
       "      <th>4</th>\n",
       "      <td>Fooder's Brownies (I usually 1/2 the recipe to...</td>\n",
       "    </tr>\n",
       "    <tr>\n",
       "      <th>...</th>\n",
       "      <td>...</td>\n",
       "    </tr>\n",
       "    <tr>\n",
       "      <th>75</th>\n",
       "      <td>---\\ntitle: Beef and Guinness stew\\ndate: 2021...</td>\n",
       "    </tr>\n",
       "    <tr>\n",
       "      <th>76</th>\n",
       "      <td>---\\ntitle: Margherita pizza\\ndate: 2021-07-18...</td>\n",
       "    </tr>\n",
       "    <tr>\n",
       "      <th>77</th>\n",
       "      <td>---\\ntitle: Whisky Haggis sauce\\ndate: 2023-01...</td>\n",
       "    </tr>\n",
       "    <tr>\n",
       "      <th>78</th>\n",
       "      <td>---\\ntitle: Bosnian Stuffed Peppers (Punjene P...</td>\n",
       "    </tr>\n",
       "    <tr>\n",
       "      <th>79</th>\n",
       "      <td>---\\ntitle: Mash potato\\ndate: 2021-08-02T13:4...</td>\n",
       "    </tr>\n",
       "  </tbody>\n",
       "</table>\n",
       "<p>80 rows × 1 columns</p>\n",
       "</div>"
      ],
      "text/plain": [
       "                                               recipe\n",
       "0   BLANCHING NUTS: In the case of nuts, especiall...\n",
       "1   (fava beans)\\n\\ntreat gently when young and fr...\n",
       "2   These are kid tested, mother approved. From Co...\n",
       "3   \\nless.\\n\\n1 cup dried split peas 1/2 teaspoon...\n",
       "4   Fooder's Brownies (I usually 1/2 the recipe to...\n",
       "..                                                ...\n",
       "75  ---\\ntitle: Beef and Guinness stew\\ndate: 2021...\n",
       "76  ---\\ntitle: Margherita pizza\\ndate: 2021-07-18...\n",
       "77  ---\\ntitle: Whisky Haggis sauce\\ndate: 2023-01...\n",
       "78  ---\\ntitle: Bosnian Stuffed Peppers (Punjene P...\n",
       "79  ---\\ntitle: Mash potato\\ndate: 2021-08-02T13:4...\n",
       "\n",
       "[80 rows x 1 columns]"
      ]
     },
     "execution_count": 8,
     "metadata": {},
     "output_type": "execute_result"
    }
   ],
   "source": [
    "df_recipes"
   ]
  },
  {
   "cell_type": "markdown",
   "metadata": {},
   "source": [
    "Con esto me estoy asegurando que voy a trabajar con los mismos 80 documentos que el TP anterior."
   ]
  },
  {
   "cell_type": "code",
   "execution_count": 15,
   "metadata": {},
   "outputs": [
    {
     "name": "stdout",
     "output_type": "stream",
     "text": [
      "Algunos ejemplos ['BLANCHING NUTS: In the case of nuts, especially with almonds, pistachios ', 'and hazelnuts, in addition to the tough outer husk, they have a thin inner ', 'lining which needs to be removed. This lining can be bitter and somewhat ', 'unattractive when found in confection and baked goods. Blanching can be a ', 'time consuming process. Think about  purchasing them already blanched and ', 'skinned. Nuts can then be chopped and then toasted, if desired.', '', 'ALMONDS:\\t', 'Shell almonds and place them in a saucepan. Cover them with water.  ', '']\n",
      "Cantidad de líneas: 6462\n"
     ]
    }
   ],
   "source": [
    "def split_recipes_into_lines(df, column_name):\n",
    "    \"\"\"\n",
    "    Esta función toma un DataFrame y el nombre de una columna que contiene recetas.\n",
    "    Devuelve una lista donde cada elemento es un renglón de las recetas.\n",
    "    \"\"\"\n",
    "    lines = []\n",
    "    for recipe in df[column_name]:\n",
    "        lines.extend(recipe.split('\\n'))\n",
    "    return lines\n",
    "\n",
    "# Uso de la función\n",
    "recipe_lines = split_recipes_into_lines(df_recipes, 'recipe')\n",
    "print(\"Algunos ejemplos\",recipe_lines[:10])\n",
    "\n",
    "print(\"Cantidad de líneas:\", len(recipe_lines))"
   ]
  },
  {
   "cell_type": "code",
   "execution_count": 16,
   "metadata": {},
   "outputs": [],
   "source": [
    "# segmentamos el texto con la utilidad de Keras\n",
    "segmented_sentences = [text_to_word_sequence(sentence) for sentence in recipe_lines]"
   ]
  },
  {
   "cell_type": "markdown",
   "metadata": {},
   "source": [
    "Comparamos ahora entonces alguna entrada randmom. El objetivo es ver como se ha segmentado una línea de las recetas."
   ]
  },
  {
   "cell_type": "code",
   "execution_count": 36,
   "metadata": {},
   "outputs": [
    {
     "name": "stdout",
     "output_type": "stream",
     "text": [
      "soft, about 14 minutes. Using slotted spoon, transfer vegetables to \n",
      "['soft', 'about', '14', 'minutes', 'using', 'slotted', 'spoon', 'transfer', 'vegetables', 'to']\n"
     ]
    }
   ],
   "source": [
    "random_idx = random.randint(0, len(segmented_sentences))\n",
    "print(recipe_lines[random_idx])\n",
    "print(segmented_sentences[random_idx])"
   ]
  },
  {
   "cell_type": "markdown",
   "metadata": {},
   "source": [
    "#### Histograma\n",
    "Vamos a evaluar el histograma de las longitud de las secuencias que nos permitirán buscar el hiperparámetro deseado."
   ]
  },
  {
   "cell_type": "code",
   "execution_count": 22,
   "metadata": {},
   "outputs": [
    {
     "name": "stdout",
     "output_type": "stream",
     "text": [
      "[11, 14, 13, 12, 10, 11, 0, 1, 12, 0, 13, 0, 13, 13, 12, 0, 14, 14, 1, 0, 0, 0, 4, 0, 2, 0, 2, 7, 3, 0, 5, 0, 5, 6, 6, 4, 0, 13, 2, 0, 15, 3, 0, 0, 0, 8, 0, 15, 17, 11, 0, 0, 0, 0, 0, 2, 0, 12, 0, 6, 0, 7, 0, 15, 15, 15, 2, 0, 13, 0, 16, 5, 0, 15, 13, 6, 0, 6, 0, 13, 0, 14, 15, 15, 15, 15, 14, 14, 14, 12, 12, 13, 1, 0, 9, 0, 12, 15, 7, 0, 12, 0, 10, 16, 14, 14, 15, 14, 14, 14, 15, 14, 13, 14, 5, 0, 13, 0, 6, 0, 0, 14, 16, 14, 1, 0, 5, 0, 0, 0, 0, 0, 0, 2, 6, 6, 6, 12, 6, 6, 5, 8, 0, 0, 0, 14, 13, 16, 17, 1, 14, 15, 11, 1, 0, 15, 12, 15, 14, 12, 9, 0, 14, 8, 0, 14, 15, 10, 0, 10, 0, 3, 0, 1, 5, 3, 4, 0, 1, 3, 4, 5, 6, 4, 5, 4, 4, 0, 5, 0, 14, 14, 13, 11, 14, 8, 0, 14, 12, 13, 13, 1, 0, 0, 6, 0, 0, 0, 0, 2, 0, 13, 1, 0, 1, 4, 3, 5, 0, 1, 6, 2, 5, 5, 2, 0, 0, 17, 15, 14, 14, 6, 0, 13, 11, 11, 13, 13, 1, 0, 0, 0, 3, 0, 0, 7, 5, 13, 2, 5, 6, 8, 5, 2, 0, 16, 13, 12, 10, 0, 14, 14, 7, 0, 11, 0, 2, 0, 2, 2, 5, 0, 0, 1, 0, 19, 14, 0, 16, 12, 0, 15, 7, 0, 17, 8, 0, 4, 0, 0, 0, 6, 0, 15, 14, 18, 4, 0, 12, 0, 18, 17, 16, 9, 0, 19, 3, 0, 2, 0, 15, 15, 15, 14, 4, 0, 13, 15, 6, 0, 11, 0, 3, 0, 0, 0, 18, 18, 12, 0, 15, 14, 11, 0, 16, 14, 13, 6, 0, 16, 14, 6, 0, 13, 13, 0, 5, 0, 0, 0, 14, 12, 18, 2, 0, 15, 15, 16, 21, 16, 0, 0, 0, 4, 0, 16, 15, 0, 1, 0, 15, 14, 13, 0, 17, 14, 0, 17, 3, 0, 17, 0, 0, 0, 4, 0, 3, 0, 2, 0, 17, 16, 17, 1, 0, 16, 14, 8, 0, 6, 0, 18, 18, 8, 0, 18, 17, 14, 0, 18, 19, 19, 14, 0, 15, 4, 0, 0, 0, 16, 18, 6, 0, 15, 15, 16, 19, 13, 1, 0, 10, 0, 16, 16, 0, 20, 16, 17, 17, 0, 0, 0, 9, 0, 8, 0, 17, 18, 14, 18, 17, 18, 15, 18, 17, 0, 17, 14, 12, 0, 0, 0, 4, 0, 0, 76, 0, 15, 3, 7, 6, 5, 0, 34, 0, 60, 0, 41, 0, 85, 0, 23, 0, 3, 0, 3, 2, 1, 0, 0, 0, 0, 0, 10, 47, 0, 9, 120, 0, 9, 86, 0, 9, 53, 0, 10, 45, 0, 0, 0, 3, 0, 0, 13, 0, 5, 4, 7, 8, 0, 62, 0, 2, 0, 0, 0, 0, 5, 0, 0, 106, 0, 9, 0, 3, 3, 6, 1, 3, 0, 97, 0, 24, 0, 26, 0, 4, 0, 9, 39, 0, 9, 41, 0, 9, 26, 0, 9, 66, 0, 0, 0, 0, 11, 0, 16, 17, 14, 5, 0, 11, 13, 16, 3, 0, 4, 0, 4, 6, 5, 4, 8, 6, 0, 17, 6, 0, 17, 0, 19, 14, 16, 15, 18, 16, 9, 0, 6, 0, 0, 0, 0, 3, 10, 12, 11, 10, 10, 1, 6, 4, 4, 5, 6, 5, 4, 4, 4, 4, 3, 5, 5, 4, 4, 0, 1, 12, 8, 10, 8, 11, 8, 0, 0, 0, 0, 3, 0, 0, 15, 13, 15, 10, 15, 9, 9, 6, 7, 0, 12, 0, 6, 0, 0, 0, 3, 0, 4, 0, 2, 7, 2, 0, 0, 5, 0, 5, 6, 5, 2, 3, 7, 4, 4, 5, 9, 3, 0, 0, 13, 11, 14, 11, 13, 6, 0, 4, 2, 2, 2, 3, 0, 1, 8, 10, 6, 9, 0, 12, 9, 0, 5, 6, 8, 6, 0, 0, 0, 11, 0, 18, 0, 3, 6, 4, 3, 3, 4, 6, 3, 6, 6, 4, 4, 5, 0, 5, 0, 5, 0, 3, 0, 3, 0, 3, 0, 5, 0, 6, 0, 8, 0, 6, 0, 0, 0, 1, 0, 10, 0, 8, 0, 7, 5, 0, 2, 0, 2, 0, 6, 0, 7, 0, 5, 0, 4, 0, 6, 0, 1, 0, 6, 0, 25, 0, 67, 0, 60, 0, 21, 0, 6, 0, 0, 0, 4, 44, 0, 5, 0, 0, 5, 4, 5, 4, 11, 15, 5, 5, 6, 4, 0, 50, 0, 74, 0, 6, 0, 0, 0, 4, 0, 8, 4, 8, 13, 3, 4, 4, 5, 13, 1, 34, 32, 22, 33, 0, 0, 4, 3, 0, 7, 5, 6, 4, 5, 4, 5, 6, 4, 5, 5, 4, 5, 2, 0, 6, 8, 6, 8, 9, 6, 6, 6, 7, 4, 0, 7, 7, 10, 8, 7, 7, 8, 6, 0, 6, 9, 10, 2, 0, 7, 0, 8, 9, 7, 9, 3, 0, 4, 0, 0, 0, 2, 0, 18, 11, 0, 15, 0, 4, 3, 5, 5, 4, 4, 3, 3, 4, 3, 0, 6, 0, 13, 13, 12, 0, 15, 1, 0, 15, 1, 0, 0, 0, 8, 0, 5, 9, 18, 5, 4, 15, 8, 5, 17, 15, 6, 10, 13, 3, 0, 108, 0, 53, 0, 144, 0, 5, 0, 0, 0, 0, 11, 0, 7, 6, 4, 8, 4, 3, 3, 7, 3, 5, 0, 95, 0, 0, 0, 12, 0, 1, 3, 6, 3, 7, 12, 0, 1, 49, 0, 15, 0, 4, 6, 6, 4, 4, 5, 4, 5, 5, 4, 3, 0, 12, 9, 0, 11, 12, 12, 14, 0, 15, 14, 13, 1, 0, 4, 0, 8, 0, 1, 0, 0, 0, 2, 9, 0, 3, 5, 5, 3, 3, 4, 4, 0, 14, 13, 12, 12, 17, 10, 0, 3, 0, 0, 0, 5, 0, 11, 11, 5, 3, 4, 4, 4, 11, 0, 16, 8, 0, 14, 11, 1, 0, 13, 14, 14, 8, 0, 14, 15, 1, 0, 0, 0, 14, 0, 15, 12, 8, 0, 2, 0, 6, 4, 4, 3, 2, 3, 3, 3, 0, 14, 12, 12, 16, 13, 13, 3, 0, 1, 0, 0, 0, 2, 0, 3, 4, 3, 4, 4, 4, 0, 14, 11, 12, 14, 15, 7, 0, 16, 13, 3, 0, 0, 0, 13, 0, 15, 14, 14, 13, 0, 2, 0, 9, 0, 13, 0, 9, 11, 3, 4, 4, 7, 4, 5, 10, 0, 15, 17, 5, 0, 16, 13, 10, 0, 14, 12, 7, 0, 12, 13, 16, 4, 0, 12, 13, 11, 0, 10, 0, 0, 0, 6, 0, 0, 0, 8, 0, 14, 14, 15, 5, 0, 5, 4, 0, 4, 8, 4, 4, 5, 5, 5, 11, 3, 4, 0, 7, 0, 15, 13, 13, 12, 14, 13, 12, 15, 13, 14, 14, 13, 11, 0, 12, 13, 13, 15, 1, 0, 6, 0, 0, 0, 17, 0, 11, 13, 10, 15, 12, 8, 0, 4, 4, 5, 5, 4, 4, 6, 7, 8, 0, 14, 12, 0, 14, 11, 14, 10, 0, 13, 14, 13, 12, 15, 10, 0, 14, 13, 12, 0, 13, 14, 15, 13, 16, 9, 0, 6, 0, 0, 0, 4, 0, 9, 8, 3, 0, 8, 4, 4, 5, 5, 3, 7, 9, 0, 17, 14, 0, 17, 11, 14, 11, 0, 14, 15, 11, 0, 13, 8, 0, 14, 0, 5, 0, 0, 0, 6, 0, 14, 14, 0, 10, 4, 3, 2, 4, 15, 4, 4, 0, 5, 0, 13, 14, 9, 0, 13, 12, 5, 0, 12, 5, 0, 16, 13, 12, 0, 0, 0, 3, 0, 7, 4, 5, 2, 3, 3, 5, 0, 5, 0, 11, 0, 12, 12, 0, 13, 6, 0, 0, 0, 2, 4, 0, 0, 2, 2, 4, 4, 3, 4, 0, 0, 0, 0, 6, 6, 3, 4, 5, 4, 5, 4, 5, 5, 0, 15, 0, 14, 11, 4, 0, 15, 13, 13, 15, 4, 0, 0, 0, 0, 8, 0, 41, 4, 16, 2, 5, 15, 3, 3, 4, 0, 12, 0, 17, 3, 0, 6, 0, 0, 0, 14, 0, 3, 26, 0, 12, 6, 0, 17, 2, 0, 16, 11, 0, 15, 4, 0, 74, 0, 11, 3, 0, 2, 4, 2, 0, 0, 0, 6, 0, 0, 0, 9, 0, 24, 0, 5, 4, 4, 2, 3, 5, 3, 0, 3, 0, 13, 16, 13, 2, 0, 13, 3, 0, 4, 0, 10, 0, 0, 0, 6, 0, 0, 0, 2, 0, 7, 5, 3, 4, 5, 7, 3, 6, 0, 10, 0, 14, 11, 0, 14, 13, 11, 0, 14, 14, 11, 0, 15, 13, 14, 0, 16, 2, 0, 0, 15, 0, 0, 0, 7, 0, 1, 0, 11, 11, 3, 7, 5, 9, 4, 4, 0, 0, 15, 16, 3, 0, 14, 13, 4, 0, 14, 11, 0, 13, 7, 0, 15, 12, 13, 8, 0, 4, 0, 8, 0, 8, 0, 4, 3, 5, 4, 0, 15, 14, 16, 15, 14, 12, 13, 0, 6, 0, 0, 0, 16, 0, 5, 0, 4, 5, 6, 5, 4, 9, 0, 14, 14, 12, 13, 0, 17, 13, 11, 11, 4, 0, 15, 15, 16, 16, 3, 0, 16, 15, 4, 0, 6, 0, 0, 0, 0, 4, 0, 12, 12, 11, 13, 0, 1, 0, 1, 0, 5, 0, 5, 0, 4, 0, 1, 0, 6, 0, 4, 0, 9, 0, 3, 0, 7, 0, 12, 13, 14, 12, 15, 12, 12, 9, 0, 13, 3, 0, 15, 12, 13, 0, 10, 11, 0, 14, 13, 15, 5, 0, 4, 0, 4, 0, 24, 0, 3, 2, 4, 0, 31, 0, 29, 0, 29, 0, 94, 0, 16, 3, 49, 5, 1, 0, 5, 0, 8, 0, 4, 0, 7, 0, 4, 0, 6, 0, 8, 0, 4, 0, 37, 0, 36, 0, 14, 0, 32, 0, 23, 0, 23, 0, 2, 0, 24, 0, 32, 0, 3, 16, 0, 3, 4, 0, 0, 2, 2, 4, 6, 5, 4, 0, 0, 9, 6, 7, 5, 5, 3, 1, 8, 5, 4, 0, 4, 0, 49, 0, 9, 0, 54, 0, 15, 0, 0, 0, 11, 0, 7, 7, 5, 5, 4, 8, 4, 6, 4, 4, 0, 10, 28, 5, 18, 2, 0, 8, 0, 6, 0, 0, 0, 0, 7, 0, 3, 5, 10, 4, 5, 4, 4, 5, 4, 5, 5, 8, 5, 47, 23, 0, 0, 0, 0, 0, 7, 0, 2, 7, 4, 5, 4, 3, 4, 10, 8, 2, 8, 0, 2, 3, 3, 4, 0, 8, 0, 2, 11, 0, 88, 0, 64, 0, 4, 0, 51, 0, 8, 46, 0, 37, 0, 4, 1, 2, 0, 0, 0, 0, 0, 3, 0, 12, 0, 12, 14, 2, 0, 11, 3, 5, 2, 5, 3, 4, 8, 6, 5, 4, 3, 5, 0, 14, 10, 11, 12, 0, 12, 11, 10, 7, 0, 15, 13, 14, 3, 0, 14, 12, 0, 0, 0, 3, 0, 10, 0, 11, 9, 5, 0, 14, 14, 1, 0, 7, 0, 12, 12, 14, 10, 13, 8, 0, 6, 0, 15, 5, 0, 0, 0, 8, 0, 7, 2, 3, 0, 5, 3, 2, 4, 4, 4, 4, 1, 4, 5, 3, 2, 4, 1, 4, 0, 12, 12, 12, 6, 0, 13, 11, 9, 12, 3, 0, 14, 11, 11, 12, 13, 12, 14, 11, 0, 12, 10, 12, 13, 14, 14, 1, 6, 0, 1, 0, 0, 0, 0, 4, 0, 6, 9, 5, 4, 9, 0, 16, 15, 14, 15, 12, 15, 8, 0, 0, 0, 3, 0, 10, 8, 0, 4, 4, 8, 9, 5, 0, 13, 14, 1, 0, 12, 12, 5, 0, 12, 14, 14, 4, 0, 9, 0, 4, 3, 3, 5, 0, 13, 14, 5, 0, 7, 0, 0, 0, 3, 0, 0, 11, 3, 0, 6, 10, 5, 0, 13, 12, 10, 11, 14, 8, 0, 2, 0, 2, 2, 0, 6, 9, 13, 0, 9, 0, 6, 6, 8, 8, 3, 4, 4, 3, 5, 5, 4, 0, 13, 12, 13, 8, 0, 2, 0, 12, 12, 0, 7, 0, 6, 0, 0, 0, 10, 0, 5, 0, 4, 0, 6, 5, 3, 3, 4, 4, 3, 7, 5, 0, 12, 0, 15, 11, 0, 15, 7, 0, 15, 13, 11, 7, 0, 13, 13, 0, 16, 18, 11, 0, 6, 0, 0, 0, 12, 0, 15, 7, 0, 2, 0, 5, 3, 5, 3, 4, 4, 5, 4, 5, 0, 13, 9, 0, 15, 14, 11, 1, 0, 12, 6, 0, 15, 8, 0, 15, 8, 0, 13, 13, 6, 0, 9, 0, 6, 0, 0, 0, 8, 0, 11, 12, 14, 5, 0, 4, 4, 4, 3, 0, 5, 0, 4, 3, 11, 0, 9, 0, 16, 16, 8, 0, 9, 0, 6, 0, 0, 0, 9, 0, 3, 14, 15, 8, 0, 12, 0, 4, 3, 3, 3, 4, 4, 4, 4, 2, 3, 9, 7, 4, 15, 6, 14, 5, 14, 3, 18, 2, 0, 9, 6, 1, 0, 0, 6, 0, 3, 0, 0, 6, 4, 5, 6, 3, 5, 4, 4, 4, 3, 3, 4, 0, 15, 4, 0, 10, 12, 12, 6, 0, 14, 9, 0, 0, 7, 6, 2, 3, 10, 8, 2, 1, 1, 3, 2, 2, 3, 2, 2, 2, 6, 2, 0, 0, 6, 0, 48, 0, 25, 0, 3, 4, 4, 4, 0, 1, 0, 3, 0, 7, 9, 4, 4, 0, 1, 0, 3, 21, 15, 3, 0, 1, 0, 4, 5, 3, 3, 4, 3, 6, 0, 1, 0, 8, 7, 6, 6, 4, 4, 0, 1, 0, 7, 11, 10, 14, 9, 18, 12, 23, 16, 15, 17, 19, 10, 25, 9, 10, 14, 16, 0, 1, 0, 14, 0, 1, 0, 17, 16, 0, 0, 0, 4, 6, 3, 10, 5, 2, 1, 1, 3, 4, 3, 0, 0, 3, 0, 32, 0, 1, 0, 4, 3, 0, 1, 0, 6, 15, 7, 26, 30, 14, 23, 13, 19, 0, 1, 0, 23, 0, 1, 0, 14, 0, 14, 0, 14, 0, 14, 0, 14, 0, 14, 0, 1, 0, 18, 0, 1, 0, 1, 1, 1, 0, 0, 4, 6, 2, 4, 4, 4, 3, 10, 5, 1, 4, 3, 2, 2, 0, 0, 3, 0, 2, 4, 4, 6, 0, 1, 0, 1, 3, 3, 3, 4, 2, 4, 4, 0, 2, 0, 3, 2, 3, 4, 0, 1, 0, 11, 4, 3, 4, 5, 3, 4, 5, 0, 1, 0, 9, 13, 12, 13, 26, 16, 14, 0, 1, 0, 16, 0, 16, 0, 1, 0, 1, 0, 1, 0, 6, 0, 0, 3, 6, 2, 3, 10, 4, 2, 1, 1, 3, 2, 3, 0, 0, 2, 0, 3, 4, 4, 4, 0, 1, 0, 4, 4, 2, 5, 6, 4, 3, 0, 1, 0, 18, 6, 16, 13, 9, 0, 1, 0, 1, 0, 1, 0, 1, 1, 0, 0, 3, 6, 2, 3, 10, 4, 2, 1, 1, 3, 3, 2, 4, 0, 0, 2, 0, 3, 4, 4, 4, 0, 1, 0, 4, 3, 4, 3, 3, 4, 4, 3, 4, 3, 3, 0, 1, 0, 40, 18, 21, 9, 27, 27, 28, 10, 12, 0, 1, 0, 14, 0, 1, 0, 7, 0, 0, 3, 6, 2, 3, 10, 4, 1, 2, 3, 2, 3, 2, 0, 0, 2, 0, 2, 4, 4, 4, 0, 1, 0, 6, 2, 5, 4, 4, 6, 4, 4, 5, 3, 7, 8, 4, 4, 0, 3, 0, 4, 3, 2, 3, 4, 0, 1, 0, 6, 7, 9, 12, 8, 12, 11, 0, 3, 0, 11, 9, 22, 10, 17, 0, 1, 0, 22, 0, 1, 0, 14, 0, 14, 0, 14, 0, 14, 0, 14, 0, 1, 0, 12, 0, 0, 4, 6, 2, 3, 10, 5, 2, 1, 1, 3, 2, 3, 3, 3, 0, 0, 3, 0, 28, 0, 2, 4, 4, 4, 0, 1, 0, 2, 8, 7, 4, 0, 1, 0, 35, 56, 32, 48, 61, 33, 0, 1, 0, 18, 0, 1, 0, 14, 0, 14, 0, 1, 0, 1, 0, 0, 3, 6, 3, 10, 4, 1, 3, 2, 2, 6, 0, 0, 2, 0, 1, 0, 19, 8, 3, 9, 7, 0, 1, 0, 15, 9, 20, 8, 0, 1, 0, 9, 0, 1, 0, 1, 0, 1, 0, 1, 0, 0, 8, 6, 2, 3, 10, 9, 2, 1, 1, 3, 2, 3, 3, 5, 0, 0, 7, 0, 33, 0, 2, 4, 4, 4, 0, 1, 0, 4, 3, 3, 4, 3, 3, 0, 1, 0, 10, 15, 13, 9, 17, 12, 12, 10, 10, 0, 1, 0, 14, 0, 14, 0, 14, 0, 14, 0, 14, 0, 0, 0, 0, 3, 6, 3, 10, 4, 1, 2, 3, 2, 3, 2, 4, 0, 0, 2, 0, 1, 0, 2, 2, 1, 4, 2, 2, 3, 0, 1, 0, 14, 0, 1, 0, 1, 0, 0, 2, 6, 2, 3, 10, 3, 2, 1, 1, 3, 3, 3, 3, 0, 0, 1, 0, 69, 0, 83, 0, 18, 0, 2, 4, 4, 4, 0, 1, 0, 3, 4, 5, 4, 4, 4, 4, 3, 3, 5, 0, 2, 0, 2, 2, 4, 3, 4, 4, 0, 1, 0, 6, 15, 13, 12, 17, 23, 27, 11, 0, 3, 0, 9, 14, 20, 16, 23, 0, 1, 0, 14, 0, 1, 0, 1, 0, 1, 1, 0, 0, 3, 6, 2, 4, 4, 4, 3, 10, 4, 2, 1, 1, 3, 4, 2, 0, 0, 2, 0, 2, 4, 4, 4, 0, 1, 0, 4, 11, 4, 7, 2, 0, 1, 0, 7, 74, 31, 41, 60, 17, 40, 23, 29, 0, 1, 0, 15, 0, 1, 0, 13, 0, 1, 0, 1, 1, 0, 0, 0, 4, 6, 2, 3, 10, 5, 1, 4, 3, 2, 3, 2, 2, 0, 0, 3, 0, 74, 0, 2, 4, 4, 4, 0, 1, 0, 6, 6, 4, 4, 3, 4, 5, 3, 0, 1, 0, 19, 11, 28, 7, 21, 6, 22, 7, 33, 16, 14, 23, 0, 1, 0, 14, 0, 0, 4, 6, 2, 3, 10, 5, 1, 2, 3, 4, 4, 3, 2, 2, 3, 0, 0, 3, 0, 115, 0, 22, 0, 132, 0, 2, 4, 4, 4, 0, 1, 0, 4, 5, 4, 4, 4, 4, 4, 4, 4, 7, 5, 11, 12, 2, 8, 4, 0, 1, 0, 33, 55, 12, 14, 12, 10, 24, 9, 0, 1, 0, 1, 0, 1, 0, 18, 13, 0, 0, 5, 6, 2, 3, 10, 6, 1, 2, 3, 4, 2, 3, 3, 0, 0, 4, 0, 3, 4, 4, 4, 0, 1, 0, 7, 3, 2, 3, 4, 4, 4, 3, 11, 11, 0, 1, 0, 20, 14, 11, 13, 12, 8, 35, 20, 0, 1, 0, 26, 0, 1, 0, 14, 0, 1, 0, 12, 0, 0, 4, 6, 2, 3, 10, 5, 2, 1, 1, 3, 3, 3, 2, 2, 0, 0, 3, 0, 43, 21, 35, 0, 3, 4, 4, 4, 0, 1, 0, 3, 5, 10, 6, 4, 4, 5, 15, 0, 1, 0, 4, 4, 5, 5, 3, 3, 4, 3, 0, 2, 0, 4, 5, 3, 2, 0, 1, 0, 1, 0, 12, 15, 0, 2, 0, 12, 18, 16, 11, 9, 11, 21, 14, 29, 20, 5, 0, 1, 0, 15, 0, 1, 0, 14, 0, 14, 0, 14, 0, 14, 0, 1, 0, 15, 16, 0, 0, 5, 6, 2, 3, 10, 6, 2, 1, 1, 3, 2, 0, 0, 4, 0, 44, 0, 45, 0, 2, 4, 4, 4, 0, 1, 0, 9, 2, 2, 2, 4, 4, 4, 4, 4, 2, 3, 2, 2, 2, 0, 1, 0, 6, 9, 26, 11, 12, 16, 9, 13, 9, 18, 18, 9, 21, 9, 12, 16, 6, 0, 1, 0, 1, 0, 1, 0, 1, 0, 0, 4, 6, 3, 10, 5, 2, 1, 2, 1, 2, 3, 4, 4, 0, 0, 3, 0, 1, 0, 4, 3, 4, 5, 4, 0, 1, 0, 8, 0, 1, 0, 14, 0, 1, 0, 11, 11, 13, 12, 0, 1, 0, 1, 1, 0, 0, 4, 6, 3, 10, 5, 2, 1, 1, 3, 3, 2, 2, 0, 0, 3, 0, 12, 0, 1, 0, 1, 0, 3, 2, 10, 2, 0, 1, 0, 2, 2, 2, 3, 4, 3, 0, 1, 0, 22, 8, 15, 18, 30, 8, 10, 6, 0, 1, 0, 7, 0, 1, 0, 14, 0, 1, 0, 16, 0, 0, 3, 6, 2, 4, 4, 4, 3, 10, 4, 1, 3, 3, 2, 0, 0, 2, 0, 2, 4, 4, 4, 0, 1, 0, 1, 1, 2, 3, 6, 3, 0, 1, 0, 1, 0, 12, 0, 3, 0, 15, 6, 13, 18, 15, 12, 9, 10, 11, 9, 22, 8, 0, 13, 0, 12, 16, 17, 10, 24, 0, 1, 0, 15, 0, 1, 0, 19, 0, 1, 0, 1, 0, 0, 3, 6, 3, 10, 4, 1, 3, 3, 2, 2, 4, 0, 0, 2, 0, 1, 0, 1, 1, 3, 3, 5, 0, 1, 0, 18, 0, 1, 0, 8, 0, 1, 0, 14, 0, 1, 0, 1, 1, 0, 0, 3, 6, 3, 10, 4, 1, 3, 3, 4, 3, 2, 2, 3, 2, 0, 0, 2, 0, 1, 0, 2, 3, 4, 4, 3, 3, 0, 1, 0, 18, 10, 8, 16, 0, 1, 0, 14, 0, 1, 0, 6, 0, 0, 3, 6, 3, 10, 4, 1, 3, 3, 2, 2, 4, 0, 0, 2, 0, 1, 0, 4, 11, 3, 3, 0, 1, 0, 15, 18, 19, 0, 1, 0, 8, 6, 27, 0, 1, 0, 14, 0, 1, 0, 1, 0, 0, 5, 6, 2, 3, 10, 6, 2, 1, 1, 2, 3, 4, 3, 2, 0, 0, 4, 0, 3, 4, 4, 4, 0, 1, 0, 13, 10, 3, 4, 6, 2, 3, 3, 0, 1, 0, 5, 17, 16, 22, 16, 16, 23, 10, 0, 1, 0, 14, 0, 14, 0, 14, 0, 14, 0, 1, 0, 13, 0, 0, 4, 6, 2, 3, 10, 5, 2, 1, 1, 3, 0, 0, 3, 0, 3, 4, 4, 4, 0, 1, 0, 8, 3, 3, 7, 5, 4, 4, 4, 4, 5, 4, 0, 1, 0, 19, 47, 20, 33, 53, 29, 0, 1, 0, 10, 0, 1, 0, 1, 0, 0, 3, 6, 2, 3, 10, 4, 2, 1, 1, 3, 3, 3, 0, 0, 2, 0, 2, 4, 4, 4, 0, 1, 0, 7, 5, 5, 3, 5, 17, 6, 4, 3, 4, 7, 0, 1, 0, 11, 27, 22, 31, 39, 41, 15, 29, 0, 1, 0, 14, 0, 14, 0, 0, 0, 5, 6, 2, 4, 4, 4, 3, 10, 6, 1, 2, 4, 3, 6, 0, 0, 4, 0, 2, 4, 4, 4, 0, 1, 0, 10, 5, 4, 3, 4, 4, 2, 6, 6, 0, 1, 0, 6, 34, 20, 45, 10, 18, 0, 1, 34, 0, 1, 0, 17, 0, 1, 0, 22, 0, 0, 0, 0, 4, 6, 2, 3, 10, 5, 2, 1, 1, 3, 3, 4, 4, 0, 0, 3, 0, 2, 4, 4, 4, 0, 1, 0, 4, 4, 4, 4, 6, 4, 3, 6, 3, 4, 3, 4, 0, 1, 0, 23, 12, 11, 14, 28, 10, 14, 20, 7, 11, 0, 1, 0, 14, 0, 1, 0, 13, 14, 0, 1, 2, 0, 0, 0, 0, 3, 6, 2, 3, 10, 4, 2, 2, 1, 2, 3, 3, 2, 0, 0, 2, 0, 7, 0, 2, 4, 4, 4, 0, 1, 0, 3, 2, 2, 2, 2, 4, 0, 1, 0, 12, 8, 8, 17, 16, 0, 1, 0, 1, 0, 1, 0, 1, 1, 0, 0, 4, 6, 2, 4, 4, 4, 3, 10, 5, 2, 1, 1, 4, 2, 2, 0, 0, 3, 0, 2, 4, 4, 4, 0, 1, 0, 4, 6, 5, 2, 4, 0, 1, 0, 3, 3, 4, 3, 3, 2, 5, 0, 1, 0, 2, 4, 5, 0, 1, 0, 10, 12, 8, 6, 16, 7, 10, 0, 1, 0, 16, 0, 16, 0, 16, 0, 16, 0, 16, 0, 1, 0, 18, 9, 0, 1, 0, 1, 0, 0, 6, 6, 2, 4, 4, 4, 3, 10, 7, 2, 1, 1, 3, 3, 4, 3, 3, 2, 0, 0, 5, 0, 40, 0, 55, 0, 14, 0, 18, 0, 18, 0, 18, 0, 18, 0, 18, 0, 18, 0, 2, 4, 4, 4, 0, 1, 0, 1, 10, 5, 4, 4, 4, 4, 4, 4, 5, 2, 4, 3, 0, 1, 0, 17, 13, 18, 9, 20, 11, 11, 9, 13, 0, 1, 0, 18, 0, 0, 4, 6, 2, 4, 4, 3, 10, 5, 1, 2, 2, 0, 0, 3, 0, 65, 0, 2, 4, 4, 4, 0, 1, 0, 3, 3, 2, 4, 3, 3, 4, 3, 2, 0, 1, 0, 12, 12, 11, 10, 14, 0, 1, 0, 16, 0, 0, 0, 3, 6, 3, 10, 4, 1, 3, 3, 2, 2, 0, 0, 2, 0, 1, 0, 2, 2, 2, 5, 3, 1, 0, 1, 0, 7, 11, 9, 17, 5, 8, 0, 0, 4, 6, 2, 3, 10, 5, 2, 1, 1, 2, 3, 2, 3, 2, 0, 0, 3, 0, 2, 4, 4, 4, 0, 1, 0, 3, 5, 5, 4, 3, 4, 3, 4, 4, 5, 0, 1, 0, 11, 12, 22, 18, 19, 10, 51, 12, 11, 17, 0, 1, 0, 14, 0, 14, 0, 0, 6, 6, 2, 3, 10, 7, 2, 1, 1, 3, 3, 2, 6, 0, 0, 5, 0, 2, 4, 4, 4, 0, 1, 0, 3, 0, 3, 4, 4, 4, 12, 0, 3, 0, 4, 3, 3, 4, 5, 3, 0, 4, 0, 4, 5, 3, 9, 4, 4, 4, 5, 7, 2, 0, 1, 0, 4, 0, 47, 0, 4, 0, 12, 0, 5, 0, 79, 50, 37, 19, 0, 1, 0, 23, 0, 1, 0, 14, 0, 0, 0, 5, 6, 2, 3, 10, 6, 2, 1, 1, 3, 3, 2, 2, 0, 0, 4, 0, 18, 20, 0, 34, 0, 2, 4, 4, 6, 0, 1, 0, 7, 4, 5, 4, 5, 7, 4, 4, 3, 3, 5, 3, 3, 5, 5, 4, 3, 2, 0, 1, 0, 7, 28, 13, 23, 9, 11, 18, 21, 12, 16, 10, 8, 0, 1, 0, 10, 7, 0, 1, 0, 14, 0, 0, 3, 6, 2, 3, 10, 4, 2, 1, 1, 3, 4, 3, 3, 3, 0, 0, 2, 0, 2, 4, 4, 4, 0, 1, 0, 4, 4, 3, 3, 1, 6, 2, 3, 3, 0, 1, 0, 17, 9, 16, 13, 13, 16, 13, 8, 18, 0, 1, 0, 9, 0, 1, 0, 14, 0, 14, 0, 0, 3, 6, 2, 3, 10, 4, 2, 1, 1, 3, 3, 4, 3, 0, 0, 2, 0, 36, 0, 2, 4, 4, 4, 0, 1, 0, 6, 3, 4, 4, 6, 6, 3, 10, 3, 8, 7, 3, 7, 2, 3, 0, 1, 0, 15, 12, 8, 16, 14, 14, 12, 17, 15, 10, 7, 14, 10, 0, 1, 0, 14, 0, 1, 0, 15, 13, 13, 0, 0, 3, 6, 2, 4, 4, 4, 3, 10, 4, 2, 1, 1, 2, 2, 0, 0, 2, 0, 2, 4, 4, 4, 0, 1, 0, 3, 2, 2, 4, 4, 3, 3, 3, 4, 0, 1, 0, 6, 12, 12, 7, 13, 8, 6, 10, 18, 15, 4, 9, 0, 1, 0, 15, 0, 1, 0, 12, 17, 12, 0, 1, 0, 1, 0, 0, 4, 6, 2, 3, 10, 5, 2, 1, 1, 3, 4, 2, 2, 2, 2, 0, 0, 3, 0, 39, 0, 2, 4, 4, 4, 0, 1, 0, 6, 0, 4, 0, 4, 3, 4, 3, 4, 4, 3, 3, 4, 3, 4, 0, 4, 0, 14, 6, 14, 3, 5, 3, 0, 1, 0, 8, 24, 10, 7, 17, 6, 20, 23, 24, 13, 16, 16, 15, 23, 0, 1, 0, 14, 0, 14, 0, 14, 0, 1, 0, 15, 12, 0, 0, 0, 4, 6, 2, 4, 4, 3, 10, 5, 2, 1, 1, 3, 4, 3, 3, 4, 0, 0, 3, 0, 2, 4, 4, 4, 0, 1, 0, 3, 4, 4, 4, 3, 4, 4, 3, 3, 3, 3, 3, 4, 4, 3, 0, 1, 0, 17, 12, 8, 18, 15, 16, 8, 10, 23, 17, 14, 17, 14, 12, 15, 22, 7, 0, 1, 0, 25, 7, 15, 0, 1, 0, 16, 0, 16, 0, 0, 4, 6, 2, 4, 4, 4, 3, 10, 5, 2, 1, 1, 3, 2, 0, 0, 3, 0, 16, 0, 2, 4, 4, 6, 0, 1, 0, 3, 3, 3, 3, 2, 4, 4, 3, 4, 4, 3, 0, 1, 0, 19, 12, 16, 35, 17, 0, 1, 0, 8, 0, 1, 0, 16, 0, 16, 0, 1, 0, 10, 7, 0, 0, 3, 6, 3, 10, 4, 2, 1, 2, 1, 2, 2, 3, 0, 0, 2, 0, 2, 0, 0, 3, 6, 2, 3, 10, 4, 2, 2, 1, 2, 6, 0, 0, 2, 0, 2, 4, 4, 4, 0, 1, 0, 2, 2, 3, 2, 0, 1, 0, 7, 12, 20, 20, 15, 16, 23, 0, 1, 0, 1, 0, 0, 6, 6, 2, 4, 3, 10, 7, 2, 1, 1, 3, 3, 2, 4, 0, 0, 5, 0, 45, 0, 2, 4, 4, 4, 0, 1, 0, 4, 3, 2, 5, 5, 6, 7, 2, 4, 4, 3, 4, 0, 3, 0, 5, 3, 4, 3, 3, 2, 0, 1, 0, 18, 12, 4, 14, 14, 13, 30, 16, 14, 16, 11, 29, 0, 1, 0, 11, 13, 0, 1, 0, 14, 0, 1, 0, 12, 0, 0, 6, 6, 2, 4, 4, 4, 3, 10, 7, 1, 4, 3, 2, 0, 0, 5, 0, 2, 4, 4, 4, 0, 1, 0, 13, 6, 7, 3, 2, 3, 5, 3, 3, 0, 1, 0, 67, 16, 50, 39, 24, 0, 1, 0, 9, 0, 1, 0, 18, 0, 1, 0, 18, 0, 0, 4, 6, 2, 4, 4, 4, 3, 10, 5, 1, 4, 3, 2, 4, 1, 0, 0, 3, 0, 2, 4, 4, 4, 0, 1, 0, 3, 4, 3, 11, 6, 9, 4, 6, 8, 2, 0, 1, 0, 8, 27, 48, 55, 0, 1, 0, 16, 0, 1, 0, 23, 7, 0, 0, 0, 0, 0, 0, 0, 3, 6, 2, 3, 10, 4, 2, 1, 1, 3, 4, 3, 2, 2, 0, 0, 2, 0, 2, 4, 4, 4, 0, 1, 0, 4, 3, 4, 7, 0, 2, 0, 1, 1, 9, 0, 1, 0, 6, 22, 17, 17, 27, 19, 13, 17, 0, 1, 0, 12, 0, 1, 0, 14, 0, 1, 0, 5, 0, 0, 7, 6, 2, 3, 10, 8, 1, 2, 3, 2, 3, 2, 4, 3, 0, 0, 6, 0, 54, 0, 2, 4, 4, 4, 0, 1, 0, 1, 0, 3, 3, 3, 4, 4, 4, 6, 2, 4, 6, 4, 0, 1, 0, 9, 3, 5, 0, 1, 0, 7, 4, 4, 4, 5, 3, 0, 1, 0, 13, 12, 19, 15, 13, 33, 7, 7, 0, 1, 0, 14, 0, 14, 0, 1, 0, 17, 32, 22, 0, 0, 3, 6, 2, 4, 4, 4, 3, 10, 4, 1, 2, 3, 3, 3, 2, 3, 3, 0, 0, 2, 0, 3, 4, 4, 4, 0, 1, 0, 4, 0, 8, 4, 4, 8, 5, 4, 0, 3, 4, 5, 0, 1, 0, 23, 13, 25, 27, 27, 49, 26, 39, 31, 18, 0, 1, 0, 15, 0, 15, 0, 15, 0, 15, 0, 1, 0, 11, 0, 0, 3, 6, 2, 4, 4, 4, 3, 10, 4, 2, 1, 1, 4, 3, 0, 0, 2, 0, 3, 4, 4, 4, 0, 1, 0, 6, 4, 4, 4, 4, 5, 4, 5, 5, 4, 0, 1, 0, 39, 37, 50, 47, 0, 1, 0, 15, 0, 1, 0, 21, 0, 1, 0, 1, 0, 0, 3, 6, 3, 10, 4, 1, 3, 4, 3, 0, 0, 2, 0, 1, 0, 2, 5, 3, 3, 3, 4, 0, 1, 0, 3, 2, 2, 0, 1, 0, 15, 18, 0, 0, 6, 6, 2, 3, 10, 7, 2, 1, 1, 3, 3, 5, 3, 2, 0, 0, 5, 0, 31, 0, 3, 4, 4, 4, 0, 1, 0, 4, 3, 9, 3, 3, 3, 6, 0, 1, 0, 12, 12, 18, 12, 16, 7, 4, 15, 14, 0, 1, 0, 18, 0, 1, 0, 1, 0, 0, 4, 6, 2, 3, 10, 5, 2, 1, 1, 3, 2, 2, 6, 0, 0, 3, 0, 65, 18, 0, 2, 4, 6, 6, 0, 1, 0, 3, 6, 3, 4, 4, 7, 0, 2, 0, 3, 2, 4, 6, 0, 5, 0, 4, 3, 4, 3, 2, 4, 4, 4, 0, 5, 0, 5, 5, 4, 4, 4, 4, 0, 1, 0, 11, 8, 25, 14, 20, 16, 25, 10, 21, 36, 12, 10, 0, 1, 0, 14, 0, 14, 0, 1, 0, 16, 0, 0, 3, 6, 2, 3, 10, 4, 2, 1, 1, 4, 3, 2, 3, 2, 6, 4, 5, 0, 0, 2, 0, 4, 8, 4, 4, 0, 1, 0, 6, 6, 4, 4, 6, 4, 0, 1, 0, 3, 4, 4, 3, 4, 4, 6, 5, 4, 4, 3, 4, 4, 5, 21, 0, 1, 0, 18, 22, 32, 11, 9, 38, 15, 14, 17, 26, 13, 17, 0, 1, 0, 15, 0, 1, 0, 14, 0, 1, 0, 1, 1, 0, 0, 6, 6, 2, 3, 10, 7, 2, 1, 1, 2, 3, 4, 4, 3, 4, 3, 0, 0, 5, 0, 3, 4, 4, 6, 0, 1, 0, 9, 5, 7, 4, 6, 8, 7, 2, 3, 4, 0, 1, 0, 64, 58, 16, 70, 0, 1, 0, 15, 14, 0, 1, 0, 14, 0, 14, 0, 14, 0, 1, 0, 1, 0, 0, 4, 6, 3, 10, 5, 1, 3, 3, 3, 2, 6, 4, 0, 0, 3, 0, 16, 0, 16, 0, 1, 0, 7, 4, 8, 7, 5, 5, 9, 3, 2, 5, 5, 6, 5, 3, 0, 1, 0, 15, 9, 18, 9, 16, 7, 16, 6, 0, 1, 0, 4, 12, 7, 9, 9, 0, 1, 0, 7, 0, 0, 3, 6, 3, 10, 4, 2, 2, 1, 3, 2, 3, 3, 2, 2, 3, 0, 0, 2, 0, 11, 0, 1, 0, 1, 2, 3, 2, 3, 0, 1, 0, 14, 0, 0, 0, 10, 6, 3, 10, 11, 2, 1, 1, 4, 3, 3, 2, 3, 0, 0, 9, 0, 50, 0, 1, 0, 5, 3, 2, 7, 16, 6, 7, 4, 0, 1, 0, 7, 25, 31, 11, 14, 7, 12, 19, 0, 1, 0, 22, 0, 22, 0, 22, 0, 1, 1, 0, 0, 4, 6, 2, 3, 10, 5, 2, 1, 1, 2, 4, 2, 0, 0, 3, 0, 3, 4, 4, 4, 0, 1, 0, 3, 3, 6, 3, 4, 12, 3, 3, 4, 4, 5, 3, 0, 1, 0, 15, 27, 12, 25, 17, 16, 42, 30, 12, 28, 19, 15, 0, 1, 0, 7, 0, 1, 0, 14, 0, 14, 0, 14, 0, 14, 0, 14, 0, 1, 0, 16, 0, 0, 5, 6, 2, 3, 10, 6, 2, 1, 1, 3, 4, 3, 3, 5, 6, 0, 0, 4, 0, 39, 0, 2, 4, 4, 4, 0, 1, 0, 4, 4, 4, 3, 3, 5, 6, 6, 3, 0, 1, 0, 9, 9, 11, 6, 10, 22, 9, 14, 12, 0, 1, 0, 10, 0, 1, 0, 14, 0, 14, 0, 1, 0, 10, 19, 16, 19, 0, 0, 3, 6, 2, 3, 10, 4, 2, 1, 1, 3, 2, 2, 6, 2, 2, 0, 0, 2, 0, 3, 4, 4, 4, 0, 1, 0, 1, 0, 3, 3, 3, 0, 4, 0, 3, 2, 5, 7, 4, 2, 4, 4, 5, 4, 6, 4, 0, 4, 0, 8, 8, 1, 3, 7, 6, 4, 0, 1, 0, 1, 0, 19, 55, 26, 31, 0, 4, 0, 19, 21, 39, 0, 1, 0, 24, 15, 7, 0, 5, 0, 14, 19, 8, 0, 3, 0, 27, 27, 12, 22, 27, 6, 0, 1, 0, 25, 0, 1, 0, 10, 11, 0, 1, 0, 1, 0, 0, 4, 6, 2, 4, 4, 4, 3, 10, 5, 1, 3, 3, 4, 3, 3, 2, 0, 0, 3, 0, 30, 0, 2, 4, 4, 4, 0, 1, 0, 7, 1, 1, 4, 4, 1, 3, 0, 1, 0, 11, 17, 9, 4, 18, 11, 9, 10, 14, 0, 1, 0, 16, 0, 1, 0, 16, 0, 1, 0, 1, 1, 0, 0, 0, 0, 0, 0, 0, 0, 0, 0, 0, 5, 6, 2, 3, 10, 6, 2, 1, 1, 3, 5, 4, 2, 0, 0, 4, 0, 2, 4, 4, 6, 0, 1, 0, 3, 4, 3, 3, 3, 4, 3, 4, 3, 3, 3, 0, 1, 0, 9, 10, 5, 11, 10, 13, 0, 1, 0, 10, 0, 1, 0, 14, 0, 14, 0, 1, 0, 1, 0, 0, 3, 6, 3, 10, 4, 1, 2, 2, 4, 0, 0, 2, 0, 1, 0, 6, 2, 3, 1, 2, 0, 1, 0, 1, 0, 1, 0, 1, 1, 0, 0, 4, 6, 2, 4, 4, 4, 3, 10, 5, 1, 2, 2, 2, 0, 0, 3, 0, 2, 4, 4, 4, 0, 1, 0, 4, 3, 3, 3, 4, 3, 0, 1, 0, 9, 8, 9, 15, 7, 13, 5, 21, 0, 1, 0, 16, 0, 1, 0, 14, 0, 0, 6, 6, 2, 4, 4, 3, 10, 7, 2, 1, 1, 3, 3, 2, 4, 0, 0, 5, 0, 45, 0, 2, 4, 4, 4, 0, 1, 0, 4, 3, 2, 5, 5, 6, 7, 2, 4, 4, 3, 4, 0, 3, 0, 5, 3, 4, 3, 3, 2, 0, 1, 0, 18, 12, 4, 14, 14, 13, 30, 16, 14, 16, 11, 29, 0, 1, 0, 11, 13, 0, 1, 0, 18, 0, 1, 0, 12, 0, 0, 3, 6, 2, 3, 10, 4, 2, 2, 1, 2, 3, 0, 0, 2, 0, 3, 5, 4, 4, 0, 1, 0, 10, 3, 3, 3, 2, 2, 3, 0, 1, 0, 26, 12, 29, 16, 3, 0, 1, 0, 6, 0, 1, 0, 14, 0]\n"
     ]
    }
   ],
   "source": [
    "# calculamos la longitud de cada secuencia\n",
    "length_sentences = [len(sentence) for sentence in segmented_sentences]\n",
    "\n",
    "print(length_sentences)"
   ]
  },
  {
   "cell_type": "code",
   "execution_count": 25,
   "metadata": {},
   "outputs": [
    {
     "data": {
      "text/plain": [
       "(array([4.799e+03, 1.005e+03, 4.240e+02, 9.200e+01, 4.500e+01, 2.600e+01,\n",
       "        2.500e+01, 1.200e+01, 8.000e+00, 7.000e+00, 6.000e+00, 3.000e+00,\n",
       "        1.000e+00, 3.000e+00, 1.000e+00, 2.000e+00, 1.000e+00, 0.000e+00,\n",
       "        1.000e+00, 1.000e+00]),\n",
       " array([  0. ,   7.2,  14.4,  21.6,  28.8,  36. ,  43.2,  50.4,  57.6,\n",
       "         64.8,  72. ,  79.2,  86.4,  93.6, 100.8, 108. , 115.2, 122.4,\n",
       "        129.6, 136.8, 144. ]),\n",
       " <BarContainer object of 20 artists>)"
      ]
     },
     "execution_count": 25,
     "metadata": {},
     "output_type": "execute_result"
    },
    {
     "data": {
      "image/png": "[encoded data removed]",
      "text/plain": [
       "<Figure size 640x480 with 1 Axes>"
      ]
     },
     "metadata": {},
     "output_type": "display_data"
    }
   ],
   "source": [
    "# Distribución de la longitud de las secuencias\n",
    "plt.hist(length_sentences,bins=20)"
   ]
  },
  {
   "cell_type": "markdown",
   "metadata": {},
   "source": [
    "Ahora, apartir de la distribución de longitudes de secuencias elegimos algún criterio.\n",
    "\n",
    "Vamos a evaluar diferentes criquerios."
   ]
  },
  {
   "cell_type": "code",
   "execution_count": 26,
   "metadata": {},
   "outputs": [
    {
     "name": "stdout",
     "output_type": "stream",
     "text": [
      "max_context_size (Percentile): 14\n",
      "max_context_size (Media): 6\n",
      "max_context_size (Mediana): 3\n"
     ]
    }
   ],
   "source": [
    "\n",
    "# el -1 es porque el último token será el target\n",
    "max_context_size_percentile = int(np.percentile(length_sentences, 90)-1)\n",
    "print(f'max_context_size (Percentile): {max_context_size_percentile}')\n",
    "\n",
    "max_context_size_mean = int(np.ceil(np.mean(length_sentences))) # criterio de media\n",
    "print(f'max_context_size (Media): {max_context_size_mean}')\n",
    "\n",
    "max_context_size_median = int(np.ceil(np.median(length_sentences))) # criterio de mediana\n",
    "print(f'max_context_size (Mediana): {max_context_size_median}')\n"
   ]
  },
  {
   "cell_type": "markdown",
   "metadata": {},
   "source": [
    "Vamos a elegir la media. Ya que parece un tamaño bastante adecuado."
   ]
  },
  {
   "cell_type": "code",
   "execution_count": 27,
   "metadata": {},
   "outputs": [],
   "source": [
    "max_context_size = max_context_size_mean"
   ]
  },
  {
   "cell_type": "markdown",
   "metadata": {},
   "source": [
    "###  Tokenizar\n",
    "A partir de lo obtenido ahora, vamos a tokenizar"
   ]
  },
  {
   "cell_type": "code",
   "execution_count": 30,
   "metadata": {},
   "outputs": [],
   "source": [
    "tok = Tokenizer()\n",
    "\n",
    "tok.fit_on_texts(segmented_sentences)\n",
    "\n",
    "tokenized_sentences = tok.texts_to_sequences(segmented_sentences)"
   ]
  },
  {
   "cell_type": "code",
   "execution_count": 37,
   "metadata": {},
   "outputs": [
    {
     "data": {
      "text/plain": [
       "[394, 64, 463, 9, 217, 1719, 268, 407, 322, 5]"
      ]
     },
     "execution_count": 37,
     "metadata": {},
     "output_type": "execute_result"
    }
   ],
   "source": [
    "tokenized_sentences[random_idx]"
   ]
  },
  {
   "cell_type": "code",
   "execution_count": 38,
   "metadata": {},
   "outputs": [
    {
     "data": {
      "text/plain": [
       "['blanching',\n",
       " 'nuts',\n",
       " 'in',\n",
       " 'the',\n",
       " 'case',\n",
       " 'of',\n",
       " 'nuts',\n",
       " 'especially',\n",
       " 'with',\n",
       " 'almonds',\n",
       " 'pistachios']"
      ]
     },
     "execution_count": 38,
     "metadata": {},
     "output_type": "execute_result"
    }
   ],
   "source": [
    "segmented_sentences[0]"
   ]
  },
  {
   "cell_type": "markdown",
   "metadata": {},
   "source": [
    "Vamos ahora a armar los dataset (entrenamiento y validación)"
   ]
  },
  {
   "cell_type": "code",
   "execution_count": 41,
   "metadata": {},
   "outputs": [],
   "source": [
    "tokenized_sentences_train, tokenized_sentences_val, _, _ = train_test_split(tokenized_sentences, tokenized_sentences, test_size=0.2, random_state=RANDOM_SEED)"
   ]
  },
  {
   "cell_type": "markdown",
   "metadata": {},
   "source": [
    "Ahora voy a relizar un split de las oraciones que tienen tamaño mayor al contexto máximo, para generarnos más secuencias de entrenamiento."
   ]
  },
  {
   "cell_type": "code",
   "execution_count": 42,
   "metadata": {},
   "outputs": [],
   "source": [
    "tokenized_sent = []\n",
    "\n",
    "for sent in tokenized_sentences_train:\n",
    "\n",
    "  # si la secuencia tiene más términos que el tamaño de contexto máximo,\n",
    "  # armo varias sub-secuencias de tamaño máximo\n",
    "  if len(sent) > (max_context_size+1):\n",
    "    extra = len(sent)-(max_context_size+1) + 1\n",
    "    for i in range(extra):\n",
    "      tokenized_sent.append(sent[i:i+max_context_size+1])\n",
    "  else: # si la secuencia tiene menos términos el tamaño de contexto máximo, dejo la secuencia como está\n",
    "    tokenized_sent.append(sent)"
   ]
  },
  {
   "cell_type": "code",
   "execution_count": 43,
   "metadata": {},
   "outputs": [
    {
     "data": {
      "text/plain": [
       "18128"
      ]
     },
     "execution_count": 43,
     "metadata": {},
     "output_type": "execute_result"
    }
   ],
   "source": [
    "len(tokenized_sent)"
   ]
  },
  {
   "cell_type": "markdown",
   "metadata": {},
   "source": [
    "Ahora aumentamos los datos aprovechando que de una secuencia grande se pueden generar varias más pequeñas:"
   ]
  },
  {
   "cell_type": "code",
   "execution_count": 44,
   "metadata": {},
   "outputs": [],
   "source": [
    "tokenized_sent_augm = []\n",
    "\n",
    "for sent in tokenized_sent:\n",
    "  # generamos todas las sub-secuencias\n",
    "  subseq = [sent[:i+2] for i in range(len(sent)-1)]\n",
    "  # en esta línea paddeamos al tamaño de contexto máximo\n",
    "  tokenized_sent_augm.append(pad_sequences(subseq, maxlen=max_context_size+1, padding='pre'))"
   ]
  },
  {
   "cell_type": "code",
   "execution_count": 45,
   "metadata": {},
   "outputs": [],
   "source": [
    "# Finalmente concatenamos todas las secuencias en un único array de numpy\n",
    "train_seqs = np.concatenate(tokenized_sent_augm, axis=0)"
   ]
  },
  {
   "cell_type": "code",
   "execution_count": 46,
   "metadata": {},
   "outputs": [
    {
     "data": {
      "text/plain": [
       "(91489, 7)"
      ]
     },
     "execution_count": 46,
     "metadata": {},
     "output_type": "execute_result"
    }
   ],
   "source": [
    "train_seqs.shape"
   ]
  },
  {
   "cell_type": "markdown",
   "metadata": {},
   "source": [
    "## Obtenemos el vector input y el target"
   ]
  },
  {
   "cell_type": "code",
   "execution_count": 47,
   "metadata": {},
   "outputs": [],
   "source": [
    "\n",
    "X = train_seqs[:,:-1]\n",
    "y = train_seqs[:,1:]"
   ]
  },
  {
   "cell_type": "code",
   "execution_count": 48,
   "metadata": {},
   "outputs": [
    {
     "data": {
      "text/plain": [
       "(91489, 6)"
      ]
     },
     "execution_count": 48,
     "metadata": {},
     "output_type": "execute_result"
    }
   ],
   "source": [
    "# Verficiamos el shape del target\n",
    "y.shape"
   ]
  },
  {
   "cell_type": "code",
   "execution_count": 56,
   "metadata": {},
   "outputs": [
    {
     "data": {
      "text/plain": [
       "dict_values(['the', 'and', '1', 'a', 'to', '2', 'in', 'of', 'minutes', 'with', 'for', 'add', '4', 'time', 'or', 'https', '3', 'com', 'until', 'chicken', 'it', 'into', 'cook', 'pan', 'is', 'on', 'oil', 'butter', 'sugar', 'cup', 'sauce', 'heat', 'salt', 'pasta', 'flour', 'issue', 'from', 'tbsp', 'ingredients', 'tsp', '5', 'i', 'garlic', 'water', 'serves', 'chopped', 'oven', 'jcallaghan', 'you', 'github', 'then', 'cookbook', 'baking', 'jpg', 'images', 'image', 'this', 'large', 'over', 'style', '10', 'stir', 'at', 'about', 'id', 'bowl', 'mix', '6', 'chocolate', 'bake', 'place', '15', 'ingredient', 'serve', '8', 'eggs', 'cups', 'recipe', 'pepper', 'prep', 'as', '20', 'cheese', 'user', 'main', 'if', 'remove', 'issues', 'githubusercontent', '7449908', 'some', 'total', 'can', 'cream', 'medium', 'cut', 'milk', 'rice', 'title', 'method', 'recipes', 'date', 'link', 'thumbnail', 'labels', 'all', 'vanilla', 'but', 'teaspoon', 'favourite', 'top', 'dish', 'taste', 'finely', 'ð\\x9f¥°', 'pictures', 'well', 'mixture', 'them', 'one', 'cooking', 'fresh', 'cool', 'be', 'together', 'olive', '30', 'potatoes', 'meal', 'powder', 'inch', 'make', 'more', 'egg', '12', 'pour', 'out', 'onion', 'beef', 'brown', '7', 'onions', 'your', 'brownies', 'ground', 'so', 'my', 'have', 'jpeg', 'hot', 'type', 'off', 'simmer', '9', 'are', 'side', 'pizza', 'lemon', 'juice', 'seasoning', 'before', 'sweet', 'tomato', 'meat', 'when', 'by', 'serving', 'just', 'like', 'little', 'c', 'hour', 'blob', 'use', 'bread', 'potato', 'will', 'smooth', 'grated', 'pie', 'preheat', 'set', 'tomatoes', 'batter', 'curry', 'salmon', '25', 'not', 'www', '2021', 'steak', 'reference', 'peppers', 'that', 'up', 'cinnamon', 'sliced', '45', 'boil', 'an', 'dough', 'cloves', 'optional', 'green', 'once', 'food', 'tablespoons', 'stock', 'cooked', 'pot', 'beat', 'sesame', '11', 'very', 'warm', 'half', 'using', 'honey', 'red', 'james', 'dry', 'peeled', 'whisk', 'small', 'ginger', 'prawn', 'let', 'bring', 'pieces', 'melted', 'crushed', 'each', 'crispy', 'white', 'paste', 'combine', 'notes', 'http', 'any', 'leaves', 'golden', 'ounces', 'vegetable', 'pinch', 'beans', 'great', 'soup', 'haggis', 'cover', 'extract', 'puree', 'creamy', 'lightly', 'frying', 'parsley', 'drain', 'while', 'extra', 'basil', '07', 'adding', 'fry', 'related', 'they', 'parmesan', 'easy', 'tablespoon', 'spoon', 'makes', 'stirring', 'soy', 'thai', 'saucepan', 'skin', 'good', 'allow', 'best', 'aside', 'take', 'rack', '40', 'salad', 'squash', 'fish', 'â\\x84¹ï¸\\x8f', 'degrees', 'do', 'back', 'jas', 'stuffed', 'low', 'few', 'black', 'was', 'season', 'filling', 'through', 'around', 'png', 'whole', 'gently', 'peel', 'forums', 'craigslist', 'org', 'bottom', 'broth', 'dried', 'high', 'toss', '350', 'melt', 'another', 'temperature', 'servings', 'buttermilk', 'turn', \"it's\", 'put', 'has', 'reduce', 'vegetables', 'cauliflower', 'mins', 'smoked', 'room', 'minute', 'ice', '03', 'also', 'crust', 'after', 'plain', 'sprinkle', 'keep', 'wok', 'broccoli', \"don't\", 'teaspoons', 'blend', 'boiling', '16', 'minced', 'drizzle', 'unsalted', 'cookie', 'sheet', 'too', 'seeds', '01', 'nutmeg', 'cake', 'lime', 'plate', 'â½', 'breasts', '04', 'double', '08', 'remaining', 'knife', 'square', 'purpose', 'plus', 'heavy', 'stick', 'enough', 'down', 'chips', 'per', 'ahead', 'mash', 'chilli', 'breast', 'spaghetti', 'paprika', 'cold', 'other', 'these', 't', 'fold', 'soda', 'wine', 'carrot', 'banana', 'sides', 'nuts', 'two', '35', 'spring', 'get', 'tender', 'comes', 'soft', 'we', 'should', 'quick', 'garnish', '13', 'ð\\x9f\\x8d\\x9d', 'lamb', 'marinade', 'beetroot', 'size', 'processor', 'skillet', 'transfer', 'dessert', 'spices', 'sea', 'vinegar', 'delicious', 'ready', 'carrots', 'yogurt', '2022', 'ð\\x9f\\x90\\x94', 'bosnian', 'tray', 'whisky', 'halloumi', 'thin', 'bean', 'mint', 'combined', 'spread', 'light', 'blender', 'made', 'pumpkin', 'center', 'onto', 'pounds', 'really', '02', 'paper', 'drink', 'diced', 'simmering', 'x', 'line', 'cornbread', 'bacon', 'mustard', '300g', '50g', 'icing', '200g', 'prawns', 'which', 'baked', 'toasted', 'peas', 'g', 'sticky', 'prepare', 'wire', '24', 'glass', 'biscuits', '18', 'needed', '14', 'casserole', 'syrup', 'watch', 'hours', 'fat', 'vegetarian', 'spinach', 'classic', 'pastry', '50', '100g', 'swirls', 'shell', 'roll', 'powdered', 'covered', 'thick', 'clove', 'pound', 'gradually', 'grease', 'pudding', 'clean', 'fork', 'flakes', 'balsamic', '0', 'walnuts', 'beaten', 'iron', 'frozen', 'tip', 'chop', 'duck', '100ml', 'meatball', 'ratatouille', 'saffron', 'cookies', 'first', 'tbs', 'freshly', 'next', 'zest', 'restaurant', 'f', 'slightly', 'completely', 'thoroughly', 'co', 'new', 'base', 'form', 'me', 'chunks', 'softened', 'continue', 'his', 'florets', 'cornmeal', 'cast', '05', 'youtube', 'uk', 'fillets', 'ð\\x9f\\x8d\\x95', 'bbq', 'cocktail', 'bit', 'simple', 'no', 'oregano', 'return', 'meanwhile', 'squares', 'granulated', 'browned', 'bay', 'leaf', 'caramel', 'dark', 'cubes', 'raisins', 'floured', 'orange', 'mashed', 'than', 'leave', '06', 'day', 'prefer', 'favorite', '29', 'maple', 'note', 'here', 'cocoa', 'italian', 'fruit', 'carefully', 'middle', 'wooden', 'prepared', 'toothpick', 'thyme', 'spray', 'balls', 'again', 'gelatin', 'served', 'instructions', 'greens', 'deep', 'grilled', 'blue', 'chinese', 'â\\x8f°', '180â°c', 'further', 'v', '280', 'tagliatelle', 'tin', 'roasted', 'chives', 'haddock', 'pinwheels', 'freekeh', 'risotto', 'press', 'whites', 'see', 'want', 'either', 'need', 'slices', '28', 'drained', 'would', 'immediately', 'flavor', 'virgin', 'oz', 'al', 'our', 'mixer', 'blended', 'evenly', 'work', 'been', \"i've\", 'surface', '400', 'much', \"i'm\", 'start', 'handful', 'without', 'butternut', 'making', 'kitchen', 'microwave', 'cheddar', 'along', 'how', 'try', 'fried', 'now', 'unsweetened', 'plastic', 'stalks', 'mixed', 'own', '55', 'coat', 'coconut', 'strips', 'parchment', 'brownie', 'foil', 'both', 'cornflour', '2020', '150g', 'sausage', 'mozzarella', 'meatballs', 'roast', 'ð\\x9f\\x90\\x9f', '11eb', 'pad', 'tatties', '00', 'sifted', 'away', '22', 'second', 'yield', 'less', 'slice', 'edges', '36', 'ladle', 'sift', 'fan', 'whipped', 'inserted', 'flesh', 'round', 'still', 'chilled', 'mixing', 'san', 'right', 'even', 'big', 'come', 'most', 'texture', 'dinner', 'used', 'way', 'bittersweet', 'full', 'celery', 'cumin', 'ts', 'freeze', 'loaf', 'cooled', 'rest', 'leaving', 'firm', 'perfect', 'fridge', 'he', '17', 'finish', 'school', 'thighs', 'tbc', 'splash', 'florence', 'katsu', 'raspberry', 'sausages', 'roughly', 'strawberry', 'bell', '25g', 'feta', 'gyoza', 'kiev', 'addition', 'think', 'fava', '19', 'eat', 'better', 'necessary', 'topping', 'coarse', 'crumbs', 'hand', 'approximately', 'only', 'last', 'salted', 'gratin', 'home', 'easier', '09', 'done', 'nice', 'party', 'coated', 'added', 'magazine', 'semisweet', 'wrap', 'coriander', 'except', 'fillet', 'their', 'espresso', 'boiler', '27', 'fill', 'grams', 'chef', 'purie', 'pies', 'asian', 'person', '120ml', 'â¼', 'ð\\x9f§\\x80', 'itâ\\x80\\x99s', '400g', 'centre', '2023', 'depending', 'halved', 'aubergine', 'muffins', 'noodles', 'neeps', 'hotpot', 'alfredo', 'punjene', 'paprike', 'rocket', 'traybake', 'pesto', 'bitter', 'found', 'desired', 'almond', 'preparation', 'measure', 'raw', 'ornellaia', 'saute', 'touch', 'squeeze', '33', 'sure', 'times', 'dente', 'measuring', 'spatula', 'sticks', 'discard', 'had', 'ounce', 'packed', 'spice', 'several', 'three', 'old', 'rolling', 'hands', 'rich', 'layer', 'sharp', 'flat', 'substitute', 'its', 'winter', 'different', 'however', 'may', 'cooks', 'thickens', 'cayenne', 'quarter', 'raspberries', \"you're\", 'occasionally', 'bowls', '48', 'calories', 'cilantro', 'works', 'burn', 'moist', 'least', 'yellow', 'bite', 'shredded', 'stove', 'loosen', 'between', 'quickly', 'fudge', 'slowly', 'strain', 'popular', 'custard', 'every', '39', 'equipment', 'basket', 'meringue', 'omar', 'corn', 'quartered', '250g', 'sautã©', 'balmoral', 'scottish', 'blueberry', 'rosemary', '233', 'issuecomment', 'breadcrumbs', 'mediterranean', 'charred', 'piccata', 'bass', 'almonds', 'outer', 'needs', 'fingers', 'careful', 'amount', 'ball', 'four', '21', '38', 'could', 'release', 'piece', 'since', 'pulse', 'rub', 'fettuccine', 'speed', 'beating', 'usually', 'split', 'long', 'does', 'sweetened', 'scoop', 'pat', 'margarine', 'biscuit', 'oatmeal', 'pin', 'brush', 'crush', 'pears', '51', 'sit', 'juices', 'soak', 'often', 'seed', 'cutting', 'there', 'enjoy', 'same', 'many', 'french', 'become', 'during', 'protein', 'love', 'approx', 'sprigs', 'give', 'sour', 'oats', 'fiber', 'masala', 'wet', 'bunch', 'looks', 'shrimp', 'chard', 'stems', 'pre', 'refrigerated', 'steel', 'free', 'her', '59', 'open', 'strawberries', 'run', 'inside', 'lunch', 'grill', 'edge', 'pieman', 'family', 'remember', 'leek', 'thickened', 'sized', 'ð\\x9f¥³', 'boneless', 'skinless', '500g', 'fragrant', 'create', '145', '144', 'c54d', '11ea', 'separate', 'mould', 'oyster', 'colour', 'puddings', 'tart', 'bbc', 'swede', 'ring', 'shaker', 'whiskey', '50ml', 'mums', '277', 'gas', '112', 'bã©chamel', 'schnitzel', 'yoghurt', 'jamie', 'rogan', 'josh', 'stew', 'guinness', 'lining', 'removed', 'process', 'blanched', 'end', 'index', 'days', 'refrigerator', 'pod', 'under', 'soften', 'point', '31', 'seconds', 'worth', 'such', 'asparagus', 'e', 'evoo', 's', 'am', 'delicate', 'quality', 'crusty', 'what', 'canned', 'pecorino', 'flavors', 'scrape', 'table', 'level', 'resembles', 'batches', 'started', 'pure', 'whipping', 'firmly', 'beginning', 'thickness', 'ungreased', 'board', 'knead', 'whip', 'results', 'o', 'torn', 'finally', 'refrigerate', 'lengthwise', 'always', 'special', 'removing', 'part', 'people', 'everyone', 'lay', 'awesome', 'buttered', 'quart', 'bubbling', 'creamed', 'important', 'heated', 'film', 'prevent', 'instead', 'adds', 'worked', 'fine', 'cornstarch', 'original', 'six', 'almost', 'consistency', 'quaker', 'sugars', 'store', 'sodium', 'teaspn', 'garam', 'pack', 'everything', 'going', 'nonstick', 'adjust', 'checking', 'bag', 'glaze', 'turmeric', 'go', 'basmati', 'lumps', 'coffee', 'shake', '325', 'pecans', 'overnight', 'week', 'frequently', 'bath', 'roasting', 'longer', 'stuff', 'html', 'cotta', 'chow', 'restaurants', 'southern', 'cracked', 'yolks', 'steamer', 'steam', 'unbaked', 'weight', 'mark', 'graham', 'crackers', 'liquid', 'sieve', 'deveined', 'flax', 'crisp', 'boy', 'favourites', 'towel', 'excess', 'wonderful', '57', '60ml', 'penne', 'stroganoff', 'english', 'starts', 'decorate', 'tins', 'divide', 'placing', 'ð\\x9f§\\x91ð\\x9f\\x8f¼â\\x80\\x8dð\\x9f\\x8d³', 'peppercorns', 'wonder', 'ð\\x9f\\x8d\\x95ð\\x9f\\x94¥', '34', 'incredible', 'shallots', '200c', 'scottishscran', '447', 'inspired', '47', 'mild', 'shimotori', 'king', 'ð\\x9f\\x8d\\x93', 'ð\\x9f\\x8d\\x8c', '06t21', 'yorkshire', '294', 'sizzling', '150ml', 'gravy', '60g', 'ooni', 'â\\x80\\x93', 'stack', 'repeat', 'martini', 'cards', 'club', 'knob', 'dijon', 'wedges', 'fennel', 'pea', 'chowder', '58', 'swirl', 'grain', 'cherry', 'steaks', 'japanese', 'panko', 'covering', 'capers', 'courgette', 'harissa', 'milkshake', 'seabass', 'tandoori', 'farfalle', 'cabbage', 'gyozas', 'consuming', 'across', '300', 'categories', 'mold', 'example', '42', 'recommend', 'shavings', 'lbs', 'toast', 'gets', 'version', 'briefly', 'glossy', 'ap', 'foamy', 'lemons', 'tangelos', '3500f', 'know', 'shortening', 'apart', 'regular', 'dozen', 'flatten', 'inexpensive', 'temp', 'goes', 'panzanella', 'cube', 'equal', 'seeded', 'score', 'quite', 'neck', 'rounded', 'fitted', 'break', \"that's\", 'holiday', 'suggested', 'result', 'site', 'preferred', 'macaroni', 'uncovered', 'dishes', 'leftovers', 'foods', 'bottomed', 'constantly', 'bubbles', 'lower', 'forming', 'warmed', 'tried', \"doesn't\", 'sandwich', 'courtesy', 'chiles', 'greasing', 'cling', 'ripe', 'bananas', 'five', 'wheat', 'applesauce', 'flours', 'chill', 'shape', 'inches', 'thaw', '5g', 'carbohydrate', 'cholesterol', 'got', 'dinners', 'lemongrass', 'choice', 'skim', 'fast', 'takes', 'tiny', 'lentil', 'masa', '125g', 'dissolved', 'instant', 'electric', 'thicker', 'gooey', 'overmix', 'overbake', '425', 'barely', 'attachment', '49', 'adapted', 'walnut', 'pecan', 'unmold', 'trim', 'granules', 'stainless', 'incorporated', 'lined', 'ends', 'dense', 'scharffen', 'berger', '70', 'greased', 'check', 'dusting', '53', 'friend', 'based', '177', '23', 'cm', 'panna', '37', 'ramekins', '32', 'proof', 'individual', 'essence', 'among', 'tilt', 'stiff', 'slide', 'mg', 'toasts', 'owner', 'opened', 'street', '552', 'daily', 'coating', 'masher', 'cooling', 'yams', 'dash', 'push', 'strainer', 'weights', 'remainder', 'homemade', 'known', 'business', 'orleans', 'behind', 'taken', 'sorbet', 'grapefruit', 'baby', 'single', 'canola', 'min', 'crunchy', 'trick', 'sirloin', 'toppings', 'shortly', 'buttery', 'consistent', '364', 'alternatively', '30ml', '450g', 'suitable', 'garnished', 'mushrooms', 'non', 'scatter', 'bbcgoodfood', 'cacio', 'peppe', 'alex', 'were', 'passata', 'others', '06t20', '60', 'ð\\x9f\\x92ª', 'bight', 'dogs', 'find', '220â°c', 'optionally', '16t13', 'donâ\\x80\\x99t', 'seal', 'scran', '448', 'variation', 'dumplings', 'following', '1l', 'wrestlers', 'cambridge', 'team', 'wagamama', 'palm', 'chillies', '600g', '110ml', 'blueberries', 'muffin', 'toad', 'hole', 'hits', 'smoking', 'ensure', 'appetiser', 'ð\\x9f\\x8d«', '85g', 'ð\\x9f\\x8d¸', 'clover', 'gin', 'caster', 'absorbed', '1kg', 'ovenproof', 'book', 'slimming', '200â°c', 'pã¢tã©', 'flavour', '600ml', 'granddads', 'trimmed', 'thicken', 'those', 'carbonara', 'pancetta', '41', 'friends', 'reduced', 'flank', 'cashews', 'yeast', 'wash', 'olives', '256', 'oliver', 'puff', '1cm', 'whilst', 'garlicky', '1â½', '261', 'colouring', 'flatbreads', '290', 'mayo', 'perfected', 'salmone', 'wrappers', 'margherita', 'blanching', 'case', 'especially', 'hazelnuts', 'tough', 'somewhat', 'skinned', 'finger', 'because', 'degree', 'preheated', 'exported', 'mastercook', 'tightly', 'container', 'macaroons', 'throw', 'simply', 'bright', 'shaving', 'crostini', 'excellent', 'p', 'yum', 'favas', 'pasty', 'stop', 'beens', 'reserving', 'grate', 'couple', 'mother', 'rind', 'partially', \"confectioner's\", 'confectioner', 'bars', 'bon', 'appetit', 'july', 'california', 'cuminseed', 'moderately', 'never', 'eating', 'stand', 'melts', 'dissolves', '375', 'places', 'alternately', 'additions', 'cutter', 'gather', 'scraps', 'unbleached', 'rounds', 'moister', 'handle', '450', 'sometimes', \"there's\", 'interior', 'drop', 'additional', 'risen', 'marzano', 'reserve', 'stem', 'hold', 'disolved', 'nli', 'please', 'sourdough', 'maybe', 'personally', 'lot', 'tear', 'seen', 'cucumber', 'herbs', 'pureed', 'reserved', 'thanksgiving', 'fashion', 'slicing', 'colander', 'arrange', 'distribute', 'heating', 'jacques', 'pépin', 'knopf', 'currently', 'anyway', 'subtle', 'incredibly', 'technique', 'step', 'alternative', 'francisco', 'loved', 'scratch', 'giving', 'life', 'béchamel', 'perfectly', 'uses', 'us', 'begin', 'suggestions', 'idea', 'poured', 'suggests', 'warming', 'flavours', 'prevention', 'originally', 'called', 'closer', 'ok', 'nutrition', 'likes', 'night', 'allrecipes', 'tablespoonfuls', '100', 'variations', 'copyright', 'company', 'batch', 'root', 'ghee', 'flouring', 'rise', 'position', 'rubber', 'chunky', 'bouillon', 'croutons', 'braise', 'crystallized', '350°', 'zip', 'freezer', 'month', '7g', '2g', 'layers', 'frosting', 'seafood', 'bok', 'till', 'advance', 'wanting', 'wilted', 'syrian', 'lentils', 'squeezed', 'harina', 'avoid', 'fit', '9x12', 'semi', 'mary', 'smell', 'air', 'parts', 'ones', 'don', 'fudgey', 'nick', 'say', 'shiny', 'house', 'google', 'against', 'self', 'force', 'wrapped', 'teas', 'overhang', 'opposite', 'wide', 'fairly', 'test', 'lift', 'stored', 'halves', 'working', '99', 'sections', 'dutch', 'crack', 'overbeat', 'pretty', 'alton', 'summary', 'difficulty', 'rating', 'stars', 'fluffy', 'might', \"here's\", 'huge', 'difference', 'epicurious', 'easiest', '52', 'katharine', 'who', 'article', 'apparently', 'nicer', 'fancy', 'scattering', \"cook's\", 'box', \"nigella's\", 'peanuts', 'options', 'pint', 'champagne', 'ramekin', 'seasonal', 'styrofoam', 'moisten', 'molds', 'custards', 'paring', 'invert', 'saturated', '46', 'michael', 'bauer', '2000', 'combination', 'anchovy', 'roma', 'marinated', 'heart', 'park', 'similar', 'market', 'secrets', 'success', \"can't\", 'color', 'hottest', 'tips', 'chronicle', 'page', 'cgi', 'cubed', 'mine', 'bourbon', 'prick', 'pale', 'mound', '1998', 'cracker', 'allspice', 'buy', 'mmmmm', 'tb', 'vending', '1964', 'left', 'haneefah', 'decided', 'cakes', 'years', 'jazz', 'heritage', 'festival', 'throughout', 'she', 'wineglass', 'zested', 'pounded', 'refreshing', 'tasty', 'pink', 'shallow', 'sprig', '26', 'accompanied', 'leeks', 'slotted', 'heaven', 'iowa', 'year', 'chili', 'thinks', 'final', 'outside', '102', 'feeling', 'whisked', \"you'll\", 'ketchup', 'aim', 'jump', 'wednesdays', '184', '366', '155019834', '6b1bca8b', 'fb4a', '4420', '9166', '0f078fb9b3c9', '369', '80ml', '65g', 'fryer', '330', 'dinnerthendessert', '297', 'slow', '30t17', 'crã¨me', 'fraã®che', '351', '359', 'ð\\x9f\\x87®ð\\x9f\\x87¹', 'technical', 'absolutely', 'empty', 'being', 'liking', 'amazing', 'marsano', '170g', '18t10', '234', 'said', 'daughter', \"so's\", 'thought', 'series', \"alex's\", 'things', 'points', 'golf', 'softer', 'packets', 'grating', '449', '70g', 'slit', 'circle', 'secure', 'clear', '220', 'veg', 'squashed', 'range', 'foam', 'bones', 'help', 'ease', 'pouring', 'spicy', 'newmarket', 'road', 'regularly', 'reminded', \"chilli's\", 'separately', 'utensil', 'omurice', 'brought', 'bamboo', 'shoots', 'shelled', 'oils', 'where', 'preference', 'packet', 'garden', '344', 'sup', '190g', 'liners', '324', 'opportunity', 'heads', 'fully', '349', 'browning', 'sweat', 'burning', 'facebook', '18t17', '258', 'â½oz', 'quarters', '30mins', 'easily', 'wish', '130', 'strong', 'vigorously', 'getcocktailcards', '328', '281', 'vermouth', '20ml', 'jam', 'cocktails', '310', 'jameson', 'barrel', '15ml', 'helps', '13t11', '76', 'sweets', 'treats', 'yolk', '20t10', '266', 'turkey', 'aluminium', 'moisture', '171', 'maris', 'piper', '400ml', '320g', 'snipped', 'sweetcorn', 'petits', 'pois', '180c', 'sticking', 'pop', 'ba34', '542', 'foodie', 'broken', '11t09', '187', 'cans', 'mascarpone', '220c', 'mygorgeousrecipes', '28t18', '111', '370', '90g', '110g', '07t22', '394', 'boat', 'tri', 'ribara', 'inspiration', '437', 'early', '500ml', '79', 'smoky', 'placed', 'possible', 'becomes', '348', 'chorizo', 'pearl', 'barley', 'kidney', 'sough', 'drops', '162', 'a2e3', '347', '300ml', 'kick', 'starch', 'topped', '371', 'crumble', 'toothpicks', 'london', 'broil', '148', '186', '231', '31t21', 'mummy', 'punjena', 'pã»é²enaë\\x90', 'pç\\x8eprika', 'lit', 'croatian', 'consisting', 'capsicums', 'balkans', '80g', 'vegeta', 'membranes', 'halfway', 'compact', 'mass', 'bakingwithsibella', '2013', '546', 'creme', 'fraiche', 'juiced', 'dressing', '575', 'raid', 'butterflied', 'breadcrumb', 'ensuring', 'nicely', 'natural', '8da5', 'meals', 'enclosed', 'worry', 'gap', 'neat', '03t21', '286', '165', '250ml', '183', '346', 'crackle', 'brand', 'greek', 'tongs', '291', 'recent', '636', '181', '179', 'flame', '356', 'poach', '333', 'chestnuts', 'kneading', 'jamescallaghan', 'twitter', '428', \"kiev's\", '268', '235', 'pistachios', 'husk', 'inner', 'unattractive', 'confection', 'goods', 'purchasing', 'already', 'rinse', 'skins', 'holding', 'thumb', 'pointing', 'shoot', 'jelly', 'rimmed', 'ii', '96', 'candies', 'age', 'ideas', 'fewer', 'treat', 'young', 'twice', 'pleanty', 'doubly', 'quicly', '14285654', 'puckering', 'sautee', 'baguette', 'produce', 'extend', 'sauteed', 'appetizer', 'anchohungry', 'boiled', 'processed', 'shave', 'parmesean', 'grind', 'subject', 'shuck', 'grey', 'pinching', 'squeezing', 'unveven', 'kthis', 'vote', 'sauceyyyy', 'learned', 'visiting', \"mother's\", 'hometown', 'calabria', 'asked', 'reply', 'shrug', 'understood', 'why', 'curious', 'tra', 'vigne', 'gray', 'sauti', \"now's\", 'ceramic', 'kid', 'tested', 'approved', '1999', '12130337', 'tangelo', 'dust', '9x13x2', 'maintain', '1991', 'lana', 'sills', 'north', 'hollywood', 'crumbled', 'sauté', 'writes', 'marie', 'hernandez', 'chicago', 'trying', 'wildfire', 'oak', 'brook', 'illinois', 'changed', 'mind', 'ago', '350°f', '11x7', 'tester', 'pierce', 'cinnameon', 'ending', 'generously', 'reroll', 'puffed', 'transfr', 'peels', '°f', \"maggie's\", 'falling', 'seems', 'overworked', 'adapt', 'potpie', 'cobbler', 'glowing', 'cries', 'dribble', 'chin', 'dump', 'surfacec', 'thick\\x97you', 'dirty', 'job', 'fine\\x97and', 'appealingly', 'tomatoesa', 'shred', 'raviolis', 'ravioli', 'poached', 'bosc', 'bottle', 'stirr', 'romatomato', 'crustier', 'fruity', 'depends', 'chiffonaded', 'thinly', 'chilis', 'simplicity', 'ah', 'acid', 'squashes', 'welcome', 'occasions', 'horizontally', 'cylindrical', 'underneath', 'revealed', 'spiral', 'object', 'manner', 'blade', 'properly', 'broiler', 'celebrates', 'sarah', 'sarahgael', 'hotmail', 'sf', 'wanted', 'comment', 'asserted', 'letting', 'lose', 'vitamins', 'denver', 'replace', 'sickly', 'marshmellow', 'pleased', 'problem', 'peeling', 'sturdy', 'quit', 'wing', 'turns', 'firmer', 'diego', 'smoother', 'definitely', 'reviewer', 'did', 'keeper', 'vancouver', 'bc', 'yummy', 'cuts', 'reducing', 'ca', 'ways', '375°', 'bechamel', 'lessons', 'economics', 'classes', 'invariably', 'bland', 'proper', 'homey', 'stretch', 'soufflés', 'term', 'foolproof', 'attain', 'proficient', 'cautionary', 'streaming', 'video', 'demonstration', '\\x97', 'continuing', 'later', 'wax', 'washington', 'dc', 'basic', 'springvalley', 'mn', 'bulion', 'philadelphia', 'pa', 'certainly', 'alot', 'toronto', 'ontario', 'joy', 'avoids', 'ricepaddy', 'b', 'cow', 'although', 'gives', 'indigestion', 'anyways', 'suffer', 'decadent', 'chocolatey', 'chocoholic', \"haven't\", 'edensoy', 'whisking', 'boils', 'interested', \"i'll\", 'puts', 'facts', 'flourless', 'cuz', 'nobody', 'biting', 'lump', '9713282', 'minestrone', 'healthy', 'antioxidants', 'hearty', 'lucky', 'printed', 'submitted', 'shelley', 'directions', 'dab', 'spoonful', '10765947', 'vanishing', 'raisin', 'uncooked', 'fashioned', 'information', '4g', '75mg', 'dietary', '1g', 'ÿÿÿ', 'candy', 'omit', 'securely', 'source', '1994', 'reprinted', 'permission', 'electronic', 'format', 'karen', 'mintzias', 'ritz', 'carlton', 'fabulousbakerboy', 'gonna', 'math', 'gold', '10012199', 'saag', 'art', 'indian', 'yamuna', 'devi', 'tbspn', 'tumeric', 'tbspns', 'clarified', 'washed', 'tbsns', 'shortened', 'desciptions', 'h2o', 'marsala', 'panir', 'tweaked', 'chopping', 'lazily', 'thru', 'proccessor', 'esp', 'w', '6300410', 'causes', 'higher', 'slick', 'darkly', 'speckled', '10372202', 'commercial', 'purée', 'immersion', 'reheat', 'rec', 'divided', 'sheets', 'racks', 'duty', '123', 'satfat', 'monofat', 'polyfat', '9g', '0mg', '4mg', '98mg', 'calcium', '24mg', '2001', 'molly', \"o'neill's\", 'ny', 'bakery', '11x9', 'coarsely', 'springs', 'touched', 'frost', 'pkg', 'tv', 'concentrated', 'bruised', 'stalked', 'preferably', 'organic', 'choi', 'sizzle', 'sorts', 'pumpkins', 'vary', 'enormously', 'mentioned', 'cools', 'robustly', \"they'll\", \"shouldn't\", 'suits', 'tamp', \"choi's\", 'feel', 'decant', 'hungrymonkey', \"'adas\", 'bi', 'haamud', 'kind', 'rib', 'plenty', 'champurrado', 'speak', 'tortilla', 'block', 'mexican', 'ibarra', \"fooder's\", 'chcoclate', 'mis', 'valilla', 'rattle', 'hardened', 'accomodate', 'encinger', 'york', '98', '9x13', 'martha', \"stewart's\", 'ultimate', 'blending', 'pulling', 'according', 'sister', 'law', 'tells', 'evaporating', 'teasp', 'backing', 'fluffly', \"alison's\", 'til', 'cakey', 'lainielou', 'imo', 'malgieri', 'ahold', 'supernatural', 'extravagant', 'showstoppers', 'resting', 'happens', 'buttering', 'heatproof', 'colored', 'formed', 'hah', '11003371', 'embrace', 'avidreader', 'damn', 'files', 'checked', 'amounts', 'outrageous', 'barefoot', 'contessa', 'rap', 'escape', 'keeps', 'sinking', 'ruin', '12822881', 'realize', 'answer', 'gal', 'context', 'discussion', 'differences', 'methods', 'rapidly', 'phone', 'calls', 'temperatures', 'dipping', 'pull', 'probably', '12456665', \"robert's\", 'fudgy', 'chocolatier', 'robert', 'steinberg', 'enjoys', \"barron's\", 'maida', \"heatter's\", 'american', 'desserts', '1985', 'scant', 'briskly', 'sixteen', \"karen's\", 'parent', 'fuss', 'retro', \"60's\", \"'adult\", \"brownies'\", 'marin', 'schools', 'hills', 'plaza', 'dolphin', 'class', 'ages', 'scored', 'unsifted', 'dirtying', 'digging', 'grab', \"john's\", 'kosher', 'doneness', 'true', 'resist', 'temptation', 'mostly', 'poorteacher', 'looking', 'though', 'official', 'imported', \"hershey's\", 'happened', '16258018', 'gatitacaterina', \"hepburn's\", 'hepburn', \"family's\", '3250f', 'pile', 'smarten', 'act', 'crime', 'franche', 'shaved', 'harried', 'guide', 'laurie', 'colwin', 'endless', 'feasts', 'april', '2003', 'edited', 'ruth', 'reichl', 'modern', 'library', '18840108', 'bellachelsea', '56', 'domestic', 'goddess', 'stopped', 'flower', 'look', 'yummies', '18178246', '350f', 'mouthed', 'smoothly', 'paler', 'speckle', 'alert', 'maximum', 'cherries', 'brazil', 'joyofbaking', 'printpages', 'browniesprint', '680', '226', '210', 'envelopes', 'bloom', 'stain', '10951850', \"fools'\", 'scald', 'scraped', 'icorporate', 'simmered', 'firms', 'macerate', 'pairing', 'losen', 'pana', '1807369', \"delfina's\", 'craig', \"stoll's\", 'mission', 'district', 'delfina', 'envelope', 'sandy', 'residual', 'dipped', 'caramelizes', 'standing', \"arm's\", 'length', 'bubble', 'sputter', 'sputtering', 'stops', 'below', 'caramelized', 'sets', 'slip', 'puncture', '82', \"chow's\", 'wednesday', 'bruschetta', 'rage', 'finding', 'artichokes', 'draws', 'castro', 'allowed', 'tony', 'gulisano', 'including', 'spago', 'chinois', 'monsoon', 'il', 'fornaio', 'area', '1997', 'decades', 'wainscoting', 'wood', 'floors', 'depression', 'era', 'pendant', 'lights', 'hanging', 'ceiling', 'gate', 'ninth', 'avenue', 'featuring', 'price', '215', 'church', 'st', 'near', '415', '2469', 'crushing', 'suction', 'breaks', 'infuses', 'marinating', 'rubbing', 'insures', 'achieved', 'chewy', 'eighths', 'seasonings', 'stovetop', 'dip', 'perfume', 'platter', '535', '767', \"chronicle's\", 'editor', 'author', 'recently', 'published', 'signature', 'insider', \"francisco's\", \"restaurants''\", 'books', 'zz1', 'url', 'sfgate', 'bin', 'file', 'archive', 'fd44354', 'dtl', 'fsalted', 'paddle', 'kaeruemi', 'evaporated', \"maker's\", 'taters', 'splits', 'lumpy', 'incorporate', 'runny', '400f', '50min', '21829163', 'pageturner', 'tbl', 'door', 'neighbor', 'taught', 'garnet', 'weighting', 'available', 'supermarkets', 'specialty', 'shops', '4000f', 'halve', 'proceeding', 'crimp', 'decoratively', '3750f', 'metal', 'peaks', 'gourmet', 'november', 'creamier', 'brighter', '3500', 'lowest', 'shelf', 'forms', 'premade', 'complement', 'flavoring', 'pierced', 'flavorings', '172', 'gram', 'carbohydrates', 'via', 'master', 'tm', 'v8', 'sailing', 'seas', 'merchant', 'marine', 'wife', 'provide', 'traditional', 'august', 'route', 'historic', 'streets', \"orleans'\", 'went', 'shouting', 'outgoing', 'friendly', 'character', 'became', 'enjoyed', 'residents', 'bastille', 'celebration', 'marketplace', 'son', 'ibn', 'delivers', 'trays', 'velvety', 'lady', 'scenes', 'quoted', \"won't\", 'sight', 'unless', 'mouth', 'fillings', 'sadly', 'print', '1984', 'rotary', 'beater', 'rum', 'walt', 'mm', '1015', 'decatur', 'la', 'limes', 'infuse', 'pass', 'tub', 'earthenware', 'generally', 'sorbets', 'courses', 'require', 'maker', 'melon', 'baller', 'scoops', 'stemmed', 'disco45', 'head', 'pats', 'forget', 'snap', 'safe', 'rewarm', 'december', 'terrafirmafarm', '051104', 'view', '1837', 'foodnetwork', '9936', '20507', 'jalapeno', 'boomshanka', 'jalapeqo', 'chilies', '4250f', '8x8', '13x9', '18076984', 'claymonkey', 'moosewood', 'specials', 'prehead', '375f', 'mushy', 'mush', 'coll', '20582882', 'vegan', 'penny', 'won', 'ribbon', 'state', 'fair', 'dana', 'sly', 'sioux', 'city', 'email', 'illustrated', '25323948', 'scatterbrained', \"grandparents'\", 'entirely', 'savory', 'stuffing', 'pinto', 'pancake', '455', 'gps', 'stomach', 'growling', 'typing', '21688741', 'miss', 'informed', 'digs', \"he's\", 'sees', 'replaced', 'spongy', 'equivalent', 'correctly', 'hope', 'ps', 'itching', \"rommie's\", 'band', 'roommates', 'lachey', '19768242', 'menu', 'diameter', 'strokes', 'probing', '14t20', 'getting', 'professional', 'previous', 'impossible', 'due', 'ordering', 'takeout', 'stodgy', 'clock', 'moving', 'tossing', 'glazed', 'overglazed', '148839657', 'd6317911', 'a353', '4ce7', '88f1', '5c12a5417a59', 'w1saae425s', 'schoolofwok', '08t08', 'simpler', 'leak', 'crosshatch', 'renders', 'internal', 'reads', '52â°c', 'rare', 'angle', 'jus', '155019885', 'f13cf20b', '2c20', '4e8c', 'a005', '3b9e734a8916', '155019945', '127a0a76', 'c59b', '4a07', '9795', 'b97d18c86539', '155019988', '757cbf13', '64dd', '4068', '877d', '07b195624eb3', '155020231', 'd6bf4367', '0d45', '4b30', '99e9', '8e89dbfddafe', '155020251', '3c9f5eca', 'ee4e', '4b5a', '90ae', '1522f26307e0', 'seared', 'conundrums', 'thomas', 'joseph', '6zajatkorlq', '03t19', 'tempura', 'sparkling', '17t17', '298', 'mushroom', 'ð\\x9f\\x8d\\x84', 'foaming', 'seasoned', 'splashing', 'coloured', 'pappardelle', '149017469', '1af3263f', '53d1', '4c11', '927b', 'db3ee74a56c7', '08t22', '225g', '175g', 'raising', 'bicarbonate', '350g', '20cm', 'skewer', 'circular', 'include', 'strained', 'pineapple', '154504137', '93aef7a8', '3556', '4054', 'ba7e', '5a443c9a7dce', '154504232', '42ff9a48', 'c43b', '4aef', '98b8', 'b815c52dcc28', '154504408', '2a4e359f', '552c', '4adb', '8e96', 'e265514e5156', '154505968', 'b42168bf', '6e64', '4d8e', '9de9', '803096800867', '154506280', 'd37440aa', '4568', '4350', 'b7a6', '4b2d1ae77479', 'deliciousmagazine', '05t19', 'beautifully', 'yet', 'complex', 'tastes', 'watching', 'videos', 'researching', 'real', 'fun', 'romano', 'tellicherry', '3l', 'mill', 'starchy', 'cheesy', 'emulsify', 'clings', 'something', 'mastering', '154868209', '6d2243a5', '24b6', '4b2e', 'a558', 'b2d9254c7ba9', '154868213', 'b78b2a41', 'bf14', '4739', 'a8ec', '97c5e9da1b2a', '23t16', '54', 'purist', 'mousse', 'smelly', 'cambazola', 'hob', '87348975', '87d10e80', '9380', '41a1408ad459', '87348999', '93243a00', '9c0a', 'dbba1652084a', '87349042', 'a1725600', '9ff9', '1f176c7196ed', '87349080', 'afc07200', '8c40', '7669dc040818', '87349122', 'bbac3400', '8400', 'c18248d08fed', 'dog', 'frankfurters', '126063626', 'f94f75a9', '11d9', '498b', '9a74', '05b10ab4e646', 'loves', 'variates', 'infamous', 'swedish', 'ikea', \"turkey's\", 'kofta', 'quest', 'conquer', 'greatest', 'discovered', 'guy', 'playlist', 'list', 'plursdaor8hwwt59j2ijlpadnmu6ss', 'tek', 'truly', 'differently', 'covers', 'purã©e', '1tsp', 'pate', 'opening', 'peek', 'relate', 'rashers', 'directed', 'packaging', 'youâ\\x80\\x99ll', 'log', 'casing', 'freezing', 'largest', 'pocket', '5cm', 'remain', 'unsliced', 'basically', 'ideally', 'underside', 'itself', 'browns', 'insert', 'accompanying', 'liberally', '10t19', 'pressure', 'cooker', 'dumpling', 'close', 'jewish', 'trusted', 'poorly', 'unwell', 'semolina', 'perfecting', 'leftover', 'carcass', 'marigolds', 'skipped', 'removal', 'finishing', '148845350', '9fae2a81', '6845', '42bc', '9bb5', 'c9b089597fa5', '27t19', 'ð\\x9f\\x8c¶ï¸\\x8f', 'yesterday', 'instantly', 'squaremeal', '8507', 'department', 'marshall', 'aerospace', 'visited', 'intensity', 'sweetness', 'smoothness', 'stickiness', 'stuck', 'provided', '109398180', '0ccd3480', '7933', '816d', '6b9a347f7813', 'countless', 'default', 'track', 'research', 'name', 'global', 'japan', 'globalkitchenjapan', 'collections', 'products', 'lovely', 'kaffir', '75g', 'burns', 'complete', 'kitchengardenrecipes', 'wordpress', '2008', 'authentic', 'eatingthaifood', '28t23', '245g', '190â°c', 'bought', 'allowing', '147614658', 'eb9ea9f0', '8869', '45ca', 'b86d', '5607e0323e1f', 'galonamission', '27t17', 'arranged', 'weekly', 'explore', 'share', 'stories', 'local', 'office', 'lunches', 'radish', 'tamarind', 'sprouts', 'soaked', 'straight', 'scramble', 'beansprouts', 'doubling', '147612393', 'd6c6e0f5', '14ba', '448a', '98f7', 'a781359a8852', '147612435', '9211156d', 'b236', '4906', '93b8', 'be639d8e51d5', '147612460', '3eb777a3', '5371', '4110', '8101', 'f621fac22d77', '147612482', '5b32818b', 'be11', '40fa', 'bfa8', '2c4f71dac962', 'ew', 'wdgcueljvy', 'poo', 'm88rf0rwho8', '43', 'british', 'creates', 'father', 'sounds', 'butchers', \"cumberland's\", '120g', '225â°c', 'caramelised', 'splashes', '18t09', 'smaller', '126063057', 'd89a1092', '3880', '456c', '990f', '3b604c557221', '882030637', 'express', '882031562', 'group', 'examples', '882031568', 'cheesey', '882032638', '176', 'states', 'marg', 'lard', '45ml', '285ml', '115g', '15g', 'makeup', 'normal', 'bakers', '8â\\x80³', 'flan', 'blind', '180âºc', 'nearly', 'wait', 'obtained', '126076810', '3eab3a96', '20c0', '4b15', 'ae7e', 'bcf7eb189425', 'littlestuff', 'follow', 'youâ\\x80\\x99ve', 'chosen', 'saucepans', 'required', 'rough', 'balance', 'build', 'third', 'losing', 'vodka', '50mlâ\\xa0vodka', '30mlâ\\xa0kahlãºa', '10ml', 'filled', '71', 'espressomartini', '117587721', '2c44c280', 'b117', '87a9', 'ba81286f3d24', '03t11', 'coupe', 'spear', 'pick', 'perch', 'kip', '128060690', '1afa2ae8', '00df', '4ea1', 'bf7f', '67bce31f6c6f', 'craft', 'z', '21t07', 'bonus', 'goodness', 'whiskeysour', 'summer', 'shaking', 'frothy', '130370182', 'f93a4a58', '42b4', '400e', 'a8a4', 'f84b51a0e511', '140g', 'lindt', 'hotel', 'chocolat', '7â\\x80³', 'stopping', 'grainy', 'rectangles', '154957226', '899980e0', 'bc4f', '4cc4', 'a20a', 'f8038a315211', '154956784', '3a9779cc', 'bf0b', '48cf', '850d', 'e8ae434dc41b', '154957111', 'ea05d75c', '8da3', '4307', 'ba55', 'ddc454493534', '154957065', '502d766a', '9ecd', '4b3f', '82bf', '6eada7b75b65', '2012', '680g', '230g', '450â°f', 'ore', 'keto', 'lifeloveandgoodfood', '22t17', 'cod', 'etc', 'balloon', 'mini', '119133893', '5ca03100', '8ce9', '525c02368eab', '119133914', '632ea880', '9e0d', 'b5e6ddc098a2', '09t13', 'drizzling', 'spears', 'pip', 'payne', 'amazon', 'dp', '178325498x', 'bakes', 'mature', '148848624', '8d94d5b1', '139e', '433a', '8120', '20fc1176ec03', 'berryâ\\x80\\x99s', '138', 'sunday', 'roots', 'parboil', '282', '03t20', 'thigh', '155g', 'mayonnaise', 'condensed', 'createyum', 'travel', 'memories', 'budva', 'montenegro', 'took', 'tour', 'recommended', \"didn't\", 'breaking', 'enjoying', 'picked', 'plum', 'draining', '17t16', 'beautiful', 'nourishingly', 'piping', 'twist', 'thinning', 'liquidise', 'chive', 'decorative', 'starter', '220g', '850ml', 'moderate', 'directly', 'keeping', 'straining', 'thinner', 'grandads', '156242057', '81a50c80', '056a', '4a85', 'b107', '820cab646015', '156242194', '8c957c73', 'f4a7', '4ca8', 'b259', '91469b7eed4d', 'match', 'shimmering', 'accumulated', 'scallions', 'heats', '128036114', '0c3b263b', '96e0', '4a16', 'b80f', '4c23ee818589', 'pork', 'fabulous', 'months', 'developed', 'weeknight', 'insist', 'cumberland', 'lardon', 'ragã¹', 'variant', 'deglaze', 'smokiness', 'jack', 'daniels', '148846355', '2897a5dd', '1749', '4e27', '8402', 'ae612a7eda00', '07t10', 'gated', 'discarding', 'cuttings', 'wilting', '115612457', '2eb7b780', '91ac', '7fbe484aa565', '115612786', '8c4c0400', '958a', '4c6a7fbaa828', 'amongst', 'linguine', 'riesling', 'chardonnay', 'spoons', '148851288', '29f58969', 'b3a5', '42b3', 'a484', '5dcb884d59b6', 'bryony', 'morganna', 'ztt', 'xkhzkra', 'natashas', '5vy9hel8moc', \"world's\", 'creamiest', 'eitan', 'bernath', 'vgo3zkremn4', 'tenderise', 'pinwheel', 'sear', 'thespruceeats', 'select', '336355', 'cookingwithmammac', 'coldweathercomfort', '25t19', 'spot', 'actually', 'draft', 'mention', '260g', 'sunflower', 'breaded', '230ml', 'leading', 'seat', 'tissue', '128013393', '32b2256d', '8eab', '46e0', '87df', '09c03f9efb6f', '128013454', 'eccfbf40', '2b08', '4072', 'addd', '3daf077cf6b0', '128013567', 'af384eaa', '8d35', '470c', '987e', '6907741b0484', '29578', 'aspx', 'ð\\x9f§\\x84', 'bulb', 'dredging', 'mallet', 'dredge', 'clovers', 'deglazing', 'noticeably', 'consider', '142', 'switch', '04t10', 'rigatoni', '200ml', 'firstly', '430f', 'core', 'nutritional', 'terrific', 'mealthy', '1572', 'fire', '1079332182686525', '15t20', '126', '15t16', '127753265', 'f629c8df', '587b', '4f16', 'ab79', 'aa3786236869', '13t21', 'health', '40g', 'zaytoun', 'bunched', '12mins', '8mins', 'able', 'quinoa', 'nature', 'secondnature', 'io', 'guides', 'farmdrop', '07t20', 'tom', 'kerrige', 'herb', 'cupboard', 'pitted', 'm', 'marksandspencer', '178132', 'jspfw2ufyf8', 'mache', 'boston', 'lettuce', 'butterfly', 'hit', '271', 'fries', '127697394', '9e12eac6', 'af03', '41df', '9069', '9419b3391d6a', 'chefs', 'p136', 'winner', 'particularly', 'chargrill', 'sufficiently', 'present', 'swapped', 'aromatic', 'smells', 'heaped', '700g', 'overcook', 'griddle', 'anchovies', '112536602', '9abb0480', '9c92', '71c566fb2288', '112536633', 'a1e21280', '9ed4', '906b2a62997b', 'jamieoliver', 'thetalentzone', 'musictv', '12913', \"oliver's\", 'thelifeofstuff', 'php', 'olivers', '21t09', 'demerara', '375g', 'sprinkling', '160â°c', 'assisted', 'ovens', 'greaseproof', 'uneven', 'neaten', 'longest', \"pastry's\", 'pressing', '2cm', 'trimming', 'space', 'expand', 'tuck', 'granny', 'bakingwithgranny', 'lengthways', 'attached', 'opens', '13t15', 'ð\\x9f¥\\x9bð\\x9f\\x8d¶', '28t20', 'showcase', 'theirs', 'vine', 'finishes', '148845020', 'a9f4eb97', 'b29b', '4383', '87c0', '0a8e1204ffa5', 'unadulterated', 'encourage', 'tend', 'naan', \"poppadom's\", 'condiments', 'mango', 'chutney', 'tzatziki', 'leg', 'star', 'anise', 'cardamom', 'pods', '2â½', 'clingfilm', 'pestle', 'mortar', 'creating', \"they're\", 'scraping', 'develop', 'shreds', '155025848', 'e412a2b9', '02f6', '42aa', 'af09', '16dd10e6be1c', '155025904', '0b5c44c2', '9506', '40a9', 'a4f9', 'cf0f38e8ab0e', 'michelin', 'starred', 'atul', 'kochhar', 'nzvo32n7is8', '19t22', 'separated', 'brushing', 'citrus', 'benefit', 'visual', 'excluding', 'lock', 'marinate', 'effect', 'stage', 'naans', 'drizzled', '894812442', '128636850', '19f0680f', '24f3', '424d', 'b37b', '3687db02892b', '292', 'action', '70ml', 'proving', 'rose', 'oiled', 'hr', 'doubled', 'char', '892192710', '130031963', '770c4f1c', 'ac67', '49bb', '9ca7', '7489b47dcf40', '130031992', 'c8afa809', 'c421', '4585', '8b88', 'f5db3c6eee28', '130032011', 'd20e8a45', 'c50e', '4fa4', '9278', '475c45dd7c8c', '134', '2024', '11t21', 'spirals', 'kalamata', 'pine', 'option', 'pomegranate', 'call', 'bits', 'household', 'pomegranates', 'instagram', 'reel', 'cz', 'csb8vpgf', '03t12', '116876263', '17969500', 'ac14', '8deb', '3d78d19c5914', '03t10', '44', 'learning', 'dairy', 'bar', 'jar', 'trader', \"joe's\", 'speculoos', 'lotus', 'nutella', 'biscoff', '400â°c', '2tbsp', 'sprinkles', 'launching', 'turning', '27t21', '700ml', 'flatleaf', '180g', 'flameproof', 'starting', 'translucent', 'evaporate', 'attentively', 'ladleful', 'flaked', 'principle', '17â\\x80\\x9320', 'tasting', 'plump', 'chalky', 'fluid', 'chablis', '156051340', '16a12248', '80ff', '41e8', 'ade1', 'f55c45c669f9', '156051796', '461f5f24', '6117', '456d', 'add5', '09902d37b911', '156052125', 'f707d719', 'd318', '4bd1', 'bb05', '0a74a789f38a', '156052386', '03ceb8bd', '9045', '46fa', 'a7cf', 'c60c802f1d49', '156052560', 'cf22e077', 'b94a', '47f7', 'bf60', 'dab9fd39e359', 'smoke', '00466', '26t20', 'fishes', 'possibly', 'thanks', 'brother', 'speaking', 'shallot', 'flake', '155234001', '9245e8db', '6ec0', '44d7', 'b97a', '9989fdef8f80', '155304238', '302bc0a7', 'f4e0', '4a5a', '9bbd', '89770d44d57a', 'blog', 'ingredientmatcher', 'mumslounge', 'au', 'lifestyle', '2sistersrecipes', 'cookingwithmanuela', 'blogspot', '2014', '20t22', 'copycat', '270g', '350ml', '1oz', '2fl', 'malt', '9fl', 'hard', 'worktop', 'flaky', 'counter', 'bone', 'blitz', 'tea', 'dissolve', 'folding', 'moon', 'crescent', 'tempted', 'overcrowd', 'lid', \"gyoza's\", 'presented', '147367848', '7beabbb6', '1951', '41ec', '85ea', 'b32017673b65', 'p56', 'p14', 'p33', 'showing', 'status', '1474151172944666634', '02t11', 'shares', 'shop', 'schnitzels', 'adventurous', \"stitzel's\", 'dontgobaconmyheart', '388', 'ciabatta', '127989858', '39c70969', '228f', '4143', 'ba8a', 'c34e804278ce', '127989869', '2e58a1ff', 'b62e', '4164', '93b5', '8c8ef2eac428', '18t13', 'tinned', 'blitzed', 'lighter', 'alcohol', 'stronger', 'picture', '02t13', '30g'])"
      ]
     },
     "execution_count": 56,
     "metadata": {},
     "output_type": "execute_result"
    }
   ],
   "source": [
    "# Palabras del vocabulario\n",
    "tok.index_word.values()"
   ]
  },
  {
   "cell_type": "code",
   "execution_count": 57,
   "metadata": {},
   "outputs": [
    {
     "data": {
      "text/plain": [
       "3948"
      ]
     },
     "execution_count": 57,
     "metadata": {},
     "output_type": "execute_result"
    }
   ],
   "source": [
    "# Cantidad de palabras en el vocabulario\n",
    "vocab_size = len(tok.word_counts)\n",
    "vocab_size"
   ]
  },
  {
   "cell_type": "code",
   "execution_count": 58,
   "metadata": {},
   "outputs": [
    {
     "name": "stdout",
     "output_type": "stream",
     "text": [
      "{'the': 1, 'and': 2, '1': 3, 'a': 4, 'to': 5, '2': 6, 'in': 7, 'of': 8, 'minutes': 9, 'with': 10, 'for': 11, 'add': 12, '4': 13, 'time': 14, 'or': 15, 'https': 16, '3': 17, 'com': 18, 'until': 19, 'chicken': 20, 'it': 21, 'into': 22, 'cook': 23, 'pan': 24, 'is': 25, 'on': 26, 'oil': 27, 'butter': 28, 'sugar': 29, 'cup': 30, 'sauce': 31, 'heat': 32, 'salt': 33, 'pasta': 34, 'flour': 35, 'issue': 36, 'from': 37, 'tbsp': 38, 'ingredients': 39, 'tsp': 40, '5': 41, 'i': 42, 'garlic': 43, 'water': 44, 'serves': 45, 'chopped': 46, 'oven': 47, 'jcallaghan': 48, 'you': 49, 'github': 50, 'then': 51, 'cookbook': 52, 'baking': 53, 'jpg': 54, 'images': 55, 'image': 56, 'this': 57, 'large': 58, 'over': 59, 'style': 60, '10': 61, 'stir': 62, 'at': 63, 'about': 64, 'id': 65, 'bowl': 66, 'mix': 67, '6': 68, 'chocolate': 69, 'bake': 70, 'place': 71, '15': 72, 'ingredient': 73, 'serve': 74, '8': 75, 'eggs': 76, 'cups': 77, 'recipe': 78, 'pepper': 79, 'prep': 80, 'as': 81, '20': 82, 'cheese': 83, 'user': 84, 'main': 85, 'if': 86, 'remove': 87, 'issues': 88, 'githubusercontent': 89, '7449908': 90, 'some': 91, 'total': 92, 'can': 93, 'cream': 94, 'medium': 95, 'cut': 96, 'milk': 97, 'rice': 98, 'title': 99, 'method': 100, 'recipes': 101, 'date': 102, 'link': 103, 'thumbnail': 104, 'labels': 105, 'all': 106, 'vanilla': 107, 'but': 108, 'teaspoon': 109, 'favourite': 110, 'top': 111, 'dish': 112, 'taste': 113, 'finely': 114, 'ð\\x9f¥°': 115, 'pictures': 116, 'well': 117, 'mixture': 118, 'them': 119, 'one': 120, 'cooking': 121, 'fresh': 122, 'cool': 123, 'be': 124, 'together': 125, 'olive': 126, '30': 127, 'potatoes': 128, 'meal': 129, 'powder': 130, 'inch': 131, 'make': 132, 'more': 133, 'egg': 134, '12': 135, 'pour': 136, 'out': 137, 'onion': 138, 'beef': 139, 'brown': 140, '7': 141, 'onions': 142, 'your': 143, 'brownies': 144, 'ground': 145, 'so': 146, 'my': 147, 'have': 148, 'jpeg': 149, 'hot': 150, 'type': 151, 'off': 152, 'simmer': 153, '9': 154, 'are': 155, 'side': 156, 'pizza': 157, 'lemon': 158, 'juice': 159, 'seasoning': 160, 'before': 161, 'sweet': 162, 'tomato': 163, 'meat': 164, 'when': 165, 'by': 166, 'serving': 167, 'just': 168, 'like': 169, 'little': 170, 'c': 171, 'hour': 172, 'blob': 173, 'use': 174, 'bread': 175, 'potato': 176, 'will': 177, 'smooth': 178, 'grated': 179, 'pie': 180, 'preheat': 181, 'set': 182, 'tomatoes': 183, 'batter': 184, 'curry': 185, 'salmon': 186, '25': 187, 'not': 188, 'www': 189, '2021': 190, 'steak': 191, 'reference': 192, 'peppers': 193, 'that': 194, 'up': 195, 'cinnamon': 196, 'sliced': 197, '45': 198, 'boil': 199, 'an': 200, 'dough': 201, 'cloves': 202, 'optional': 203, 'green': 204, 'once': 205, 'food': 206, 'tablespoons': 207, 'stock': 208, 'cooked': 209, 'pot': 210, 'beat': 211, 'sesame': 212, '11': 213, 'very': 214, 'warm': 215, 'half': 216, 'using': 217, 'honey': 218, 'red': 219, 'james': 220, 'dry': 221, 'peeled': 222, 'whisk': 223, 'small': 224, 'ginger': 225, 'prawn': 226, 'let': 227, 'bring': 228, 'pieces': 229, 'melted': 230, 'crushed': 231, 'each': 232, 'crispy': 233, 'white': 234, 'paste': 235, 'combine': 236, 'notes': 237, 'http': 238, 'any': 239, 'leaves': 240, 'golden': 241, 'ounces': 242, 'vegetable': 243, 'pinch': 244, 'beans': 245, 'great': 246, 'soup': 247, 'haggis': 248, 'cover': 249, 'extract': 250, 'puree': 251, 'creamy': 252, 'lightly': 253, 'frying': 254, 'parsley': 255, 'drain': 256, 'while': 257, 'extra': 258, 'basil': 259, '07': 260, 'adding': 261, 'fry': 262, 'related': 263, 'they': 264, 'parmesan': 265, 'easy': 266, 'tablespoon': 267, 'spoon': 268, 'makes': 269, 'stirring': 270, 'soy': 271, 'thai': 272, 'saucepan': 273, 'skin': 274, 'good': 275, 'allow': 276, 'best': 277, 'aside': 278, 'take': 279, 'rack': 280, '40': 281, 'salad': 282, 'squash': 283, 'fish': 284, 'â\\x84¹ï¸\\x8f': 285, 'degrees': 286, 'do': 287, 'back': 288, 'jas': 289, 'stuffed': 290, 'low': 291, 'few': 292, 'black': 293, 'was': 294, 'season': 295, 'filling': 296, 'through': 297, 'around': 298, 'png': 299, 'whole': 300, 'gently': 301, 'peel': 302, 'forums': 303, 'craigslist': 304, 'org': 305, 'bottom': 306, 'broth': 307, 'dried': 308, 'high': 309, 'toss': 310, '350': 311, 'melt': 312, 'another': 313, 'temperature': 314, 'servings': 315, 'buttermilk': 316, 'turn': 317, \"it's\": 318, 'put': 319, 'has': 320, 'reduce': 321, 'vegetables': 322, 'cauliflower': 323, 'mins': 324, 'smoked': 325, 'room': 326, 'minute': 327, 'ice': 328, '03': 329, 'also': 330, 'crust': 331, 'after': 332, 'plain': 333, 'sprinkle': 334, 'keep': 335, 'wok': 336, 'broccoli': 337, \"don't\": 338, 'teaspoons': 339, 'blend': 340, 'boiling': 341, '16': 342, 'minced': 343, 'drizzle': 344, 'unsalted': 345, 'cookie': 346, 'sheet': 347, 'too': 348, 'seeds': 349, '01': 350, 'nutmeg': 351, 'cake': 352, 'lime': 353, 'plate': 354, 'â½': 355, 'breasts': 356, '04': 357, 'double': 358, '08': 359, 'remaining': 360, 'knife': 361, 'square': 362, 'purpose': 363, 'plus': 364, 'heavy': 365, 'stick': 366, 'enough': 367, 'down': 368, 'chips': 369, 'per': 370, 'ahead': 371, 'mash': 372, 'chilli': 373, 'breast': 374, 'spaghetti': 375, 'paprika': 376, 'cold': 377, 'other': 378, 'these': 379, 't': 380, 'fold': 381, 'soda': 382, 'wine': 383, 'carrot': 384, 'banana': 385, 'sides': 386, 'nuts': 387, 'two': 388, '35': 389, 'spring': 390, 'get': 391, 'tender': 392, 'comes': 393, 'soft': 394, 'we': 395, 'should': 396, 'quick': 397, 'garnish': 398, '13': 399, 'ð\\x9f\\x8d\\x9d': 400, 'lamb': 401, 'marinade': 402, 'beetroot': 403, 'size': 404, 'processor': 405, 'skillet': 406, 'transfer': 407, 'dessert': 408, 'spices': 409, 'sea': 410, 'vinegar': 411, 'delicious': 412, 'ready': 413, 'carrots': 414, 'yogurt': 415, '2022': 416, 'ð\\x9f\\x90\\x94': 417, 'bosnian': 418, 'tray': 419, 'whisky': 420, 'halloumi': 421, 'thin': 422, 'bean': 423, 'mint': 424, 'combined': 425, 'spread': 426, 'light': 427, 'blender': 428, 'made': 429, 'pumpkin': 430, 'center': 431, 'onto': 432, 'pounds': 433, 'really': 434, '02': 435, 'paper': 436, 'drink': 437, 'diced': 438, 'simmering': 439, 'x': 440, 'line': 441, 'cornbread': 442, 'bacon': 443, 'mustard': 444, '300g': 445, '50g': 446, 'icing': 447, '200g': 448, 'prawns': 449, 'which': 450, 'baked': 451, 'toasted': 452, 'peas': 453, 'g': 454, 'sticky': 455, 'prepare': 456, 'wire': 457, '24': 458, 'glass': 459, 'biscuits': 460, '18': 461, 'needed': 462, '14': 463, 'casserole': 464, 'syrup': 465, 'watch': 466, 'hours': 467, 'fat': 468, 'vegetarian': 469, 'spinach': 470, 'classic': 471, 'pastry': 472, '50': 473, '100g': 474, 'swirls': 475, 'shell': 476, 'roll': 477, 'powdered': 478, 'covered': 479, 'thick': 480, 'clove': 481, 'pound': 482, 'gradually': 483, 'grease': 484, 'pudding': 485, 'clean': 486, 'fork': 487, 'flakes': 488, 'balsamic': 489, '0': 490, 'walnuts': 491, 'beaten': 492, 'iron': 493, 'frozen': 494, 'tip': 495, 'chop': 496, 'duck': 497, '100ml': 498, 'meatball': 499, 'ratatouille': 500, 'saffron': 501, 'cookies': 502, 'first': 503, 'tbs': 504, 'freshly': 505, 'next': 506, 'zest': 507, 'restaurant': 508, 'f': 509, 'slightly': 510, 'completely': 511, 'thoroughly': 512, 'co': 513, 'new': 514, 'base': 515, 'form': 516, 'me': 517, 'chunks': 518, 'softened': 519, 'continue': 520, 'his': 521, 'florets': 522, 'cornmeal': 523, 'cast': 524, '05': 525, 'youtube': 526, 'uk': 527, 'fillets': 528, 'ð\\x9f\\x8d\\x95': 529, 'bbq': 530, 'cocktail': 531, 'bit': 532, 'simple': 533, 'no': 534, 'oregano': 535, 'return': 536, 'meanwhile': 537, 'squares': 538, 'granulated': 539, 'browned': 540, 'bay': 541, 'leaf': 542, 'caramel': 543, 'dark': 544, 'cubes': 545, 'raisins': 546, 'floured': 547, 'orange': 548, 'mashed': 549, 'than': 550, 'leave': 551, '06': 552, 'day': 553, 'prefer': 554, 'favorite': 555, '29': 556, 'maple': 557, 'note': 558, 'here': 559, 'cocoa': 560, 'italian': 561, 'fruit': 562, 'carefully': 563, 'middle': 564, 'wooden': 565, 'prepared': 566, 'toothpick': 567, 'thyme': 568, 'spray': 569, 'balls': 570, 'again': 571, 'gelatin': 572, 'served': 573, 'instructions': 574, 'greens': 575, 'deep': 576, 'grilled': 577, 'blue': 578, 'chinese': 579, 'â\\x8f°': 580, '180â°c': 581, 'further': 582, 'v': 583, '280': 584, 'tagliatelle': 585, 'tin': 586, 'roasted': 587, 'chives': 588, 'haddock': 589, 'pinwheels': 590, 'freekeh': 591, 'risotto': 592, 'press': 593, 'whites': 594, 'see': 595, 'want': 596, 'either': 597, 'need': 598, 'slices': 599, '28': 600, 'drained': 601, 'would': 602, 'immediately': 603, 'flavor': 604, 'virgin': 605, 'oz': 606, 'al': 607, 'our': 608, 'mixer': 609, 'blended': 610, 'evenly': 611, 'work': 612, 'been': 613, \"i've\": 614, 'surface': 615, '400': 616, 'much': 617, \"i'm\": 618, 'start': 619, 'handful': 620, 'without': 621, 'butternut': 622, 'making': 623, 'kitchen': 624, 'microwave': 625, 'cheddar': 626, 'along': 627, 'how': 628, 'try': 629, 'fried': 630, 'now': 631, 'unsweetened': 632, 'plastic': 633, 'stalks': 634, 'mixed': 635, 'own': 636, '55': 637, 'coat': 638, 'coconut': 639, 'strips': 640, 'parchment': 641, 'brownie': 642, 'foil': 643, 'both': 644, 'cornflour': 645, '2020': 646, '150g': 647, 'sausage': 648, 'mozzarella': 649, 'meatballs': 650, 'roast': 651, 'ð\\x9f\\x90\\x9f': 652, '11eb': 653, 'pad': 654, 'tatties': 655, '00': 656, 'sifted': 657, 'away': 658, '22': 659, 'second': 660, 'yield': 661, 'less': 662, 'slice': 663, 'edges': 664, '36': 665, 'ladle': 666, 'sift': 667, 'fan': 668, 'whipped': 669, 'inserted': 670, 'flesh': 671, 'round': 672, 'still': 673, 'chilled': 674, 'mixing': 675, 'san': 676, 'right': 677, 'even': 678, 'big': 679, 'come': 680, 'most': 681, 'texture': 682, 'dinner': 683, 'used': 684, 'way': 685, 'bittersweet': 686, 'full': 687, 'celery': 688, 'cumin': 689, 'ts': 690, 'freeze': 691, 'loaf': 692, 'cooled': 693, 'rest': 694, 'leaving': 695, 'firm': 696, 'perfect': 697, 'fridge': 698, 'he': 699, '17': 700, 'finish': 701, 'school': 702, 'thighs': 703, 'tbc': 704, 'splash': 705, 'florence': 706, 'katsu': 707, 'raspberry': 708, 'sausages': 709, 'roughly': 710, 'strawberry': 711, 'bell': 712, '25g': 713, 'feta': 714, 'gyoza': 715, 'kiev': 716, 'addition': 717, 'think': 718, 'fava': 719, '19': 720, 'eat': 721, 'better': 722, 'necessary': 723, 'topping': 724, 'coarse': 725, 'crumbs': 726, 'hand': 727, 'approximately': 728, 'only': 729, 'last': 730, 'salted': 731, 'gratin': 732, 'home': 733, 'easier': 734, '09': 735, 'done': 736, 'nice': 737, 'party': 738, 'coated': 739, 'added': 740, 'magazine': 741, 'semisweet': 742, 'wrap': 743, 'coriander': 744, 'except': 745, 'fillet': 746, 'their': 747, 'espresso': 748, 'boiler': 749, '27': 750, 'fill': 751, 'grams': 752, 'chef': 753, 'purie': 754, 'pies': 755, 'asian': 756, 'person': 757, '120ml': 758, 'â¼': 759, 'ð\\x9f§\\x80': 760, 'itâ\\x80\\x99s': 761, '400g': 762, 'centre': 763, '2023': 764, 'depending': 765, 'halved': 766, 'aubergine': 767, 'muffins': 768, 'noodles': 769, 'neeps': 770, 'hotpot': 771, 'alfredo': 772, 'punjene': 773, 'paprike': 774, 'rocket': 775, 'traybake': 776, 'pesto': 777, 'bitter': 778, 'found': 779, 'desired': 780, 'almond': 781, 'preparation': 782, 'measure': 783, 'raw': 784, 'ornellaia': 785, 'saute': 786, 'touch': 787, 'squeeze': 788, '33': 789, 'sure': 790, 'times': 791, 'dente': 792, 'measuring': 793, 'spatula': 794, 'sticks': 795, 'discard': 796, 'had': 797, 'ounce': 798, 'packed': 799, 'spice': 800, 'several': 801, 'three': 802, 'old': 803, 'rolling': 804, 'hands': 805, 'rich': 806, 'layer': 807, 'sharp': 808, 'flat': 809, 'substitute': 810, 'its': 811, 'winter': 812, 'different': 813, 'however': 814, 'may': 815, 'cooks': 816, 'thickens': 817, 'cayenne': 818, 'quarter': 819, 'raspberries': 820, \"you're\": 821, 'occasionally': 822, 'bowls': 823, '48': 824, 'calories': 825, 'cilantro': 826, 'works': 827, 'burn': 828, 'moist': 829, 'least': 830, 'yellow': 831, 'bite': 832, 'shredded': 833, 'stove': 834, 'loosen': 835, 'between': 836, 'quickly': 837, 'fudge': 838, 'slowly': 839, 'strain': 840, 'popular': 841, 'custard': 842, 'every': 843, '39': 844, 'equipment': 845, 'basket': 846, 'meringue': 847, 'omar': 848, 'corn': 849, 'quartered': 850, '250g': 851, 'sautã©': 852, 'balmoral': 853, 'scottish': 854, 'blueberry': 855, 'rosemary': 856, '233': 857, 'issuecomment': 858, 'breadcrumbs': 859, 'mediterranean': 860, 'charred': 861, 'piccata': 862, 'bass': 863, 'almonds': 864, 'outer': 865, 'needs': 866, 'fingers': 867, 'careful': 868, 'amount': 869, 'ball': 870, 'four': 871, '21': 872, '38': 873, 'could': 874, 'release': 875, 'piece': 876, 'since': 877, 'pulse': 878, 'rub': 879, 'fettuccine': 880, 'speed': 881, 'beating': 882, 'usually': 883, 'split': 884, 'long': 885, 'does': 886, 'sweetened': 887, 'scoop': 888, 'pat': 889, 'margarine': 890, 'biscuit': 891, 'oatmeal': 892, 'pin': 893, 'brush': 894, 'crush': 895, 'pears': 896, '51': 897, 'sit': 898, 'juices': 899, 'soak': 900, 'often': 901, 'seed': 902, 'cutting': 903, 'there': 904, 'enjoy': 905, 'same': 906, 'many': 907, 'french': 908, 'become': 909, 'during': 910, 'protein': 911, 'love': 912, 'approx': 913, 'sprigs': 914, 'give': 915, 'sour': 916, 'oats': 917, 'fiber': 918, 'masala': 919, 'wet': 920, 'bunch': 921, 'looks': 922, 'shrimp': 923, 'chard': 924, 'stems': 925, 'pre': 926, 'refrigerated': 927, 'steel': 928, 'free': 929, 'her': 930, '59': 931, 'open': 932, 'strawberries': 933, 'run': 934, 'inside': 935, 'lunch': 936, 'grill': 937, 'edge': 938, 'pieman': 939, 'family': 940, 'remember': 941, 'leek': 942, 'thickened': 943, 'sized': 944, 'ð\\x9f¥³': 945, 'boneless': 946, 'skinless': 947, '500g': 948, 'fragrant': 949, 'create': 950, '145': 951, '144': 952, 'c54d': 953, '11ea': 954, 'separate': 955, 'mould': 956, 'oyster': 957, 'colour': 958, 'puddings': 959, 'tart': 960, 'bbc': 961, 'swede': 962, 'ring': 963, 'shaker': 964, 'whiskey': 965, '50ml': 966, 'mums': 967, '277': 968, 'gas': 969, '112': 970, 'bã©chamel': 971, 'schnitzel': 972, 'yoghurt': 973, 'jamie': 974, 'rogan': 975, 'josh': 976, 'stew': 977, 'guinness': 978, 'lining': 979, 'removed': 980, 'process': 981, 'blanched': 982, 'end': 983, 'index': 984, 'days': 985, 'refrigerator': 986, 'pod': 987, 'under': 988, 'soften': 989, 'point': 990, '31': 991, 'seconds': 992, 'worth': 993, 'such': 994, 'asparagus': 995, 'e': 996, 'evoo': 997, 's': 998, 'am': 999, 'delicate': 1000, 'quality': 1001, 'crusty': 1002, 'what': 1003, 'canned': 1004, 'pecorino': 1005, 'flavors': 1006, 'scrape': 1007, 'table': 1008, 'level': 1009, 'resembles': 1010, 'batches': 1011, 'started': 1012, 'pure': 1013, 'whipping': 1014, 'firmly': 1015, 'beginning': 1016, 'thickness': 1017, 'ungreased': 1018, 'board': 1019, 'knead': 1020, 'whip': 1021, 'results': 1022, 'o': 1023, 'torn': 1024, 'finally': 1025, 'refrigerate': 1026, 'lengthwise': 1027, 'always': 1028, 'special': 1029, 'removing': 1030, 'part': 1031, 'people': 1032, 'everyone': 1033, 'lay': 1034, 'awesome': 1035, 'buttered': 1036, 'quart': 1037, 'bubbling': 1038, 'creamed': 1039, 'important': 1040, 'heated': 1041, 'film': 1042, 'prevent': 1043, 'instead': 1044, 'adds': 1045, 'worked': 1046, 'fine': 1047, 'cornstarch': 1048, 'original': 1049, 'six': 1050, 'almost': 1051, 'consistency': 1052, 'quaker': 1053, 'sugars': 1054, 'store': 1055, 'sodium': 1056, 'teaspn': 1057, 'garam': 1058, 'pack': 1059, 'everything': 1060, 'going': 1061, 'nonstick': 1062, 'adjust': 1063, 'checking': 1064, 'bag': 1065, 'glaze': 1066, 'turmeric': 1067, 'go': 1068, 'basmati': 1069, 'lumps': 1070, 'coffee': 1071, 'shake': 1072, '325': 1073, 'pecans': 1074, 'overnight': 1075, 'week': 1076, 'frequently': 1077, 'bath': 1078, 'roasting': 1079, 'longer': 1080, 'stuff': 1081, 'html': 1082, 'cotta': 1083, 'chow': 1084, 'restaurants': 1085, 'southern': 1086, 'cracked': 1087, 'yolks': 1088, 'steamer': 1089, 'steam': 1090, 'unbaked': 1091, 'weight': 1092, 'mark': 1093, 'graham': 1094, 'crackers': 1095, 'liquid': 1096, 'sieve': 1097, 'deveined': 1098, 'flax': 1099, 'crisp': 1100, 'boy': 1101, 'favourites': 1102, 'towel': 1103, 'excess': 1104, 'wonderful': 1105, '57': 1106, '60ml': 1107, 'penne': 1108, 'stroganoff': 1109, 'english': 1110, 'starts': 1111, 'decorate': 1112, 'tins': 1113, 'divide': 1114, 'placing': 1115, 'ð\\x9f§\\x91ð\\x9f\\x8f¼â\\x80\\x8dð\\x9f\\x8d³': 1116, 'peppercorns': 1117, 'wonder': 1118, 'ð\\x9f\\x8d\\x95ð\\x9f\\x94¥': 1119, '34': 1120, 'incredible': 1121, 'shallots': 1122, '200c': 1123, 'scottishscran': 1124, '447': 1125, 'inspired': 1126, '47': 1127, 'mild': 1128, 'shimotori': 1129, 'king': 1130, 'ð\\x9f\\x8d\\x93': 1131, 'ð\\x9f\\x8d\\x8c': 1132, '06t21': 1133, 'yorkshire': 1134, '294': 1135, 'sizzling': 1136, '150ml': 1137, 'gravy': 1138, '60g': 1139, 'ooni': 1140, 'â\\x80\\x93': 1141, 'stack': 1142, 'repeat': 1143, 'martini': 1144, 'cards': 1145, 'club': 1146, 'knob': 1147, 'dijon': 1148, 'wedges': 1149, 'fennel': 1150, 'pea': 1151, 'chowder': 1152, '58': 1153, 'swirl': 1154, 'grain': 1155, 'cherry': 1156, 'steaks': 1157, 'japanese': 1158, 'panko': 1159, 'covering': 1160, 'capers': 1161, 'courgette': 1162, 'harissa': 1163, 'milkshake': 1164, 'seabass': 1165, 'tandoori': 1166, 'farfalle': 1167, 'cabbage': 1168, 'gyozas': 1169, 'consuming': 1170, 'across': 1171, '300': 1172, 'categories': 1173, 'mold': 1174, 'example': 1175, '42': 1176, 'recommend': 1177, 'shavings': 1178, 'lbs': 1179, 'toast': 1180, 'gets': 1181, 'version': 1182, 'briefly': 1183, 'glossy': 1184, 'ap': 1185, 'foamy': 1186, 'lemons': 1187, 'tangelos': 1188, '3500f': 1189, 'know': 1190, 'shortening': 1191, 'apart': 1192, 'regular': 1193, 'dozen': 1194, 'flatten': 1195, 'inexpensive': 1196, 'temp': 1197, 'goes': 1198, 'panzanella': 1199, 'cube': 1200, 'equal': 1201, 'seeded': 1202, 'score': 1203, 'quite': 1204, 'neck': 1205, 'rounded': 1206, 'fitted': 1207, 'break': 1208, \"that's\": 1209, 'holiday': 1210, 'suggested': 1211, 'result': 1212, 'site': 1213, 'preferred': 1214, 'macaroni': 1215, 'uncovered': 1216, 'dishes': 1217, 'leftovers': 1218, 'foods': 1219, 'bottomed': 1220, 'constantly': 1221, 'bubbles': 1222, 'lower': 1223, 'forming': 1224, 'warmed': 1225, 'tried': 1226, \"doesn't\": 1227, 'sandwich': 1228, 'courtesy': 1229, 'chiles': 1230, 'greasing': 1231, 'cling': 1232, 'ripe': 1233, 'bananas': 1234, 'five': 1235, 'wheat': 1236, 'applesauce': 1237, 'flours': 1238, 'chill': 1239, 'shape': 1240, 'inches': 1241, 'thaw': 1242, '5g': 1243, 'carbohydrate': 1244, 'cholesterol': 1245, 'got': 1246, 'dinners': 1247, 'lemongrass': 1248, 'choice': 1249, 'skim': 1250, 'fast': 1251, 'takes': 1252, 'tiny': 1253, 'lentil': 1254, 'masa': 1255, '125g': 1256, 'dissolved': 1257, 'instant': 1258, 'electric': 1259, 'thicker': 1260, 'gooey': 1261, 'overmix': 1262, 'overbake': 1263, '425': 1264, 'barely': 1265, 'attachment': 1266, '49': 1267, 'adapted': 1268, 'walnut': 1269, 'pecan': 1270, 'unmold': 1271, 'trim': 1272, 'granules': 1273, 'stainless': 1274, 'incorporated': 1275, 'lined': 1276, 'ends': 1277, 'dense': 1278, 'scharffen': 1279, 'berger': 1280, '70': 1281, 'greased': 1282, 'check': 1283, 'dusting': 1284, '53': 1285, 'friend': 1286, 'based': 1287, '177': 1288, '23': 1289, 'cm': 1290, 'panna': 1291, '37': 1292, 'ramekins': 1293, '32': 1294, 'proof': 1295, 'individual': 1296, 'essence': 1297, 'among': 1298, 'tilt': 1299, 'stiff': 1300, 'slide': 1301, 'mg': 1302, 'toasts': 1303, 'owner': 1304, 'opened': 1305, 'street': 1306, '552': 1307, 'daily': 1308, 'coating': 1309, 'masher': 1310, 'cooling': 1311, 'yams': 1312, 'dash': 1313, 'push': 1314, 'strainer': 1315, 'weights': 1316, 'remainder': 1317, 'homemade': 1318, 'known': 1319, 'business': 1320, 'orleans': 1321, 'behind': 1322, 'taken': 1323, 'sorbet': 1324, 'grapefruit': 1325, 'baby': 1326, 'single': 1327, 'canola': 1328, 'min': 1329, 'crunchy': 1330, 'trick': 1331, 'sirloin': 1332, 'toppings': 1333, 'shortly': 1334, 'buttery': 1335, 'consistent': 1336, '364': 1337, 'alternatively': 1338, '30ml': 1339, '450g': 1340, 'suitable': 1341, 'garnished': 1342, 'mushrooms': 1343, 'non': 1344, 'scatter': 1345, 'bbcgoodfood': 1346, 'cacio': 1347, 'peppe': 1348, 'alex': 1349, 'were': 1350, 'passata': 1351, 'others': 1352, '06t20': 1353, '60': 1354, 'ð\\x9f\\x92ª': 1355, 'bight': 1356, 'dogs': 1357, 'find': 1358, '220â°c': 1359, 'optionally': 1360, '16t13': 1361, 'donâ\\x80\\x99t': 1362, 'seal': 1363, 'scran': 1364, '448': 1365, 'variation': 1366, 'dumplings': 1367, 'following': 1368, '1l': 1369, 'wrestlers': 1370, 'cambridge': 1371, 'team': 1372, 'wagamama': 1373, 'palm': 1374, 'chillies': 1375, '600g': 1376, '110ml': 1377, 'blueberries': 1378, 'muffin': 1379, 'toad': 1380, 'hole': 1381, 'hits': 1382, 'smoking': 1383, 'ensure': 1384, 'appetiser': 1385, 'ð\\x9f\\x8d«': 1386, '85g': 1387, 'ð\\x9f\\x8d¸': 1388, 'clover': 1389, 'gin': 1390, 'caster': 1391, 'absorbed': 1392, '1kg': 1393, 'ovenproof': 1394, 'book': 1395, 'slimming': 1396, '200â°c': 1397, 'pã¢tã©': 1398, 'flavour': 1399, '600ml': 1400, 'granddads': 1401, 'trimmed': 1402, 'thicken': 1403, 'those': 1404, 'carbonara': 1405, 'pancetta': 1406, '41': 1407, 'friends': 1408, 'reduced': 1409, 'flank': 1410, 'cashews': 1411, 'yeast': 1412, 'wash': 1413, 'olives': 1414, '256': 1415, 'oliver': 1416, 'puff': 1417, '1cm': 1418, 'whilst': 1419, 'garlicky': 1420, '1â½': 1421, '261': 1422, 'colouring': 1423, 'flatbreads': 1424, '290': 1425, 'mayo': 1426, 'perfected': 1427, 'salmone': 1428, 'wrappers': 1429, 'margherita': 1430, 'blanching': 1431, 'case': 1432, 'especially': 1433, 'hazelnuts': 1434, 'tough': 1435, 'somewhat': 1436, 'skinned': 1437, 'finger': 1438, 'because': 1439, 'degree': 1440, 'preheated': 1441, 'exported': 1442, 'mastercook': 1443, 'tightly': 1444, 'container': 1445, 'macaroons': 1446, 'throw': 1447, 'simply': 1448, 'bright': 1449, 'shaving': 1450, 'crostini': 1451, 'excellent': 1452, 'p': 1453, 'yum': 1454, 'favas': 1455, 'pasty': 1456, 'stop': 1457, 'beens': 1458, 'reserving': 1459, 'grate': 1460, 'couple': 1461, 'mother': 1462, 'rind': 1463, 'partially': 1464, \"confectioner's\": 1465, 'confectioner': 1466, 'bars': 1467, 'bon': 1468, 'appetit': 1469, 'july': 1470, 'california': 1471, 'cuminseed': 1472, 'moderately': 1473, 'never': 1474, 'eating': 1475, 'stand': 1476, 'melts': 1477, 'dissolves': 1478, '375': 1479, 'places': 1480, 'alternately': 1481, 'additions': 1482, 'cutter': 1483, 'gather': 1484, 'scraps': 1485, 'unbleached': 1486, 'rounds': 1487, 'moister': 1488, 'handle': 1489, '450': 1490, 'sometimes': 1491, \"there's\": 1492, 'interior': 1493, 'drop': 1494, 'additional': 1495, 'risen': 1496, 'marzano': 1497, 'reserve': 1498, 'stem': 1499, 'hold': 1500, 'disolved': 1501, 'nli': 1502, 'please': 1503, 'sourdough': 1504, 'maybe': 1505, 'personally': 1506, 'lot': 1507, 'tear': 1508, 'seen': 1509, 'cucumber': 1510, 'herbs': 1511, 'pureed': 1512, 'reserved': 1513, 'thanksgiving': 1514, 'fashion': 1515, 'slicing': 1516, 'colander': 1517, 'arrange': 1518, 'distribute': 1519, 'heating': 1520, 'jacques': 1521, 'pépin': 1522, 'knopf': 1523, 'currently': 1524, 'anyway': 1525, 'subtle': 1526, 'incredibly': 1527, 'technique': 1528, 'step': 1529, 'alternative': 1530, 'francisco': 1531, 'loved': 1532, 'scratch': 1533, 'giving': 1534, 'life': 1535, 'béchamel': 1536, 'perfectly': 1537, 'uses': 1538, 'us': 1539, 'begin': 1540, 'suggestions': 1541, 'idea': 1542, 'poured': 1543, 'suggests': 1544, 'warming': 1545, 'flavours': 1546, 'prevention': 1547, 'originally': 1548, 'called': 1549, 'closer': 1550, 'ok': 1551, 'nutrition': 1552, 'likes': 1553, 'night': 1554, 'allrecipes': 1555, 'tablespoonfuls': 1556, '100': 1557, 'variations': 1558, 'copyright': 1559, 'company': 1560, 'batch': 1561, 'root': 1562, 'ghee': 1563, 'flouring': 1564, 'rise': 1565, 'position': 1566, 'rubber': 1567, 'chunky': 1568, 'bouillon': 1569, 'croutons': 1570, 'braise': 1571, 'crystallized': 1572, '350°': 1573, 'zip': 1574, 'freezer': 1575, 'month': 1576, '7g': 1577, '2g': 1578, 'layers': 1579, 'frosting': 1580, 'seafood': 1581, 'bok': 1582, 'till': 1583, 'advance': 1584, 'wanting': 1585, 'wilted': 1586, 'syrian': 1587, 'lentils': 1588, 'squeezed': 1589, 'harina': 1590, 'avoid': 1591, 'fit': 1592, '9x12': 1593, 'semi': 1594, 'mary': 1595, 'smell': 1596, 'air': 1597, 'parts': 1598, 'ones': 1599, 'don': 1600, 'fudgey': 1601, 'nick': 1602, 'say': 1603, 'shiny': 1604, 'house': 1605, 'google': 1606, 'against': 1607, 'self': 1608, 'force': 1609, 'wrapped': 1610, 'teas': 1611, 'overhang': 1612, 'opposite': 1613, 'wide': 1614, 'fairly': 1615, 'test': 1616, 'lift': 1617, 'stored': 1618, 'halves': 1619, 'working': 1620, '99': 1621, 'sections': 1622, 'dutch': 1623, 'crack': 1624, 'overbeat': 1625, 'pretty': 1626, 'alton': 1627, 'summary': 1628, 'difficulty': 1629, 'rating': 1630, 'stars': 1631, 'fluffy': 1632, 'might': 1633, \"here's\": 1634, 'huge': 1635, 'difference': 1636, 'epicurious': 1637, 'easiest': 1638, '52': 1639, 'katharine': 1640, 'who': 1641, 'article': 1642, 'apparently': 1643, 'nicer': 1644, 'fancy': 1645, 'scattering': 1646, \"cook's\": 1647, 'box': 1648, \"nigella's\": 1649, 'peanuts': 1650, 'options': 1651, 'pint': 1652, 'champagne': 1653, 'ramekin': 1654, 'seasonal': 1655, 'styrofoam': 1656, 'moisten': 1657, 'molds': 1658, 'custards': 1659, 'paring': 1660, 'invert': 1661, 'saturated': 1662, '46': 1663, 'michael': 1664, 'bauer': 1665, '2000': 1666, 'combination': 1667, 'anchovy': 1668, 'roma': 1669, 'marinated': 1670, 'heart': 1671, 'park': 1672, 'similar': 1673, 'market': 1674, 'secrets': 1675, 'success': 1676, \"can't\": 1677, 'color': 1678, 'hottest': 1679, 'tips': 1680, 'chronicle': 1681, 'page': 1682, 'cgi': 1683, 'cubed': 1684, 'mine': 1685, 'bourbon': 1686, 'prick': 1687, 'pale': 1688, 'mound': 1689, '1998': 1690, 'cracker': 1691, 'allspice': 1692, 'buy': 1693, 'mmmmm': 1694, 'tb': 1695, 'vending': 1696, '1964': 1697, 'left': 1698, 'haneefah': 1699, 'decided': 1700, 'cakes': 1701, 'years': 1702, 'jazz': 1703, 'heritage': 1704, 'festival': 1705, 'throughout': 1706, 'she': 1707, 'wineglass': 1708, 'zested': 1709, 'pounded': 1710, 'refreshing': 1711, 'tasty': 1712, 'pink': 1713, 'shallow': 1714, 'sprig': 1715, '26': 1716, 'accompanied': 1717, 'leeks': 1718, 'slotted': 1719, 'heaven': 1720, 'iowa': 1721, 'year': 1722, 'chili': 1723, 'thinks': 1724, 'final': 1725, 'outside': 1726, '102': 1727, 'feeling': 1728, 'whisked': 1729, \"you'll\": 1730, 'ketchup': 1731, 'aim': 1732, 'jump': 1733, 'wednesdays': 1734, '184': 1735, '366': 1736, '155019834': 1737, '6b1bca8b': 1738, 'fb4a': 1739, '4420': 1740, '9166': 1741, '0f078fb9b3c9': 1742, '369': 1743, '80ml': 1744, '65g': 1745, 'fryer': 1746, '330': 1747, 'dinnerthendessert': 1748, '297': 1749, 'slow': 1750, '30t17': 1751, 'crã¨me': 1752, 'fraã®che': 1753, '351': 1754, '359': 1755, 'ð\\x9f\\x87®ð\\x9f\\x87¹': 1756, 'technical': 1757, 'absolutely': 1758, 'empty': 1759, 'being': 1760, 'liking': 1761, 'amazing': 1762, 'marsano': 1763, '170g': 1764, '18t10': 1765, '234': 1766, 'said': 1767, 'daughter': 1768, \"so's\": 1769, 'thought': 1770, 'series': 1771, \"alex's\": 1772, 'things': 1773, 'points': 1774, 'golf': 1775, 'softer': 1776, 'packets': 1777, 'grating': 1778, '449': 1779, '70g': 1780, 'slit': 1781, 'circle': 1782, 'secure': 1783, 'clear': 1784, '220': 1785, 'veg': 1786, 'squashed': 1787, 'range': 1788, 'foam': 1789, 'bones': 1790, 'help': 1791, 'ease': 1792, 'pouring': 1793, 'spicy': 1794, 'newmarket': 1795, 'road': 1796, 'regularly': 1797, 'reminded': 1798, \"chilli's\": 1799, 'separately': 1800, 'utensil': 1801, 'omurice': 1802, 'brought': 1803, 'bamboo': 1804, 'shoots': 1805, 'shelled': 1806, 'oils': 1807, 'where': 1808, 'preference': 1809, 'packet': 1810, 'garden': 1811, '344': 1812, 'sup': 1813, '190g': 1814, 'liners': 1815, '324': 1816, 'opportunity': 1817, 'heads': 1818, 'fully': 1819, '349': 1820, 'browning': 1821, 'sweat': 1822, 'burning': 1823, 'facebook': 1824, '18t17': 1825, '258': 1826, 'â½oz': 1827, 'quarters': 1828, '30mins': 1829, 'easily': 1830, 'wish': 1831, '130': 1832, 'strong': 1833, 'vigorously': 1834, 'getcocktailcards': 1835, '328': 1836, '281': 1837, 'vermouth': 1838, '20ml': 1839, 'jam': 1840, 'cocktails': 1841, '310': 1842, 'jameson': 1843, 'barrel': 1844, '15ml': 1845, 'helps': 1846, '13t11': 1847, '76': 1848, 'sweets': 1849, 'treats': 1850, 'yolk': 1851, '20t10': 1852, '266': 1853, 'turkey': 1854, 'aluminium': 1855, 'moisture': 1856, '171': 1857, 'maris': 1858, 'piper': 1859, '400ml': 1860, '320g': 1861, 'snipped': 1862, 'sweetcorn': 1863, 'petits': 1864, 'pois': 1865, '180c': 1866, 'sticking': 1867, 'pop': 1868, 'ba34': 1869, '542': 1870, 'foodie': 1871, 'broken': 1872, '11t09': 1873, '187': 1874, 'cans': 1875, 'mascarpone': 1876, '220c': 1877, 'mygorgeousrecipes': 1878, '28t18': 1879, '111': 1880, '370': 1881, '90g': 1882, '110g': 1883, '07t22': 1884, '394': 1885, 'boat': 1886, 'tri': 1887, 'ribara': 1888, 'inspiration': 1889, '437': 1890, 'early': 1891, '500ml': 1892, '79': 1893, 'smoky': 1894, 'placed': 1895, 'possible': 1896, 'becomes': 1897, '348': 1898, 'chorizo': 1899, 'pearl': 1900, 'barley': 1901, 'kidney': 1902, 'sough': 1903, 'drops': 1904, '162': 1905, 'a2e3': 1906, '347': 1907, '300ml': 1908, 'kick': 1909, 'starch': 1910, 'topped': 1911, '371': 1912, 'crumble': 1913, 'toothpicks': 1914, 'london': 1915, 'broil': 1916, '148': 1917, '186': 1918, '231': 1919, '31t21': 1920, 'mummy': 1921, 'punjena': 1922, 'pã»é²enaë\\x90': 1923, 'pç\\x8eprika': 1924, 'lit': 1925, 'croatian': 1926, 'consisting': 1927, 'capsicums': 1928, 'balkans': 1929, '80g': 1930, 'vegeta': 1931, 'membranes': 1932, 'halfway': 1933, 'compact': 1934, 'mass': 1935, 'bakingwithsibella': 1936, '2013': 1937, '546': 1938, 'creme': 1939, 'fraiche': 1940, 'juiced': 1941, 'dressing': 1942, '575': 1943, 'raid': 1944, 'butterflied': 1945, 'breadcrumb': 1946, 'ensuring': 1947, 'nicely': 1948, 'natural': 1949, '8da5': 1950, 'meals': 1951, 'enclosed': 1952, 'worry': 1953, 'gap': 1954, 'neat': 1955, '03t21': 1956, '286': 1957, '165': 1958, '250ml': 1959, '183': 1960, '346': 1961, 'crackle': 1962, 'brand': 1963, 'greek': 1964, 'tongs': 1965, '291': 1966, 'recent': 1967, '636': 1968, '181': 1969, '179': 1970, 'flame': 1971, '356': 1972, 'poach': 1973, '333': 1974, 'chestnuts': 1975, 'kneading': 1976, 'jamescallaghan': 1977, 'twitter': 1978, '428': 1979, \"kiev's\": 1980, '268': 1981, '235': 1982, 'pistachios': 1983, 'husk': 1984, 'inner': 1985, 'unattractive': 1986, 'confection': 1987, 'goods': 1988, 'purchasing': 1989, 'already': 1990, 'rinse': 1991, 'skins': 1992, 'holding': 1993, 'thumb': 1994, 'pointing': 1995, 'shoot': 1996, 'jelly': 1997, 'rimmed': 1998, 'ii': 1999, '96': 2000, 'candies': 2001, 'age': 2002, 'ideas': 2003, 'fewer': 2004, 'treat': 2005, 'young': 2006, 'twice': 2007, 'pleanty': 2008, 'doubly': 2009, 'quicly': 2010, '14285654': 2011, 'puckering': 2012, 'sautee': 2013, 'baguette': 2014, 'produce': 2015, 'extend': 2016, 'sauteed': 2017, 'appetizer': 2018, 'anchohungry': 2019, 'boiled': 2020, 'processed': 2021, 'shave': 2022, 'parmesean': 2023, 'grind': 2024, 'subject': 2025, 'shuck': 2026, 'grey': 2027, 'pinching': 2028, 'squeezing': 2029, 'unveven': 2030, 'kthis': 2031, 'vote': 2032, 'sauceyyyy': 2033, 'learned': 2034, 'visiting': 2035, \"mother's\": 2036, 'hometown': 2037, 'calabria': 2038, 'asked': 2039, 'reply': 2040, 'shrug': 2041, 'understood': 2042, 'why': 2043, 'curious': 2044, 'tra': 2045, 'vigne': 2046, 'gray': 2047, 'sauti': 2048, \"now's\": 2049, 'ceramic': 2050, 'kid': 2051, 'tested': 2052, 'approved': 2053, '1999': 2054, '12130337': 2055, 'tangelo': 2056, 'dust': 2057, '9x13x2': 2058, 'maintain': 2059, '1991': 2060, 'lana': 2061, 'sills': 2062, 'north': 2063, 'hollywood': 2064, 'crumbled': 2065, 'sauté': 2066, 'writes': 2067, 'marie': 2068, 'hernandez': 2069, 'chicago': 2070, 'trying': 2071, 'wildfire': 2072, 'oak': 2073, 'brook': 2074, 'illinois': 2075, 'changed': 2076, 'mind': 2077, 'ago': 2078, '350°f': 2079, '11x7': 2080, 'tester': 2081, 'pierce': 2082, 'cinnameon': 2083, 'ending': 2084, 'generously': 2085, 'reroll': 2086, 'puffed': 2087, 'transfr': 2088, 'peels': 2089, '°f': 2090, \"maggie's\": 2091, 'falling': 2092, 'seems': 2093, 'overworked': 2094, 'adapt': 2095, 'potpie': 2096, 'cobbler': 2097, 'glowing': 2098, 'cries': 2099, 'dribble': 2100, 'chin': 2101, 'dump': 2102, 'surfacec': 2103, 'thick\\x97you': 2104, 'dirty': 2105, 'job': 2106, 'fine\\x97and': 2107, 'appealingly': 2108, 'tomatoesa': 2109, 'shred': 2110, 'raviolis': 2111, 'ravioli': 2112, 'poached': 2113, 'bosc': 2114, 'bottle': 2115, 'stirr': 2116, 'romatomato': 2117, 'crustier': 2118, 'fruity': 2119, 'depends': 2120, 'chiffonaded': 2121, 'thinly': 2122, 'chilis': 2123, 'simplicity': 2124, 'ah': 2125, 'acid': 2126, 'squashes': 2127, 'welcome': 2128, 'occasions': 2129, 'horizontally': 2130, 'cylindrical': 2131, 'underneath': 2132, 'revealed': 2133, 'spiral': 2134, 'object': 2135, 'manner': 2136, 'blade': 2137, 'properly': 2138, 'broiler': 2139, 'celebrates': 2140, 'sarah': 2141, 'sarahgael': 2142, 'hotmail': 2143, 'sf': 2144, 'wanted': 2145, 'comment': 2146, 'asserted': 2147, 'letting': 2148, 'lose': 2149, 'vitamins': 2150, 'denver': 2151, 'replace': 2152, 'sickly': 2153, 'marshmellow': 2154, 'pleased': 2155, 'problem': 2156, 'peeling': 2157, 'sturdy': 2158, 'quit': 2159, 'wing': 2160, 'turns': 2161, 'firmer': 2162, 'diego': 2163, 'smoother': 2164, 'definitely': 2165, 'reviewer': 2166, 'did': 2167, 'keeper': 2168, 'vancouver': 2169, 'bc': 2170, 'yummy': 2171, 'cuts': 2172, 'reducing': 2173, 'ca': 2174, 'ways': 2175, '375°': 2176, 'bechamel': 2177, 'lessons': 2178, 'economics': 2179, 'classes': 2180, 'invariably': 2181, 'bland': 2182, 'proper': 2183, 'homey': 2184, 'stretch': 2185, 'soufflés': 2186, 'term': 2187, 'foolproof': 2188, 'attain': 2189, 'proficient': 2190, 'cautionary': 2191, 'streaming': 2192, 'video': 2193, 'demonstration': 2194, '\\x97': 2195, 'continuing': 2196, 'later': 2197, 'wax': 2198, 'washington': 2199, 'dc': 2200, 'basic': 2201, 'springvalley': 2202, 'mn': 2203, 'bulion': 2204, 'philadelphia': 2205, 'pa': 2206, 'certainly': 2207, 'alot': 2208, 'toronto': 2209, 'ontario': 2210, 'joy': 2211, 'avoids': 2212, 'ricepaddy': 2213, 'b': 2214, 'cow': 2215, 'although': 2216, 'gives': 2217, 'indigestion': 2218, 'anyways': 2219, 'suffer': 2220, 'decadent': 2221, 'chocolatey': 2222, 'chocoholic': 2223, \"haven't\": 2224, 'edensoy': 2225, 'whisking': 2226, 'boils': 2227, 'interested': 2228, \"i'll\": 2229, 'puts': 2230, 'facts': 2231, 'flourless': 2232, 'cuz': 2233, 'nobody': 2234, 'biting': 2235, 'lump': 2236, '9713282': 2237, 'minestrone': 2238, 'healthy': 2239, 'antioxidants': 2240, 'hearty': 2241, 'lucky': 2242, 'printed': 2243, 'submitted': 2244, 'shelley': 2245, 'directions': 2246, 'dab': 2247, 'spoonful': 2248, '10765947': 2249, 'vanishing': 2250, 'raisin': 2251, 'uncooked': 2252, 'fashioned': 2253, 'information': 2254, '4g': 2255, '75mg': 2256, 'dietary': 2257, '1g': 2258, 'ÿÿÿ': 2259, 'candy': 2260, 'omit': 2261, 'securely': 2262, 'source': 2263, '1994': 2264, 'reprinted': 2265, 'permission': 2266, 'electronic': 2267, 'format': 2268, 'karen': 2269, 'mintzias': 2270, 'ritz': 2271, 'carlton': 2272, 'fabulousbakerboy': 2273, 'gonna': 2274, 'math': 2275, 'gold': 2276, '10012199': 2277, 'saag': 2278, 'art': 2279, 'indian': 2280, 'yamuna': 2281, 'devi': 2282, 'tbspn': 2283, 'tumeric': 2284, 'tbspns': 2285, 'clarified': 2286, 'washed': 2287, 'tbsns': 2288, 'shortened': 2289, 'desciptions': 2290, 'h2o': 2291, 'marsala': 2292, 'panir': 2293, 'tweaked': 2294, 'chopping': 2295, 'lazily': 2296, 'thru': 2297, 'proccessor': 2298, 'esp': 2299, 'w': 2300, '6300410': 2301, 'causes': 2302, 'higher': 2303, 'slick': 2304, 'darkly': 2305, 'speckled': 2306, '10372202': 2307, 'commercial': 2308, 'purée': 2309, 'immersion': 2310, 'reheat': 2311, 'rec': 2312, 'divided': 2313, 'sheets': 2314, 'racks': 2315, 'duty': 2316, '123': 2317, 'satfat': 2318, 'monofat': 2319, 'polyfat': 2320, '9g': 2321, '0mg': 2322, '4mg': 2323, '98mg': 2324, 'calcium': 2325, '24mg': 2326, '2001': 2327, 'molly': 2328, \"o'neill's\": 2329, 'ny': 2330, 'bakery': 2331, '11x9': 2332, 'coarsely': 2333, 'springs': 2334, 'touched': 2335, 'frost': 2336, 'pkg': 2337, 'tv': 2338, 'concentrated': 2339, 'bruised': 2340, 'stalked': 2341, 'preferably': 2342, 'organic': 2343, 'choi': 2344, 'sizzle': 2345, 'sorts': 2346, 'pumpkins': 2347, 'vary': 2348, 'enormously': 2349, 'mentioned': 2350, 'cools': 2351, 'robustly': 2352, \"they'll\": 2353, \"shouldn't\": 2354, 'suits': 2355, 'tamp': 2356, \"choi's\": 2357, 'feel': 2358, 'decant': 2359, 'hungrymonkey': 2360, \"'adas\": 2361, 'bi': 2362, 'haamud': 2363, 'kind': 2364, 'rib': 2365, 'plenty': 2366, 'champurrado': 2367, 'speak': 2368, 'tortilla': 2369, 'block': 2370, 'mexican': 2371, 'ibarra': 2372, \"fooder's\": 2373, 'chcoclate': 2374, 'mis': 2375, 'valilla': 2376, 'rattle': 2377, 'hardened': 2378, 'accomodate': 2379, 'encinger': 2380, 'york': 2381, '98': 2382, '9x13': 2383, 'martha': 2384, \"stewart's\": 2385, 'ultimate': 2386, 'blending': 2387, 'pulling': 2388, 'according': 2389, 'sister': 2390, 'law': 2391, 'tells': 2392, 'evaporating': 2393, 'teasp': 2394, 'backing': 2395, 'fluffly': 2396, \"alison's\": 2397, 'til': 2398, 'cakey': 2399, 'lainielou': 2400, 'imo': 2401, 'malgieri': 2402, 'ahold': 2403, 'supernatural': 2404, 'extravagant': 2405, 'showstoppers': 2406, 'resting': 2407, 'happens': 2408, 'buttering': 2409, 'heatproof': 2410, 'colored': 2411, 'formed': 2412, 'hah': 2413, '11003371': 2414, 'embrace': 2415, 'avidreader': 2416, 'damn': 2417, 'files': 2418, 'checked': 2419, 'amounts': 2420, 'outrageous': 2421, 'barefoot': 2422, 'contessa': 2423, 'rap': 2424, 'escape': 2425, 'keeps': 2426, 'sinking': 2427, 'ruin': 2428, '12822881': 2429, 'realize': 2430, 'answer': 2431, 'gal': 2432, 'context': 2433, 'discussion': 2434, 'differences': 2435, 'methods': 2436, 'rapidly': 2437, 'phone': 2438, 'calls': 2439, 'temperatures': 2440, 'dipping': 2441, 'pull': 2442, 'probably': 2443, '12456665': 2444, \"robert's\": 2445, 'fudgy': 2446, 'chocolatier': 2447, 'robert': 2448, 'steinberg': 2449, 'enjoys': 2450, \"barron's\": 2451, 'maida': 2452, \"heatter's\": 2453, 'american': 2454, 'desserts': 2455, '1985': 2456, 'scant': 2457, 'briskly': 2458, 'sixteen': 2459, \"karen's\": 2460, 'parent': 2461, 'fuss': 2462, 'retro': 2463, \"60's\": 2464, \"'adult\": 2465, \"brownies'\": 2466, 'marin': 2467, 'schools': 2468, 'hills': 2469, 'plaza': 2470, 'dolphin': 2471, 'class': 2472, 'ages': 2473, 'scored': 2474, 'unsifted': 2475, 'dirtying': 2476, 'digging': 2477, 'grab': 2478, \"john's\": 2479, 'kosher': 2480, 'doneness': 2481, 'true': 2482, 'resist': 2483, 'temptation': 2484, 'mostly': 2485, 'poorteacher': 2486, 'looking': 2487, 'though': 2488, 'official': 2489, 'imported': 2490, \"hershey's\": 2491, 'happened': 2492, '16258018': 2493, 'gatitacaterina': 2494, \"hepburn's\": 2495, 'hepburn': 2496, \"family's\": 2497, '3250f': 2498, 'pile': 2499, 'smarten': 2500, 'act': 2501, 'crime': 2502, 'franche': 2503, 'shaved': 2504, 'harried': 2505, 'guide': 2506, 'laurie': 2507, 'colwin': 2508, 'endless': 2509, 'feasts': 2510, 'april': 2511, '2003': 2512, 'edited': 2513, 'ruth': 2514, 'reichl': 2515, 'modern': 2516, 'library': 2517, '18840108': 2518, 'bellachelsea': 2519, '56': 2520, 'domestic': 2521, 'goddess': 2522, 'stopped': 2523, 'flower': 2524, 'look': 2525, 'yummies': 2526, '18178246': 2527, '350f': 2528, 'mouthed': 2529, 'smoothly': 2530, 'paler': 2531, 'speckle': 2532, 'alert': 2533, 'maximum': 2534, 'cherries': 2535, 'brazil': 2536, 'joyofbaking': 2537, 'printpages': 2538, 'browniesprint': 2539, '680': 2540, '226': 2541, '210': 2542, 'envelopes': 2543, 'bloom': 2544, 'stain': 2545, '10951850': 2546, \"fools'\": 2547, 'scald': 2548, 'scraped': 2549, 'icorporate': 2550, 'simmered': 2551, 'firms': 2552, 'macerate': 2553, 'pairing': 2554, 'losen': 2555, 'pana': 2556, '1807369': 2557, \"delfina's\": 2558, 'craig': 2559, \"stoll's\": 2560, 'mission': 2561, 'district': 2562, 'delfina': 2563, 'envelope': 2564, 'sandy': 2565, 'residual': 2566, 'dipped': 2567, 'caramelizes': 2568, 'standing': 2569, \"arm's\": 2570, 'length': 2571, 'bubble': 2572, 'sputter': 2573, 'sputtering': 2574, 'stops': 2575, 'below': 2576, 'caramelized': 2577, 'sets': 2578, 'slip': 2579, 'puncture': 2580, '82': 2581, \"chow's\": 2582, 'wednesday': 2583, 'bruschetta': 2584, 'rage': 2585, 'finding': 2586, 'artichokes': 2587, 'draws': 2588, 'castro': 2589, 'allowed': 2590, 'tony': 2591, 'gulisano': 2592, 'including': 2593, 'spago': 2594, 'chinois': 2595, 'monsoon': 2596, 'il': 2597, 'fornaio': 2598, 'area': 2599, '1997': 2600, 'decades': 2601, 'wainscoting': 2602, 'wood': 2603, 'floors': 2604, 'depression': 2605, 'era': 2606, 'pendant': 2607, 'lights': 2608, 'hanging': 2609, 'ceiling': 2610, 'gate': 2611, 'ninth': 2612, 'avenue': 2613, 'featuring': 2614, 'price': 2615, '215': 2616, 'church': 2617, 'st': 2618, 'near': 2619, '415': 2620, '2469': 2621, 'crushing': 2622, 'suction': 2623, 'breaks': 2624, 'infuses': 2625, 'marinating': 2626, 'rubbing': 2627, 'insures': 2628, 'achieved': 2629, 'chewy': 2630, 'eighths': 2631, 'seasonings': 2632, 'stovetop': 2633, 'dip': 2634, 'perfume': 2635, 'platter': 2636, '535': 2637, '767': 2638, \"chronicle's\": 2639, 'editor': 2640, 'author': 2641, 'recently': 2642, 'published': 2643, 'signature': 2644, 'insider': 2645, \"francisco's\": 2646, \"restaurants''\": 2647, 'books': 2648, 'zz1': 2649, 'url': 2650, 'sfgate': 2651, 'bin': 2652, 'file': 2653, 'archive': 2654, 'fd44354': 2655, 'dtl': 2656, 'fsalted': 2657, 'paddle': 2658, 'kaeruemi': 2659, 'evaporated': 2660, \"maker's\": 2661, 'taters': 2662, 'splits': 2663, 'lumpy': 2664, 'incorporate': 2665, 'runny': 2666, '400f': 2667, '50min': 2668, '21829163': 2669, 'pageturner': 2670, 'tbl': 2671, 'door': 2672, 'neighbor': 2673, 'taught': 2674, 'garnet': 2675, 'weighting': 2676, 'available': 2677, 'supermarkets': 2678, 'specialty': 2679, 'shops': 2680, '4000f': 2681, 'halve': 2682, 'proceeding': 2683, 'crimp': 2684, 'decoratively': 2685, '3750f': 2686, 'metal': 2687, 'peaks': 2688, 'gourmet': 2689, 'november': 2690, 'creamier': 2691, 'brighter': 2692, '3500': 2693, 'lowest': 2694, 'shelf': 2695, 'forms': 2696, 'premade': 2697, 'complement': 2698, 'flavoring': 2699, 'pierced': 2700, 'flavorings': 2701, '172': 2702, 'gram': 2703, 'carbohydrates': 2704, 'via': 2705, 'master': 2706, 'tm': 2707, 'v8': 2708, 'sailing': 2709, 'seas': 2710, 'merchant': 2711, 'marine': 2712, 'wife': 2713, 'provide': 2714, 'traditional': 2715, 'august': 2716, 'route': 2717, 'historic': 2718, 'streets': 2719, \"orleans'\": 2720, 'went': 2721, 'shouting': 2722, 'outgoing': 2723, 'friendly': 2724, 'character': 2725, 'became': 2726, 'enjoyed': 2727, 'residents': 2728, 'bastille': 2729, 'celebration': 2730, 'marketplace': 2731, 'son': 2732, 'ibn': 2733, 'delivers': 2734, 'trays': 2735, 'velvety': 2736, 'lady': 2737, 'scenes': 2738, 'quoted': 2739, \"won't\": 2740, 'sight': 2741, 'unless': 2742, 'mouth': 2743, 'fillings': 2744, 'sadly': 2745, 'print': 2746, '1984': 2747, 'rotary': 2748, 'beater': 2749, 'rum': 2750, 'walt': 2751, 'mm': 2752, '1015': 2753, 'decatur': 2754, 'la': 2755, 'limes': 2756, 'infuse': 2757, 'pass': 2758, 'tub': 2759, 'earthenware': 2760, 'generally': 2761, 'sorbets': 2762, 'courses': 2763, 'require': 2764, 'maker': 2765, 'melon': 2766, 'baller': 2767, 'scoops': 2768, 'stemmed': 2769, 'disco45': 2770, 'head': 2771, 'pats': 2772, 'forget': 2773, 'snap': 2774, 'safe': 2775, 'rewarm': 2776, 'december': 2777, 'terrafirmafarm': 2778, '051104': 2779, 'view': 2780, '1837': 2781, 'foodnetwork': 2782, '9936': 2783, '20507': 2784, 'jalapeno': 2785, 'boomshanka': 2786, 'jalapeqo': 2787, 'chilies': 2788, '4250f': 2789, '8x8': 2790, '13x9': 2791, '18076984': 2792, 'claymonkey': 2793, 'moosewood': 2794, 'specials': 2795, 'prehead': 2796, '375f': 2797, 'mushy': 2798, 'mush': 2799, 'coll': 2800, '20582882': 2801, 'vegan': 2802, 'penny': 2803, 'won': 2804, 'ribbon': 2805, 'state': 2806, 'fair': 2807, 'dana': 2808, 'sly': 2809, 'sioux': 2810, 'city': 2811, 'email': 2812, 'illustrated': 2813, '25323948': 2814, 'scatterbrained': 2815, \"grandparents'\": 2816, 'entirely': 2817, 'savory': 2818, 'stuffing': 2819, 'pinto': 2820, 'pancake': 2821, '455': 2822, 'gps': 2823, 'stomach': 2824, 'growling': 2825, 'typing': 2826, '21688741': 2827, 'miss': 2828, 'informed': 2829, 'digs': 2830, \"he's\": 2831, 'sees': 2832, 'replaced': 2833, 'spongy': 2834, 'equivalent': 2835, 'correctly': 2836, 'hope': 2837, 'ps': 2838, 'itching': 2839, \"rommie's\": 2840, 'band': 2841, 'roommates': 2842, 'lachey': 2843, '19768242': 2844, 'menu': 2845, 'diameter': 2846, 'strokes': 2847, 'probing': 2848, '14t20': 2849, 'getting': 2850, 'professional': 2851, 'previous': 2852, 'impossible': 2853, 'due': 2854, 'ordering': 2855, 'takeout': 2856, 'stodgy': 2857, 'clock': 2858, 'moving': 2859, 'tossing': 2860, 'glazed': 2861, 'overglazed': 2862, '148839657': 2863, 'd6317911': 2864, 'a353': 2865, '4ce7': 2866, '88f1': 2867, '5c12a5417a59': 2868, 'w1saae425s': 2869, 'schoolofwok': 2870, '08t08': 2871, 'simpler': 2872, 'leak': 2873, 'crosshatch': 2874, 'renders': 2875, 'internal': 2876, 'reads': 2877, '52â°c': 2878, 'rare': 2879, 'angle': 2880, 'jus': 2881, '155019885': 2882, 'f13cf20b': 2883, '2c20': 2884, '4e8c': 2885, 'a005': 2886, '3b9e734a8916': 2887, '155019945': 2888, '127a0a76': 2889, 'c59b': 2890, '4a07': 2891, '9795': 2892, 'b97d18c86539': 2893, '155019988': 2894, '757cbf13': 2895, '64dd': 2896, '4068': 2897, '877d': 2898, '07b195624eb3': 2899, '155020231': 2900, 'd6bf4367': 2901, '0d45': 2902, '4b30': 2903, '99e9': 2904, '8e89dbfddafe': 2905, '155020251': 2906, '3c9f5eca': 2907, 'ee4e': 2908, '4b5a': 2909, '90ae': 2910, '1522f26307e0': 2911, 'seared': 2912, 'conundrums': 2913, 'thomas': 2914, 'joseph': 2915, '6zajatkorlq': 2916, '03t19': 2917, 'tempura': 2918, 'sparkling': 2919, '17t17': 2920, '298': 2921, 'mushroom': 2922, 'ð\\x9f\\x8d\\x84': 2923, 'foaming': 2924, 'seasoned': 2925, 'splashing': 2926, 'coloured': 2927, 'pappardelle': 2928, '149017469': 2929, '1af3263f': 2930, '53d1': 2931, '4c11': 2932, '927b': 2933, 'db3ee74a56c7': 2934, '08t22': 2935, '225g': 2936, '175g': 2937, 'raising': 2938, 'bicarbonate': 2939, '350g': 2940, '20cm': 2941, 'skewer': 2942, 'circular': 2943, 'include': 2944, 'strained': 2945, 'pineapple': 2946, '154504137': 2947, '93aef7a8': 2948, '3556': 2949, '4054': 2950, 'ba7e': 2951, '5a443c9a7dce': 2952, '154504232': 2953, '42ff9a48': 2954, 'c43b': 2955, '4aef': 2956, '98b8': 2957, 'b815c52dcc28': 2958, '154504408': 2959, '2a4e359f': 2960, '552c': 2961, '4adb': 2962, '8e96': 2963, 'e265514e5156': 2964, '154505968': 2965, 'b42168bf': 2966, '6e64': 2967, '4d8e': 2968, '9de9': 2969, '803096800867': 2970, '154506280': 2971, 'd37440aa': 2972, '4568': 2973, '4350': 2974, 'b7a6': 2975, '4b2d1ae77479': 2976, 'deliciousmagazine': 2977, '05t19': 2978, 'beautifully': 2979, 'yet': 2980, 'complex': 2981, 'tastes': 2982, 'watching': 2983, 'videos': 2984, 'researching': 2985, 'real': 2986, 'fun': 2987, 'romano': 2988, 'tellicherry': 2989, '3l': 2990, 'mill': 2991, 'starchy': 2992, 'cheesy': 2993, 'emulsify': 2994, 'clings': 2995, 'something': 2996, 'mastering': 2997, '154868209': 2998, '6d2243a5': 2999, '24b6': 3000, '4b2e': 3001, 'a558': 3002, 'b2d9254c7ba9': 3003, '154868213': 3004, 'b78b2a41': 3005, 'bf14': 3006, '4739': 3007, 'a8ec': 3008, '97c5e9da1b2a': 3009, '23t16': 3010, '54': 3011, 'purist': 3012, 'mousse': 3013, 'smelly': 3014, 'cambazola': 3015, 'hob': 3016, '87348975': 3017, '87d10e80': 3018, '9380': 3019, '41a1408ad459': 3020, '87348999': 3021, '93243a00': 3022, '9c0a': 3023, 'dbba1652084a': 3024, '87349042': 3025, 'a1725600': 3026, '9ff9': 3027, '1f176c7196ed': 3028, '87349080': 3029, 'afc07200': 3030, '8c40': 3031, '7669dc040818': 3032, '87349122': 3033, 'bbac3400': 3034, '8400': 3035, 'c18248d08fed': 3036, 'dog': 3037, 'frankfurters': 3038, '126063626': 3039, 'f94f75a9': 3040, '11d9': 3041, '498b': 3042, '9a74': 3043, '05b10ab4e646': 3044, 'loves': 3045, 'variates': 3046, 'infamous': 3047, 'swedish': 3048, 'ikea': 3049, \"turkey's\": 3050, 'kofta': 3051, 'quest': 3052, 'conquer': 3053, 'greatest': 3054, 'discovered': 3055, 'guy': 3056, 'playlist': 3057, 'list': 3058, 'plursdaor8hwwt59j2ijlpadnmu6ss': 3059, 'tek': 3060, 'truly': 3061, 'differently': 3062, 'covers': 3063, 'purã©e': 3064, '1tsp': 3065, 'pate': 3066, 'opening': 3067, 'peek': 3068, 'relate': 3069, 'rashers': 3070, 'directed': 3071, 'packaging': 3072, 'youâ\\x80\\x99ll': 3073, 'log': 3074, 'casing': 3075, 'freezing': 3076, 'largest': 3077, 'pocket': 3078, '5cm': 3079, 'remain': 3080, 'unsliced': 3081, 'basically': 3082, 'ideally': 3083, 'underside': 3084, 'itself': 3085, 'browns': 3086, 'insert': 3087, 'accompanying': 3088, 'liberally': 3089, '10t19': 3090, 'pressure': 3091, 'cooker': 3092, 'dumpling': 3093, 'close': 3094, 'jewish': 3095, 'trusted': 3096, 'poorly': 3097, 'unwell': 3098, 'semolina': 3099, 'perfecting': 3100, 'leftover': 3101, 'carcass': 3102, 'marigolds': 3103, 'skipped': 3104, 'removal': 3105, 'finishing': 3106, '148845350': 3107, '9fae2a81': 3108, '6845': 3109, '42bc': 3110, '9bb5': 3111, 'c9b089597fa5': 3112, '27t19': 3113, 'ð\\x9f\\x8c¶ï¸\\x8f': 3114, 'yesterday': 3115, 'instantly': 3116, 'squaremeal': 3117, '8507': 3118, 'department': 3119, 'marshall': 3120, 'aerospace': 3121, 'visited': 3122, 'intensity': 3123, 'sweetness': 3124, 'smoothness': 3125, 'stickiness': 3126, 'stuck': 3127, 'provided': 3128, '109398180': 3129, '0ccd3480': 3130, '7933': 3131, '816d': 3132, '6b9a347f7813': 3133, 'countless': 3134, 'default': 3135, 'track': 3136, 'research': 3137, 'name': 3138, 'global': 3139, 'japan': 3140, 'globalkitchenjapan': 3141, 'collections': 3142, 'products': 3143, 'lovely': 3144, 'kaffir': 3145, '75g': 3146, 'burns': 3147, 'complete': 3148, 'kitchengardenrecipes': 3149, 'wordpress': 3150, '2008': 3151, 'authentic': 3152, 'eatingthaifood': 3153, '28t23': 3154, '245g': 3155, '190â°c': 3156, 'bought': 3157, 'allowing': 3158, '147614658': 3159, 'eb9ea9f0': 3160, '8869': 3161, '45ca': 3162, 'b86d': 3163, '5607e0323e1f': 3164, 'galonamission': 3165, '27t17': 3166, 'arranged': 3167, 'weekly': 3168, 'explore': 3169, 'share': 3170, 'stories': 3171, 'local': 3172, 'office': 3173, 'lunches': 3174, 'radish': 3175, 'tamarind': 3176, 'sprouts': 3177, 'soaked': 3178, 'straight': 3179, 'scramble': 3180, 'beansprouts': 3181, 'doubling': 3182, '147612393': 3183, 'd6c6e0f5': 3184, '14ba': 3185, '448a': 3186, '98f7': 3187, 'a781359a8852': 3188, '147612435': 3189, '9211156d': 3190, 'b236': 3191, '4906': 3192, '93b8': 3193, 'be639d8e51d5': 3194, '147612460': 3195, '3eb777a3': 3196, '5371': 3197, '4110': 3198, '8101': 3199, 'f621fac22d77': 3200, '147612482': 3201, '5b32818b': 3202, 'be11': 3203, '40fa': 3204, 'bfa8': 3205, '2c4f71dac962': 3206, 'ew': 3207, 'wdgcueljvy': 3208, 'poo': 3209, 'm88rf0rwho8': 3210, '43': 3211, 'british': 3212, 'creates': 3213, 'father': 3214, 'sounds': 3215, 'butchers': 3216, \"cumberland's\": 3217, '120g': 3218, '225â°c': 3219, 'caramelised': 3220, 'splashes': 3221, '18t09': 3222, 'smaller': 3223, '126063057': 3224, 'd89a1092': 3225, '3880': 3226, '456c': 3227, '990f': 3228, '3b604c557221': 3229, '882030637': 3230, 'express': 3231, '882031562': 3232, 'group': 3233, 'examples': 3234, '882031568': 3235, 'cheesey': 3236, '882032638': 3237, '176': 3238, 'states': 3239, 'marg': 3240, 'lard': 3241, '45ml': 3242, '285ml': 3243, '115g': 3244, '15g': 3245, 'makeup': 3246, 'normal': 3247, 'bakers': 3248, '8â\\x80³': 3249, 'flan': 3250, 'blind': 3251, '180âºc': 3252, 'nearly': 3253, 'wait': 3254, 'obtained': 3255, '126076810': 3256, '3eab3a96': 3257, '20c0': 3258, '4b15': 3259, 'ae7e': 3260, 'bcf7eb189425': 3261, 'littlestuff': 3262, 'follow': 3263, 'youâ\\x80\\x99ve': 3264, 'chosen': 3265, 'saucepans': 3266, 'required': 3267, 'rough': 3268, 'balance': 3269, 'build': 3270, 'third': 3271, 'losing': 3272, 'vodka': 3273, '50mlâ\\xa0vodka': 3274, '30mlâ\\xa0kahlãºa': 3275, '10ml': 3276, 'filled': 3277, '71': 3278, 'espressomartini': 3279, '117587721': 3280, '2c44c280': 3281, 'b117': 3282, '87a9': 3283, 'ba81286f3d24': 3284, '03t11': 3285, 'coupe': 3286, 'spear': 3287, 'pick': 3288, 'perch': 3289, 'kip': 3290, '128060690': 3291, '1afa2ae8': 3292, '00df': 3293, '4ea1': 3294, 'bf7f': 3295, '67bce31f6c6f': 3296, 'craft': 3297, 'z': 3298, '21t07': 3299, 'bonus': 3300, 'goodness': 3301, 'whiskeysour': 3302, 'summer': 3303, 'shaking': 3304, 'frothy': 3305, '130370182': 3306, 'f93a4a58': 3307, '42b4': 3308, '400e': 3309, 'a8a4': 3310, 'f84b51a0e511': 3311, '140g': 3312, 'lindt': 3313, 'hotel': 3314, 'chocolat': 3315, '7â\\x80³': 3316, 'stopping': 3317, 'grainy': 3318, 'rectangles': 3319, '154957226': 3320, '899980e0': 3321, 'bc4f': 3322, '4cc4': 3323, 'a20a': 3324, 'f8038a315211': 3325, '154956784': 3326, '3a9779cc': 3327, 'bf0b': 3328, '48cf': 3329, '850d': 3330, 'e8ae434dc41b': 3331, '154957111': 3332, 'ea05d75c': 3333, '8da3': 3334, '4307': 3335, 'ba55': 3336, 'ddc454493534': 3337, '154957065': 3338, '502d766a': 3339, '9ecd': 3340, '4b3f': 3341, '82bf': 3342, '6eada7b75b65': 3343, '2012': 3344, '680g': 3345, '230g': 3346, '450â°f': 3347, 'ore': 3348, 'keto': 3349, 'lifeloveandgoodfood': 3350, '22t17': 3351, 'cod': 3352, 'etc': 3353, 'balloon': 3354, 'mini': 3355, '119133893': 3356, '5ca03100': 3357, '8ce9': 3358, '525c02368eab': 3359, '119133914': 3360, '632ea880': 3361, '9e0d': 3362, 'b5e6ddc098a2': 3363, '09t13': 3364, 'drizzling': 3365, 'spears': 3366, 'pip': 3367, 'payne': 3368, 'amazon': 3369, 'dp': 3370, '178325498x': 3371, 'bakes': 3372, 'mature': 3373, '148848624': 3374, '8d94d5b1': 3375, '139e': 3376, '433a': 3377, '8120': 3378, '20fc1176ec03': 3379, 'berryâ\\x80\\x99s': 3380, '138': 3381, 'sunday': 3382, 'roots': 3383, 'parboil': 3384, '282': 3385, '03t20': 3386, 'thigh': 3387, '155g': 3388, 'mayonnaise': 3389, 'condensed': 3390, 'createyum': 3391, 'travel': 3392, 'memories': 3393, 'budva': 3394, 'montenegro': 3395, 'took': 3396, 'tour': 3397, 'recommended': 3398, \"didn't\": 3399, 'breaking': 3400, 'enjoying': 3401, 'picked': 3402, 'plum': 3403, 'draining': 3404, '17t16': 3405, 'beautiful': 3406, 'nourishingly': 3407, 'piping': 3408, 'twist': 3409, 'thinning': 3410, 'liquidise': 3411, 'chive': 3412, 'decorative': 3413, 'starter': 3414, '220g': 3415, '850ml': 3416, 'moderate': 3417, 'directly': 3418, 'keeping': 3419, 'straining': 3420, 'thinner': 3421, 'grandads': 3422, '156242057': 3423, '81a50c80': 3424, '056a': 3425, '4a85': 3426, 'b107': 3427, '820cab646015': 3428, '156242194': 3429, '8c957c73': 3430, 'f4a7': 3431, '4ca8': 3432, 'b259': 3433, '91469b7eed4d': 3434, 'match': 3435, 'shimmering': 3436, 'accumulated': 3437, 'scallions': 3438, 'heats': 3439, '128036114': 3440, '0c3b263b': 3441, '96e0': 3442, '4a16': 3443, 'b80f': 3444, '4c23ee818589': 3445, 'pork': 3446, 'fabulous': 3447, 'months': 3448, 'developed': 3449, 'weeknight': 3450, 'insist': 3451, 'cumberland': 3452, 'lardon': 3453, 'ragã¹': 3454, 'variant': 3455, 'deglaze': 3456, 'smokiness': 3457, 'jack': 3458, 'daniels': 3459, '148846355': 3460, '2897a5dd': 3461, '1749': 3462, '4e27': 3463, '8402': 3464, 'ae612a7eda00': 3465, '07t10': 3466, 'gated': 3467, 'discarding': 3468, 'cuttings': 3469, 'wilting': 3470, '115612457': 3471, '2eb7b780': 3472, '91ac': 3473, '7fbe484aa565': 3474, '115612786': 3475, '8c4c0400': 3476, '958a': 3477, '4c6a7fbaa828': 3478, 'amongst': 3479, 'linguine': 3480, 'riesling': 3481, 'chardonnay': 3482, 'spoons': 3483, '148851288': 3484, '29f58969': 3485, 'b3a5': 3486, '42b3': 3487, 'a484': 3488, '5dcb884d59b6': 3489, 'bryony': 3490, 'morganna': 3491, 'ztt': 3492, 'xkhzkra': 3493, 'natashas': 3494, '5vy9hel8moc': 3495, \"world's\": 3496, 'creamiest': 3497, 'eitan': 3498, 'bernath': 3499, 'vgo3zkremn4': 3500, 'tenderise': 3501, 'pinwheel': 3502, 'sear': 3503, 'thespruceeats': 3504, 'select': 3505, '336355': 3506, 'cookingwithmammac': 3507, 'coldweathercomfort': 3508, '25t19': 3509, 'spot': 3510, 'actually': 3511, 'draft': 3512, 'mention': 3513, '260g': 3514, 'sunflower': 3515, 'breaded': 3516, '230ml': 3517, 'leading': 3518, 'seat': 3519, 'tissue': 3520, '128013393': 3521, '32b2256d': 3522, '8eab': 3523, '46e0': 3524, '87df': 3525, '09c03f9efb6f': 3526, '128013454': 3527, 'eccfbf40': 3528, '2b08': 3529, '4072': 3530, 'addd': 3531, '3daf077cf6b0': 3532, '128013567': 3533, 'af384eaa': 3534, '8d35': 3535, '470c': 3536, '987e': 3537, '6907741b0484': 3538, '29578': 3539, 'aspx': 3540, 'ð\\x9f§\\x84': 3541, 'bulb': 3542, 'dredging': 3543, 'mallet': 3544, 'dredge': 3545, 'clovers': 3546, 'deglazing': 3547, 'noticeably': 3548, 'consider': 3549, '142': 3550, 'switch': 3551, '04t10': 3552, 'rigatoni': 3553, '200ml': 3554, 'firstly': 3555, '430f': 3556, 'core': 3557, 'nutritional': 3558, 'terrific': 3559, 'mealthy': 3560, '1572': 3561, 'fire': 3562, '1079332182686525': 3563, '15t20': 3564, '126': 3565, '15t16': 3566, '127753265': 3567, 'f629c8df': 3568, '587b': 3569, '4f16': 3570, 'ab79': 3571, 'aa3786236869': 3572, '13t21': 3573, 'health': 3574, '40g': 3575, 'zaytoun': 3576, 'bunched': 3577, '12mins': 3578, '8mins': 3579, 'able': 3580, 'quinoa': 3581, 'nature': 3582, 'secondnature': 3583, 'io': 3584, 'guides': 3585, 'farmdrop': 3586, '07t20': 3587, 'tom': 3588, 'kerrige': 3589, 'herb': 3590, 'cupboard': 3591, 'pitted': 3592, 'm': 3593, 'marksandspencer': 3594, '178132': 3595, 'jspfw2ufyf8': 3596, 'mache': 3597, 'boston': 3598, 'lettuce': 3599, 'butterfly': 3600, 'hit': 3601, '271': 3602, 'fries': 3603, '127697394': 3604, '9e12eac6': 3605, 'af03': 3606, '41df': 3607, '9069': 3608, '9419b3391d6a': 3609, 'chefs': 3610, 'p136': 3611, 'winner': 3612, 'particularly': 3613, 'chargrill': 3614, 'sufficiently': 3615, 'present': 3616, 'swapped': 3617, 'aromatic': 3618, 'smells': 3619, 'heaped': 3620, '700g': 3621, 'overcook': 3622, 'griddle': 3623, 'anchovies': 3624, '112536602': 3625, '9abb0480': 3626, '9c92': 3627, '71c566fb2288': 3628, '112536633': 3629, 'a1e21280': 3630, '9ed4': 3631, '906b2a62997b': 3632, 'jamieoliver': 3633, 'thetalentzone': 3634, 'musictv': 3635, '12913': 3636, \"oliver's\": 3637, 'thelifeofstuff': 3638, 'php': 3639, 'olivers': 3640, '21t09': 3641, 'demerara': 3642, '375g': 3643, 'sprinkling': 3644, '160â°c': 3645, 'assisted': 3646, 'ovens': 3647, 'greaseproof': 3648, 'uneven': 3649, 'neaten': 3650, 'longest': 3651, \"pastry's\": 3652, 'pressing': 3653, '2cm': 3654, 'trimming': 3655, 'space': 3656, 'expand': 3657, 'tuck': 3658, 'granny': 3659, 'bakingwithgranny': 3660, 'lengthways': 3661, 'attached': 3662, 'opens': 3663, '13t15': 3664, 'ð\\x9f¥\\x9bð\\x9f\\x8d¶': 3665, '28t20': 3666, 'showcase': 3667, 'theirs': 3668, 'vine': 3669, 'finishes': 3670, '148845020': 3671, 'a9f4eb97': 3672, 'b29b': 3673, '4383': 3674, '87c0': 3675, '0a8e1204ffa5': 3676, 'unadulterated': 3677, 'encourage': 3678, 'tend': 3679, 'naan': 3680, \"poppadom's\": 3681, 'condiments': 3682, 'mango': 3683, 'chutney': 3684, 'tzatziki': 3685, 'leg': 3686, 'star': 3687, 'anise': 3688, 'cardamom': 3689, 'pods': 3690, '2â½': 3691, 'clingfilm': 3692, 'pestle': 3693, 'mortar': 3694, 'creating': 3695, \"they're\": 3696, 'scraping': 3697, 'develop': 3698, 'shreds': 3699, '155025848': 3700, 'e412a2b9': 3701, '02f6': 3702, '42aa': 3703, 'af09': 3704, '16dd10e6be1c': 3705, '155025904': 3706, '0b5c44c2': 3707, '9506': 3708, '40a9': 3709, 'a4f9': 3710, 'cf0f38e8ab0e': 3711, 'michelin': 3712, 'starred': 3713, 'atul': 3714, 'kochhar': 3715, 'nzvo32n7is8': 3716, '19t22': 3717, 'separated': 3718, 'brushing': 3719, 'citrus': 3720, 'benefit': 3721, 'visual': 3722, 'excluding': 3723, 'lock': 3724, 'marinate': 3725, 'effect': 3726, 'stage': 3727, 'naans': 3728, 'drizzled': 3729, '894812442': 3730, '128636850': 3731, '19f0680f': 3732, '24f3': 3733, '424d': 3734, 'b37b': 3735, '3687db02892b': 3736, '292': 3737, 'action': 3738, '70ml': 3739, 'proving': 3740, 'rose': 3741, 'oiled': 3742, 'hr': 3743, 'doubled': 3744, 'char': 3745, '892192710': 3746, '130031963': 3747, '770c4f1c': 3748, 'ac67': 3749, '49bb': 3750, '9ca7': 3751, '7489b47dcf40': 3752, '130031992': 3753, 'c8afa809': 3754, 'c421': 3755, '4585': 3756, '8b88': 3757, 'f5db3c6eee28': 3758, '130032011': 3759, 'd20e8a45': 3760, 'c50e': 3761, '4fa4': 3762, '9278': 3763, '475c45dd7c8c': 3764, '134': 3765, '2024': 3766, '11t21': 3767, 'spirals': 3768, 'kalamata': 3769, 'pine': 3770, 'option': 3771, 'pomegranate': 3772, 'call': 3773, 'bits': 3774, 'household': 3775, 'pomegranates': 3776, 'instagram': 3777, 'reel': 3778, 'cz': 3779, 'csb8vpgf': 3780, '03t12': 3781, '116876263': 3782, '17969500': 3783, 'ac14': 3784, '8deb': 3785, '3d78d19c5914': 3786, '03t10': 3787, '44': 3788, 'learning': 3789, 'dairy': 3790, 'bar': 3791, 'jar': 3792, 'trader': 3793, \"joe's\": 3794, 'speculoos': 3795, 'lotus': 3796, 'nutella': 3797, 'biscoff': 3798, '400â°c': 3799, '2tbsp': 3800, 'sprinkles': 3801, 'launching': 3802, 'turning': 3803, '27t21': 3804, '700ml': 3805, 'flatleaf': 3806, '180g': 3807, 'flameproof': 3808, 'starting': 3809, 'translucent': 3810, 'evaporate': 3811, 'attentively': 3812, 'ladleful': 3813, 'flaked': 3814, 'principle': 3815, '17â\\x80\\x9320': 3816, 'tasting': 3817, 'plump': 3818, 'chalky': 3819, 'fluid': 3820, 'chablis': 3821, '156051340': 3822, '16a12248': 3823, '80ff': 3824, '41e8': 3825, 'ade1': 3826, 'f55c45c669f9': 3827, '156051796': 3828, '461f5f24': 3829, '6117': 3830, '456d': 3831, 'add5': 3832, '09902d37b911': 3833, '156052125': 3834, 'f707d719': 3835, 'd318': 3836, '4bd1': 3837, 'bb05': 3838, '0a74a789f38a': 3839, '156052386': 3840, '03ceb8bd': 3841, '9045': 3842, '46fa': 3843, 'a7cf': 3844, 'c60c802f1d49': 3845, '156052560': 3846, 'cf22e077': 3847, 'b94a': 3848, '47f7': 3849, 'bf60': 3850, 'dab9fd39e359': 3851, 'smoke': 3852, '00466': 3853, '26t20': 3854, 'fishes': 3855, 'possibly': 3856, 'thanks': 3857, 'brother': 3858, 'speaking': 3859, 'shallot': 3860, 'flake': 3861, '155234001': 3862, '9245e8db': 3863, '6ec0': 3864, '44d7': 3865, 'b97a': 3866, '9989fdef8f80': 3867, '155304238': 3868, '302bc0a7': 3869, 'f4e0': 3870, '4a5a': 3871, '9bbd': 3872, '89770d44d57a': 3873, 'blog': 3874, 'ingredientmatcher': 3875, 'mumslounge': 3876, 'au': 3877, 'lifestyle': 3878, '2sistersrecipes': 3879, 'cookingwithmanuela': 3880, 'blogspot': 3881, '2014': 3882, '20t22': 3883, 'copycat': 3884, '270g': 3885, '350ml': 3886, '1oz': 3887, '2fl': 3888, 'malt': 3889, '9fl': 3890, 'hard': 3891, 'worktop': 3892, 'flaky': 3893, 'counter': 3894, 'bone': 3895, 'blitz': 3896, 'tea': 3897, 'dissolve': 3898, 'folding': 3899, 'moon': 3900, 'crescent': 3901, 'tempted': 3902, 'overcrowd': 3903, 'lid': 3904, \"gyoza's\": 3905, 'presented': 3906, '147367848': 3907, '7beabbb6': 3908, '1951': 3909, '41ec': 3910, '85ea': 3911, 'b32017673b65': 3912, 'p56': 3913, 'p14': 3914, 'p33': 3915, 'showing': 3916, 'status': 3917, '1474151172944666634': 3918, '02t11': 3919, 'shares': 3920, 'shop': 3921, 'schnitzels': 3922, 'adventurous': 3923, \"stitzel's\": 3924, 'dontgobaconmyheart': 3925, '388': 3926, 'ciabatta': 3927, '127989858': 3928, '39c70969': 3929, '228f': 3930, '4143': 3931, 'ba8a': 3932, 'c34e804278ce': 3933, '127989869': 3934, '2e58a1ff': 3935, 'b62e': 3936, '4164': 3937, '93b5': 3938, '8c8ef2eac428': 3939, '18t13': 3940, 'tinned': 3941, 'blitzed': 3942, 'lighter': 3943, 'alcohol': 3944, 'stronger': 3945, 'picture': 3946, '02t13': 3947, '30g': 3948}\n"
     ]
    }
   ],
   "source": [
    "# El índice para cada palabra\n",
    "# El sistema las ordena de las más populares a las menos populares\n",
    "print(tok.word_index)"
   ]
  },
  {
   "cell_type": "code",
   "execution_count": 59,
   "metadata": {},
   "outputs": [
    {
     "name": "stdout",
     "output_type": "stream",
     "text": [
      "defaultdict(<class 'int'>, {'the': 1005, 'case': 2, 'especially': 2, 'pistachios': 1, 'almonds': 5, 'with': 339, 'of': 381, 'nuts': 15, 'blanching': 2, 'in': 411, 'addition': 7, 'inner': 1, 'thin': 13, 'and': 877, 'have': 46, 'they': 26, 'to': 554, 'tough': 2, 'hazelnuts': 2, 'husk': 1, 'outer': 5, 'a': 596, 'this': 90, 'can': 66, 'somewhat': 2, 'be': 51, 'which': 12, 'lining': 3, 'bitter': 6, 'removed': 4, 'needs': 5, 'found': 6, 'goods': 1, 'confection': 1, 'when': 38, 'baked': 13, 'unattractive': 1, 'think': 7, 'process': 4, 'about': 89, 'them': 53, 'already': 1, 'purchasing': 1, 'consuming': 3, 'time': 265, 'blanched': 4, 'skinned': 2, 'toasted': 13, 'if': 73, 'desired': 6, 'chopped': 112, 'then': 105, 'saucepan': 25, 'water': 112, 'shell': 8, 'place': 82, 'cover': 27, 'rinse': 1, '2': 511, 'cold': 17, 'boil': 34, 'for': 323, 'drain': 27, '3': 237, 'minutes': 395, 'end': 4, 'by': 37, 'your': 45, 'pinch': 29, 'skins': 1, 'at': 88, 'almond': 6, 'one': 55, 'off': 44, 'holding': 1, 'press': 9, 'thumb': 1, 'while': 27, 'pointing': 1, 'finger': 2, 'bowl': 84, 'into': 186, 'index': 4, 'across': 3, 'careful': 5, 'room': 20, 'shoot': 1, 'together': 53, 'fingers': 4, 'because': 2, 'on': 148, 'dry': 32, 'jelly': 1, 'out': 51, 'rimmed': 1, 'roll': 12, 'pan': 166, 'or': 234, 'let': 30, '5': 121, 'oven': 110, \"don't\": 19, '10': 94, 'preheated': 2, 'degree': 2, '300': 3, 'brown': 50, 'exported': 2, 'mastercook': 2, 'from': 122, 'ii': 1, 'paste': 27, 'recipe': 67, '1': 868, '96': 1, 'size': 15, 'preparation': 6, '00': 8, 'serving': 38, 'candies': 1, 'cookies': 11, 'categories': 3, 'ingredient': 82, 'amount': 5, 'method': 68, 'measure': 6, 'cups': 78, 'ground': 46, '4': 270, 'sugar': 155, 'cup': 146, 'powdered': 12, 'sifted': 8, 'egg': 50, 'whites': 8, 'raw': 6, 'teaspoons': 18, 'extract': 28, 'blend': 19, 'combine': 30, 'mold': 3, 'days': 4, 'covered': 12, 'tightly': 2, 'ball': 5, 'container': 2, 'age': 1, 'four': 5, 'refrigerator': 4, 'use': 39, 'see': 8, 'macaroons': 2, 'ideas': 1, 'notes': 30, 'you': 94, 'example': 3, 'extra': 27, 'want': 9, 'simply': 2, 'whole': 20, 'away': 8, 'throw': 2, 'fewer': 1, 'add': 279, 'fava': 7, 'beans': 27, '04': 18, '19': 7, 'gently': 21, '22': 8, 'ornellaia': 6, 'young': 1, '21': 5, 'treat': 1, '42': 3, 'fresh': 56, 'peel': 18, 'twice': 1, 'pod': 3, 'first': 11, 'thick': 12, 'remove': 71, 'boiling': 19, 'under': 4, 'minute': 19, 'soften': 4, 'just': 41, 'skin': 23, 'pleanty': 1, 'ice': 19, 'is': 140, 'so': 46, 'that': 36, 'bean': 14, 'bright': 2, 'green': 32, 'cook': 180, 'point': 4, 'recipes': 66, 'peeled': 32, 'recommend': 3, 'doubly': 1, 'two': 15, 'either': 9, 'once': 33, 'i': 83, 'pepper': 77, 'bit': 10, 'salt': 142, 'taste': 60, 'quicly': 1, 'oil': 153, 'saute': 5, 'olive': 56, 'mint': 14, 'parmesan': 25, 'shaving': 2, 'clove': 12, 'garlic': 116, 'processor': 15, 'food': 31, 'serve': 82, 'puree': 27, 'until': 214, 'crostini': 2, 'forums': 21, 'craigslist': 21, 'http': 30, 'org': 21, '14285654': 1, 'id': 90, 'double': 18, '35': 15, '31': 4, '16': 19, '38': 5, '03': 16, 'need': 9, 'second': 8, 'but': 63, 'puckering': 1, 'touch': 6, 'could': 5, 'eat': 6, 'it': 151, 'well': 60, 'take': 23, '30': 55, 'are': 43, 'seconds': 4, 'release': 5, 'cool': 56, 'bottom': 19, 'squeeze': 6, 'top': 59, 'yield': 8, 'worth': 4, 'low': 22, 'sautee': 1, 'some': 67, 'baguette': 1, 'slices': 8, 'shavings': 3, 'also': 19, 'other': 17, 'such': 4, 'peas': 13, 'produce': 1, 'as': 58, 'combined': 14, 'asparagus': 4, 'excellent': 2, 'spring': 16, 'pasta': 122, 'extend': 1, 'sauteed': 1, 'g': 6, 'e': 4, 'an': 35, '28': 9, 'appetizer': 1, '33': 6, 'anchohungry': 1, 'lemon': 42, 'drained': 9, 'evoo': 4, 'great': 27, 'boiled': 1, 'juice': 41, 'processed': 1, 'parmesean': 1, 'shave': 1, 'p': 2, 's': 4, 'spread': 13, 'yum': 2, 'simple': 10, 'grind': 1, 'sure': 6, 'would': 9, 'good': 25, 'am': 4, 'subject': 1, '11': 32, 'easy': 24, '25': 37, 'favas': 2, 'lbs': 3, 'shuck': 1, 'any': 28, '20': 75, 'more': 49, 'pasty': 2, 'will': 35, 'immediately': 9, 'stop': 2, 'pinching': 1, 'piece': 5, 'grey': 1, 'cooking': 56, 'squeezing': 1, 'beens': 2, 'get': 16, 'better': 7, 'less': 8, 'since': 5, 'flavor': 9, 'very': 31, 'delicate': 4, 'large': 102, 'times': 6, 'few': 22, 'pulse': 5, 'leaves': 29, 'virgin': 9, 'quality': 4, 'unveven': 1, 'black': 22, 'bread': 37, 'tbs': 11, 'crusty': 4, 'rub': 4, 'toast': 3, 'slice': 8, 'edges': 8, '36': 8, 'my': 40, 'vote': 1, 'gets': 3, 'sauce': 134, 'sauceyyyy': 1, '08': 16, 'kthis': 1, 'visiting': 1, \"mother's\": 1, 'version': 3, 'hometown': 1, 'learned': 1, 'was': 19, 'asked': 1, 'calabria': 1, 'shrug': 1, 'what': 4, 'no': 10, 'reply': 1, 'understood': 1, 'curious': 1, 'why': 1, 'vigne': 1, 'cookbook': 112, 'tra': 1, 'serves': 117, 'tablespoons': 34, 'minced': 19, 'tablespoon': 24, 'finely': 62, 'oregano': 10, 'canned': 4, 'broth': 19, 'stock': 34, 'chicken': 184, 'gray': 1, 'freshly': 11, 'cooked': 33, 'fettuccine': 4, 'pound': 12, 'dried': 19, 'cheese': 66, 'oz': 9, 'pecorino': 4, 'medium': 67, 'hot': 44, 'over': 95, 'high': 21, 'heat': 122, 'sauti': 1, 'briefly': 3, 'light': 14, 'stir': 87, 'season': 22, 'bring': 31, 'simmer': 42, 'flavors': 4, 'blender': 12, 'scrape': 4, 'remaining': 18, 'smooth': 38, 'return': 10, 'seasoning': 41, 'meanwhile': 10, 'pot': 34, 'dente': 5, 'al': 7, '12': 50, 'reserving': 2, 'warm': 32, 'pour': 52, 'toss': 21, 'sticky': 13, 'not': 37, 'necessary': 7, 'glossy': 3, 'table': 4, 'grate': 2, \"now's\": 1, 'our': 9, 'drizzle': 19, 'like': 34, 'before': 40, 'ceramic': 1, 'ladle': 7, 'couple': 2, 'up': 36, 'little': 38, 'filling': 19, '1999': 1, 'approved': 1, 'these': 17, 'tested': 1, 'kid': 1, 'mother': 2, 'squares': 10, 'crust': 20, 'granulated': 10, 'butter': 156, 't': 16, 'flour': 132, 'ap': 3, 'topping': 7, 'eggs': 78, 'grated': 37, 'tsp': 125, 'rind': 2, 'baking': 107, 'powder': 54, '8': 80, 'preheat': 38, '350': 21, 'degrees': 22, 'beat': 32, 'prepare': 12, 'speed': 5, 'mixer': 9, 'spoon': 26, 'creamy': 26, 'lightly': 26, 'gradually': 12, 'level': 4, 'measuring': 6, 'knife': 18, 'coarse': 7, 'mixture': 58, 'beating': 5, 'crumbs': 7, 'resembles': 4, 'bake': 78, 'square': 18, '15': 83, 'rack': 23, 'wire': 12, 'foamy': 3, 'next': 11, 'ingredients': 125, 'blended': 9, 'partially': 2, 'sift': 8, 'evenly': 9, 'set': 37, '12130337': 1, 'tangelo': 1, 'tangelos': 3, 'usually': 5, 'lemons': 3, 'made': 14, 'work': 9, \"confectioner's\": 2, 'tbsp': 128, 'melt': 21, 'c': 40, 'spatula': 6, 'hand': 7, 'confectioner': 2, 'dough': 31, 'grease': 11, 'inch': 46, '7': 48, 'browned': 9, 'make': 52, 'zest': 11, 'another': 20, 'cut': 62, 'allow': 25, 'dust': 1, 'bars': 2, 'all': 65, 'purpose': 18, 'pieces': 30, 'temperature': 21, 'sticks': 6, 'teaspoon': 62, 'plus': 18, '3500f': 3, 'meal': 55, 'golden': 30, 'dish': 58, '9x13x2': 1, 'maintain': 1, '24': 13, 'makes': 26, 'bon': 2, 'appetit': 2, 'july': 2, '1991': 1, 'sills': 1, 'california': 2, 'hollywood': 1, 'north': 1, 'lana': 1, 'basil': 26, 'crumbled': 1, 'leaf': 10, 'bay': 10, 'split': 5, 'cuminseed': 2, 'onion': 50, 'heavy': 18, 'discard': 6, 'tender': 16, 'skillet': 14, 'sauté': 1, 'stirring': 25, 'moderately': 2, 'transfer': 15, 'batches': 4, 'soup': 26, 'caramel': 10, 'pudding': 12, 'pumpkin': 13, 'writes': 1, 'chicago': 1, 'after': 20, 'marie': 1, 'never': 2, 'fan': 8, 'hernandez': 1, 'been': 9, 'oak': 1, 'trying': 1, 'wildfire': 1, 'illinois': 1, 'restaurant': 10, 'brook': 1, 'started': 4, 'know': 3, 'dessert': 14, 'had': 6, 'mind': 1, 'changed': 1, \"i've\": 9, 'long': 5, 'ago': 1, 'eating': 2, 'sweetened': 5, 'do': 22, 'does': 5, 'cream': 64, 'whipped': 8, 'pure': 4, 'half': 27, 'ounce': 6, 'packed': 6, 'dark': 10, 'pie': 35, 'spice': 6, 'cinnamon': 36, 'cubes': 10, 'vanilla': 63, 'ounces': 30, 'raisins': 10, 'stick': 17, 'unsalted': 19, 'whipping': 4, 'whisk': 29, '350°f': 1, 'fold': 17, '11x7': 1, 'glass': 12, 'tester': 1, 'comes': 16, 'inserted': 8, 'center': 14, 'stand': 2, '40': 24, 'clean': 12, 'melts': 2, 'dissolves': 2, 'servings': 21, '6': 86, 'melted': 31, 'sweet': 42, 'firmly': 4, 'potato': 39, 'buttermilk': 21, 'soda': 17, 'several': 6, '375': 2, 'places': 2, 'f': 11, 'pierce': 1, 'approximately': 7, 'hour': 41, 'small': 32, 'slightly': 11, 'flesh': 7, 'completely': 11, 'scoop': 5, 'cinnameon': 1, 'additions': 2, 'three': 6, 'mix': 83, 'alternately': 2, 'ending': 1, 'beginning': 4, 'surface': 9, 'generously': 1, 'thickness': 4, 'floured': 9, 'using': 29, 'biscuits': 12, 'sheet': 19, 'ungreased': 4, 'cutter': 2, 'gather': 2, 'round': 7, 'cookie': 18, 'reroll': 1, 'scraps': 2, 'puffed': 1, 'transfr': 1, 'unbleached': 2, 'shortening': 3, 'orange': 9, 'potatoes': 52, 'mashed': 10, 'honey': 31, 'milk': 60, 'peels': 1, 'soft': 16, 'turn': 21, 'board': 4, 'enough': 17, 'onto': 14, 'rounds': 2, 'knead': 4, 'pat': 5, '18': 11, '°f': 1, '400': 9, \"maggie's\": 1, 'margarine': 5, 'pounds': 13, 'falling': 1, 'apart': 3, 'thoroughly': 11, 'still': 8, 'seems': 1, 'biscuit': 5, 'much': 9, 'moister': 2, 'too': 19, 'regular': 3, 'than': 10, 'overworked': 1, 'handle': 2, 'only': 7, '450': 2, 'dozen': 3, 'cobbler': 1, 'we': 12, 'sometimes': 2, 'potpie': 1, 'adapt': 1, 'plain': 20, 'glowing': 1, 'old': 5, \"there's\": 2, 'interior': 2, 'dribble': 1, 'cries': 1, 'down': 18, 'chin': 1, 'chilled': 8, 'needed': 12, 'mixing': 8, 'fork': 12, 'drop': 2, 'oatmeal': 5, \"it's\": 19, 'whip': 4, 'additional': 2, 'flatten': 3, 'dump': 1, 'surfacec': 1, 'dirty': 1, 'thick\\x97you': 1, 'hands': 6, 'pin': 5, 'rolling': 6, 'job': 1, 'fine\\x97and': 1, 'put': 21, 'brush': 4, 'risen': 2, 'appealingly': 1, 'tomatoes': 34, 'san': 7, 'crush': 5, 'marzano': 2, 'cloves': 34, 'crushed': 31, 'red': 32, 'optional': 35, 'flakes': 12, 'tomatoesa': 1, 'reserve': 2, 'raviolis': 1, 'shred': 1, 'last': 7, 'tomato': 40, 'ravioli': 1, 'right': 8, 'results': 4, '51': 5, '14': 13, 'pears': 5, 'poached': 1, 'wine': 17, 'stem': 2, 'bosc': 1, 'leave': 10, 'bottle': 1, 'inexpensive': 3, 'hold': 2, 'disolved': 2, 'stirr': 1, 'spices': 14, 'temp': 3, 'goes': 3, '06': 10, '07': 27, 'nli': 2, 'panzanella': 3, 'romatomato': 1, 'o': 4, \"i'm\": 7, 'has': 19, 'sourdough': 2, 'please': 2, 'start': 9, 'day': 9, 'crustier': 1, 'even': 8, 'cube': 3, 'fruity': 1, 'really': 12, 'equal': 3, 'seeded': 3, 'sprinkle': 20, 'sit': 5, 'juices': 5, 'maybe': 2, 'sea': 15, 'lot': 2, 'personally': 2, 'soak': 5, 'handful': 9, 'big': 8, 'chiffonaded': 1, 'torn': 4, 'depends': 1, 'finally': 4, 'thinly': 1, 'sliced': 36, 'tear': 2, 'chilis': 1, 'come': 7, 'refrigerate': 4, 'herbs': 2, 'simplicity': 1, 'cucumber': 2, 'seen': 2, 'salad': 23, 'ah': 1, 'vinegar': 15, 'balsamic': 12, 'prefer': 10, 'most': 8, 'acid': 1, 'without': 9, 'salted': 7, 'often': 5, 'gratin': 6, 'butternut': 7, 'squash': 17, 'side': 42, 'squashes': 1, 'score': 2, 'special': 4, 'lengthwise': 4, 'reserved': 2, 'always': 4, 'seed': 4, 'quite': 3, 'pureed': 2, 'occasions': 1, 'favorite': 10, 'rich': 6, 'should': 16, 'welcome': 1, 'home': 7, 'thanksgiving': 2, 'cutting': 5, 'neck': 3, 'through': 22, 'horizontally': 1, 'easier': 6, 'underneath': 1, 'layer': 6, 'fashion': 2, 'revealed': 1, 'removing': 4, 'there': 5, 'spiral': 1, 'around': 22, 'part': 4, 'sharp': 6, 'manner': 1, 'cylindrical': 1, 'object': 1, 'blade': 1, 'seeds': 19, 'rounded': 3, 'fitted': 3, 'slicing': 2, 'colander': 2, 'properly': 1, 'arrange': 2, 'distribute': 2, 'break': 3, 'broiler': 1, 'heating': 2, 'pépin': 2, 'jacques': 2, 'celebrates': 1, 'knopf': 2, 'sarah': 1, '09': 7, 'sarahgael': 1, '02': 13, 'com': 238, 'hotmail': 1, 'sf': 1, 'comment': 1, 'making': 9, 'letting': 1, 'enjoy': 5, 'wanted': 1, 'people': 4, 'currently': 2, 'lose': 1, 'vitamins': 1, 'asserted': 1, 'denver': 1, 'co': 11, '29': 10, 'sturdy': 1, \"that's\": 3, 'marshmellow': 1, 'quit': 1, 'firmer': 1, 'texture': 7, 'problem': 1, 'done': 7, 'anyway': 2, 'flat': 6, 'lay': 4, 'casserole': 11, 'crispy': 29, 'peeling': 1, 'each': 28, 'turns': 1, 'wing': 1, 'replace': 1, 'everyone': 3, 'kitchen': 9, 'sickly': 1, 'pleased': 1, 'diego': 1, 'technique': 2, 'reviewer': 1, 'quick': 16, 'substitute': 6, 'did': 1, 'smoother': 1, 'subtle': 2, 'keeper': 1, 'result': 3, 'holiday': 3, 'definitely': 1, 'awesome': 3, 'step': 2, 'suggested': 3, 'incredibly': 2, 'vancouver': 1, 'bc': 1, 'microwave': 8, 'winter': 6, 'reducing': 1, 'cuts': 1, 'its': 6, 'same': 5, 'alternative': 2, 'nice': 7, 'yummy': 1, 'francisco': 2, '01': 19, 'ca': 1, 'preferred': 3, 'site': 3, 'loved': 2, 'ways': 1, 'style': 97, 'maple': 10, 'carrot': 16, 'party': 7, 'syrup': 13, 'dinner': 8, 'different': 5, 'macaroni': 3, 'scratch': 2, 'cheddar': 9, 'buttered': 4, '375°': 1, 'uncovered': 3, 'quart': 4, 'bubbling': 4, 'bechamel': 1, 'white': 30, 'proficient': 1, 'dishes': 3, 'attain': 1, 'cautionary': 1, 'base': 11, 'important': 4, 'leftovers': 3, 'bland': 1, 'many': 5, 'classes': 1, 'economics': 1, 'béchamel': 2, 'invariably': 1, 'however': 6, 'foods': 3, 'giving': 2, 'uses': 2, 'become': 5, 'lessons': 1, 'added': 7, 'term': 1, 'life': 2, 'proper': 1, 'soufflés': 1, 'french': 5, 'new': 10, 'homey': 1, 'used': 8, 'way': 8, 'stretch': 1, 'may': 6, 'creamed': 4, 'coated': 7, 'perfectly': 2, 'foolproof': 1, 'watch': 13, 'video': 1, 'streaming': 1, 'demonstration': 1, 'us': 2, 'heated': 4, 'constantly': 3, 'continuing': 1, 'prevent': 4, 'film': 4, 'bubbles': 3, 'bottomed': 3, 'wax': 1, 'paper': 14, 'forming': 3, '\\x97': 1, 'cooks': 6, 'later': 1, 'lower': 3, 'thickens': 6, 'cayenne': 5, 'during': 5, 'along': 9, 'form': 11, 'begin': 2, 'how': 9, 'dc': 1, 'washington': 1, 'suggestions': 2, 'idea': 2, 'nutmeg': 19, 'basic': 1, 'instead': 4, 'adding': 23, 'try': 7, 'mn': 1, 'springvalley': 1, 'poured': 2, 'now': 9, 'fried': 9, 'bulion': 1, 'pa': 1, 'philadelphia': 1, 'alot': 1, 'certainly': 1, 'toronto': 1, 'ontario': 1, 'warmed': 3, 'fine': 4, 'avoids': 1, 'warming': 2, 'adds': 4, 'delicious': 14, 'suggests': 2, 'worked': 4, 'joy': 1, 'quarter': 6, 'flavours': 2, 'ricepaddy': 1, 'chocolate': 82, 'magazine': 7, 'prevention': 2, 'soy': 26, 'me': 9, 'protein': 5, 'b': 1, 'cow': 1, 'love': 5, 'drink': 14, 'indigestion': 1, 'suffer': 1, 'anyways': 1, 'gives': 1, 'although': 1, 'decadent': 1, 'chocolatey': 1, 'chocoholic': 1, 'originally': 2, 'note': 10, 'bittersweet': 8, 'called': 2, \"haven't\": 1, 'closer': 2, 'semisweet': 7, 'tried': 3, 'here': 10, 'ok': 2, 'unsweetened': 9, 'cocoa': 10, 'cornstarch': 4, 'edensoy': 1, 'original': 4, 'chips': 16, 'approx': 4, 'boils': 1, 'whisking': 1, 'plastic': 8, 'wrap': 6, 'six': 4, 'hours': 13, 'raspberries': 6, 'garnish': 16, 'sprigs': 5, 'interested': 1, 'facts': 1, 'nutrition': 2, \"i'll\": 1, 'per': 18, \"you're\": 6, 'puts': 1, 'almost': 4, 'flourless': 1, \"doesn't\": 3, 'consistency': 4, 'cake': 17, 'lump': 1, 'cuz': 1, 'biting': 1, 'nobody': 1, 'likes': 2, '9713282': 1, 'minestrone': 1, 'full': 7, 'healthy': 1, 'antioxidants': 1, 'hearty': 1, 'night': 2, 'lucky': 1, 'prep': 77, 'ready': 14, 'submitted': 1, 'shelley': 1, 'printed': 1, 'allrecipes': 2, 'vegetable': 30, 'stalks': 9, 'celery': 8, 'italian': 10, 'diced': 14, 'carrots': 15, 'directions': 1, 'reduce': 21, 'occasionally': 6, 'vegetables': 20, 'ginger': 31, 'dab': 1, 'cumin': 8, 'coriander': 7, 'give': 5, 'chunks': 10, 'yogurt': 15, 'sour': 5, 'bowls': 6, 'spoonful': 1, '10765947': 1, 'raisin': 1, 'vanishing': 1, '48': 6, '0': 10, 'softened': 11, 'ts': 8, 'oats': 5, 'uncooked': 1, 'quaker': 4, 'fashioned': 1, 'sugars': 4, 'tablespoonfuls': 2, 'store': 4, 'information': 1, '100': 2, 'calories': 6, '4g': 1, 'fat': 11, 'sodium': 4, '75mg': 1, 'dietary': 1, 'fiber': 5, '1g': 1, 'variations': 2, 'ÿÿÿ': 1, 'candy': 1, 'omit': 1, 'fruit': 10, 'mixed': 9, 'sandwich': 3, 'freeze': 8, 'securely': 1, 'source': 1, '1994': 1, 'company': 2, 'copyright': 2, 'permission': 1, 'reprinted': 1, 'electronic': 1, 'courtesy': 3, 'karen': 1, 'mintzias': 1, 'format': 1, 'ritz': 1, 'fabulousbakerboy': 1, 'carlton': 1, 'math': 1, 'gonna': 1, 'batch': 2, '13': 16, 'gold': 1, '10012199': 1, 'saag': 1, 'devi': 1, 'art': 1, 'indian': 1, 'yamuna': 1, 'vegetarian': 13, 'chiles': 3, 'root': 2, 'tbspn': 1, 'tumeric': 1, 'teaspn': 4, 'clarified': 1, 'ghee': 2, 'tbspns': 1, 'washed': 1, 'spinach': 11, 'garam': 4, 'masala': 5, 'tbsns': 1, 'desciptions': 1, 'own': 8, 'shortened': 1, 'h2o': 1, 'pack': 4, 'wet': 5, 'panir': 1, 'everything': 4, 'marsala': 1, 'carefully': 10, 'cilantro': 3, 'esp': 1, 'bunch': 5, 'proccessor': 1, 'chopping': 1, 'tweaked': 1, 'lazily': 1, 'thru': 1, 'works': 6, 'w': 1, 'going': 4, '6300410': 1, 'banana': 17, 'best': 24, 'cling': 3, 'rise': 2, 'loaf': 5, 'sides': 15, 'flouring': 2, 'slick': 1, 'causes': 1, 'greasing': 3, 'higher': 1, 'nonstick': 4, '9': 43, 'walnuts': 12, 'bananas': 3, 'ripe': 3, 'darkly': 1, 'speckled': 1, 'beaten': 12, 'cooled': 8, 'position': 2, 'aside': 24, 'adjust': 4, 'five': 3, 'middle': 9, '55': 9, 'wooden': 10, 'rubber': 2, 'looks': 5, 'batter': 32, 'toothpick': 10, 'prepared': 10, 'chunky': 2, '10372202': 1, 'onions': 46, 'thyme': 10, 'bouillon': 2, 'commercial': 1, 'croutons': 2, 'burn': 6, 'checking': 4, 'braise': 2, 'purée': 1, 'immersion': 1, 'reheat': 1, 'rec': 1, 'wheat': 3, 'crystallized': 2, 'divided': 1, 'applesauce': 3, 'spray': 7, 'flours': 3, 'moist': 6, 'chill': 3, 'least': 6, '350°': 2, 'shape': 3, 'coat': 9, 'balls': 10, 'inches': 3, 'sheets': 1, 'racks': 1, 'duty': 1, 'bag': 4, 'zip': 2, 'freezer': 2, 'month': 2, 'thaw': 3, '123': 1, '5g': 3, 'monofat': 1, 'satfat': 1, '7g': 2, 'polyfat': 1, '2g': 2, 'carbohydrate': 3, '0mg': 1, 'iron': 11, '4mg': 1, '9g': 1, 'cholesterol': 3, '24mg': 1, '98mg': 1, 'calcium': 1, '2001': 1, 'got': 3, 'molly': 1, 'ny': 1, \"o'neill's\": 1, 'bakery': 1, 'layers': 2, '11x9': 1, 'coarsely': 1, 'except': 7, '45': 36, 'springs': 1, 'back': 23, 'touched': 1, 'frosting': 2, 'frost': 1, 'glaze': 4, 'pkg': 1, 'thai': 23, 'curry': 31, 'dinners': 2, 'yellow': 6, 'tv': 1, 'seafood': 2, 'coconut': 7, 'fish': 22, 'concentrated': 1, 'lemongrass': 3, 'bruised': 1, 'stalked': 1, 'strips': 8, 'lime': 15, 'turmeric': 4, 'bite': 6, 'fillet': 7, 'salmon': 33, 'preferably': 1, 'organic': 1, 'shrimp': 3, 'choi': 1, 'choice': 3, 'bok': 2, 'rest': 8, 'enormously': 1, 'pumpkins': 1, 'vary': 1, 'takes': 3, 'fast': 3, 'sorts': 1, 'sizzle': 1, 'skim': 3, 'till': 2, 'wanting': 2, 'tiny': 3, 'cools': 1, 'advance': 2, 'mentioned': 1, 'leaving': 8, 'simmering': 14, 'tamp': 1, 'feel': 1, 'their': 7, \"they'll\": 1, 'rice': 60, 'go': 4, 'shredded': 6, 'wilted': 2, \"choi's\": 1, 'decant': 1, \"shouldn't\": 1, 'frozen': 10, 'robustly': 1, 'basmati': 4, 'suits': 1, 'hungrymonkey': 1, 'syrian': 2, 'lentil': 3, 'haamud': 1, 'bi': 1, \"'adas\": 1, 'chard': 3, 'lentils': 2, 'kind': 1, 'rib': 1, 'squeezed': 2, 'continue': 11, 'stems': 4, 'plenty': 1, 'stove': 6, 'champurrado': 1, 'speak': 1, 'harina': 2, 'masa': 2, 'tortilla': 1, 'mexican': 1, 'ibarra': 1, 'pre': 5, 'block': 1, '125g': 3, 'lumps': 4, 'avoid': 2, 'dissolved': 3, '9x12': 2, 'brownies': 48, \"fooder's\": 1, 'fit': 2, 'semi': 2, 'chcoclate': 1, 'instant': 3, 'espresso': 7, 'coffee': 4, 'electric': 3, 'mis': 1, 'valilla': 1, 'rattle': 1, 'loosen': 6, 'hardened': 1, 'accomodate': 1, 'thicker': 3, 'gooey': 3, 'encinger': 1, 'mary': 2, '98': 1, 'york': 1, '9x13': 1, 'overmix': 3, 'shake': 4, 'firm': 8, 'overbake': 3, \"stewart's\": 1, 'martha': 1, 'ultimate': 1, 'line': 14, 'x': 11, '425': 3, 'parchment': 9, 'boiler': 7, 'barely': 3, 'attachment': 3, 'blending': 1, 'pulling': 1, 'perfect': 8, 'according': 1, 'sister': 1, 'brownie': 9, 'law': 1, 'smell': 2, 'evaporating': 1, 'tells': 1, 'air': 2, 'teasp': 1, 'backing': 1, 'fluffly': 1, 'parts': 2, 'ones': 2, \"alison's\": 1, 'don': 2, '325': 4, 'til': 1, 'cakey': 1, '49': 3, 'fudgey': 2, 'lainielou': 1, 'imo': 1, 'nick': 2, 'malgieri': 1, 'classic': 12, 'pecans': 4, 'ahold': 1, 'supernatural': 1, 'showstoppers': 1, 'adapted': 3, 'extravagant': 1, 'resting': 1, 'overnight': 4, 'say': 2, 'happens': 1, 'buttering': 1, 'walnut': 3, 'pecan': 3, 'foil': 8, 'heatproof': 1, 'colored': 1, 'shiny': 2, 'formed': 1, 'refrigerated': 5, 'unmold': 3, 'trim': 3, 'house': 2, 'hah': 1, '11003371': 1, '27': 7, 'google': 2, 'embrace': 1, 'avidreader': 1, 'damn': 1, 'files': 1, 'amounts': 1, 'checked': 1, 'barefoot': 1, 'outrageous': 1, 'contessa': 1, 'granules': 3, 'rap': 1, 'self': 2, 'against': 2, 'between': 6, 'force': 2, 'escape': 1, 'sinking': 1, 'keeps': 1, 'ruin': 1, 'wrapped': 2, 'week': 4, '12822881': 1, 'realize': 1, 'gal': 1, 'answer': 1, 'context': 1, 'discussion': 1, 'differences': 1, 'methods': 1, 'rapidly': 1, 'ahead': 18, 'phone': 1, 'calls': 1, 'temperatures': 1, 'teas': 2, 'overhang': 2, 'opposite': 2, 'wide': 2, 'stainless': 3, 'steel': 5, 'frequently': 4, 'dipping': 1, 'test': 2, 'fairly': 2, 'quickly': 6, 'incorporated': 3, 'lined': 3, 'pull': 1, 'bath': 4, 'fill': 7, 'roasting': 4, 'ends': 3, 'lift': 2, 'stored': 2, 'longer': 4, 'probably': 1, '12456665': 1, 'fudgy': 1, \"robert's\": 1, 'chocolatier': 1, 'steinberg': 1, 'enjoys': 1, 'robert': 1, 'dense': 3, \"barron's\": 1, 'maida': 1, 'american': 1, \"heatter's\": 1, '1985': 1, 'desserts': 1, 'scharffen': 3, '70': 3, 'berger': 3, 'scant': 1, 'halves': 2, 'briskly': 1, 'free': 5, 'sixteen': 1, 'working': 2, 'fuss': 1, 'parent': 1, \"karen's\": 1, \"brownies'\": 1, \"60's\": 1, \"'adult\": 1, 'retro': 1, 'marin': 1, 'hills': 1, 'ages': 1, 'dolphin': 1, 'schools': 1, 'class': 1, 'plaza': 1, '99': 2, 'sections': 2, 'scored': 1, 'unsifted': 1, 'dutch': 2, 'crack': 2, 'dirtying': 1, 'digging': 1, 'grab': 1, 'overbeat': 2, 'greased': 3, 'check': 3, 'pretty': 2, \"john's\": 1, 'alton': 2, 'summary': 2, 'difficulty': 2, 'stars': 2, 'rating': 2, 'user': 75, 'dusting': 3, 'kosher': 1, 'fluffy': 2, 'both': 8, 'doneness': 1, 'true': 1, 'resist': 1, 'temptation': 1, 'mostly': 1, 'poorteacher': 1, 'might': 2, 'again': 10, 'though': 1, 'looking': 1, 'official': 1, \"here's\": 2, \"hershey's\": 1, 'imported': 1, 'difference': 2, 'stuff': 4, 'huge': 2, 'happened': 1, '16258018': 1, '52': 2, 'epicurious': 2, '53': 3, 'easiest': 2, 'gatitacaterina': 1, \"hepburn's\": 1, 'katharine': 2, \"family's\": 1, 'who': 2, 'her': 4, 'friend': 3, 'apparently': 2, 'article': 2, 'hepburn': 1, '3250f': 1, 'fancy': 2, 'shaved': 1, 'pile': 1, 'scattering': 2, 'nicer': 2, 'act': 1, 'plate': 18, 'blob': 41, 'crime': 1, 'smarten': 1, 'franche': 1, \"cook's\": 2, 'guide': 1, 'colwin': 1, 'harried': 1, 'laurie': 1, 'endless': 1, 'feasts': 1, 'april': 1, '2003': 1, 'edited': 1, 'ruth': 1, 'reichl': 1, 'library': 1, 'modern': 1, '18840108': 1, '59': 5, 'box': 2, 'bellachelsea': 1, '56': 1, \"nigella's\": 2, 'goddess': 1, 'stopped': 1, 'domestic': 1, 'flower': 1, 'keep': 19, 'look': 1, 'fudge': 5, 'yummies': 1, '18178246': 1, '350f': 1, 'based': 3, 'mouthed': 1, 'smoothly': 1, 'speckle': 1, 'paler': 1, 'alert': 1, 'maximum': 1, 'brazil': 1, 'peanuts': 2, 'cherries': 1, 'options': 2, 'html': 4, 'www': 37, 'browniesprint': 1, 'joyofbaking': 1, 'printpages': 1, '680': 1, 'grams': 6, '226': 1, '210': 1, '177': 3, '23': 3, 'cm': 3, 'panna': 3, '37': 3, 'cotta': 4, 'gelatin': 10, 'envelopes': 1, 'pint': 2, 'bloom': 1, 'stain': 1, 'ramekins': 3, 'fridge': 7, '10951850': 1, '32': 3, \"fools'\": 1, 'proof': 3, 'individual': 3, 'essence': 3, 'scald': 1, 'open': 5, 'scraped': 1, 'slowly': 6, 'icorporate': 1, 'strain': 6, 'simmered': 1, 'firms': 1, 'strawberries': 5, 'champagne': 1, 'macerate': 1, 'run': 5, 'pairing': 1, 'ramekin': 2, 'losen': 1, 'pana': 1, '1807369': 1, \"delfina's\": 1, \"stoll's\": 1, 'craig': 1, 'among': 2, 'popular': 6, 'mission': 1, 'delfina': 1, 'district': 1, 'served': 10, 'his': 11, 'seasonal': 2, 'styrofoam': 2, 'custard': 6, 'envelope': 1, 'instructions': 10, 'sandy': 1, 'moisten': 2, 'pastry': 12, 'residual': 1, 'caramelizes': 1, 'dipped': 1, 'standing': 1, \"arm's\": 1, 'length': 1, 'sputter': 1, 'bubble': 1, 'stops': 1, 'sputtering': 1, 'tilt': 3, 'below': 1, 'caramelized': 1, 'molds': 2, 'custards': 2, 'sets': 1, 'stiff': 3, 'slip': 1, 'paring': 2, 'inside': 5, 'puncture': 1, 'invert': 2, 'tip': 11, 'slide': 3, 'saturated': 2, '46': 2, '50': 13, '82': 1, 'mg': 2, 'toasts': 3, \"chow's\": 1, 'michael': 2, 'bauer': 2, '2000': 2, 'wednesday': 1, 'rage': 1, 'greens': 8, 'every': 6, 'combination': 2, 'finding': 1, 'cauliflower': 20, 'anchovy': 2, 'artichokes': 1, 'bruschetta': 1, 'chow': 3, 'castro': 1, 'draws': 1, 'roma': 2, 'marinated': 2, 'allowed': 1, 'owner': 3, 'decades': 1, 'gate': 1, 'restaurants': 4, 'gulisano': 1, 'pendant': 1, 'lights': 1, 'wainscoting': 1, 'similar': 2, 'price': 1, 'chef': 7, 'main': 75, 'ceiling': 1, 'hanging': 1, 'avenue': 1, 'il': 1, 'area': 1, 'chinois': 1, 'heart': 2, 'floors': 1, 'tony': 1, 'era': 1, 'ninth': 1, 'including': 1, 'depression': 1, 'southern': 4, 'street': 3, 'he': 7, 'opened': 2, 'featuring': 1, '1997': 1, 'fornaio': 1, 'monsoon': 1, 'park': 1, 'spago': 1, 'wood': 1, 'lunch': 4, 'daily': 3, 'near': 1, '415': 1, '552': 3, '2469': 1, 'market': 2, '215': 1, 'st': 1, 'church': 1, 'success': 2, 'secrets': 2, 'infuses': 1, 'coating': 3, 'breaks': 1, 'rubbing': 1, 'achieved': 1, \"can't\": 2, 'suction': 1, 'insures': 1, 'marinating': 1, 'crushing': 1, 'cracked': 4, 'chewy': 1, 'eighths': 1, 'seasonings': 1, 'grill': 4, 'stovetop': 1, 'deep': 10, 'color': 2, 'dip': 1, 'perfume': 1, 'hottest': 2, 'platter': 1, 'grilled': 8, '767': 1, '535': 1, '39': 5, \"francisco's\": 1, \"restaurants''\": 1, 'signature': 1, 'editor': 1, 'books': 1, 'tips': 2, 'author': 1, 'published': 1, 'insider': 1, \"chronicle's\": 1, 'recently': 1, 'chronicle': 2, 'zz1': 1, 'page': 2, 'file': 1, 'fd44354': 1, 'bin': 1, 'sfgate': 1, 'archive': 1, 'dtl': 1, 'url': 1, 'cgi': 1, 'cubed': 2, 'yolks': 4, 'steamer': 3, 'basket': 4, 'equipment': 6, 'mash': 17, 'masher': 3, 'steam': 4, 'fsalted': 1, 'paddle': 1, 'cooling': 3, 'bourbon': 2, 'mine': 2, 'kaeruemi': 1, 'unbaked': 4, 'weight': 4, 'yams': 3, 'evaporated': 1, \"maker's\": 1, 'mark': 4, 'dash': 3, 'splits': 1, 'taters': 1, 'strainer': 3, 'lumpy': 1, 'push': 3, 'runny': 1, 'incorporate': 1, '400f': 1, '50min': 1, '21829163': 1, '17': 8, 'pageturner': 1, 'tbl': 1, 'neighbor': 1, 'garnet': 1, 'taught': 1, 'door': 1, 'meringue': 5, 'weights': 2, 'weighting': 1, 'specialty': 1, 'available': 1, 'shops': 1, 'supermarkets': 1, '4000f': 1, 'halve': 1, 'chop': 11, 'purie': 7, 'remainder': 3, 'prick': 2, 'proceeding': 1, 'edge': 5, 'crimp': 1, 'decoratively': 1, '3750f': 1, 'pale': 2, 'peaks': 1, 'metal': 1, 'mound': 2, 'gourmet': 1, 'november': 1, '1998': 2, 'total': 72, 'creamier': 1, 'brighter': 1, 'graham': 3, 'cracker': 2, 'crackers': 4, 'allspice': 2, 'lowest': 1, '3500': 1, 'shelf': 1, 'forms': 1, 'buy': 2, 'premade': 1, 'complement': 1, 'flavoring': 1, 'pierced': 1, 'flavorings': 1, 'liquid': 4, 'gram': 1, '172': 1, 'carbohydrates': 1, 'master': 1, 'v8': 1, 'mmmmm': 2, 'tm': 1, 'via': 1, 'omar': 6, 'pieman': 4, 'title': 69, 'pies': 7, 'tb': 2, 'left': 2, '1964': 2, 'vending': 2, 'seas': 1, 'marine': 1, 'sailing': 1, 'merchant': 1, 'wife': 1, 'haneefah': 2, 'decided': 2, 'traditional': 1, 'provide': 1, 'family': 5, 'homemade': 3, 'cakes': 2, 'august': 1, 'historic': 1, 'route': 1, 'went': 1, \"orleans'\": 1, 'shouting': 1, 'streets': 1, 'outgoing': 1, 'became': 1, 'known': 3, 'character': 1, 'enjoyed': 1, 'friendly': 1, 'residents': 1, 'years': 2, 'business': 3, 'jazz': 2, 'orleans': 3, 'festival': 2, 'heritage': 2, 'celebration': 1, 'bastille': 1, 'marketplace': 1, 'throughout': 2, 'velvety': 1, 'son': 1, 'trays': 1, 'ibn': 1, 'delivers': 1, 'lady': 1, 'she': 2, 'behind': 3, 'scenes': 1, 'sight': 1, 'unless': 1, \"won't\": 1, 'quoted': 1, 'fillings': 1, 'mouth': 1, 'print': 1, 'sadly': 1, 'taken': 3, 'beater': 1, '1984': 1, 'rotary': 1, 'rum': 1, 'walt': 1, 'mm': 1, 'decatur': 1, 'la': 1, '1015': 1, 'sorbet': 3, 'wineglass': 2, 'zested': 2, 'limes': 1, 'pounded': 2, 'infuse': 1, 'pass': 1, 'sieve': 4, 'earthenware': 1, 'tub': 1, 'generally': 1, 'remember': 5, 'grapefruit': 3, 'courses': 1, 'refreshing': 2, 'sorbets': 1, 'tasty': 2, 'require': 1, 'maker': 1, 'pink': 2, 'shallow': 2, 'melon': 1, 'scoops': 1, 'stemmed': 1, 'baller': 1, 'sprig': 2, 'disco45': 1, '26': 2, 'leek': 5, 'head': 1, 'florets': 11, 'pats': 1, 'forget': 1, 'accompanied': 2, 'baby': 3, 'snap': 1, 'leeks': 2, 'safe': 1, 'slotted': 2, 'rewarm': 1, 'december': 1, 'terrafirmafarm': 1, '051104': 1, 'view': 1, '1837': 1, 'foodnetwork': 1, '9936': 1, '20507': 1, 'boomshanka': 1, 'jalapeno': 1, 'cornbread': 14, 'cornmeal': 11, 'chilies': 1, 'deveined': 4, 'jalapeqo': 1, '4250f': 1, 'single': 3, '8x8': 1, '13x9': 1, '18076984': 1, 'claymonkey': 1, 'moosewood': 1, 'specials': 1, 'canola': 3, 'prehead': 1, '375f': 1, 'mushy': 1, 'mush': 1, 'coll': 1, 'cast': 10, '20582882': 1, 'vegan': 1, 'corn': 6, 'penny': 1, 'heaven': 2, 'sly': 1, 'dana': 1, 'iowa': 2, 'won': 1, 'ribbon': 1, 'blue': 9, 'state': 1, 'fair': 1, 'city': 1, 'sioux': 1, 'year': 2, 'flax': 4, 'thickened': 5, 'illustrated': 1, 'email': 1, '25323948': 1, 'scatterbrained': 1, \"grandparents'\": 1, 'entirely': 1, 'stuffing': 1, 'savory': 1, 'chili': 2, 'pinto': 1, 'pancake': 1, 'gps': 1, '455': 1, 'bacon': 11, 'crisp': 4, 'typing': 1, 'stomach': 1, 'growling': 1, '21688741': 1, 'miss': 1, 'informed': 1, '05': 11, 'digs': 1, 'boy': 3, \"he's\": 1, 'thinks': 2, 'sees': 1, 'replaced': 1, 'final': 2, 'spongy': 1, 'equivalent': 1, 'min': 3, 'outside': 2, 'crunchy': 2, 'correctly': 1, 'hope': 1, 'band': 1, 'itching': 1, \"rommie's\": 1, 'ps': 1, 'roommates': 1, 'lachey': 1, '19768242': 1, 'menu': 1, 'diameter': 1, 'sized': 5, 'strokes': 1, 'probing': 1, 'beef': 48, 'date': 68, '14t20': 1, '2021': 37, 'issue': 136, '102': 2, 'link': 68, 'issues': 74, 'github': 113, 'jcallaghan': 114, 'https': 240, 'jpg': 112, 'thumbnail': 68, 'type': 45, 'labels': 68, 'meat': 38, 'steak': 30, 'james': 33, 'ð\\x9f¥°': 62, 'favourite': 64, 'asian': 6, 'chinese': 9, 'frying': 28, 'â\\x8f°': 10, 'â\\x84¹ï¸\\x8f': 24, 'wok': 16, 'previous': 1, 'impossible': 1, 'professional': 1, 'trick': 3, 'getting': 1, 'due': 1, 'favourites': 4, 'stodgy': 1, 'takeout': 1, 'ordering': 1, 'feeling': 2, '100g': 13, 'person': 7, 'whisked': 2, 'sesame': 34, 'sirloin': 3, \"you'll\": 2, 'cornflour': 8, 'ketchup': 2, 'toppings': 3, 'chilli': 17, '180â°c': 10, 'aim': 2, 'clock': 1, 'fry': 27, 'towel': 4, 'excess': 4, 'further': 10, 'shortly': 3, 'moving': 1, 'jump': 2, 'tossing': 1, 'glazed': 1, 'overglazed': 1, 'finish': 8, 'pictures': 62, 'image': 109, '5c12a5417a59': 1, 'a353': 1, 'd6317911': 1, 'jpeg': 46, 'githubusercontent': 73, '4ce7': 1, '148839657': 1, '7449908': 73, 'images': 112, '88f1': 1, 'reference': 37, 'w1saae425s': 1, 'wednesdays': 2, 'youtube': 10, 'school': 7, 'v': 10, 'schoolofwok': 1, 'uk': 11, 'breast': 16, 'duck': 12, '08t08': 1, '184': 2, 'ð\\x9f¥³': 5, 'wonderful': 4, 'leak': 1, 'simpler': 1, 'buttery': 3, 'fillets': 11, 'crosshatch': 1, 'renders': 1, 'consistent': 3, 'rare': 1, '52â°c': 1, 'internal': 1, 'reads': 1, 'angle': 1, '364': 3, '280': 10, 'alternatively': 3, '366': 2, 'jus': 1, 'fb4a': 2, '9166': 2, '0f078fb9b3c9': 2, '6b1bca8b': 2, '4420': 2, '155019834': 2, '4e8c': 1, '2c20': 1, '3b9e734a8916': 1, 'f13cf20b': 1, 'a005': 1, '155019885': 1, 'c59b': 1, '155019945': 1, '9795': 1, 'b97d18c86539': 1, '4a07': 1, '127a0a76': 1, '155019988': 1, '757cbf13': 1, '877d': 1, '07b195624eb3': 1, '64dd': 1, '4068': 1, '4b30': 1, 'd6bf4367': 1, '99e9': 1, '155020231': 1, '8e89dbfddafe': 1, '0d45': 1, '1522f26307e0': 1, '90ae': 1, 'ee4e': 1, '4b5a': 1, '155020251': 1, '3c9f5eca': 1, 'conundrums': 1, 'seared': 1, 'thomas': 1, 'joseph': 1, '6zajatkorlq': 1, 'related': 27, '03t19': 1, '57': 4, '2022': 15, '369': 2, 'ð\\x9f\\x90\\x94': 15, '60ml': 4, '30ml': 3, '80ml': 2, 'â½': 19, 'tempura': 1, '65g': 2, '120ml': 7, 'sparkling': 1, 'skinless': 5, '450g': 3, 'boneless': 5, 'thighs': 8, 'quartered': 6, 'â¼': 7, 'fryer': 2, 'suitable': 3, 'garnished': 3, '330': 2, 'dinnerthendessert': 2, '17t17': 1, '297': 2, 'ð\\x9f\\x8d\\x9d': 16, 'penne': 4, 'parsley': 28, 'slow': 2, 'tbc': 8, '298': 1, 'stroganoff': 4, '30t17': 2, '2020': 9, 'jas': 23, 'ð\\x9f\\x8d\\x84': 1, 'mushroom': 1, 'mushrooms': 3, '250g': 6, '500g': 5, 'crã¨me': 2, 'fraã®che': 2, '150g': 9, 'english': 4, 'mustard': 14, '100ml': 12, 'splash': 8, 'mins': 19, 'starts': 4, 'non': 3, 'foaming': 1, 'seasoned': 1, 'splashing': 1, 'coloured': 1, 'scatter': 3, 'pappardelle': 1, '149017469': 1, '1af3263f': 1, '927b': 1, 'db3ee74a56c7': 1, '53d1': 1, '4c11': 1, 'png': 22, 'bbcgoodfood': 3, '08t22': 1, '351': 2, '225g': 1, '175g': 1, '300g': 14, 'raising': 1, 'bicarbonate': 1, 'decorate': 4, '50g': 13, 'icing': 12, '200g': 14, '350g': 1, 'tins': 4, '20cm': 1, 'divide': 4, 'skewer': 1, 'placing': 4, 'circular': 1, 'include': 1, 'pineapple': 1, 'strained': 1, '93aef7a8': 1, '5a443c9a7dce': 1, 'ba7e': 1, '3556': 1, '154504137': 1, '4054': 1, '4aef': 1, '42ff9a48': 1, '98b8': 1, '154504232': 1, 'b815c52dcc28': 1, 'c43b': 1, 'e265514e5156': 1, '2a4e359f': 1, '8e96': 1, '4adb': 1, '552c': 1, '154504408': 1, 'b42168bf': 1, '6e64': 1, '154505968': 1, '803096800867': 1, '9de9': 1, '4d8e': 1, '4350': 1, '154506280': 1, 'b7a6': 1, 'd37440aa': 1, '4b2d1ae77479': 1, '4568': 1, 'deliciousmagazine': 1, 'peppe': 3, 'cacio': 3, '05t19': 1, '359': 2, 'ð\\x9f§\\x80': 7, 'ð\\x9f\\x87®ð\\x9f\\x87¹': 2, 'alex': 2, 'ð\\x9f§\\x91ð\\x9f\\x8f¼â\\x80\\x8dð\\x9f\\x8d³': 4, 'fun': 1, 'researching': 1, 'were': 3, 'watching': 1, 'videos': 1, 'yet': 1, 'tastes': 1, 'beautifully': 1, 'technical': 2, 'absolutely': 2, 'real': 1, 'complex': 1, 'spaghetti': 18, 'romano': 1, 'peppercorns': 2, 'tellicherry': 1, '3l': 1, 'fragrant': 5, 'empty': 2, 'mill': 1, 'starchy': 1, 'create': 5, 'being': 2, 'clings': 1, 'emulsify': 1, 'cheesy': 1, 'liking': 2, 'amazing': 2, 'something': 1, 'itâ\\x80\\x99s': 6, 'mastering': 1, 'a558': 1, '154868209': 1, '6d2243a5': 1, '24b6': 1, 'b2d9254c7ba9': 1, '4b2e': 1, 'a8ec': 1, 'b78b2a41': 1, 'bf14': 1, '97c5e9da1b2a': 1, '154868213': 1, '4739': 1, 'pizza': 40, '23t16': 1, '54': 1, '145': 5, 'ð\\x9f\\x8d\\x95': 11, 'purist': 1, 'marsano': 1, 'passata': 3, 'others': 2, '400g': 7, 'sautã©': 6, 'mousse': 1, '144': 5, 'broccoli': 18, 'tagliatelle': 10, '06t20': 3, '60': 3, 'wonder': 4, 'ð\\x9f\\x92ª': 3, 'smelly': 1, 'bight': 3, '170g': 2, 'cambazola': 1, 'hob': 1, '87348975': 1, '87d10e80': 1, '11ea': 5, 'c54d': 5, '41a1408ad459': 1, '9380': 1, 'dbba1652084a': 1, '87348999': 1, '93243a00': 1, '9c0a': 1, '9ff9': 1, '1f176c7196ed': 1, '87349042': 1, 'a1725600': 1, '8c40': 1, '7669dc040818': 1, 'afc07200': 1, '87349080': 1, 'bbac3400': 1, 'c18248d08fed': 1, '87349122': 1, '8400': 1, 'dogs': 3, '18t10': 2, '234': 2, 'bbq': 11, 'sausage': 9, 'ð\\x9f\\x8d\\x95ð\\x9f\\x94¥': 4, 'dog': 1, 'frankfurters': 1, 'mozzarella': 9, '9a74': 1, '11d9': 1, '05b10ab4e646': 1, '126063626': 1, 'f94f75a9': 1, '498b': 1, 'meatballs': 8, '34': 4, 'florence': 8, 'kofta': 1, 'ikea': 1, 'daughter': 2, 'infamous': 1, 'loves': 1, 'thought': 2, 'said': 2, \"turkey's\": 1, 'meatball': 6, \"so's\": 2, 'bosnian': 13, 'find': 2, 'swedish': 1, 'variates': 1, 'things': 2, 'truly': 1, \"alex's\": 1, 'differently': 1, 'list': 1, 'conquer': 1, 'series': 1, 'incredible': 4, 'plursdaor8hwwt59j2ijlpadnmu6ss': 1, 'playlist': 1, 'quest': 1, 'guy': 1, 'discovered': 1, 'points': 2, 'tek': 1, 'greatest': 1, 'covers': 1, 'purã©e': 1, 'shallots': 4, '1tsp': 1, '220â°c': 3, 'pate': 1, 'golf': 2, 'tray': 14, 'optionally': 3, 'softer': 2, 'centre': 7, 'peek': 1, 'opening': 1, 'packets': 2, 'grating': 2, 'relate': 1, 'balmoral': 5, '16t13': 3, '2023': 7, '449': 2, 'lamb': 14, 'scottish': 6, 'breasts': 19, '70g': 2, 'depending': 7, 'haggis': 23, 'rashers': 1, 'whisky': 12, '200c': 4, 'casing': 1, 'packaging': 1, 'directed': 1, 'youâ\\x80\\x99ll': 1, 'log': 1, 'freezing': 1, 'unsliced': 1, 'largest': 1, '5cm': 1, 'pocket': 1, 'slit': 2, 'remain': 1, 'seal': 3, 'basically': 1, 'circle': 2, 'donâ\\x80\\x99t': 3, 'underside': 1, 'itself': 1, 'secure': 2, 'ideally': 1, 'browns': 1, 'insert': 1, 'clear': 2, 'scottishscran': 4, 'accompanying': 1, 'liberally': 1, 'stuffed': 18, 'scran': 3, '447': 4, '448': 3, '10t19': 1, '220': 2, 'cooker': 1, 'pressure': 1, 'dumpling': 1, 'trusted': 1, 'semolina': 1, 'unwell': 1, 'variation': 3, 'leftover': 1, 'following': 3, 'veg': 2, 'poorly': 1, 'perfecting': 1, 'jewish': 1, 'close': 1, 'inspired': 4, 'dumplings': 3, 'halved': 7, 'squashed': 2, '1l': 3, 'range': 2, 'foam': 2, 'roast': 9, 'separate': 5, 'help': 2, 'marigolds': 1, 'bones': 2, 'carcass': 1, 'skipped': 1, 'ease': 2, 'removal': 1, 'pouring': 2, 'finishing': 1, '6845': 1, '9bb5': 1, '148845350': 1, '9fae2a81': 1, '42bc': 1, 'c9b089597fa5': 1, '27t19': 1, '47': 4, 'prawn': 29, 'ð\\x9f\\x90\\x9f': 9, 'ð\\x9f\\x8c¶ï¸\\x8f': 1, 'spicy': 2, 'yesterday': 1, 'reminded': 2, 'stuck': 1, 'instantly': 1, 'road': 2, 'provided': 1, 'department': 1, 'squaremeal': 1, 'smoothness': 1, 'team': 3, 'aerospace': 1, \"chilli's\": 2, 'newmarket': 2, 'aubergine': 7, 'stickiness': 1, 'regularly': 2, 'visited': 1, 'intensity': 1, 'separately': 2, 'sweetness': 1, 'wrestlers': 2, 'cambridge': 2, '8507': 1, 'marshall': 1, '816d': 1, '11eb': 9, '7933': 1, '109398180': 1, '6b9a347f7813': 1, '0ccd3480': 1, 'globalkitchenjapan': 1, 'default': 1, 'track': 1, 'collections': 1, 'shimotori': 2, 'katsu': 6, 'lovely': 1, 'japan': 1, 'research': 1, 'prawns': 13, 'mild': 3, 'global': 1, 'mould': 4, 'products': 1, 'utensil': 1, 'wagamama': 3, 'omurice': 1, 'brought': 2, 'countless': 1, 'name': 1, 'kaffir': 1, 'palm': 2, 'chillies': 3, 'shoots': 2, 'bamboo': 2, 'king': 4, '600g': 3, 'shelled': 2, '75g': 1, 'burns': 1, 'oils': 2, 'preference': 2, 'where': 2, 'complete': 1, 'packet': 2, 'kitchengardenrecipes': 1, 'wordpress': 1, '2008': 1, 'garden': 2, 'eatingthaifood': 1, 'authentic': 1, 'raspberry': 7, 'muffins': 6, 'blueberry': 5, '28t23': 1, '344': 2, 'ð\\x9f\\x8d\\x8c': 4, 'ð\\x9f\\x8d\\x93': 4, 'sup': 1, '245g': 1, '110ml': 3, '190g': 2, 'blueberries': 3, 'tin': 9, 'liners': 2, 'muffin': 3, '190â°c': 1, 'bought': 1, 'allowing': 1, '45ca': 1, '147614658': 1, '5607e0323e1f': 1, 'eb9ea9f0': 1, 'b86d': 1, '8869': 1, 'galonamission': 1, 'pad': 8, '27t17': 1, '324': 2, 'opportunity': 2, 'arranged': 1, 'weekly': 1, 'explore': 1, 'stories': 1, 'share': 1, 'local': 1, 'office': 1, 'lunches': 1, 'heads': 2, 'radish': 1, 'tamarind': 1, 'sprouts': 1, 'soaked': 1, 'noodles': 6, 'oyster': 5, 'roasted': 10, 'fully': 2, 'marinade': 15, 'scramble': 1, 'straight': 1, 'colour': 5, 'beansprouts': 1, 'chives': 10, 'doubling': 1, '98f7': 1, '14ba': 1, '147612393': 1, 'd6c6e0f5': 1, 'a781359a8852': 1, '448a': 1, 'b236': 1, 'be639d8e51d5': 1, '4906': 1, '147612435': 1, '9211156d': 1, '93b8': 1, '147612460': 1, '5371': 1, '4110': 1, '3eb777a3': 1, '8101': 1, 'f621fac22d77': 1, '40fa': 1, 'bfa8': 1, '147612482': 1, 'be11': 1, '5b32818b': 1, '2c4f71dac962': 1, 'ew': 1, 'wdgcueljvy': 1, 'poo': 1, 'm88rf0rwho8': 1, 'toad': 3, 'hole': 3, '43': 1, '06t21': 4, '349': 2, 'hits': 3, 'creates': 1, 'smoking': 3, 'british': 1, 'father': 1, 'yorkshire': 4, 'sizzling': 4, 'puddings': 5, '294': 4, 'sounds': 1, 'sausages': 7, \"cumberland's\": 1, 'butchers': 1, '120g': 1, 'paprika': 18, 'smoked': 18, 'rosemary': 6, '150ml': 4, 'gravy': 4, '225â°c': 1, 'browning': 2, 'ensure': 3, 'sweat': 2, 'burning': 2, 'caramelised': 1, 'splashes': 1, '18t09': 1, '233': 6, 'appetiser': 3, '60g': 4, 'smaller': 1, 'd89a1092': 1, '456c': 1, '126063057': 1, '3880': 1, '3b604c557221': 1, '990f': 1, 'ooni': 4, '882030637': 1, 'issuecomment': 6, 'express': 1, '882031562': 1, '882031568': 1, 'facebook': 2, 'group': 1, 'examples': 1, '882032638': 1, 'cheesey': 1, '176': 1, 'tart': 4, '18t17': 2, '258': 2, 'ð\\x9f\\x8d«': 3, '85g': 3, 'â½oz': 1, 'states': 1, 'marg': 1, 'lard': 1, '45ml': 1, '285ml': 1, '115g': 1, '15g': 1, 'normal': 1, 'â\\x80\\x93': 2, 'makeup': 1, '8â\\x80³': 1, 'bakers': 1, 'bbc': 4, 'flan': 1, 'blind': 1, '180âºc': 1, 'nearly': 1, 'wait': 1, 'obtained': 1, 'ae7e': 1, '3eab3a96': 1, 'bcf7eb189425': 1, '126076810': 1, '4b15': 1, '20c0': 1, 'littlestuff': 1, 'tatties': 8, 'neeps': 6, 'swede': 5, 'chosen': 1, 'youâ\\x80\\x99ve': 1, 'follow': 1, 'saucepans': 1, 'roughly': 8, 'quarters': 2, '30mins': 2, 'easily': 2, 'required': 1, 'balance': 1, 'rough': 1, 'build': 1, 'stack': 3, 'ring': 4, 'wish': 2, 'third': 1, 'repeat': 4, 'losing': 1, 'martini': 4, '130': 2, 'ð\\x9f\\x8d¸': 3, 'cocktail': 11, 'vodka': 1, 'cards': 4, '50mlâ\\xa0vodka': 1, '30mlâ\\xa0kahlãºa': 1, '10ml': 1, 'strong': 2, 'vigorously': 2, 'filled': 1, 'shaker': 4, '71': 1, 'espressomartini': 1, 'getcocktailcards': 2, 'b117': 1, 'ba81286f3d24': 1, '117587721': 1, '2c44c280': 1, '87a9': 1, '328': 2, 'club': 4, 'clover': 3, '03t11': 1, '281': 2, 'gin': 3, 'vermouth': 2, '20ml': 2, 'jam': 2, 'coupe': 1, 'pick': 1, 'spear': 1, 'kip': 1, 'perch': 1, 'bf7f': 1, '67bce31f6c6f': 1, '1afa2ae8': 1, '4ea1': 1, '00df': 1, '128060690': 1, 'z': 1, 'craft': 1, 'cocktails': 2, 'whiskey': 5, '21t07': 1, '310': 2, '50ml': 5, 'jameson': 2, 'barrel': 2, 'strawberry': 7, '15ml': 2, 'bonus': 1, 'goodness': 1, 'whiskeysour': 1, 'summer': 1, 'shaking': 1, 'frothy': 1, 'helps': 2, 'f84b51a0e511': 1, 'f93a4a58': 1, '400e': 1, 'a8a4': 1, '130370182': 1, '42b4': 1, 'mums': 4, '13t11': 2, '76': 2, 'sweets': 2, 'treats': 2, '140g': 1, 'lindt': 1, 'hotel': 1, 'chocolat': 1, 'caster': 3, 'yolk': 2, '7â\\x80³': 1, 'stopping': 1, 'grainy': 1, 'rectangles': 1, 'f8038a315211': 1, 'bc4f': 1, 'a20a': 1, '4cc4': 1, '154957226': 1, '899980e0': 1, '850d': 1, '3a9779cc': 1, '48cf': 1, 'e8ae434dc41b': 1, 'bf0b': 1, '154956784': 1, 'ea05d75c': 1, '154957111': 1, '4307': 1, '8da3': 1, 'ddc454493534': 1, 'ba55': 1, '6eada7b75b65': 1, '154957065': 1, '82bf': 1, '9ecd': 1, '502d766a': 1, '4b3f': 1, '2012': 1, 'bell': 7, 'peppers': 32, '20t10': 2, '266': 2, 'turkey': 2, '680g': 1, '230g': 1, '450â°f': 1, 'aluminium': 2, 'ore': 1, 'moisture': 2, 'absorbed': 3, 'keto': 1, 'lifeloveandgoodfood': 1, '277': 5, '22t17': 1, '171': 2, '1kg': 3, 'piper': 2, 'maris': 2, '400ml': 2, 'knob': 4, '25g': 7, 'etc': 1, 'haddock': 9, '320g': 2, 'cod': 1, 'dijon': 4, 'snipped': 2, 'sweetcorn': 2, 'petits': 2, 'pois': 2, 'gas': 5, '180c': 2, 'balloon': 1, 'sticking': 2, '112': 5, 'ovenproof': 3, 'pop': 2, 'mini': 1, 'ba34': 2, '525c02368eab': 1, '8ce9': 1, '119133893': 1, '5ca03100': 1, 'b5e6ddc098a2': 1, '119133914': 1, '9e0d': 1, '632ea880': 1, '09t13': 1, '542': 2, 'foodie': 2, 'book': 3, 'slimming': 2, 'broken': 2, '200â°c': 3, 'drizzling': 1, 'spears': 1, 'wedges': 4, 'dp': 1, 'amazon': 1, 'payne': 1, 'pip': 1, '178325498x': 1, '11t09': 2, '187': 2, 'bakes': 1, 'cans': 2, 'mascarpone': 2, 'mature': 1, '220c': 2, '139e': 1, '148848624': 1, '433a': 1, '8120': 1, '20fc1176ec03': 1, '8d94d5b1': 1, 'berryâ\\x80\\x99s': 1, 'mygorgeousrecipes': 2, '138': 1, '28t18': 2, '111': 2, 'sunday': 1, 'roots': 1, 'parboil': 1, 'bã©chamel': 5, '282': 1, '03t20': 1, '370': 2, 'thigh': 1, '90g': 2, 'mayonnaise': 1, '155g': 1, 'condensed': 1, '110g': 2, 'createyum': 1, '07t22': 2, '394': 2, 'travel': 1, 'memories': 1, 'montenegro': 1, 'ribara': 1, 'boat': 1, 'budva': 1, 'recommended': 1, 'tri': 1, 'tour': 1, 'took': 1, 'enjoying': 1, 'inspiration': 2, 'picked': 1, 'breaking': 1, 'pã¢tã©': 2, \"didn't\": 1, 'plum': 1, 'fennel': 4, 'draining': 1, 'pea': 4, 'chowder': 4, '58': 4, '17t16': 1, '437': 2, 'flavour': 3, 'twist': 1, 'early': 2, 'nourishingly': 1, 'piping': 1, 'beautiful': 1, '600ml': 3, 'thinning': 1, 'liquidise': 1, 'chive': 1, 'decorative': 1, '500ml': 2, 'granddads': 3, '79': 2, 'starter': 1, '220g': 1, '850ml': 1, 'moderate': 1, 'smoky': 2, 'directly': 1, 'placed': 2, 'keeping': 1, 'thinner': 1, 'straining': 1, 'swirl': 3, 'grandads': 1, '81a50c80': 1, '820cab646015': 1, 'b107': 1, '4a85': 1, '056a': 1, '156242057': 1, '91469b7eed4d': 1, 'b259': 1, '156242194': 1, 'f4a7': 1, '8c957c73': 1, '4ca8': 1, 'grain': 4, 'trimmed': 3, 'match': 1, 'possible': 2, 'shimmering': 1, 'accumulated': 1, 'scallions': 1, 'becomes': 2, 'heats': 1, 'thicken': 3, '128036114': 1, '4c23ee818589': 1, '4a16': 1, 'b80f': 1, '0c3b263b': 1, '96e0': 1, 'hotpot': 5, '348': 2, 'pork': 1, 'developed': 1, 'those': 3, 'fabulous': 1, 'months': 1, 'weeknight': 1, 'insist': 1, 'cumberland': 1, 'lardon': 1, 'chorizo': 2, 'barley': 2, 'pearl': 2, 'kidney': 2, 'cherry': 4, 'ragã¹': 1, 'variant': 1, 'sough': 2, 'deglaze': 1, 'drops': 2, 'daniels': 1, 'jack': 1, 'smokiness': 1, '2897a5dd': 1, '1749': 1, '8402': 1, 'ae612a7eda00': 1, '148846355': 1, '4e27': 1, 'carbonara': 3, '07t10': 1, '162': 2, 'pancetta': 3, 'gated': 1, 'discarding': 1, 'cuttings': 1, 'wilting': 1, '7fbe484aa565': 1, '91ac': 1, '2eb7b780': 1, '115612457': 1, 'a2e3': 2, '958a': 1, '4c6a7fbaa828': 1, '115612786': 1, '8c4c0400': 1, 'alfredo': 7, '41': 3, '347': 2, 'friends': 3, 'amongst': 1, 'linguine': 1, 'chardonnay': 1, 'riesling': 1, '300ml': 2, 'kick': 2, 'starch': 2, 'reduced': 3, 'spoons': 1, 'topped': 2, 'b3a5': 1, '5dcb884d59b6': 1, '42b3': 1, 'a484': 1, '148851288': 1, '29f58969': 1, 'bryony': 1, 'morganna': 1, 'ztt': 1, 'xkhzkra': 1, 'natashas': 1, '5vy9hel8moc': 1, 'eitan': 1, \"world's\": 1, 'vgo3zkremn4': 1, 'creamiest': 1, 'bernath': 1, 'pinwheels': 8, '371': 2, 'flank': 2, 'tenderise': 1, 'crumble': 2, 'toothpicks': 2, 'pinwheel': 1, 'sear': 1, 'steaks': 4, '336355': 1, 'london': 1, 'select': 1, 'thespruceeats': 1, 'broil': 1, 'cookingwithmammac': 1, 'coldweathercomfort': 1, '25t19': 1, '148': 2, 'japanese': 3, 'actually': 1, 'spot': 1, 'draft': 1, 'mention': 1, '260g': 1, 'sunflower': 1, 'breaded': 1, 'panko': 4, 'breadcrumbs': 4, '230ml': 1, 'leading': 1, 'covering': 4, 'seat': 1, 'tissue': 1, '87df': 1, '8eab': 1, '46e0': 1, '09c03f9efb6f': 1, '32b2256d': 1, '128013393': 1, 'addd': 1, '2b08': 1, '3daf077cf6b0': 1, '4072': 1, 'eccfbf40': 1, '128013454': 1, 'af384eaa': 1, '128013567': 1, '6907741b0484': 1, '470c': 1, '987e': 1, '8d35': 1, 'aspx': 1, '29578': 1, '186': 2, 'ð\\x9f§\\x84': 1, 'bulb': 1, 'dredging': 1, 'mallet': 1, 'dredge': 1, 'clovers': 1, 'deglazing': 1, 'noticeably': 1, 'consider': 1, '142': 1, 'switch': 1, '04t10': 1, 'rigatoni': 1, 'cashews': 3, '200ml': 1, 'firstly': 1, '430f': 1, 'nutritional': 1, 'yeast': 3, 'core': 1, 'terrific': 1, 'mealthy': 1, '1572': 1, 'fire': 1, '1079332182686525': 1, 'halloumi': 15, '15t20': 1, '231': 2, '126': 1, '15t16': 1, 'punjene': 7, 'paprike': 7, '31t21': 2, 'mummy': 2, 'consisting': 2, 'croatian': 2, 'pã»é²enaë\\x90': 2, 'punjena': 2, 'pç\\x8eprika': 2, 'lit': 2, 'balkans': 2, 'capsicums': 2, '80g': 2, 'vegeta': 2, 'membranes': 2, 'wash': 3, 'halfway': 2, 'mass': 2, 'compact': 2, '587b': 1, '4f16': 1, '127753265': 1, 'f629c8df': 1, 'aa3786236869': 1, 'ab79': 1, 'bakingwithsibella': 2, '2013': 2, 'freekeh': 9, 'beetroot': 11, '13t21': 1, '546': 2, 'health': 1, 'zaytoun': 1, '40g': 1, 'rocket': 7, 'fraiche': 2, 'creme': 2, 'capers': 4, 'juiced': 2, 'bunched': 1, '12mins': 1, '8mins': 1, 'able': 1, 'dressing': 2, 'quinoa': 1, 'farmdrop': 1, 'guides': 1, 'nature': 1, 'secondnature': 1, 'io': 1, 'mediterranean': 5, 'traybake': 6, '07t20': 1, '575': 2, 'kerrige': 1, 'tom': 1, 'cupboard': 1, 'herb': 1, 'olives': 3, 'pitted': 1, 'charred': 6, 'raid': 1, 'marksandspencer': 1, 'm': 1, '178132': 1, 'jspfw2ufyf8': 1, 'schnitzel': 5, '256': 3, 'butterflied': 2, 'boston': 1, 'lettuce': 1, 'mache': 1, 'breadcrumb': 2, 'butterfly': 1, 'hit': 1, 'ensuring': 2, 'nicely': 2, 'fries': 1, '271': 1, '9419b3391d6a': 1, 'af03': 1, '127697394': 1, '9069': 1, '9e12eac6': 1, '41df': 1, 'p136': 1, 'chefs': 1, 'ratatouille': 9, 'saffron': 10, 'particularly': 1, 'sufficiently': 1, 'courgette': 4, 'swapped': 1, 'smells': 1, 'chargrill': 1, 'aromatic': 1, 'present': 1, 'winner': 1, 'harissa': 4, 'heaped': 1, '700g': 1, 'natural': 2, 'yoghurt': 5, 'overcook': 1, 'griddle': 1, 'anchovies': 1, '112536602': 1, '9c92': 1, '71c566fb2288': 1, '9abb0480': 1, '8da5': 2, '906b2a62997b': 1, 'a1e21280': 1, '112536633': 1, '9ed4': 1, 'oliver': 2, 'jamieoliver': 1, 'jamie': 3, 'thetalentzone': 1, 'meals': 1, '12913': 1, 'musictv': 1, 'olivers': 1, 'thelifeofstuff': 1, \"oliver's\": 1, 'php': 1, 'swirls': 12, '21t09': 1, 'demerara': 1, '375g': 1, 'puff': 3, 'sprinkling': 1, 'greaseproof': 1, 'ovens': 1, '160â°c': 1, 'assisted': 1, 'uneven': 1, 'worry': 2, 'enclosed': 2, 'neaten': 1, 'gap': 2, '1cm': 3, 'longest': 1, 'pressing': 1, \"pastry's\": 1, '2cm': 1, 'expand': 1, 'whilst': 2, 'trimming': 1, 'neat': 2, 'space': 1, 'tuck': 1, 'bakingwithgranny': 1, 'granny': 1, 'piccata': 5, '03t21': 2, '286': 2, 'opens': 1, 'attached': 1, 'lengthways': 1, 'garlicky': 2, 'milkshake': 4, '13t15': 1, '165': 2, 'ð\\x9f¥\\x9bð\\x9f\\x8d¶': 1, '250ml': 2, 'pesto': 7, 'bass': 6, '28t20': 1, 'showcase': 1, 'theirs': 1, 'seabass': 4, '183': 2, 'vine': 1, 'finishes': 1, 'b29b': 1, '4383': 1, '0a8e1204ffa5': 1, '148845020': 1, '87c0': 1, 'a9f4eb97': 1, 'josh': 5, 'rogan': 5, '346': 2, 'unadulterated': 1, 'tend': 1, 'encourage': 1, 'condiments': 1, 'tzatziki': 1, 'chutney': 1, 'naan': 1, \"poppadom's\": 1, 'mango': 1, 'leg': 1, '1â½': 3, 'anise': 1, 'star': 1, 'pods': 1, 'cardamom': 1, '2â½': 1, 'clingfilm': 1, 'mortar': 1, 'pestle': 1, 'crackle': 2, 'creating': 1, \"they're\": 1, 'scraping': 1, 'develop': 1, 'shreds': 1, 'e412a2b9': 1, 'af09': 1, '155025848': 1, '02f6': 1, '42aa': 1, '16dd10e6be1c': 1, '9506': 1, '40a9': 1, '0b5c44c2': 1, 'a4f9': 1, 'cf0f38e8ab0e': 1, '155025904': 1, 'nzvo32n7is8': 1, 'kochhar': 1, 'michelin': 1, 'starred': 1, 'atul': 1, 'tandoori': 4, '19t22': 1, '261': 3, 'brand': 2, 'separated': 1, 'brushing': 1, 'greek': 2, 'citrus': 1, 'visual': 1, 'benefit': 1, 'colouring': 3, 'excluding': 1, 'lock': 1, 'marinate': 1, 'tongs': 2, 'effect': 1, 'stage': 1, 'naans': 1, '291': 2, 'drizzled': 1, '894812442': 1, 'recent': 2, '3687db02892b': 1, '424d': 1, '128636850': 1, '19f0680f': 1, '24f3': 1, 'b37b': 1, '292': 1, 'flatbreads': 3, 'feta': 8, '290': 3, 'action': 1, 'proving': 1, '70ml': 1, 'rose': 1, 'doubled': 1, 'oiled': 1, 'hr': 1, 'char': 1, '892192710': 1, 'ac67': 1, '9ca7': 1, '7489b47dcf40': 1, '770c4f1c': 1, '49bb': 1, '130031963': 1, 'c421': 1, '4585': 1, 'f5db3c6eee28': 1, 'c8afa809': 1, '130031992': 1, '8b88': 1, '475c45dd7c8c': 1, '9278': 1, 'c50e': 1, 'd20e8a45': 1, '4fa4': 1, '130032011': 1, '134': 1, '2024': 1, '11t21': 1, '636': 2, 'spirals': 1, 'kalamata': 1, 'pine': 1, 'mayo': 3, 'option': 1, 'pomegranate': 1, 'call': 1, 'bits': 1, 'household': 1, 'pomegranates': 1, 'cz': 1, 'instagram': 1, 'reel': 1, 'csb8vpgf': 1, '03t12': 1, '181': 2, '116876263': 1, '17969500': 1, '3d78d19c5914': 1, 'ac14': 1, '8deb': 1, '44': 1, '03t10': 1, '179': 2, 'perfected': 2, 'learning': 1, 'dairy': 1, 'bar': 1, 'jar': 1, 'speculoos': 1, 'nutella': 1, 'trader': 1, 'lotus': 1, \"joe's\": 1, 'biscoff': 1, '400â°c': 1, '2tbsp': 1, 'sprinkles': 1, 'flame': 2, 'launching': 1, 'turning': 1, 'risotto': 8, '27t21': 1, '356': 2, '700ml': 1, 'flatleaf': 1, '180g': 1, 'flameproof': 1, 'starting': 1, 'translucent': 1, 'evaporate': 1, 'attentively': 1, 'ladleful': 1, 'flaked': 1, '17â\\x80\\x9320': 1, 'principle': 1, 'poach': 2, 'plump': 1, 'chalky': 1, 'fluid': 1, 'tasting': 1, 'chablis': 1, 'ade1': 1, '16a12248': 1, 'f55c45c669f9': 1, '41e8': 1, '80ff': 1, '156051340': 1, 'add5': 1, '6117': 1, '461f5f24': 1, '09902d37b911': 1, '456d': 1, '156051796': 1, 'f707d719': 1, '0a74a789f38a': 1, '156052125': 1, 'd318': 1, 'bb05': 1, '4bd1': 1, '156052386': 1, 'c60c802f1d49': 1, '9045': 1, '03ceb8bd': 1, 'a7cf': 1, '46fa': 1, 'bf60': 1, '47f7': 1, '156052560': 1, 'cf22e077': 1, 'b94a': 1, 'dab9fd39e359': 1, 'smoke': 1, '00466': 1, '26t20': 1, 'brother': 1, 'fishes': 1, 'thanks': 1, 'speaking': 1, 'possibly': 1, 'farfalle': 3, 'shallot': 1, 'flake': 1, 'salmone': 2, '155234001': 1, '6ec0': 1, 'b97a': 1, '44d7': 1, '9245e8db': 1, '9989fdef8f80': 1, '9bbd': 1, '89770d44d57a': 1, '155304238': 1, 'f4e0': 1, '4a5a': 1, '302bc0a7': 1, 'ingredientmatcher': 1, 'blog': 1, 'au': 1, 'lifestyle': 1, 'mumslounge': 1, '2sistersrecipes': 1, '2014': 1, 'blogspot': 1, 'cookingwithmanuela': 1, 'gyoza': 7, '20t22': 1, '333': 2, 'copycat': 1, 'wrappers': 3, '270g': 1, 'cabbage': 4, 'chestnuts': 2, '350ml': 1, '1oz': 1, 'malt': 1, '2fl': 1, '9fl': 1, 'hard': 1, 'worktop': 1, 'kneading': 1, 'flaky': 1, 'counter': 1, 'blitz': 1, 'bone': 1, 'tea': 1, 'dissolve': 1, 'gyozas': 4, 'folding': 1, 'moon': 1, 'crescent': 1, 'stew': 5, 'tempted': 1, 'overcrowd': 1, 'lid': 1, '7beabbb6': 1, '1951': 1, '147367848': 1, '41ec': 1, 'b32017673b65': 1, '85ea': 1, 'presented': 1, \"gyoza's\": 1, 'p33': 1, 'p56': 1, 'p14': 1, '1474151172944666634': 1, 'showing': 1, 'status': 1, 'twitter': 1, 'jamescallaghan': 1, 'kiev': 7, '02t11': 1, '428': 2, 'shares': 1, \"kiev's\": 2, 'schnitzels': 1, 'adventurous': 1, 'shop': 1, \"stitzel's\": 1, 'dontgobaconmyheart': 1, '388': 1, 'guinness': 5, '268': 2, 'ciabatta': 1, '228f': 1, '4143': 1, 'c34e804278ce': 1, '127989858': 1, 'ba8a': 1, '39c70969': 1, 'b62e': 1, '127989869': 1, '93b5': 1, '2e58a1ff': 1, '4164': 1, '8c8ef2eac428': 1, 'margherita': 3, '18t13': 1, '235': 2, 'tinned': 1, 'blitzed': 1, 'lighter': 1, 'alcohol': 1, 'stronger': 1, 'picture': 1, '02t13': 1, '30g': 1})\n"
     ]
    }
   ],
   "source": [
    "# Cantidad de veces quea aparece cada palabra en cada \"documento\"\n",
    "# (1 documento = 1 caso de entrada)\n",
    "print(tok.word_docs)"
   ]
  },
  {
   "cell_type": "markdown",
   "metadata": {},
   "source": [
    "# Modelo"
   ]
  },
  {
   "cell_type": "markdown",
   "metadata": {},
   "source": [
    "## 1. Definir el modelo"
   ]
  },
  {
   "cell_type": "code",
   "execution_count": 60,
   "metadata": {},
   "outputs": [
    {
     "name": "stdout",
     "output_type": "stream",
     "text": [
      "Model: \"sequential\"\n",
      "_________________________________________________________________\n",
      " Layer (type)                Output Shape              Param #   \n",
      "=================================================================\n",
      " embedding (Embedding)       (None, None, 50)          197450    \n",
      "                                                                 \n",
      " lstm (LSTM)                 (None, None, 100)         60400     \n",
      "                                                                 \n",
      " lstm_1 (LSTM)               (None, None, 100)         80400     \n",
      "                                                                 \n",
      " dense (Dense)               (None, None, 3949)        398849    \n",
      "                                                                 \n",
      "=================================================================\n",
      "Total params: 737,099\n",
      "Trainable params: 737,099\n",
      "Non-trainable params: 0\n",
      "_________________________________________________________________\n"
     ]
    }
   ],
   "source": [
    "model = Sequential()\n",
    "\n",
    "# la primera capa es de embedding entrenable. Recordar que se puede variar el tamaño\n",
    "# del embedding a entrenar\n",
    "model.add(Embedding(input_dim=vocab_size+1, output_dim=50, input_shape=(None,)))\n",
    "\n",
    "model.add(LSTM(100, return_sequences=True))\n",
    "# model.add(Dropout(0.2))\n",
    "\n",
    "model.add(LSTM(100, return_sequences=True))\n",
    "# model.add(Dense(32, activation='relu'))\n",
    "\n",
    "# Predicción de clasificación con softmax\n",
    "# La salida es del tamaño del vocabulario\n",
    "model.add(Dense(vocab_size+1, activation='softmax'))\n",
    "\n",
    "\n",
    "# Clasificación multiple categórica --> loss = categorical_crossentropy\n",
    "# notar que usamos la versión Sparse para utilizar sólo índices en lugar de OHE\n",
    "model.compile(loss=SparseCategoricalCrossentropy(), optimizer='rmsprop')\n",
    "\n",
    "model.summary()"
   ]
  },
  {
   "cell_type": "markdown",
   "metadata": {},
   "source": [
    "#### Vamos a construir la función de perplejidad mediante el uso de una función callback"
   ]
  },
  {
   "cell_type": "code",
   "execution_count": 61,
   "metadata": {},
   "outputs": [],
   "source": [
    "class PplCallback(keras.callbacks.Callback):\n",
    "\n",
    "    '''\n",
    "    Este callback es una solución ad-hoc para calcular al final de cada epoch de\n",
    "    entrenamiento la métrica de Perplejidad sobre un conjunto de datos de validación.\n",
    "    La perplejidad es una métrica cuantitativa para evaluar la calidad de la generación de secuencias.\n",
    "    Además implementa la finalización del entrenamiento (Early Stopping)\n",
    "    si la perplejidad no mejora después de `patience` epochs.\n",
    "    '''\n",
    "\n",
    "    def __init__(self, val_data, history_ppl, patience=5):\n",
    "      # El callback lo inicializamos con secuencias de validación sobre las cuales\n",
    "      # mediremos la perplejidad y la paciencia para detener el entrenamiento.\n",
    "      self.val_data = val_data\n",
    "\n",
    "      self.target = []\n",
    "      self.padded = []\n",
    "\n",
    "      count = 0\n",
    "      self.info = []\n",
    "      self.history_ppl = []\n",
    "      self.min_score = np.inf\n",
    "      self.patience_counter = 0\n",
    "      self.patience = patience\n",
    "\n",
    "      # nos movemos en todas las secuencias de los datos de validación\n",
    "      for seq in self.val_data:\n",
    "\n",
    "        len_seq = len(seq)\n",
    "        # armamos todas las subsecuencias\n",
    "        subseq = [seq[:i] for i in range(len_seq)]\n",
    "        self.target.extend([seq[i] for i in range(len_seq)])\n",
    "\n",
    "        if len(subseq)!=0:\n",
    "\n",
    "          self.padded.append(pad_sequences(subseq, maxlen=max_context_size, padding='pre'))\n",
    "\n",
    "          self.info.append((count,count+len_seq))\n",
    "          count += len_seq\n",
    "\n",
    "      self.padded = np.vstack(self.padded)\n",
    "\n",
    "\n",
    "    def on_epoch_end(self, epoch, logs=None):\n",
    "\n",
    "        # en `scores` iremos guardando la perplejidad de cada secuencia\n",
    "        scores = []\n",
    "\n",
    "        predictions = self.model.predict(self.padded,verbose=0)\n",
    "\n",
    "        # para cada secuencia de validación\n",
    "        for start,end in self.info:\n",
    "\n",
    "          # en `probs` iremos guardando las probabilidades de los términos target\n",
    "          probs = [predictions[idx_seq,-1,idx_vocab] for idx_seq, idx_vocab in zip(range(start,end),self.target[start:end])]\n",
    "\n",
    "          # calculamos la perplejidad por medio de logaritmos\n",
    "          scores.append(np.exp(-np.sum(np.log(probs))/(end-start)))\n",
    "\n",
    "        # promediamos todos los scores e imprimimos el valor promedio\n",
    "        current_score = np.mean(scores)\n",
    "        history_ppl.append(current_score)\n",
    "        print(f'\\n mean perplexity: {current_score} \\n')\n",
    "\n",
    "        # chequeamos si tenemos que detener el entrenamiento\n",
    "        if current_score < self.min_score:\n",
    "          self.min_score = current_score\n",
    "          self.model.save(\"my_model\")\n",
    "          print(\"Saved new model!\")\n",
    "          self.patience_counter = 0\n",
    "        else:\n",
    "          self.patience_counter += 1\n",
    "          if self.patience_counter == self.patience:\n",
    "            print(\"Stopping training...\")\n",
    "            self.model.stop_training = True\n"
   ]
  },
  {
   "cell_type": "markdown",
   "metadata": {},
   "source": [
    "## 2. Entrenar el modelo"
   ]
  },
  {
   "cell_type": "code",
   "execution_count": 64,
   "metadata": {},
   "outputs": [],
   "source": [
    "BATCH_SIZE = 64 if BATCH_SIZE is None else BATCH_SIZE"
   ]
  },
  {
   "cell_type": "code",
   "execution_count": 65,
   "metadata": {},
   "outputs": [
    {
     "name": "stdout",
     "output_type": "stream",
     "text": [
      "Epoch 1/20\n",
      "2854/2860 [============================>.] - ETA: 0s - loss: 4.3917\n",
      " mean perplexity: 3111.2932747402465 \n",
      "\n"
     ]
    },
    {
     "name": "stderr",
     "output_type": "stream",
     "text": [
      "WARNING:absl:Found untraced functions such as _update_step_xla, lstm_cell_layer_call_fn, lstm_cell_layer_call_and_return_conditional_losses, lstm_cell_1_layer_call_fn, lstm_cell_1_layer_call_and_return_conditional_losses while saving (showing 5 of 5). These functions will not be directly callable after loading.\n"
     ]
    },
    {
     "name": "stdout",
     "output_type": "stream",
     "text": [
      "INFO:tensorflow:Assets written to: my_model/assets\n"
     ]
    },
    {
     "name": "stderr",
     "output_type": "stream",
     "text": [
      "INFO:tensorflow:Assets written to: my_model/assets\n"
     ]
    },
    {
     "name": "stdout",
     "output_type": "stream",
     "text": [
      "Saved new model!\n",
      "2860/2860 [==============================] - 31s 11ms/step - loss: 4.3911\n",
      "Epoch 2/20\n",
      "2857/2860 [============================>.] - ETA: 0s - loss: 4.1579\n",
      " mean perplexity: 2710.6658974718052 \n",
      "\n"
     ]
    },
    {
     "name": "stderr",
     "output_type": "stream",
     "text": [
      "WARNING:absl:Found untraced functions such as _update_step_xla, lstm_cell_layer_call_fn, lstm_cell_layer_call_and_return_conditional_losses, lstm_cell_1_layer_call_fn, lstm_cell_1_layer_call_and_return_conditional_losses while saving (showing 5 of 5). These functions will not be directly callable after loading.\n"
     ]
    },
    {
     "name": "stdout",
     "output_type": "stream",
     "text": [
      "INFO:tensorflow:Assets written to: my_model/assets\n"
     ]
    },
    {
     "name": "stderr",
     "output_type": "stream",
     "text": [
      "INFO:tensorflow:Assets written to: my_model/assets\n"
     ]
    },
    {
     "name": "stdout",
     "output_type": "stream",
     "text": [
      "Saved new model!\n",
      "2860/2860 [==============================] - 38s 13ms/step - loss: 4.1578\n",
      "Epoch 3/20\n",
      "2858/2860 [============================>.] - ETA: 0s - loss: 3.9664\n",
      " mean perplexity: 2638.948308202524 \n",
      "\n"
     ]
    },
    {
     "name": "stderr",
     "output_type": "stream",
     "text": [
      "WARNING:absl:Found untraced functions such as _update_step_xla, lstm_cell_layer_call_fn, lstm_cell_layer_call_and_return_conditional_losses, lstm_cell_1_layer_call_fn, lstm_cell_1_layer_call_and_return_conditional_losses while saving (showing 5 of 5). These functions will not be directly callable after loading.\n"
     ]
    },
    {
     "name": "stdout",
     "output_type": "stream",
     "text": [
      "INFO:tensorflow:Assets written to: my_model/assets\n"
     ]
    },
    {
     "name": "stderr",
     "output_type": "stream",
     "text": [
      "INFO:tensorflow:Assets written to: my_model/assets\n"
     ]
    },
    {
     "name": "stdout",
     "output_type": "stream",
     "text": [
      "Saved new model!\n",
      "2860/2860 [==============================] - 43s 15ms/step - loss: 3.9665\n",
      "Epoch 4/20\n",
      "2860/2860 [==============================] - ETA: 0s - loss: 3.8093\n",
      " mean perplexity: 2659.156278218665 \n",
      "\n",
      "2860/2860 [==============================] - 45s 16ms/step - loss: 3.8093\n",
      "Epoch 5/20\n",
      "2857/2860 [============================>.] - ETA: 0s - loss: 3.6687\n",
      " mean perplexity: 2839.1980046476588 \n",
      "\n",
      "2860/2860 [==============================] - 47s 17ms/step - loss: 3.6686\n",
      "Epoch 6/20\n",
      "2860/2860 [==============================] - ETA: 0s - loss: 3.5415\n",
      " mean perplexity: 2817.8156745963124 \n",
      "\n",
      "2860/2860 [==============================] - 47s 17ms/step - loss: 3.5415\n",
      "Epoch 7/20\n",
      "2857/2860 [============================>.] - ETA: 0s - loss: 3.4271\n",
      " mean perplexity: 2599.1877261774357 \n",
      "\n"
     ]
    },
    {
     "name": "stderr",
     "output_type": "stream",
     "text": [
      "WARNING:absl:Found untraced functions such as _update_step_xla, lstm_cell_layer_call_fn, lstm_cell_layer_call_and_return_conditional_losses, lstm_cell_1_layer_call_fn, lstm_cell_1_layer_call_and_return_conditional_losses while saving (showing 5 of 5). These functions will not be directly callable after loading.\n"
     ]
    },
    {
     "name": "stdout",
     "output_type": "stream",
     "text": [
      "INFO:tensorflow:Assets written to: my_model/assets\n"
     ]
    },
    {
     "name": "stderr",
     "output_type": "stream",
     "text": [
      "INFO:tensorflow:Assets written to: my_model/assets\n"
     ]
    },
    {
     "name": "stdout",
     "output_type": "stream",
     "text": [
      "Saved new model!\n",
      "2860/2860 [==============================] - 53s 19ms/step - loss: 3.4270\n",
      "Epoch 8/20\n",
      "2859/2860 [============================>.] - ETA: 0s - loss: 3.3243\n",
      " mean perplexity: 2813.628910991008 \n",
      "\n",
      "2860/2860 [==============================] - 43s 15ms/step - loss: 3.3243\n",
      "Epoch 9/20\n",
      "2856/2860 [============================>.] - ETA: 0s - loss: 3.2305\n",
      " mean perplexity: 2824.004454627454 \n",
      "\n",
      "2860/2860 [==============================] - 45s 16ms/step - loss: 3.2305\n",
      "Epoch 10/20\n",
      "2856/2860 [============================>.] - ETA: 0s - loss: 3.1428\n",
      " mean perplexity: 4047.6347180212356 \n",
      "\n",
      "2860/2860 [==============================] - 48s 17ms/step - loss: 3.1429\n",
      "Epoch 11/20\n",
      "2859/2860 [============================>.] - ETA: 0s - loss: 3.0625\n",
      " mean perplexity: 3470.2958125655864 \n",
      "\n",
      "2860/2860 [==============================] - 47s 16ms/step - loss: 3.0625\n",
      "Epoch 12/20\n",
      "2860/2860 [==============================] - ETA: 0s - loss: 2.9853\n",
      " mean perplexity: 3349.430465229643 \n",
      "\n",
      "Stopping training...\n",
      "2860/2860 [==============================] - 46s 16ms/step - loss: 2.9853\n"
     ]
    }
   ],
   "source": [
    "# fiteamos, nótese el agregado del callback con su inicialización. El batch_size lo podemos seleccionar a mano\n",
    "# en general, lo mejor es escoger el batch más grande posible que minimice el tiempo de cada época.\n",
    "# En la variable `history_ppl` se guardarán los valores de perplejidad para cada época.\n",
    "history_ppl = []\n",
    "hist = model.fit(X, y, epochs=20, callbacks=[PplCallback(tokenized_sentences_val,history_ppl)], batch_size=BATCH_SIZE)"
   ]
  },
  {
   "cell_type": "code",
   "execution_count": 68,
   "metadata": {},
   "outputs": [
    {
     "data": {
      "image/png": "[encoded data removed]",
      "text/plain": [
       "<Figure size 640x480 with 1 Axes>"
      ]
     },
     "metadata": {},
     "output_type": "display_data"
    }
   ],
   "source": [
    "# Podemos graficar la evolución de la perplejidad con las épocas.\n",
    "# Recordar que el valor de perplejidad del modelo trivial es el tamaño del vocabulario.\n",
    "epoch_count = range(1, len(history_ppl) + 1)\n",
    "sns.lineplot(x=epoch_count,  y=history_ppl)\n",
    "plt.show()"
   ]
  },
  {
   "cell_type": "code",
   "execution_count": 69,
   "metadata": {},
   "outputs": [],
   "source": [
    "# Cargamos el mejor modelo guardado del entrenamiento para hacer inferencia\n",
    "model = keras.models.load_model('my_model')"
   ]
  },
  {
   "cell_type": "markdown",
   "metadata": {},
   "source": [
    "## 3. Predicción de próxima palabra"
   ]
  },
  {
   "cell_type": "code",
   "execution_count": 70,
   "metadata": {},
   "outputs": [],
   "source": [
    "# Se puede usar gradio para probar el modelo\n",
    "# Gradio es una herramienta muy útil para crear interfaces para ensayar modelos\n",
    "# https://gradio.app/\n",
    "\n",
    "!pip install -q gradio"
   ]
  },
  {
   "cell_type": "code",
   "execution_count": 71,
   "metadata": {},
   "outputs": [
    {
     "name": "stderr",
     "output_type": "stream",
     "text": [
      "/opt/anaconda3/envs/Fabricio/lib/python3.10/site-packages/tqdm/auto.py:21: TqdmWarning: IProgress not found. Please update jupyter and ipywidgets. See https://ipywidgets.readthedocs.io/en/stable/user_install.html\n",
      "  from .autonotebook import tqdm as notebook_tqdm\n"
     ]
    },
    {
     "name": "stdout",
     "output_type": "stream",
     "text": [
      "Running on local URL:  http://127.0.0.1:7860\n",
      "\n",
      "To create a public link, set `share=True` in `launch()`.\n"
     ]
    },
    {
     "data": {
      "text/html": [
       "<div><iframe src=\"http://127.0.0.1:7860/\" width=\"100%\" height=\"500\" allow=\"autoplay; camera; microphone; clipboard-read; clipboard-write;\" frameborder=\"0\" allowfullscreen></iframe></div>"
      ],
      "text/plain": [
       "<IPython.core.display.HTML object>"
      ]
     },
     "metadata": {},
     "output_type": "display_data"
    },
    {
     "name": "stdout",
     "output_type": "stream",
     "text": [
      "1/1 [==============================] - 0s 259ms/step\n",
      "1/1 [==============================] - 0s 12ms/step\n",
      "Keyboard interruption in main thread... closing server.\n"
     ]
    },
    {
     "data": {
      "text/plain": []
     },
     "execution_count": 71,
     "metadata": {},
     "output_type": "execute_result"
    }
   ],
   "source": [
    "import gradio as gr\n",
    "\n",
    "def model_response(human_text):\n",
    "\n",
    "    # Encodeamos\n",
    "    encoded = tok.texts_to_sequences([human_text])[0]\n",
    "    # Si tienen distinto largo\n",
    "    encoded = pad_sequences([encoded], maxlen=max_context_size, padding='pre')\n",
    "\n",
    "    # Predicción softmax\n",
    "    y_hat = np.argmax(model.predict(encoded)[0,-1,:])\n",
    "\n",
    "\n",
    "    # Debemos buscar en el vocabulario la palabra\n",
    "    # que corresopnde al indice (y_hat) predicho por le modelo\n",
    "    out_word = ''\n",
    "    for word, index in tok.word_index.items():\n",
    "        if index == y_hat:\n",
    "            out_word = word\n",
    "            break\n",
    "\n",
    "    # Agrego la palabra a la frase predicha\n",
    "    return human_text + ' ' + out_word\n",
    "\n",
    "iface = gr.Interface(\n",
    "    fn=model_response,\n",
    "    inputs=[\"textbox\"],\n",
    "    outputs=\"text\")\n",
    "\n",
    "iface.launch(debug=True)"
   ]
  },
  {
   "cell_type": "markdown",
   "metadata": {},
   "source": [
    "### 4. Generación de secuencias"
   ]
  },
  {
   "cell_type": "code",
   "execution_count": 72,
   "metadata": {},
   "outputs": [],
   "source": [
    "def generate_seq(model, tokenizer, seed_text, max_length, n_words):\n",
    "    \"\"\"\n",
    "        Exec model sequence prediction\n",
    "\n",
    "        Args:\n",
    "            model (keras): modelo entrenado\n",
    "            tokenizer (keras tokenizer): tonenizer utilizado en el preprocesamiento\n",
    "            seed_text (string): texto de entrada (input_seq)\n",
    "            max_length (int): máxima longitud de la sequencia de entrada\n",
    "            n_words (int): números de palabras a agregar a la sequencia de entrada\n",
    "        returns:\n",
    "            output_text (string): sentencia con las \"n_words\" agregadas\n",
    "    \"\"\"\n",
    "    output_text = seed_text\n",
    "\t  # generate a fixed number of words\n",
    "    for _ in range(n_words):\n",
    "\t\t  # Tokenizamos\n",
    "      encoded = tokenizer.texts_to_sequences([output_text])[0]\n",
    "\n",
    "\t\t  # Si tienen distinto largo\n",
    "      encoded = pad_sequences([encoded], maxlen=max_length, padding='pre')\n",
    "\n",
    "\t\t  # Predicción softmax\n",
    "      y_hat = np.argmax(model.predict(encoded)[0,-1,:])\n",
    "\n",
    "      # Vamos concatenando las predicciones\n",
    "      out_word = ''\n",
    "\n",
    "      # Debemos buscar en el vocabulario la palabra\n",
    "      # que corresopnde al indice (y_hat) predicho por le modelo\n",
    "      for word, index in tokenizer.word_index.items():\n",
    "        if index == y_hat:\n",
    "          out_word = word\n",
    "          break\n",
    "\n",
    "\t\t  # Agrego las palabras a la frase predicha\n",
    "      output_text += ' ' + out_word\n",
    "\n",
    "    return output_text"
   ]
  },
  {
   "cell_type": "code",
   "execution_count": 75,
   "metadata": {},
   "outputs": [
    {
     "name": "stdout",
     "output_type": "stream",
     "text": [
      "1/1 [==============================] - 0s 11ms/step\n",
      "1/1 [==============================] - 0s 11ms/step\n",
      "1/1 [==============================] - 0s 9ms/step\n",
      "1/1 [==============================] - 0s 8ms/step\n",
      "1/1 [==============================] - 0s 10ms/step\n",
      "1/1 [==============================] - 0s 9ms/step\n",
      "1/1 [==============================] - 0s 13ms/step\n",
      "1/1 [==============================] - 0s 10ms/step\n",
      "1/1 [==============================] - 0s 9ms/step\n",
      "1/1 [==============================] - 0s 9ms/step\n"
     ]
    },
    {
     "data": {
      "text/plain": [
       "'add salt to the pan and stir until the mixture is the pasta is'"
      ]
     },
     "execution_count": 75,
     "metadata": {},
     "output_type": "execute_result"
    }
   ],
   "source": [
    "input_text='add salt to the'\n",
    "\n",
    "generate_seq(model, tok, input_text, max_length=max_context_size, n_words=10)"
   ]
  },
  {
   "cell_type": "markdown",
   "metadata": {},
   "source": [
    "### 5. Beam search y muestreo aleatorio"
   ]
  },
  {
   "cell_type": "code",
   "execution_count": 76,
   "metadata": {},
   "outputs": [],
   "source": [
    "# funcionalidades para hacer encoding y decoding\n",
    "\n",
    "def encode(text,max_length=max_context_size):\n",
    "\n",
    "    encoded = tok.texts_to_sequences([text])[0]\n",
    "    encoded = pad_sequences([encoded], maxlen=max_length, padding='pre')\n",
    "\n",
    "    return encoded\n",
    "\n",
    "def decode(seq):\n",
    "    return tok.sequences_to_texts([seq])"
   ]
  },
  {
   "cell_type": "code",
   "execution_count": 77,
   "metadata": {},
   "outputs": [],
   "source": [
    "from scipy.special import softmax\n",
    "\n",
    "# función que selecciona candidatos para el beam search\n",
    "def select_candidates(pred,num_beams,vocab_size,history_probs,history_tokens,temp,mode):\n",
    "\n",
    "  # colectar todas las probabilidades para la siguiente búsqueda\n",
    "  pred_large = []\n",
    "\n",
    "  for idx,pp in enumerate(pred):\n",
    "    pred_large.extend(np.log(pp+1E-10)+history_probs[idx])\n",
    "\n",
    "  pred_large = np.array(pred_large)\n",
    "\n",
    "  # criterio de selección\n",
    "  if mode == 'det':\n",
    "    idx_select = np.argsort(pred_large)[::-1][:num_beams] # beam search determinista\n",
    "  elif mode == 'sto':\n",
    "    idx_select = np.random.choice(np.arange(pred_large.shape[0]), num_beams, p=softmax(pred_large/temp)) # beam search con muestreo aleatorio\n",
    "  else:\n",
    "    raise ValueError(f'Wrong selection mode. {mode} was given. det and sto are supported.')\n",
    "\n",
    "  # traducir a índices de token en el vocabulario\n",
    "  new_history_tokens = np.concatenate((np.array(history_tokens)[idx_select//vocab_size],\n",
    "                        np.array([idx_select%vocab_size]).T),\n",
    "                      axis=1)\n",
    "\n",
    "  # devolver el producto de las probabilidades (log) y la secuencia de tokens seleccionados\n",
    "  return pred_large[idx_select.astype(int)], new_history_tokens.astype(int)\n",
    "\n",
    "\n",
    "def beam_search(model,num_beams,num_words,input,temp=1,mode='det'):\n",
    "\n",
    "    # first iteration\n",
    "\n",
    "    # encode\n",
    "    encoded = encode(input)\n",
    "\n",
    "    # first prediction\n",
    "    y_hat = model.predict(encoded,verbose=0)[0,-1,:]\n",
    "\n",
    "    # get vocabulary size\n",
    "    vocab_size = y_hat.shape[0]\n",
    "\n",
    "    # initialize history\n",
    "    history_probs = [0]*num_beams\n",
    "    history_tokens = [encoded[0]]*num_beams\n",
    "\n",
    "    # select num_beams candidates\n",
    "    history_probs, history_tokens = select_candidates([y_hat],\n",
    "                                        num_beams,\n",
    "                                        vocab_size,\n",
    "                                        history_probs,\n",
    "                                        history_tokens,\n",
    "                                        temp,\n",
    "                                        mode)\n",
    "\n",
    "    # beam search loop\n",
    "    for i in range(num_words-1):\n",
    "\n",
    "      preds = []\n",
    "\n",
    "      for hist in history_tokens:\n",
    "\n",
    "        # actualizar secuencia de tokens\n",
    "        input_update = np.array([hist[i+1:]]).copy()\n",
    "\n",
    "        # predicción\n",
    "        y_hat = model.predict(input_update,verbose=0)[0,-1,:]\n",
    "\n",
    "        preds.append(y_hat)\n",
    "\n",
    "      history_probs, history_tokens = select_candidates(preds,\n",
    "                                                        num_beams,\n",
    "                                                        vocab_size,\n",
    "                                                        history_probs,\n",
    "                                                        history_tokens,\n",
    "                                                        temp,\n",
    "                                                        mode)\n",
    "\n",
    "    return history_tokens"
   ]
  },
  {
   "cell_type": "markdown",
   "metadata": {},
   "source": [
    "#### Predicción"
   ]
  },
  {
   "cell_type": "code",
   "execution_count": 94,
   "metadata": {},
   "outputs": [
    {
     "name": "stdout",
     "output_type": "stream",
     "text": [
      "Input: add salt to the\n",
      "['add salt to the pan and mix in the salmon']\n",
      "Input: put the chicken in the\n",
      "['put the chicken in the pan and mix in the further']\n",
      "Input: heat the oil in a\n",
      "['heat the oil in a medium heat and simmer for from']\n",
      "Input: add the flour to the\n",
      "['add the flour to the pan and stir in the oven']\n",
      "Input: mix the eggs with the\n",
      "['mix the eggs with the pan and mix in the wooden']\n"
     ]
    }
   ],
   "source": [
    "inputs = [\"add salt to the\",\"put the chicken in the\", \"heat the oil in a\", \"add the flour to the\", \"mix the eggs with the\"]\n",
    "\n",
    "for input in inputs:\n",
    "  print(f'Input: {input}')\n",
    "  salida = beam_search(model,num_beams=10,num_words=6,input=input,temp=1,mode='sto')\n",
    "  print(decode(salida[0]))\n"
   ]
  }
 ],
 "metadata": {
  "kernelspec": {
   "display_name": "Fabricio",
   "language": "python",
   "name": "python3"
  },
  "language_info": {
   "codemirror_mode": {
    "name": "ipython",
    "version": 3
   },
   "file_extension": ".py",
   "mimetype": "text/x-python",
   "name": "python",
   "nbconvert_exporter": "python",
   "pygments_lexer": "ipython3",
   "version": "3.10.13"
  }
 },
 "nbformat": 4,
 "nbformat_minor": 2
}
